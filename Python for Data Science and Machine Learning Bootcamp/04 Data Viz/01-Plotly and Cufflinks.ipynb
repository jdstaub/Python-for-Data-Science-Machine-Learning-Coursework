{
 "cells": [
  {
   "cell_type": "markdown",
   "metadata": {},
   "source": [
    "___\n",
    "\n",
    "<a href='http://www.pieriandata.com'> <img src='../Pierian_Data_Logo.png' /></a>\n",
    "___\n",
    "# Plotly and Cufflinks"
   ]
  },
  {
   "cell_type": "markdown",
   "metadata": {},
   "source": [
    "Plotly is a library that allows you to create interactive plots that you can use in dashboards or websites (you can save them as html files or static images).\n",
    "\n",
    "## Installation\n",
    "\n",
    "In order for this all to work, you'll need to install plotly and cufflinks to call plots directly off of a pandas dataframe. These libraries are not currently available through **conda** but are available through **pip**. Install the libraries at your command line/terminal using:\n",
    "\n",
    "    pip install plotly\n",
    "    pip install cufflinks\n",
    "\n",
    "** NOTE: Make sure you only have one installation of Python on your computer when you do this, otherwise the installation may not work. **\n",
    "\n",
    "## Imports and Set-up"
   ]
  },
  {
   "cell_type": "code",
   "execution_count": 26,
   "metadata": {},
   "outputs": [],
   "source": [
    "import pandas as pd\n",
    "import numpy as np\n",
    "%matplotlib inline"
   ]
  },
  {
   "cell_type": "code",
   "execution_count": 27,
   "metadata": {},
   "outputs": [
    {
     "name": "stdout",
     "output_type": "stream",
     "text": [
      "4.5.0\n"
     ]
    }
   ],
   "source": [
    "from plotly import __version__\n",
    "from plotly.offline import download_plotlyjs, init_notebook_mode, plot, iplot\n",
    "\n",
    "print(__version__) # requires version >= 1.9.0"
   ]
  },
  {
   "cell_type": "code",
   "execution_count": 28,
   "metadata": {},
   "outputs": [],
   "source": [
    "import cufflinks as cf"
   ]
  },
  {
   "cell_type": "code",
   "execution_count": 29,
   "metadata": {},
   "outputs": [
    {
     "data": {
      "text/html": [
       "        <script type=\"text/javascript\">\n",
       "        window.PlotlyConfig = {MathJaxConfig: 'local'};\n",
       "        if (window.MathJax) {MathJax.Hub.Config({SVG: {font: \"STIX-Web\"}});}\n",
       "        if (typeof require !== 'undefined') {\n",
       "        require.undef(\"plotly\");\n",
       "        requirejs.config({\n",
       "            paths: {\n",
       "                'plotly': ['https://cdn.plot.ly/plotly-latest.min']\n",
       "            }\n",
       "        });\n",
       "        require(['plotly'], function(Plotly) {\n",
       "            window._Plotly = Plotly;\n",
       "        });\n",
       "        }\n",
       "        </script>\n",
       "        "
      ]
     },
     "metadata": {},
     "output_type": "display_data"
    }
   ],
   "source": [
    "# For Notebooks\n",
    "init_notebook_mode(connected=True)"
   ]
  },
  {
   "cell_type": "code",
   "execution_count": 30,
   "metadata": {},
   "outputs": [
    {
     "data": {
      "text/html": [
       "        <script type=\"text/javascript\">\n",
       "        window.PlotlyConfig = {MathJaxConfig: 'local'};\n",
       "        if (window.MathJax) {MathJax.Hub.Config({SVG: {font: \"STIX-Web\"}});}\n",
       "        if (typeof require !== 'undefined') {\n",
       "        require.undef(\"plotly\");\n",
       "        requirejs.config({\n",
       "            paths: {\n",
       "                'plotly': ['https://cdn.plot.ly/plotly-latest.min']\n",
       "            }\n",
       "        });\n",
       "        require(['plotly'], function(Plotly) {\n",
       "            window._Plotly = Plotly;\n",
       "        });\n",
       "        }\n",
       "        </script>\n",
       "        "
      ]
     },
     "metadata": {},
     "output_type": "display_data"
    }
   ],
   "source": [
    "# For offline use\n",
    "cf.go_offline()"
   ]
  },
  {
   "cell_type": "markdown",
   "metadata": {},
   "source": [
    "### Fake Data"
   ]
  },
  {
   "cell_type": "code",
   "execution_count": 31,
   "metadata": {},
   "outputs": [],
   "source": [
    "df = pd.DataFrame(np.random.randn(100,4),columns='A B C D'.split())"
   ]
  },
  {
   "cell_type": "code",
   "execution_count": 22,
   "metadata": {},
   "outputs": [
    {
     "data": {
      "text/html": [
       "<div>\n",
       "<table border=\"1\" class=\"dataframe\">\n",
       "  <thead>\n",
       "    <tr style=\"text-align: right;\">\n",
       "      <th></th>\n",
       "      <th>A</th>\n",
       "      <th>B</th>\n",
       "      <th>C</th>\n",
       "      <th>D</th>\n",
       "    </tr>\n",
       "  </thead>\n",
       "  <tbody>\n",
       "    <tr>\n",
       "      <th>0</th>\n",
       "      <td>1.878725</td>\n",
       "      <td>0.688719</td>\n",
       "      <td>1.066733</td>\n",
       "      <td>0.543956</td>\n",
       "    </tr>\n",
       "    <tr>\n",
       "      <th>1</th>\n",
       "      <td>0.028734</td>\n",
       "      <td>0.104054</td>\n",
       "      <td>0.048176</td>\n",
       "      <td>1.842188</td>\n",
       "    </tr>\n",
       "    <tr>\n",
       "      <th>2</th>\n",
       "      <td>-0.158793</td>\n",
       "      <td>0.387926</td>\n",
       "      <td>-0.635371</td>\n",
       "      <td>-0.637558</td>\n",
       "    </tr>\n",
       "    <tr>\n",
       "      <th>3</th>\n",
       "      <td>-1.221972</td>\n",
       "      <td>1.393423</td>\n",
       "      <td>-0.299794</td>\n",
       "      <td>-1.113622</td>\n",
       "    </tr>\n",
       "    <tr>\n",
       "      <th>4</th>\n",
       "      <td>1.253152</td>\n",
       "      <td>-0.537598</td>\n",
       "      <td>0.302917</td>\n",
       "      <td>-2.546083</td>\n",
       "    </tr>\n",
       "  </tbody>\n",
       "</table>\n",
       "</div>"
      ],
      "text/plain": [
       "          A         B         C         D\n",
       "0  1.878725  0.688719  1.066733  0.543956\n",
       "1  0.028734  0.104054  0.048176  1.842188\n",
       "2 -0.158793  0.387926 -0.635371 -0.637558\n",
       "3 -1.221972  1.393423 -0.299794 -1.113622\n",
       "4  1.253152 -0.537598  0.302917 -2.546083"
      ]
     },
     "execution_count": 22,
     "metadata": {},
     "output_type": "execute_result"
    }
   ],
   "source": [
    "df.head()"
   ]
  },
  {
   "cell_type": "code",
   "execution_count": 32,
   "metadata": {},
   "outputs": [],
   "source": [
    "df2 = pd.DataFrame({'Category':['A','B','C'],'Values':[32,43,50]})"
   ]
  },
  {
   "cell_type": "code",
   "execution_count": 40,
   "metadata": {},
   "outputs": [
    {
     "data": {
      "text/html": [
       "<div>\n",
       "<table border=\"1\" class=\"dataframe\">\n",
       "  <thead>\n",
       "    <tr style=\"text-align: right;\">\n",
       "      <th></th>\n",
       "      <th>Category</th>\n",
       "      <th>Values</th>\n",
       "    </tr>\n",
       "  </thead>\n",
       "  <tbody>\n",
       "    <tr>\n",
       "      <th>0</th>\n",
       "      <td>A</td>\n",
       "      <td>32</td>\n",
       "    </tr>\n",
       "    <tr>\n",
       "      <th>1</th>\n",
       "      <td>B</td>\n",
       "      <td>43</td>\n",
       "    </tr>\n",
       "    <tr>\n",
       "      <th>2</th>\n",
       "      <td>C</td>\n",
       "      <td>50</td>\n",
       "    </tr>\n",
       "  </tbody>\n",
       "</table>\n",
       "</div>"
      ],
      "text/plain": [
       "  Category  Values\n",
       "0        A      32\n",
       "1        B      43\n",
       "2        C      50"
      ]
     },
     "execution_count": 40,
     "metadata": {},
     "output_type": "execute_result"
    }
   ],
   "source": [
    "df2.head()"
   ]
  },
  {
   "cell_type": "markdown",
   "metadata": {},
   "source": [
    "## Using Cufflinks and iplot()\n",
    "\n",
    "* scatter\n",
    "* bar\n",
    "* box\n",
    "* spread\n",
    "* ratio\n",
    "* heatmap\n",
    "* surface\n",
    "* histogram\n",
    "* bubble"
   ]
  },
  {
   "cell_type": "markdown",
   "metadata": {},
   "source": [
    "## Scatter"
   ]
  },
  {
   "cell_type": "code",
   "execution_count": 35,
   "metadata": {},
   "outputs": [
    {
     "data": {
      "application/vnd.plotly.v1+json": {
       "config": {
        "linkText": "Export to plot.ly",
        "plotlyServerURL": "https://plot.ly",
        "showLink": true
       },
       "data": [
        {
         "line": {
          "color": "rgba(255, 153, 51, 1.0)",
          "dash": "solid",
          "shape": "linear",
          "width": 1.3
         },
         "marker": {
          "size": 10,
          "symbol": "circle"
         },
         "mode": "markers",
         "name": "B",
         "text": "",
         "type": "scatter",
         "x": [
          1.8336563857102333,
          -0.5170542546680617,
          -0.8114263282845406,
          1.274566803519775,
          1.3182669635573279,
          -0.23163479176709945,
          -0.46281296106369735,
          0.10055112452178198,
          0.22384526559569287,
          -1.525393358713583,
          -0.30871753047232264,
          -1.0291153053917954,
          -0.6899781062500536,
          -0.10029168036865194,
          0.4746450173010357,
          -1.864862355681141,
          -0.5635606592102367,
          -0.540611265661081,
          2.1063885122743877,
          0.32581140232095773,
          1.3597767938954515,
          -0.6855673414419455,
          -0.627671967874757,
          -2.45953564618311,
          1.4022739084082843,
          0.3557968147465798,
          0.01345027923499118,
          -0.5772001444937302,
          0.049351916147705226,
          -0.211710400023351,
          -0.21969188385164204,
          -0.8003687123084843,
          0.5714665470688225,
          -0.3189392718621887,
          -0.29286656835406905,
          0.0804183851518422,
          1.7429171374834904,
          1.4668417270772027,
          0.5907594688316748,
          0.8492840065748899,
          2.035535450947834,
          0.7755634350275695,
          1.7968185079973182,
          0.5432783327714242,
          0.0818828119296996,
          -1.2032364825572954,
          0.044467034176761386,
          -0.9215453312860727,
          0.17120817027501212,
          -0.5440137449006027,
          -0.7034341625579391,
          -0.1335101218231566,
          -0.10869390037804114,
          -0.4670734106287393,
          1.4253689743724907,
          0.3894496389602283,
          -0.717096533253933,
          0.7316667268795621,
          1.4753593207805769,
          -0.3615467511122082,
          -0.11367242968425013,
          0.40059693656513895,
          2.629831036409875,
          -1.2213789109089375,
          -0.5504270150082914,
          -0.4871882362119614,
          1.0122753509680227,
          0.5254854021599186,
          -0.23469058216819447,
          0.057588332375279654,
          0.010113767683471072,
          0.17994140168615902,
          0.5662234468948822,
          0.2760176128373174,
          0.8058527450034779,
          0.05616819499311416,
          1.2383613823158082,
          1.25222227597833,
          1.4145539336292732,
          -0.6425695151028831,
          -0.6860503829816623,
          -1.2668580219052301,
          -0.2101910567164161,
          -1.0065499399280537,
          1.4399696640462747,
          0.14206837844069692,
          0.3090755300097875,
          -0.9340102557603331,
          1.2338946240417021,
          -0.21292753679379087,
          3.1520836999858184,
          0.7215299640125139,
          -0.24307848779925206,
          -0.8420137185295269,
          0.6564343346387973,
          1.8202022366633372,
          -0.21757176475898596,
          -0.16922391447570856,
          1.0216575529526715,
          1.9008171167304886
         ],
         "y": [
          0.9317799519080954,
          0.9583169045620058,
          -2.1091454762769213,
          -1.0518866200012185,
          0.4045363235104093,
          0.6570935095233676,
          -0.08063583444437354,
          -1.4296231588666808,
          0.4681862917827855,
          1.7155277035274707,
          -0.22408325474613772,
          -0.488441713162645,
          -0.560453638977886,
          -1.0624047638938288,
          -0.7856283441830908,
          0.2568566451767039,
          -0.4561789769942539,
          -1.2220518737402861,
          -0.1386105356489743,
          -1.1731323052216454,
          -0.1576330592954085,
          -1.2178189545129157,
          -0.04189184542848242,
          0.8327886986612926,
          0.35342553022603806,
          1.1017192196132821,
          -0.670268382446317,
          1.439133404001383,
          0.334107747235402,
          0.12321057341541655,
          0.6839734314098366,
          -0.49073747920357286,
          -0.7739516186489693,
          -0.8761037604661204,
          -0.7419411758960293,
          -0.09966597290460134,
          -0.4005854018580816,
          0.1194190429435159,
          -0.12441444841110531,
          1.690704084817832,
          -1.6502257484973724,
          -1.3574716992875775,
          1.759688467089929,
          0.8983865155804007,
          0.5975237956673476,
          -0.4165851935186271,
          -0.5712213172688871,
          0.2164644594213698,
          1.5926217477702789,
          -0.5906777083984535,
          0.17197657766282742,
          -0.6856452559072524,
          0.7137769710157955,
          1.176225942302242,
          -0.4143355839194882,
          -1.7241052477653247,
          -0.5080265992767046,
          0.36232989195484805,
          1.1405652748436246,
          -0.25599798527594037,
          0.0283494458181763,
          -0.03897041922129405,
          0.3387262152277467,
          -2.3135704990458903,
          -0.28086141664505476,
          -0.7389919929912374,
          -0.7073062054781312,
          -0.17142517791230424,
          -1.3410853326377634,
          1.7658612299218635,
          0.7750774454504584,
          2.2437744517571545,
          1.1188748888478135,
          -0.8103090528425366,
          -0.05242958528823132,
          0.41658884507378346,
          -0.6874791393605725,
          0.23054382523008468,
          0.6020318143288642,
          1.5009142680156007,
          -0.23947603764132097,
          -0.1778947863920873,
          0.03430541086361643,
          0.7874960133261637,
          -2.0613358004460682,
          -1.2766083258476384,
          0.15368567394806304,
          0.07039792016506936,
          -0.7286022886316431,
          -0.07436842081735216,
          0.3744619037646374,
          0.37876396427331743,
          0.8836766885381173,
          0.33925390541846867,
          0.18933537664203687,
          1.6894297117687287,
          -0.13307308040532492,
          0.8801980976667464,
          -0.39649685156374487,
          -0.7477008434876448
         ]
        },
        {
         "line": {
          "color": "rgba(55, 128, 191, 1.0)",
          "dash": "solid",
          "shape": "linear",
          "width": 1.3
         },
         "marker": {
          "size": 10,
          "symbol": "circle"
         },
         "mode": "markers",
         "name": "C",
         "text": "",
         "type": "scatter",
         "x": [
          1.8336563857102333,
          -0.5170542546680617,
          -0.8114263282845406,
          1.274566803519775,
          1.3182669635573279,
          -0.23163479176709945,
          -0.46281296106369735,
          0.10055112452178198,
          0.22384526559569287,
          -1.525393358713583,
          -0.30871753047232264,
          -1.0291153053917954,
          -0.6899781062500536,
          -0.10029168036865194,
          0.4746450173010357,
          -1.864862355681141,
          -0.5635606592102367,
          -0.540611265661081,
          2.1063885122743877,
          0.32581140232095773,
          1.3597767938954515,
          -0.6855673414419455,
          -0.627671967874757,
          -2.45953564618311,
          1.4022739084082843,
          0.3557968147465798,
          0.01345027923499118,
          -0.5772001444937302,
          0.049351916147705226,
          -0.211710400023351,
          -0.21969188385164204,
          -0.8003687123084843,
          0.5714665470688225,
          -0.3189392718621887,
          -0.29286656835406905,
          0.0804183851518422,
          1.7429171374834904,
          1.4668417270772027,
          0.5907594688316748,
          0.8492840065748899,
          2.035535450947834,
          0.7755634350275695,
          1.7968185079973182,
          0.5432783327714242,
          0.0818828119296996,
          -1.2032364825572954,
          0.044467034176761386,
          -0.9215453312860727,
          0.17120817027501212,
          -0.5440137449006027,
          -0.7034341625579391,
          -0.1335101218231566,
          -0.10869390037804114,
          -0.4670734106287393,
          1.4253689743724907,
          0.3894496389602283,
          -0.717096533253933,
          0.7316667268795621,
          1.4753593207805769,
          -0.3615467511122082,
          -0.11367242968425013,
          0.40059693656513895,
          2.629831036409875,
          -1.2213789109089375,
          -0.5504270150082914,
          -0.4871882362119614,
          1.0122753509680227,
          0.5254854021599186,
          -0.23469058216819447,
          0.057588332375279654,
          0.010113767683471072,
          0.17994140168615902,
          0.5662234468948822,
          0.2760176128373174,
          0.8058527450034779,
          0.05616819499311416,
          1.2383613823158082,
          1.25222227597833,
          1.4145539336292732,
          -0.6425695151028831,
          -0.6860503829816623,
          -1.2668580219052301,
          -0.2101910567164161,
          -1.0065499399280537,
          1.4399696640462747,
          0.14206837844069692,
          0.3090755300097875,
          -0.9340102557603331,
          1.2338946240417021,
          -0.21292753679379087,
          3.1520836999858184,
          0.7215299640125139,
          -0.24307848779925206,
          -0.8420137185295269,
          0.6564343346387973,
          1.8202022366633372,
          -0.21757176475898596,
          -0.16922391447570856,
          1.0216575529526715,
          1.9008171167304886
         ],
         "y": [
          -0.15056764124896832,
          1.085313921456766,
          0.5868403016240685,
          0.1076597122321769,
          -0.4620408004821102,
          -0.8828699867752597,
          -0.6369421588731972,
          -1.9668852576046871,
          0.26091322008529955,
          0.8096294672071237,
          -0.7484923745453653,
          -0.046765012225290774,
          0.3419697706989888,
          0.6984014812137099,
          -0.05806161298374443,
          -0.7184586930946887,
          0.18551695785883918,
          1.7972883420815668,
          1.0212560806151705,
          0.15051049705741834,
          -3.0095436805552116,
          1.5650700868098,
          -0.8354107969408971,
          -1.6796411315950373,
          -0.3185376457808649,
          -1.0176547040128436,
          -1.5269110478126484,
          2.2140318011007745,
          -1.409015066521554,
          -1.2388676186090084,
          -0.7200233210470047,
          1.3604042542970638,
          -0.47992892409527677,
          0.3537196002150941,
          1.8937211826273264,
          -2.03274842794466,
          -0.7743337769144294,
          1.4808331369945613,
          -0.32893752192282927,
          -1.0116305940066577,
          1.9002768739769473,
          1.2827200812006994,
          -1.2731636331280385,
          0.3148873484718054,
          -3.0807897745047765,
          1.306346766240196,
          -0.5026904902395863,
          0.29171731278050445,
          0.9246427234500388,
          0.11098330717305543,
          -0.15033965044673572,
          -0.6772406189105042,
          0.27325773457811836,
          1.496106153063146,
          -0.5541573239357221,
          -0.8805187845657497,
          -0.6429376441140157,
          -0.6036150465995715,
          0.19945454323695358,
          0.634439867982665,
          -1.6064081766234288,
          -0.7580451686288743,
          -2.0822298709414175,
          0.48832752392873646,
          -0.738516234940918,
          -0.24673848782420915,
          -1.3166806320780917,
          -2.542403203887746,
          -1.974632289517874,
          1.2191056489166359,
          -0.8376826511926102,
          1.320097981417363,
          -1.3173228118095834,
          0.13809217506438817,
          0.7457579938256036,
          0.0756840443415093,
          0.2754464182808177,
          -0.7714950539106947,
          -0.17122296700725356,
          -0.7912040036165922,
          1.131329113106368,
          -0.8806400039017306,
          -0.7187269462635707,
          -0.9006475932513225,
          -1.4614777061767532,
          -0.38238803916171876,
          -1.5150636641321433,
          -1.420625290858521,
          -0.38966111031976003,
          -0.4338811347649656,
          -0.7594702844924572,
          -1.2975921496308132,
          -1.4874413573271585,
          0.10648778803850562,
          -0.7689231996954788,
          0.10617186657164929,
          -0.9292274269473667,
          -1.0009416013591563,
          -0.6611687256598172,
          -0.2970281228514124
         ]
        }
       ],
       "layout": {
        "legend": {
         "bgcolor": "#F5F6F9",
         "font": {
          "color": "#4D5663"
         }
        },
        "paper_bgcolor": "#F5F6F9",
        "plot_bgcolor": "#F5F6F9",
        "template": {
         "data": {
          "bar": [
           {
            "error_x": {
             "color": "#2a3f5f"
            },
            "error_y": {
             "color": "#2a3f5f"
            },
            "marker": {
             "line": {
              "color": "#E5ECF6",
              "width": 0.5
             }
            },
            "type": "bar"
           }
          ],
          "barpolar": [
           {
            "marker": {
             "line": {
              "color": "#E5ECF6",
              "width": 0.5
             }
            },
            "type": "barpolar"
           }
          ],
          "carpet": [
           {
            "aaxis": {
             "endlinecolor": "#2a3f5f",
             "gridcolor": "white",
             "linecolor": "white",
             "minorgridcolor": "white",
             "startlinecolor": "#2a3f5f"
            },
            "baxis": {
             "endlinecolor": "#2a3f5f",
             "gridcolor": "white",
             "linecolor": "white",
             "minorgridcolor": "white",
             "startlinecolor": "#2a3f5f"
            },
            "type": "carpet"
           }
          ],
          "choropleth": [
           {
            "colorbar": {
             "outlinewidth": 0,
             "ticks": ""
            },
            "type": "choropleth"
           }
          ],
          "contour": [
           {
            "colorbar": {
             "outlinewidth": 0,
             "ticks": ""
            },
            "colorscale": [
             [
              0,
              "#0d0887"
             ],
             [
              0.1111111111111111,
              "#46039f"
             ],
             [
              0.2222222222222222,
              "#7201a8"
             ],
             [
              0.3333333333333333,
              "#9c179e"
             ],
             [
              0.4444444444444444,
              "#bd3786"
             ],
             [
              0.5555555555555556,
              "#d8576b"
             ],
             [
              0.6666666666666666,
              "#ed7953"
             ],
             [
              0.7777777777777778,
              "#fb9f3a"
             ],
             [
              0.8888888888888888,
              "#fdca26"
             ],
             [
              1,
              "#f0f921"
             ]
            ],
            "type": "contour"
           }
          ],
          "contourcarpet": [
           {
            "colorbar": {
             "outlinewidth": 0,
             "ticks": ""
            },
            "type": "contourcarpet"
           }
          ],
          "heatmap": [
           {
            "colorbar": {
             "outlinewidth": 0,
             "ticks": ""
            },
            "colorscale": [
             [
              0,
              "#0d0887"
             ],
             [
              0.1111111111111111,
              "#46039f"
             ],
             [
              0.2222222222222222,
              "#7201a8"
             ],
             [
              0.3333333333333333,
              "#9c179e"
             ],
             [
              0.4444444444444444,
              "#bd3786"
             ],
             [
              0.5555555555555556,
              "#d8576b"
             ],
             [
              0.6666666666666666,
              "#ed7953"
             ],
             [
              0.7777777777777778,
              "#fb9f3a"
             ],
             [
              0.8888888888888888,
              "#fdca26"
             ],
             [
              1,
              "#f0f921"
             ]
            ],
            "type": "heatmap"
           }
          ],
          "heatmapgl": [
           {
            "colorbar": {
             "outlinewidth": 0,
             "ticks": ""
            },
            "colorscale": [
             [
              0,
              "#0d0887"
             ],
             [
              0.1111111111111111,
              "#46039f"
             ],
             [
              0.2222222222222222,
              "#7201a8"
             ],
             [
              0.3333333333333333,
              "#9c179e"
             ],
             [
              0.4444444444444444,
              "#bd3786"
             ],
             [
              0.5555555555555556,
              "#d8576b"
             ],
             [
              0.6666666666666666,
              "#ed7953"
             ],
             [
              0.7777777777777778,
              "#fb9f3a"
             ],
             [
              0.8888888888888888,
              "#fdca26"
             ],
             [
              1,
              "#f0f921"
             ]
            ],
            "type": "heatmapgl"
           }
          ],
          "histogram": [
           {
            "marker": {
             "colorbar": {
              "outlinewidth": 0,
              "ticks": ""
             }
            },
            "type": "histogram"
           }
          ],
          "histogram2d": [
           {
            "colorbar": {
             "outlinewidth": 0,
             "ticks": ""
            },
            "colorscale": [
             [
              0,
              "#0d0887"
             ],
             [
              0.1111111111111111,
              "#46039f"
             ],
             [
              0.2222222222222222,
              "#7201a8"
             ],
             [
              0.3333333333333333,
              "#9c179e"
             ],
             [
              0.4444444444444444,
              "#bd3786"
             ],
             [
              0.5555555555555556,
              "#d8576b"
             ],
             [
              0.6666666666666666,
              "#ed7953"
             ],
             [
              0.7777777777777778,
              "#fb9f3a"
             ],
             [
              0.8888888888888888,
              "#fdca26"
             ],
             [
              1,
              "#f0f921"
             ]
            ],
            "type": "histogram2d"
           }
          ],
          "histogram2dcontour": [
           {
            "colorbar": {
             "outlinewidth": 0,
             "ticks": ""
            },
            "colorscale": [
             [
              0,
              "#0d0887"
             ],
             [
              0.1111111111111111,
              "#46039f"
             ],
             [
              0.2222222222222222,
              "#7201a8"
             ],
             [
              0.3333333333333333,
              "#9c179e"
             ],
             [
              0.4444444444444444,
              "#bd3786"
             ],
             [
              0.5555555555555556,
              "#d8576b"
             ],
             [
              0.6666666666666666,
              "#ed7953"
             ],
             [
              0.7777777777777778,
              "#fb9f3a"
             ],
             [
              0.8888888888888888,
              "#fdca26"
             ],
             [
              1,
              "#f0f921"
             ]
            ],
            "type": "histogram2dcontour"
           }
          ],
          "mesh3d": [
           {
            "colorbar": {
             "outlinewidth": 0,
             "ticks": ""
            },
            "type": "mesh3d"
           }
          ],
          "parcoords": [
           {
            "line": {
             "colorbar": {
              "outlinewidth": 0,
              "ticks": ""
             }
            },
            "type": "parcoords"
           }
          ],
          "pie": [
           {
            "automargin": true,
            "type": "pie"
           }
          ],
          "scatter": [
           {
            "marker": {
             "colorbar": {
              "outlinewidth": 0,
              "ticks": ""
             }
            },
            "type": "scatter"
           }
          ],
          "scatter3d": [
           {
            "line": {
             "colorbar": {
              "outlinewidth": 0,
              "ticks": ""
             }
            },
            "marker": {
             "colorbar": {
              "outlinewidth": 0,
              "ticks": ""
             }
            },
            "type": "scatter3d"
           }
          ],
          "scattercarpet": [
           {
            "marker": {
             "colorbar": {
              "outlinewidth": 0,
              "ticks": ""
             }
            },
            "type": "scattercarpet"
           }
          ],
          "scattergeo": [
           {
            "marker": {
             "colorbar": {
              "outlinewidth": 0,
              "ticks": ""
             }
            },
            "type": "scattergeo"
           }
          ],
          "scattergl": [
           {
            "marker": {
             "colorbar": {
              "outlinewidth": 0,
              "ticks": ""
             }
            },
            "type": "scattergl"
           }
          ],
          "scattermapbox": [
           {
            "marker": {
             "colorbar": {
              "outlinewidth": 0,
              "ticks": ""
             }
            },
            "type": "scattermapbox"
           }
          ],
          "scatterpolar": [
           {
            "marker": {
             "colorbar": {
              "outlinewidth": 0,
              "ticks": ""
             }
            },
            "type": "scatterpolar"
           }
          ],
          "scatterpolargl": [
           {
            "marker": {
             "colorbar": {
              "outlinewidth": 0,
              "ticks": ""
             }
            },
            "type": "scatterpolargl"
           }
          ],
          "scatterternary": [
           {
            "marker": {
             "colorbar": {
              "outlinewidth": 0,
              "ticks": ""
             }
            },
            "type": "scatterternary"
           }
          ],
          "surface": [
           {
            "colorbar": {
             "outlinewidth": 0,
             "ticks": ""
            },
            "colorscale": [
             [
              0,
              "#0d0887"
             ],
             [
              0.1111111111111111,
              "#46039f"
             ],
             [
              0.2222222222222222,
              "#7201a8"
             ],
             [
              0.3333333333333333,
              "#9c179e"
             ],
             [
              0.4444444444444444,
              "#bd3786"
             ],
             [
              0.5555555555555556,
              "#d8576b"
             ],
             [
              0.6666666666666666,
              "#ed7953"
             ],
             [
              0.7777777777777778,
              "#fb9f3a"
             ],
             [
              0.8888888888888888,
              "#fdca26"
             ],
             [
              1,
              "#f0f921"
             ]
            ],
            "type": "surface"
           }
          ],
          "table": [
           {
            "cells": {
             "fill": {
              "color": "#EBF0F8"
             },
             "line": {
              "color": "white"
             }
            },
            "header": {
             "fill": {
              "color": "#C8D4E3"
             },
             "line": {
              "color": "white"
             }
            },
            "type": "table"
           }
          ]
         },
         "layout": {
          "annotationdefaults": {
           "arrowcolor": "#2a3f5f",
           "arrowhead": 0,
           "arrowwidth": 1
          },
          "coloraxis": {
           "colorbar": {
            "outlinewidth": 0,
            "ticks": ""
           }
          },
          "colorscale": {
           "diverging": [
            [
             0,
             "#8e0152"
            ],
            [
             0.1,
             "#c51b7d"
            ],
            [
             0.2,
             "#de77ae"
            ],
            [
             0.3,
             "#f1b6da"
            ],
            [
             0.4,
             "#fde0ef"
            ],
            [
             0.5,
             "#f7f7f7"
            ],
            [
             0.6,
             "#e6f5d0"
            ],
            [
             0.7,
             "#b8e186"
            ],
            [
             0.8,
             "#7fbc41"
            ],
            [
             0.9,
             "#4d9221"
            ],
            [
             1,
             "#276419"
            ]
           ],
           "sequential": [
            [
             0,
             "#0d0887"
            ],
            [
             0.1111111111111111,
             "#46039f"
            ],
            [
             0.2222222222222222,
             "#7201a8"
            ],
            [
             0.3333333333333333,
             "#9c179e"
            ],
            [
             0.4444444444444444,
             "#bd3786"
            ],
            [
             0.5555555555555556,
             "#d8576b"
            ],
            [
             0.6666666666666666,
             "#ed7953"
            ],
            [
             0.7777777777777778,
             "#fb9f3a"
            ],
            [
             0.8888888888888888,
             "#fdca26"
            ],
            [
             1,
             "#f0f921"
            ]
           ],
           "sequentialminus": [
            [
             0,
             "#0d0887"
            ],
            [
             0.1111111111111111,
             "#46039f"
            ],
            [
             0.2222222222222222,
             "#7201a8"
            ],
            [
             0.3333333333333333,
             "#9c179e"
            ],
            [
             0.4444444444444444,
             "#bd3786"
            ],
            [
             0.5555555555555556,
             "#d8576b"
            ],
            [
             0.6666666666666666,
             "#ed7953"
            ],
            [
             0.7777777777777778,
             "#fb9f3a"
            ],
            [
             0.8888888888888888,
             "#fdca26"
            ],
            [
             1,
             "#f0f921"
            ]
           ]
          },
          "colorway": [
           "#636efa",
           "#EF553B",
           "#00cc96",
           "#ab63fa",
           "#FFA15A",
           "#19d3f3",
           "#FF6692",
           "#B6E880",
           "#FF97FF",
           "#FECB52"
          ],
          "font": {
           "color": "#2a3f5f"
          },
          "geo": {
           "bgcolor": "white",
           "lakecolor": "white",
           "landcolor": "#E5ECF6",
           "showlakes": true,
           "showland": true,
           "subunitcolor": "white"
          },
          "hoverlabel": {
           "align": "left"
          },
          "hovermode": "closest",
          "mapbox": {
           "style": "light"
          },
          "paper_bgcolor": "white",
          "plot_bgcolor": "#E5ECF6",
          "polar": {
           "angularaxis": {
            "gridcolor": "white",
            "linecolor": "white",
            "ticks": ""
           },
           "bgcolor": "#E5ECF6",
           "radialaxis": {
            "gridcolor": "white",
            "linecolor": "white",
            "ticks": ""
           }
          },
          "scene": {
           "xaxis": {
            "backgroundcolor": "#E5ECF6",
            "gridcolor": "white",
            "gridwidth": 2,
            "linecolor": "white",
            "showbackground": true,
            "ticks": "",
            "zerolinecolor": "white"
           },
           "yaxis": {
            "backgroundcolor": "#E5ECF6",
            "gridcolor": "white",
            "gridwidth": 2,
            "linecolor": "white",
            "showbackground": true,
            "ticks": "",
            "zerolinecolor": "white"
           },
           "zaxis": {
            "backgroundcolor": "#E5ECF6",
            "gridcolor": "white",
            "gridwidth": 2,
            "linecolor": "white",
            "showbackground": true,
            "ticks": "",
            "zerolinecolor": "white"
           }
          },
          "shapedefaults": {
           "line": {
            "color": "#2a3f5f"
           }
          },
          "ternary": {
           "aaxis": {
            "gridcolor": "white",
            "linecolor": "white",
            "ticks": ""
           },
           "baxis": {
            "gridcolor": "white",
            "linecolor": "white",
            "ticks": ""
           },
           "bgcolor": "#E5ECF6",
           "caxis": {
            "gridcolor": "white",
            "linecolor": "white",
            "ticks": ""
           }
          },
          "title": {
           "x": 0.05
          },
          "xaxis": {
           "automargin": true,
           "gridcolor": "white",
           "linecolor": "white",
           "ticks": "",
           "title": {
            "standoff": 15
           },
           "zerolinecolor": "white",
           "zerolinewidth": 2
          },
          "yaxis": {
           "automargin": true,
           "gridcolor": "white",
           "linecolor": "white",
           "ticks": "",
           "title": {
            "standoff": 15
           },
           "zerolinecolor": "white",
           "zerolinewidth": 2
          }
         }
        },
        "title": {
         "font": {
          "color": "#4D5663"
         }
        },
        "xaxis": {
         "gridcolor": "#E1E5ED",
         "showgrid": true,
         "tickfont": {
          "color": "#4D5663"
         },
         "title": {
          "font": {
           "color": "#4D5663"
          },
          "text": ""
         },
         "zerolinecolor": "#E1E5ED"
        },
        "yaxis": {
         "gridcolor": "#E1E5ED",
         "showgrid": true,
         "tickfont": {
          "color": "#4D5663"
         },
         "title": {
          "font": {
           "color": "#4D5663"
          },
          "text": ""
         },
         "zerolinecolor": "#E1E5ED"
        }
       }
      },
      "text/html": [
       "<div>\n",
       "        \n",
       "        \n",
       "            <div id=\"9c964b23-e7c8-4b12-ac76-7be92d0c64cf\" class=\"plotly-graph-div\" style=\"height:525px; width:100%;\"></div>\n",
       "            <script type=\"text/javascript\">\n",
       "                require([\"plotly\"], function(Plotly) {\n",
       "                    window.PLOTLYENV=window.PLOTLYENV || {};\n",
       "                    window.PLOTLYENV.BASE_URL='https://plot.ly';\n",
       "                    \n",
       "                if (document.getElementById(\"9c964b23-e7c8-4b12-ac76-7be92d0c64cf\")) {\n",
       "                    Plotly.newPlot(\n",
       "                        '9c964b23-e7c8-4b12-ac76-7be92d0c64cf',\n",
       "                        [{\"line\": {\"color\": \"rgba(255, 153, 51, 1.0)\", \"dash\": \"solid\", \"shape\": \"linear\", \"width\": 1.3}, \"marker\": {\"size\": 10, \"symbol\": \"circle\"}, \"mode\": \"markers\", \"name\": \"B\", \"text\": \"\", \"type\": \"scatter\", \"x\": [1.8336563857102333, -0.5170542546680617, -0.8114263282845406, 1.274566803519775, 1.3182669635573279, -0.23163479176709945, -0.46281296106369735, 0.10055112452178198, 0.22384526559569287, -1.525393358713583, -0.30871753047232264, -1.0291153053917954, -0.6899781062500536, -0.10029168036865194, 0.4746450173010357, -1.864862355681141, -0.5635606592102367, -0.540611265661081, 2.1063885122743877, 0.32581140232095773, 1.3597767938954515, -0.6855673414419455, -0.627671967874757, -2.45953564618311, 1.4022739084082843, 0.3557968147465798, 0.01345027923499118, -0.5772001444937302, 0.049351916147705226, -0.211710400023351, -0.21969188385164204, -0.8003687123084843, 0.5714665470688225, -0.3189392718621887, -0.29286656835406905, 0.0804183851518422, 1.7429171374834904, 1.4668417270772027, 0.5907594688316748, 0.8492840065748899, 2.035535450947834, 0.7755634350275695, 1.7968185079973182, 0.5432783327714242, 0.0818828119296996, -1.2032364825572954, 0.044467034176761386, -0.9215453312860727, 0.17120817027501212, -0.5440137449006027, -0.7034341625579391, -0.1335101218231566, -0.10869390037804114, -0.4670734106287393, 1.4253689743724907, 0.3894496389602283, -0.717096533253933, 0.7316667268795621, 1.4753593207805769, -0.3615467511122082, -0.11367242968425013, 0.40059693656513895, 2.629831036409875, -1.2213789109089375, -0.5504270150082914, -0.4871882362119614, 1.0122753509680227, 0.5254854021599186, -0.23469058216819447, 0.057588332375279654, 0.010113767683471072, 0.17994140168615902, 0.5662234468948822, 0.2760176128373174, 0.8058527450034779, 0.05616819499311416, 1.2383613823158082, 1.25222227597833, 1.4145539336292732, -0.6425695151028831, -0.6860503829816623, -1.2668580219052301, -0.2101910567164161, -1.0065499399280537, 1.4399696640462747, 0.14206837844069692, 0.3090755300097875, -0.9340102557603331, 1.2338946240417021, -0.21292753679379087, 3.1520836999858184, 0.7215299640125139, -0.24307848779925206, -0.8420137185295269, 0.6564343346387973, 1.8202022366633372, -0.21757176475898596, -0.16922391447570856, 1.0216575529526715, 1.9008171167304886], \"y\": [0.9317799519080954, 0.9583169045620058, -2.1091454762769213, -1.0518866200012185, 0.4045363235104093, 0.6570935095233676, -0.08063583444437354, -1.4296231588666808, 0.4681862917827855, 1.7155277035274707, -0.22408325474613772, -0.488441713162645, -0.560453638977886, -1.0624047638938288, -0.7856283441830908, 0.2568566451767039, -0.4561789769942539, -1.2220518737402861, -0.1386105356489743, -1.1731323052216454, -0.1576330592954085, -1.2178189545129157, -0.04189184542848242, 0.8327886986612926, 0.35342553022603806, 1.1017192196132821, -0.670268382446317, 1.439133404001383, 0.334107747235402, 0.12321057341541655, 0.6839734314098366, -0.49073747920357286, -0.7739516186489693, -0.8761037604661204, -0.7419411758960293, -0.09966597290460134, -0.4005854018580816, 0.1194190429435159, -0.12441444841110531, 1.690704084817832, -1.6502257484973724, -1.3574716992875775, 1.759688467089929, 0.8983865155804007, 0.5975237956673476, -0.4165851935186271, -0.5712213172688871, 0.2164644594213698, 1.5926217477702789, -0.5906777083984535, 0.17197657766282742, -0.6856452559072524, 0.7137769710157955, 1.176225942302242, -0.4143355839194882, -1.7241052477653247, -0.5080265992767046, 0.36232989195484805, 1.1405652748436246, -0.25599798527594037, 0.0283494458181763, -0.03897041922129405, 0.3387262152277467, -2.3135704990458903, -0.28086141664505476, -0.7389919929912374, -0.7073062054781312, -0.17142517791230424, -1.3410853326377634, 1.7658612299218635, 0.7750774454504584, 2.2437744517571545, 1.1188748888478135, -0.8103090528425366, -0.05242958528823132, 0.41658884507378346, -0.6874791393605725, 0.23054382523008468, 0.6020318143288642, 1.5009142680156007, -0.23947603764132097, -0.1778947863920873, 0.03430541086361643, 0.7874960133261637, -2.0613358004460682, -1.2766083258476384, 0.15368567394806304, 0.07039792016506936, -0.7286022886316431, -0.07436842081735216, 0.3744619037646374, 0.37876396427331743, 0.8836766885381173, 0.33925390541846867, 0.18933537664203687, 1.6894297117687287, -0.13307308040532492, 0.8801980976667464, -0.39649685156374487, -0.7477008434876448]}, {\"line\": {\"color\": \"rgba(55, 128, 191, 1.0)\", \"dash\": \"solid\", \"shape\": \"linear\", \"width\": 1.3}, \"marker\": {\"size\": 10, \"symbol\": \"circle\"}, \"mode\": \"markers\", \"name\": \"C\", \"text\": \"\", \"type\": \"scatter\", \"x\": [1.8336563857102333, -0.5170542546680617, -0.8114263282845406, 1.274566803519775, 1.3182669635573279, -0.23163479176709945, -0.46281296106369735, 0.10055112452178198, 0.22384526559569287, -1.525393358713583, -0.30871753047232264, -1.0291153053917954, -0.6899781062500536, -0.10029168036865194, 0.4746450173010357, -1.864862355681141, -0.5635606592102367, -0.540611265661081, 2.1063885122743877, 0.32581140232095773, 1.3597767938954515, -0.6855673414419455, -0.627671967874757, -2.45953564618311, 1.4022739084082843, 0.3557968147465798, 0.01345027923499118, -0.5772001444937302, 0.049351916147705226, -0.211710400023351, -0.21969188385164204, -0.8003687123084843, 0.5714665470688225, -0.3189392718621887, -0.29286656835406905, 0.0804183851518422, 1.7429171374834904, 1.4668417270772027, 0.5907594688316748, 0.8492840065748899, 2.035535450947834, 0.7755634350275695, 1.7968185079973182, 0.5432783327714242, 0.0818828119296996, -1.2032364825572954, 0.044467034176761386, -0.9215453312860727, 0.17120817027501212, -0.5440137449006027, -0.7034341625579391, -0.1335101218231566, -0.10869390037804114, -0.4670734106287393, 1.4253689743724907, 0.3894496389602283, -0.717096533253933, 0.7316667268795621, 1.4753593207805769, -0.3615467511122082, -0.11367242968425013, 0.40059693656513895, 2.629831036409875, -1.2213789109089375, -0.5504270150082914, -0.4871882362119614, 1.0122753509680227, 0.5254854021599186, -0.23469058216819447, 0.057588332375279654, 0.010113767683471072, 0.17994140168615902, 0.5662234468948822, 0.2760176128373174, 0.8058527450034779, 0.05616819499311416, 1.2383613823158082, 1.25222227597833, 1.4145539336292732, -0.6425695151028831, -0.6860503829816623, -1.2668580219052301, -0.2101910567164161, -1.0065499399280537, 1.4399696640462747, 0.14206837844069692, 0.3090755300097875, -0.9340102557603331, 1.2338946240417021, -0.21292753679379087, 3.1520836999858184, 0.7215299640125139, -0.24307848779925206, -0.8420137185295269, 0.6564343346387973, 1.8202022366633372, -0.21757176475898596, -0.16922391447570856, 1.0216575529526715, 1.9008171167304886], \"y\": [-0.15056764124896832, 1.085313921456766, 0.5868403016240685, 0.1076597122321769, -0.4620408004821102, -0.8828699867752597, -0.6369421588731972, -1.9668852576046871, 0.26091322008529955, 0.8096294672071237, -0.7484923745453653, -0.046765012225290774, 0.3419697706989888, 0.6984014812137099, -0.05806161298374443, -0.7184586930946887, 0.18551695785883918, 1.7972883420815668, 1.0212560806151705, 0.15051049705741834, -3.0095436805552116, 1.5650700868098, -0.8354107969408971, -1.6796411315950373, -0.3185376457808649, -1.0176547040128436, -1.5269110478126484, 2.2140318011007745, -1.409015066521554, -1.2388676186090084, -0.7200233210470047, 1.3604042542970638, -0.47992892409527677, 0.3537196002150941, 1.8937211826273264, -2.03274842794466, -0.7743337769144294, 1.4808331369945613, -0.32893752192282927, -1.0116305940066577, 1.9002768739769473, 1.2827200812006994, -1.2731636331280385, 0.3148873484718054, -3.0807897745047765, 1.306346766240196, -0.5026904902395863, 0.29171731278050445, 0.9246427234500388, 0.11098330717305543, -0.15033965044673572, -0.6772406189105042, 0.27325773457811836, 1.496106153063146, -0.5541573239357221, -0.8805187845657497, -0.6429376441140157, -0.6036150465995715, 0.19945454323695358, 0.634439867982665, -1.6064081766234288, -0.7580451686288743, -2.0822298709414175, 0.48832752392873646, -0.738516234940918, -0.24673848782420915, -1.3166806320780917, -2.542403203887746, -1.974632289517874, 1.2191056489166359, -0.8376826511926102, 1.320097981417363, -1.3173228118095834, 0.13809217506438817, 0.7457579938256036, 0.0756840443415093, 0.2754464182808177, -0.7714950539106947, -0.17122296700725356, -0.7912040036165922, 1.131329113106368, -0.8806400039017306, -0.7187269462635707, -0.9006475932513225, -1.4614777061767532, -0.38238803916171876, -1.5150636641321433, -1.420625290858521, -0.38966111031976003, -0.4338811347649656, -0.7594702844924572, -1.2975921496308132, -1.4874413573271585, 0.10648778803850562, -0.7689231996954788, 0.10617186657164929, -0.9292274269473667, -1.0009416013591563, -0.6611687256598172, -0.2970281228514124]}],\n",
       "                        {\"legend\": {\"bgcolor\": \"#F5F6F9\", \"font\": {\"color\": \"#4D5663\"}}, \"paper_bgcolor\": \"#F5F6F9\", \"plot_bgcolor\": \"#F5F6F9\", \"template\": {\"data\": {\"bar\": [{\"error_x\": {\"color\": \"#2a3f5f\"}, \"error_y\": {\"color\": \"#2a3f5f\"}, \"marker\": {\"line\": {\"color\": \"#E5ECF6\", \"width\": 0.5}}, \"type\": \"bar\"}], \"barpolar\": [{\"marker\": {\"line\": {\"color\": \"#E5ECF6\", \"width\": 0.5}}, \"type\": \"barpolar\"}], \"carpet\": [{\"aaxis\": {\"endlinecolor\": \"#2a3f5f\", \"gridcolor\": \"white\", \"linecolor\": \"white\", \"minorgridcolor\": \"white\", \"startlinecolor\": \"#2a3f5f\"}, \"baxis\": {\"endlinecolor\": \"#2a3f5f\", \"gridcolor\": \"white\", \"linecolor\": \"white\", \"minorgridcolor\": \"white\", \"startlinecolor\": \"#2a3f5f\"}, \"type\": \"carpet\"}], \"choropleth\": [{\"colorbar\": {\"outlinewidth\": 0, \"ticks\": \"\"}, \"type\": \"choropleth\"}], \"contour\": [{\"colorbar\": {\"outlinewidth\": 0, \"ticks\": \"\"}, \"colorscale\": [[0.0, \"#0d0887\"], [0.1111111111111111, \"#46039f\"], [0.2222222222222222, \"#7201a8\"], [0.3333333333333333, \"#9c179e\"], [0.4444444444444444, \"#bd3786\"], [0.5555555555555556, \"#d8576b\"], [0.6666666666666666, \"#ed7953\"], [0.7777777777777778, \"#fb9f3a\"], [0.8888888888888888, \"#fdca26\"], [1.0, \"#f0f921\"]], \"type\": \"contour\"}], \"contourcarpet\": [{\"colorbar\": {\"outlinewidth\": 0, \"ticks\": \"\"}, \"type\": \"contourcarpet\"}], \"heatmap\": [{\"colorbar\": {\"outlinewidth\": 0, \"ticks\": \"\"}, \"colorscale\": [[0.0, \"#0d0887\"], [0.1111111111111111, \"#46039f\"], [0.2222222222222222, \"#7201a8\"], [0.3333333333333333, \"#9c179e\"], [0.4444444444444444, \"#bd3786\"], [0.5555555555555556, \"#d8576b\"], [0.6666666666666666, \"#ed7953\"], [0.7777777777777778, \"#fb9f3a\"], [0.8888888888888888, \"#fdca26\"], [1.0, \"#f0f921\"]], \"type\": \"heatmap\"}], \"heatmapgl\": [{\"colorbar\": {\"outlinewidth\": 0, \"ticks\": \"\"}, \"colorscale\": [[0.0, \"#0d0887\"], [0.1111111111111111, \"#46039f\"], [0.2222222222222222, \"#7201a8\"], [0.3333333333333333, \"#9c179e\"], [0.4444444444444444, \"#bd3786\"], [0.5555555555555556, \"#d8576b\"], [0.6666666666666666, \"#ed7953\"], [0.7777777777777778, \"#fb9f3a\"], [0.8888888888888888, \"#fdca26\"], [1.0, \"#f0f921\"]], \"type\": \"heatmapgl\"}], \"histogram\": [{\"marker\": {\"colorbar\": {\"outlinewidth\": 0, \"ticks\": \"\"}}, \"type\": \"histogram\"}], \"histogram2d\": [{\"colorbar\": {\"outlinewidth\": 0, \"ticks\": \"\"}, \"colorscale\": [[0.0, \"#0d0887\"], [0.1111111111111111, \"#46039f\"], [0.2222222222222222, \"#7201a8\"], [0.3333333333333333, \"#9c179e\"], [0.4444444444444444, \"#bd3786\"], [0.5555555555555556, \"#d8576b\"], [0.6666666666666666, \"#ed7953\"], [0.7777777777777778, \"#fb9f3a\"], [0.8888888888888888, \"#fdca26\"], [1.0, \"#f0f921\"]], \"type\": \"histogram2d\"}], \"histogram2dcontour\": [{\"colorbar\": {\"outlinewidth\": 0, \"ticks\": \"\"}, \"colorscale\": [[0.0, \"#0d0887\"], [0.1111111111111111, \"#46039f\"], [0.2222222222222222, \"#7201a8\"], [0.3333333333333333, \"#9c179e\"], [0.4444444444444444, \"#bd3786\"], [0.5555555555555556, \"#d8576b\"], [0.6666666666666666, \"#ed7953\"], [0.7777777777777778, \"#fb9f3a\"], [0.8888888888888888, \"#fdca26\"], [1.0, \"#f0f921\"]], \"type\": \"histogram2dcontour\"}], \"mesh3d\": [{\"colorbar\": {\"outlinewidth\": 0, \"ticks\": \"\"}, \"type\": \"mesh3d\"}], \"parcoords\": [{\"line\": {\"colorbar\": {\"outlinewidth\": 0, \"ticks\": \"\"}}, \"type\": \"parcoords\"}], \"pie\": [{\"automargin\": true, \"type\": \"pie\"}], \"scatter\": [{\"marker\": {\"colorbar\": {\"outlinewidth\": 0, \"ticks\": \"\"}}, \"type\": \"scatter\"}], \"scatter3d\": [{\"line\": {\"colorbar\": {\"outlinewidth\": 0, \"ticks\": \"\"}}, \"marker\": {\"colorbar\": {\"outlinewidth\": 0, \"ticks\": \"\"}}, \"type\": \"scatter3d\"}], \"scattercarpet\": [{\"marker\": {\"colorbar\": {\"outlinewidth\": 0, \"ticks\": \"\"}}, \"type\": \"scattercarpet\"}], \"scattergeo\": [{\"marker\": {\"colorbar\": {\"outlinewidth\": 0, \"ticks\": \"\"}}, \"type\": \"scattergeo\"}], \"scattergl\": [{\"marker\": {\"colorbar\": {\"outlinewidth\": 0, \"ticks\": \"\"}}, \"type\": \"scattergl\"}], \"scattermapbox\": [{\"marker\": {\"colorbar\": {\"outlinewidth\": 0, \"ticks\": \"\"}}, \"type\": \"scattermapbox\"}], \"scatterpolar\": [{\"marker\": {\"colorbar\": {\"outlinewidth\": 0, \"ticks\": \"\"}}, \"type\": \"scatterpolar\"}], \"scatterpolargl\": [{\"marker\": {\"colorbar\": {\"outlinewidth\": 0, \"ticks\": \"\"}}, \"type\": \"scatterpolargl\"}], \"scatterternary\": [{\"marker\": {\"colorbar\": {\"outlinewidth\": 0, \"ticks\": \"\"}}, \"type\": \"scatterternary\"}], \"surface\": [{\"colorbar\": {\"outlinewidth\": 0, \"ticks\": \"\"}, \"colorscale\": [[0.0, \"#0d0887\"], [0.1111111111111111, \"#46039f\"], [0.2222222222222222, \"#7201a8\"], [0.3333333333333333, \"#9c179e\"], [0.4444444444444444, \"#bd3786\"], [0.5555555555555556, \"#d8576b\"], [0.6666666666666666, \"#ed7953\"], [0.7777777777777778, \"#fb9f3a\"], [0.8888888888888888, \"#fdca26\"], [1.0, \"#f0f921\"]], \"type\": \"surface\"}], \"table\": [{\"cells\": {\"fill\": {\"color\": \"#EBF0F8\"}, \"line\": {\"color\": \"white\"}}, \"header\": {\"fill\": {\"color\": \"#C8D4E3\"}, \"line\": {\"color\": \"white\"}}, \"type\": \"table\"}]}, \"layout\": {\"annotationdefaults\": {\"arrowcolor\": \"#2a3f5f\", \"arrowhead\": 0, \"arrowwidth\": 1}, \"coloraxis\": {\"colorbar\": {\"outlinewidth\": 0, \"ticks\": \"\"}}, \"colorscale\": {\"diverging\": [[0, \"#8e0152\"], [0.1, \"#c51b7d\"], [0.2, \"#de77ae\"], [0.3, \"#f1b6da\"], [0.4, \"#fde0ef\"], [0.5, \"#f7f7f7\"], [0.6, \"#e6f5d0\"], [0.7, \"#b8e186\"], [0.8, \"#7fbc41\"], [0.9, \"#4d9221\"], [1, \"#276419\"]], \"sequential\": [[0.0, \"#0d0887\"], [0.1111111111111111, \"#46039f\"], [0.2222222222222222, \"#7201a8\"], [0.3333333333333333, \"#9c179e\"], [0.4444444444444444, \"#bd3786\"], [0.5555555555555556, \"#d8576b\"], [0.6666666666666666, \"#ed7953\"], [0.7777777777777778, \"#fb9f3a\"], [0.8888888888888888, \"#fdca26\"], [1.0, \"#f0f921\"]], \"sequentialminus\": [[0.0, \"#0d0887\"], [0.1111111111111111, \"#46039f\"], [0.2222222222222222, \"#7201a8\"], [0.3333333333333333, \"#9c179e\"], [0.4444444444444444, \"#bd3786\"], [0.5555555555555556, \"#d8576b\"], [0.6666666666666666, \"#ed7953\"], [0.7777777777777778, \"#fb9f3a\"], [0.8888888888888888, \"#fdca26\"], [1.0, \"#f0f921\"]]}, \"colorway\": [\"#636efa\", \"#EF553B\", \"#00cc96\", \"#ab63fa\", \"#FFA15A\", \"#19d3f3\", \"#FF6692\", \"#B6E880\", \"#FF97FF\", \"#FECB52\"], \"font\": {\"color\": \"#2a3f5f\"}, \"geo\": {\"bgcolor\": \"white\", \"lakecolor\": \"white\", \"landcolor\": \"#E5ECF6\", \"showlakes\": true, \"showland\": true, \"subunitcolor\": \"white\"}, \"hoverlabel\": {\"align\": \"left\"}, \"hovermode\": \"closest\", \"mapbox\": {\"style\": \"light\"}, \"paper_bgcolor\": \"white\", \"plot_bgcolor\": \"#E5ECF6\", \"polar\": {\"angularaxis\": {\"gridcolor\": \"white\", \"linecolor\": \"white\", \"ticks\": \"\"}, \"bgcolor\": \"#E5ECF6\", \"radialaxis\": {\"gridcolor\": \"white\", \"linecolor\": \"white\", \"ticks\": \"\"}}, \"scene\": {\"xaxis\": {\"backgroundcolor\": \"#E5ECF6\", \"gridcolor\": \"white\", \"gridwidth\": 2, \"linecolor\": \"white\", \"showbackground\": true, \"ticks\": \"\", \"zerolinecolor\": \"white\"}, \"yaxis\": {\"backgroundcolor\": \"#E5ECF6\", \"gridcolor\": \"white\", \"gridwidth\": 2, \"linecolor\": \"white\", \"showbackground\": true, \"ticks\": \"\", \"zerolinecolor\": \"white\"}, \"zaxis\": {\"backgroundcolor\": \"#E5ECF6\", \"gridcolor\": \"white\", \"gridwidth\": 2, \"linecolor\": \"white\", \"showbackground\": true, \"ticks\": \"\", \"zerolinecolor\": \"white\"}}, \"shapedefaults\": {\"line\": {\"color\": \"#2a3f5f\"}}, \"ternary\": {\"aaxis\": {\"gridcolor\": \"white\", \"linecolor\": \"white\", \"ticks\": \"\"}, \"baxis\": {\"gridcolor\": \"white\", \"linecolor\": \"white\", \"ticks\": \"\"}, \"bgcolor\": \"#E5ECF6\", \"caxis\": {\"gridcolor\": \"white\", \"linecolor\": \"white\", \"ticks\": \"\"}}, \"title\": {\"x\": 0.05}, \"xaxis\": {\"automargin\": true, \"gridcolor\": \"white\", \"linecolor\": \"white\", \"ticks\": \"\", \"title\": {\"standoff\": 15}, \"zerolinecolor\": \"white\", \"zerolinewidth\": 2}, \"yaxis\": {\"automargin\": true, \"gridcolor\": \"white\", \"linecolor\": \"white\", \"ticks\": \"\", \"title\": {\"standoff\": 15}, \"zerolinecolor\": \"white\", \"zerolinewidth\": 2}}}, \"title\": {\"font\": {\"color\": \"#4D5663\"}}, \"xaxis\": {\"gridcolor\": \"#E1E5ED\", \"showgrid\": true, \"tickfont\": {\"color\": \"#4D5663\"}, \"title\": {\"font\": {\"color\": \"#4D5663\"}, \"text\": \"\"}, \"zerolinecolor\": \"#E1E5ED\"}, \"yaxis\": {\"gridcolor\": \"#E1E5ED\", \"showgrid\": true, \"tickfont\": {\"color\": \"#4D5663\"}, \"title\": {\"font\": {\"color\": \"#4D5663\"}, \"text\": \"\"}, \"zerolinecolor\": \"#E1E5ED\"}},\n",
       "                        {\"showLink\": true, \"linkText\": \"Export to plot.ly\", \"plotlyServerURL\": \"https://plot.ly\", \"responsive\": true}\n",
       "                    ).then(function(){\n",
       "                            \n",
       "var gd = document.getElementById('9c964b23-e7c8-4b12-ac76-7be92d0c64cf');\n",
       "var x = new MutationObserver(function (mutations, observer) {{\n",
       "        var display = window.getComputedStyle(gd).display;\n",
       "        if (!display || display === 'none') {{\n",
       "            console.log([gd, 'removed!']);\n",
       "            Plotly.purge(gd);\n",
       "            observer.disconnect();\n",
       "        }}\n",
       "}});\n",
       "\n",
       "// Listen for the removal of the full notebook cells\n",
       "var notebookContainer = gd.closest('#notebook-container');\n",
       "if (notebookContainer) {{\n",
       "    x.observe(notebookContainer, {childList: true});\n",
       "}}\n",
       "\n",
       "// Listen for the clearing of the current output cell\n",
       "var outputEl = gd.closest('.output');\n",
       "if (outputEl) {{\n",
       "    x.observe(outputEl, {childList: true});\n",
       "}}\n",
       "\n",
       "                        })\n",
       "                };\n",
       "                });\n",
       "            </script>\n",
       "        </div>"
      ]
     },
     "metadata": {},
     "output_type": "display_data"
    }
   ],
   "source": [
    "df.iplot(kind='scatter',x='A',y=['B','C'],mode='markers',size=10)"
   ]
  },
  {
   "cell_type": "markdown",
   "metadata": {},
   "source": [
    "## Bar Plots"
   ]
  },
  {
   "cell_type": "code",
   "execution_count": 33,
   "metadata": {},
   "outputs": [
    {
     "data": {
      "application/vnd.plotly.v1+json": {
       "config": {
        "linkText": "Export to plot.ly",
        "plotlyServerURL": "https://plot.ly",
        "showLink": true
       },
       "data": [
        {
         "marker": {
          "color": "rgba(255, 153, 51, 0.6)",
          "line": {
           "color": "rgba(255, 153, 51, 1.0)",
           "width": 1
          }
         },
         "name": "Values",
         "orientation": "v",
         "text": "",
         "type": "bar",
         "x": [
          "A",
          "B",
          "C"
         ],
         "y": [
          32,
          43,
          50
         ]
        }
       ],
       "layout": {
        "legend": {
         "bgcolor": "#F5F6F9",
         "font": {
          "color": "#4D5663"
         }
        },
        "paper_bgcolor": "#F5F6F9",
        "plot_bgcolor": "#F5F6F9",
        "template": {
         "data": {
          "bar": [
           {
            "error_x": {
             "color": "#2a3f5f"
            },
            "error_y": {
             "color": "#2a3f5f"
            },
            "marker": {
             "line": {
              "color": "#E5ECF6",
              "width": 0.5
             }
            },
            "type": "bar"
           }
          ],
          "barpolar": [
           {
            "marker": {
             "line": {
              "color": "#E5ECF6",
              "width": 0.5
             }
            },
            "type": "barpolar"
           }
          ],
          "carpet": [
           {
            "aaxis": {
             "endlinecolor": "#2a3f5f",
             "gridcolor": "white",
             "linecolor": "white",
             "minorgridcolor": "white",
             "startlinecolor": "#2a3f5f"
            },
            "baxis": {
             "endlinecolor": "#2a3f5f",
             "gridcolor": "white",
             "linecolor": "white",
             "minorgridcolor": "white",
             "startlinecolor": "#2a3f5f"
            },
            "type": "carpet"
           }
          ],
          "choropleth": [
           {
            "colorbar": {
             "outlinewidth": 0,
             "ticks": ""
            },
            "type": "choropleth"
           }
          ],
          "contour": [
           {
            "colorbar": {
             "outlinewidth": 0,
             "ticks": ""
            },
            "colorscale": [
             [
              0,
              "#0d0887"
             ],
             [
              0.1111111111111111,
              "#46039f"
             ],
             [
              0.2222222222222222,
              "#7201a8"
             ],
             [
              0.3333333333333333,
              "#9c179e"
             ],
             [
              0.4444444444444444,
              "#bd3786"
             ],
             [
              0.5555555555555556,
              "#d8576b"
             ],
             [
              0.6666666666666666,
              "#ed7953"
             ],
             [
              0.7777777777777778,
              "#fb9f3a"
             ],
             [
              0.8888888888888888,
              "#fdca26"
             ],
             [
              1,
              "#f0f921"
             ]
            ],
            "type": "contour"
           }
          ],
          "contourcarpet": [
           {
            "colorbar": {
             "outlinewidth": 0,
             "ticks": ""
            },
            "type": "contourcarpet"
           }
          ],
          "heatmap": [
           {
            "colorbar": {
             "outlinewidth": 0,
             "ticks": ""
            },
            "colorscale": [
             [
              0,
              "#0d0887"
             ],
             [
              0.1111111111111111,
              "#46039f"
             ],
             [
              0.2222222222222222,
              "#7201a8"
             ],
             [
              0.3333333333333333,
              "#9c179e"
             ],
             [
              0.4444444444444444,
              "#bd3786"
             ],
             [
              0.5555555555555556,
              "#d8576b"
             ],
             [
              0.6666666666666666,
              "#ed7953"
             ],
             [
              0.7777777777777778,
              "#fb9f3a"
             ],
             [
              0.8888888888888888,
              "#fdca26"
             ],
             [
              1,
              "#f0f921"
             ]
            ],
            "type": "heatmap"
           }
          ],
          "heatmapgl": [
           {
            "colorbar": {
             "outlinewidth": 0,
             "ticks": ""
            },
            "colorscale": [
             [
              0,
              "#0d0887"
             ],
             [
              0.1111111111111111,
              "#46039f"
             ],
             [
              0.2222222222222222,
              "#7201a8"
             ],
             [
              0.3333333333333333,
              "#9c179e"
             ],
             [
              0.4444444444444444,
              "#bd3786"
             ],
             [
              0.5555555555555556,
              "#d8576b"
             ],
             [
              0.6666666666666666,
              "#ed7953"
             ],
             [
              0.7777777777777778,
              "#fb9f3a"
             ],
             [
              0.8888888888888888,
              "#fdca26"
             ],
             [
              1,
              "#f0f921"
             ]
            ],
            "type": "heatmapgl"
           }
          ],
          "histogram": [
           {
            "marker": {
             "colorbar": {
              "outlinewidth": 0,
              "ticks": ""
             }
            },
            "type": "histogram"
           }
          ],
          "histogram2d": [
           {
            "colorbar": {
             "outlinewidth": 0,
             "ticks": ""
            },
            "colorscale": [
             [
              0,
              "#0d0887"
             ],
             [
              0.1111111111111111,
              "#46039f"
             ],
             [
              0.2222222222222222,
              "#7201a8"
             ],
             [
              0.3333333333333333,
              "#9c179e"
             ],
             [
              0.4444444444444444,
              "#bd3786"
             ],
             [
              0.5555555555555556,
              "#d8576b"
             ],
             [
              0.6666666666666666,
              "#ed7953"
             ],
             [
              0.7777777777777778,
              "#fb9f3a"
             ],
             [
              0.8888888888888888,
              "#fdca26"
             ],
             [
              1,
              "#f0f921"
             ]
            ],
            "type": "histogram2d"
           }
          ],
          "histogram2dcontour": [
           {
            "colorbar": {
             "outlinewidth": 0,
             "ticks": ""
            },
            "colorscale": [
             [
              0,
              "#0d0887"
             ],
             [
              0.1111111111111111,
              "#46039f"
             ],
             [
              0.2222222222222222,
              "#7201a8"
             ],
             [
              0.3333333333333333,
              "#9c179e"
             ],
             [
              0.4444444444444444,
              "#bd3786"
             ],
             [
              0.5555555555555556,
              "#d8576b"
             ],
             [
              0.6666666666666666,
              "#ed7953"
             ],
             [
              0.7777777777777778,
              "#fb9f3a"
             ],
             [
              0.8888888888888888,
              "#fdca26"
             ],
             [
              1,
              "#f0f921"
             ]
            ],
            "type": "histogram2dcontour"
           }
          ],
          "mesh3d": [
           {
            "colorbar": {
             "outlinewidth": 0,
             "ticks": ""
            },
            "type": "mesh3d"
           }
          ],
          "parcoords": [
           {
            "line": {
             "colorbar": {
              "outlinewidth": 0,
              "ticks": ""
             }
            },
            "type": "parcoords"
           }
          ],
          "pie": [
           {
            "automargin": true,
            "type": "pie"
           }
          ],
          "scatter": [
           {
            "marker": {
             "colorbar": {
              "outlinewidth": 0,
              "ticks": ""
             }
            },
            "type": "scatter"
           }
          ],
          "scatter3d": [
           {
            "line": {
             "colorbar": {
              "outlinewidth": 0,
              "ticks": ""
             }
            },
            "marker": {
             "colorbar": {
              "outlinewidth": 0,
              "ticks": ""
             }
            },
            "type": "scatter3d"
           }
          ],
          "scattercarpet": [
           {
            "marker": {
             "colorbar": {
              "outlinewidth": 0,
              "ticks": ""
             }
            },
            "type": "scattercarpet"
           }
          ],
          "scattergeo": [
           {
            "marker": {
             "colorbar": {
              "outlinewidth": 0,
              "ticks": ""
             }
            },
            "type": "scattergeo"
           }
          ],
          "scattergl": [
           {
            "marker": {
             "colorbar": {
              "outlinewidth": 0,
              "ticks": ""
             }
            },
            "type": "scattergl"
           }
          ],
          "scattermapbox": [
           {
            "marker": {
             "colorbar": {
              "outlinewidth": 0,
              "ticks": ""
             }
            },
            "type": "scattermapbox"
           }
          ],
          "scatterpolar": [
           {
            "marker": {
             "colorbar": {
              "outlinewidth": 0,
              "ticks": ""
             }
            },
            "type": "scatterpolar"
           }
          ],
          "scatterpolargl": [
           {
            "marker": {
             "colorbar": {
              "outlinewidth": 0,
              "ticks": ""
             }
            },
            "type": "scatterpolargl"
           }
          ],
          "scatterternary": [
           {
            "marker": {
             "colorbar": {
              "outlinewidth": 0,
              "ticks": ""
             }
            },
            "type": "scatterternary"
           }
          ],
          "surface": [
           {
            "colorbar": {
             "outlinewidth": 0,
             "ticks": ""
            },
            "colorscale": [
             [
              0,
              "#0d0887"
             ],
             [
              0.1111111111111111,
              "#46039f"
             ],
             [
              0.2222222222222222,
              "#7201a8"
             ],
             [
              0.3333333333333333,
              "#9c179e"
             ],
             [
              0.4444444444444444,
              "#bd3786"
             ],
             [
              0.5555555555555556,
              "#d8576b"
             ],
             [
              0.6666666666666666,
              "#ed7953"
             ],
             [
              0.7777777777777778,
              "#fb9f3a"
             ],
             [
              0.8888888888888888,
              "#fdca26"
             ],
             [
              1,
              "#f0f921"
             ]
            ],
            "type": "surface"
           }
          ],
          "table": [
           {
            "cells": {
             "fill": {
              "color": "#EBF0F8"
             },
             "line": {
              "color": "white"
             }
            },
            "header": {
             "fill": {
              "color": "#C8D4E3"
             },
             "line": {
              "color": "white"
             }
            },
            "type": "table"
           }
          ]
         },
         "layout": {
          "annotationdefaults": {
           "arrowcolor": "#2a3f5f",
           "arrowhead": 0,
           "arrowwidth": 1
          },
          "coloraxis": {
           "colorbar": {
            "outlinewidth": 0,
            "ticks": ""
           }
          },
          "colorscale": {
           "diverging": [
            [
             0,
             "#8e0152"
            ],
            [
             0.1,
             "#c51b7d"
            ],
            [
             0.2,
             "#de77ae"
            ],
            [
             0.3,
             "#f1b6da"
            ],
            [
             0.4,
             "#fde0ef"
            ],
            [
             0.5,
             "#f7f7f7"
            ],
            [
             0.6,
             "#e6f5d0"
            ],
            [
             0.7,
             "#b8e186"
            ],
            [
             0.8,
             "#7fbc41"
            ],
            [
             0.9,
             "#4d9221"
            ],
            [
             1,
             "#276419"
            ]
           ],
           "sequential": [
            [
             0,
             "#0d0887"
            ],
            [
             0.1111111111111111,
             "#46039f"
            ],
            [
             0.2222222222222222,
             "#7201a8"
            ],
            [
             0.3333333333333333,
             "#9c179e"
            ],
            [
             0.4444444444444444,
             "#bd3786"
            ],
            [
             0.5555555555555556,
             "#d8576b"
            ],
            [
             0.6666666666666666,
             "#ed7953"
            ],
            [
             0.7777777777777778,
             "#fb9f3a"
            ],
            [
             0.8888888888888888,
             "#fdca26"
            ],
            [
             1,
             "#f0f921"
            ]
           ],
           "sequentialminus": [
            [
             0,
             "#0d0887"
            ],
            [
             0.1111111111111111,
             "#46039f"
            ],
            [
             0.2222222222222222,
             "#7201a8"
            ],
            [
             0.3333333333333333,
             "#9c179e"
            ],
            [
             0.4444444444444444,
             "#bd3786"
            ],
            [
             0.5555555555555556,
             "#d8576b"
            ],
            [
             0.6666666666666666,
             "#ed7953"
            ],
            [
             0.7777777777777778,
             "#fb9f3a"
            ],
            [
             0.8888888888888888,
             "#fdca26"
            ],
            [
             1,
             "#f0f921"
            ]
           ]
          },
          "colorway": [
           "#636efa",
           "#EF553B",
           "#00cc96",
           "#ab63fa",
           "#FFA15A",
           "#19d3f3",
           "#FF6692",
           "#B6E880",
           "#FF97FF",
           "#FECB52"
          ],
          "font": {
           "color": "#2a3f5f"
          },
          "geo": {
           "bgcolor": "white",
           "lakecolor": "white",
           "landcolor": "#E5ECF6",
           "showlakes": true,
           "showland": true,
           "subunitcolor": "white"
          },
          "hoverlabel": {
           "align": "left"
          },
          "hovermode": "closest",
          "mapbox": {
           "style": "light"
          },
          "paper_bgcolor": "white",
          "plot_bgcolor": "#E5ECF6",
          "polar": {
           "angularaxis": {
            "gridcolor": "white",
            "linecolor": "white",
            "ticks": ""
           },
           "bgcolor": "#E5ECF6",
           "radialaxis": {
            "gridcolor": "white",
            "linecolor": "white",
            "ticks": ""
           }
          },
          "scene": {
           "xaxis": {
            "backgroundcolor": "#E5ECF6",
            "gridcolor": "white",
            "gridwidth": 2,
            "linecolor": "white",
            "showbackground": true,
            "ticks": "",
            "zerolinecolor": "white"
           },
           "yaxis": {
            "backgroundcolor": "#E5ECF6",
            "gridcolor": "white",
            "gridwidth": 2,
            "linecolor": "white",
            "showbackground": true,
            "ticks": "",
            "zerolinecolor": "white"
           },
           "zaxis": {
            "backgroundcolor": "#E5ECF6",
            "gridcolor": "white",
            "gridwidth": 2,
            "linecolor": "white",
            "showbackground": true,
            "ticks": "",
            "zerolinecolor": "white"
           }
          },
          "shapedefaults": {
           "line": {
            "color": "#2a3f5f"
           }
          },
          "ternary": {
           "aaxis": {
            "gridcolor": "white",
            "linecolor": "white",
            "ticks": ""
           },
           "baxis": {
            "gridcolor": "white",
            "linecolor": "white",
            "ticks": ""
           },
           "bgcolor": "#E5ECF6",
           "caxis": {
            "gridcolor": "white",
            "linecolor": "white",
            "ticks": ""
           }
          },
          "title": {
           "x": 0.05
          },
          "xaxis": {
           "automargin": true,
           "gridcolor": "white",
           "linecolor": "white",
           "ticks": "",
           "title": {
            "standoff": 15
           },
           "zerolinecolor": "white",
           "zerolinewidth": 2
          },
          "yaxis": {
           "automargin": true,
           "gridcolor": "white",
           "linecolor": "white",
           "ticks": "",
           "title": {
            "standoff": 15
           },
           "zerolinecolor": "white",
           "zerolinewidth": 2
          }
         }
        },
        "title": {
         "font": {
          "color": "#4D5663"
         }
        },
        "xaxis": {
         "gridcolor": "#E1E5ED",
         "showgrid": true,
         "tickfont": {
          "color": "#4D5663"
         },
         "title": {
          "font": {
           "color": "#4D5663"
          },
          "text": ""
         },
         "zerolinecolor": "#E1E5ED"
        },
        "yaxis": {
         "gridcolor": "#E1E5ED",
         "showgrid": true,
         "tickfont": {
          "color": "#4D5663"
         },
         "title": {
          "font": {
           "color": "#4D5663"
          },
          "text": ""
         },
         "zerolinecolor": "#E1E5ED"
        }
       }
      },
      "text/html": [
       "<div>\n",
       "        \n",
       "        \n",
       "            <div id=\"df8bf88a-6d43-44c9-8e23-adc12c66bcfc\" class=\"plotly-graph-div\" style=\"height:525px; width:100%;\"></div>\n",
       "            <script type=\"text/javascript\">\n",
       "                require([\"plotly\"], function(Plotly) {\n",
       "                    window.PLOTLYENV=window.PLOTLYENV || {};\n",
       "                    window.PLOTLYENV.BASE_URL='https://plot.ly';\n",
       "                    \n",
       "                if (document.getElementById(\"df8bf88a-6d43-44c9-8e23-adc12c66bcfc\")) {\n",
       "                    Plotly.newPlot(\n",
       "                        'df8bf88a-6d43-44c9-8e23-adc12c66bcfc',\n",
       "                        [{\"marker\": {\"color\": \"rgba(255, 153, 51, 0.6)\", \"line\": {\"color\": \"rgba(255, 153, 51, 1.0)\", \"width\": 1}}, \"name\": \"Values\", \"orientation\": \"v\", \"text\": \"\", \"type\": \"bar\", \"x\": [\"A\", \"B\", \"C\"], \"y\": [32, 43, 50]}],\n",
       "                        {\"legend\": {\"bgcolor\": \"#F5F6F9\", \"font\": {\"color\": \"#4D5663\"}}, \"paper_bgcolor\": \"#F5F6F9\", \"plot_bgcolor\": \"#F5F6F9\", \"template\": {\"data\": {\"bar\": [{\"error_x\": {\"color\": \"#2a3f5f\"}, \"error_y\": {\"color\": \"#2a3f5f\"}, \"marker\": {\"line\": {\"color\": \"#E5ECF6\", \"width\": 0.5}}, \"type\": \"bar\"}], \"barpolar\": [{\"marker\": {\"line\": {\"color\": \"#E5ECF6\", \"width\": 0.5}}, \"type\": \"barpolar\"}], \"carpet\": [{\"aaxis\": {\"endlinecolor\": \"#2a3f5f\", \"gridcolor\": \"white\", \"linecolor\": \"white\", \"minorgridcolor\": \"white\", \"startlinecolor\": \"#2a3f5f\"}, \"baxis\": {\"endlinecolor\": \"#2a3f5f\", \"gridcolor\": \"white\", \"linecolor\": \"white\", \"minorgridcolor\": \"white\", \"startlinecolor\": \"#2a3f5f\"}, \"type\": \"carpet\"}], \"choropleth\": [{\"colorbar\": {\"outlinewidth\": 0, \"ticks\": \"\"}, \"type\": \"choropleth\"}], \"contour\": [{\"colorbar\": {\"outlinewidth\": 0, \"ticks\": \"\"}, \"colorscale\": [[0.0, \"#0d0887\"], [0.1111111111111111, \"#46039f\"], [0.2222222222222222, \"#7201a8\"], [0.3333333333333333, \"#9c179e\"], [0.4444444444444444, \"#bd3786\"], [0.5555555555555556, \"#d8576b\"], [0.6666666666666666, \"#ed7953\"], [0.7777777777777778, \"#fb9f3a\"], [0.8888888888888888, \"#fdca26\"], [1.0, \"#f0f921\"]], \"type\": \"contour\"}], \"contourcarpet\": [{\"colorbar\": {\"outlinewidth\": 0, \"ticks\": \"\"}, \"type\": \"contourcarpet\"}], \"heatmap\": [{\"colorbar\": {\"outlinewidth\": 0, \"ticks\": \"\"}, \"colorscale\": [[0.0, \"#0d0887\"], [0.1111111111111111, \"#46039f\"], [0.2222222222222222, \"#7201a8\"], [0.3333333333333333, \"#9c179e\"], [0.4444444444444444, \"#bd3786\"], [0.5555555555555556, \"#d8576b\"], [0.6666666666666666, \"#ed7953\"], [0.7777777777777778, \"#fb9f3a\"], [0.8888888888888888, \"#fdca26\"], [1.0, \"#f0f921\"]], \"type\": \"heatmap\"}], \"heatmapgl\": [{\"colorbar\": {\"outlinewidth\": 0, \"ticks\": \"\"}, \"colorscale\": [[0.0, \"#0d0887\"], [0.1111111111111111, \"#46039f\"], [0.2222222222222222, \"#7201a8\"], [0.3333333333333333, \"#9c179e\"], [0.4444444444444444, \"#bd3786\"], [0.5555555555555556, \"#d8576b\"], [0.6666666666666666, \"#ed7953\"], [0.7777777777777778, \"#fb9f3a\"], [0.8888888888888888, \"#fdca26\"], [1.0, \"#f0f921\"]], \"type\": \"heatmapgl\"}], \"histogram\": [{\"marker\": {\"colorbar\": {\"outlinewidth\": 0, \"ticks\": \"\"}}, \"type\": \"histogram\"}], \"histogram2d\": [{\"colorbar\": {\"outlinewidth\": 0, \"ticks\": \"\"}, \"colorscale\": [[0.0, \"#0d0887\"], [0.1111111111111111, \"#46039f\"], [0.2222222222222222, \"#7201a8\"], [0.3333333333333333, \"#9c179e\"], [0.4444444444444444, \"#bd3786\"], [0.5555555555555556, \"#d8576b\"], [0.6666666666666666, \"#ed7953\"], [0.7777777777777778, \"#fb9f3a\"], [0.8888888888888888, \"#fdca26\"], [1.0, \"#f0f921\"]], \"type\": \"histogram2d\"}], \"histogram2dcontour\": [{\"colorbar\": {\"outlinewidth\": 0, \"ticks\": \"\"}, \"colorscale\": [[0.0, \"#0d0887\"], [0.1111111111111111, \"#46039f\"], [0.2222222222222222, \"#7201a8\"], [0.3333333333333333, \"#9c179e\"], [0.4444444444444444, \"#bd3786\"], [0.5555555555555556, \"#d8576b\"], [0.6666666666666666, \"#ed7953\"], [0.7777777777777778, \"#fb9f3a\"], [0.8888888888888888, \"#fdca26\"], [1.0, \"#f0f921\"]], \"type\": \"histogram2dcontour\"}], \"mesh3d\": [{\"colorbar\": {\"outlinewidth\": 0, \"ticks\": \"\"}, \"type\": \"mesh3d\"}], \"parcoords\": [{\"line\": {\"colorbar\": {\"outlinewidth\": 0, \"ticks\": \"\"}}, \"type\": \"parcoords\"}], \"pie\": [{\"automargin\": true, \"type\": \"pie\"}], \"scatter\": [{\"marker\": {\"colorbar\": {\"outlinewidth\": 0, \"ticks\": \"\"}}, \"type\": \"scatter\"}], \"scatter3d\": [{\"line\": {\"colorbar\": {\"outlinewidth\": 0, \"ticks\": \"\"}}, \"marker\": {\"colorbar\": {\"outlinewidth\": 0, \"ticks\": \"\"}}, \"type\": \"scatter3d\"}], \"scattercarpet\": [{\"marker\": {\"colorbar\": {\"outlinewidth\": 0, \"ticks\": \"\"}}, \"type\": \"scattercarpet\"}], \"scattergeo\": [{\"marker\": {\"colorbar\": {\"outlinewidth\": 0, \"ticks\": \"\"}}, \"type\": \"scattergeo\"}], \"scattergl\": [{\"marker\": {\"colorbar\": {\"outlinewidth\": 0, \"ticks\": \"\"}}, \"type\": \"scattergl\"}], \"scattermapbox\": [{\"marker\": {\"colorbar\": {\"outlinewidth\": 0, \"ticks\": \"\"}}, \"type\": \"scattermapbox\"}], \"scatterpolar\": [{\"marker\": {\"colorbar\": {\"outlinewidth\": 0, \"ticks\": \"\"}}, \"type\": \"scatterpolar\"}], \"scatterpolargl\": [{\"marker\": {\"colorbar\": {\"outlinewidth\": 0, \"ticks\": \"\"}}, \"type\": \"scatterpolargl\"}], \"scatterternary\": [{\"marker\": {\"colorbar\": {\"outlinewidth\": 0, \"ticks\": \"\"}}, \"type\": \"scatterternary\"}], \"surface\": [{\"colorbar\": {\"outlinewidth\": 0, \"ticks\": \"\"}, \"colorscale\": [[0.0, \"#0d0887\"], [0.1111111111111111, \"#46039f\"], [0.2222222222222222, \"#7201a8\"], [0.3333333333333333, \"#9c179e\"], [0.4444444444444444, \"#bd3786\"], [0.5555555555555556, \"#d8576b\"], [0.6666666666666666, \"#ed7953\"], [0.7777777777777778, \"#fb9f3a\"], [0.8888888888888888, \"#fdca26\"], [1.0, \"#f0f921\"]], \"type\": \"surface\"}], \"table\": [{\"cells\": {\"fill\": {\"color\": \"#EBF0F8\"}, \"line\": {\"color\": \"white\"}}, \"header\": {\"fill\": {\"color\": \"#C8D4E3\"}, \"line\": {\"color\": \"white\"}}, \"type\": \"table\"}]}, \"layout\": {\"annotationdefaults\": {\"arrowcolor\": \"#2a3f5f\", \"arrowhead\": 0, \"arrowwidth\": 1}, \"coloraxis\": {\"colorbar\": {\"outlinewidth\": 0, \"ticks\": \"\"}}, \"colorscale\": {\"diverging\": [[0, \"#8e0152\"], [0.1, \"#c51b7d\"], [0.2, \"#de77ae\"], [0.3, \"#f1b6da\"], [0.4, \"#fde0ef\"], [0.5, \"#f7f7f7\"], [0.6, \"#e6f5d0\"], [0.7, \"#b8e186\"], [0.8, \"#7fbc41\"], [0.9, \"#4d9221\"], [1, \"#276419\"]], \"sequential\": [[0.0, \"#0d0887\"], [0.1111111111111111, \"#46039f\"], [0.2222222222222222, \"#7201a8\"], [0.3333333333333333, \"#9c179e\"], [0.4444444444444444, \"#bd3786\"], [0.5555555555555556, \"#d8576b\"], [0.6666666666666666, \"#ed7953\"], [0.7777777777777778, \"#fb9f3a\"], [0.8888888888888888, \"#fdca26\"], [1.0, \"#f0f921\"]], \"sequentialminus\": [[0.0, \"#0d0887\"], [0.1111111111111111, \"#46039f\"], [0.2222222222222222, \"#7201a8\"], [0.3333333333333333, \"#9c179e\"], [0.4444444444444444, \"#bd3786\"], [0.5555555555555556, \"#d8576b\"], [0.6666666666666666, \"#ed7953\"], [0.7777777777777778, \"#fb9f3a\"], [0.8888888888888888, \"#fdca26\"], [1.0, \"#f0f921\"]]}, \"colorway\": [\"#636efa\", \"#EF553B\", \"#00cc96\", \"#ab63fa\", \"#FFA15A\", \"#19d3f3\", \"#FF6692\", \"#B6E880\", \"#FF97FF\", \"#FECB52\"], \"font\": {\"color\": \"#2a3f5f\"}, \"geo\": {\"bgcolor\": \"white\", \"lakecolor\": \"white\", \"landcolor\": \"#E5ECF6\", \"showlakes\": true, \"showland\": true, \"subunitcolor\": \"white\"}, \"hoverlabel\": {\"align\": \"left\"}, \"hovermode\": \"closest\", \"mapbox\": {\"style\": \"light\"}, \"paper_bgcolor\": \"white\", \"plot_bgcolor\": \"#E5ECF6\", \"polar\": {\"angularaxis\": {\"gridcolor\": \"white\", \"linecolor\": \"white\", \"ticks\": \"\"}, \"bgcolor\": \"#E5ECF6\", \"radialaxis\": {\"gridcolor\": \"white\", \"linecolor\": \"white\", \"ticks\": \"\"}}, \"scene\": {\"xaxis\": {\"backgroundcolor\": \"#E5ECF6\", \"gridcolor\": \"white\", \"gridwidth\": 2, \"linecolor\": \"white\", \"showbackground\": true, \"ticks\": \"\", \"zerolinecolor\": \"white\"}, \"yaxis\": {\"backgroundcolor\": \"#E5ECF6\", \"gridcolor\": \"white\", \"gridwidth\": 2, \"linecolor\": \"white\", \"showbackground\": true, \"ticks\": \"\", \"zerolinecolor\": \"white\"}, \"zaxis\": {\"backgroundcolor\": \"#E5ECF6\", \"gridcolor\": \"white\", \"gridwidth\": 2, \"linecolor\": \"white\", \"showbackground\": true, \"ticks\": \"\", \"zerolinecolor\": \"white\"}}, \"shapedefaults\": {\"line\": {\"color\": \"#2a3f5f\"}}, \"ternary\": {\"aaxis\": {\"gridcolor\": \"white\", \"linecolor\": \"white\", \"ticks\": \"\"}, \"baxis\": {\"gridcolor\": \"white\", \"linecolor\": \"white\", \"ticks\": \"\"}, \"bgcolor\": \"#E5ECF6\", \"caxis\": {\"gridcolor\": \"white\", \"linecolor\": \"white\", \"ticks\": \"\"}}, \"title\": {\"x\": 0.05}, \"xaxis\": {\"automargin\": true, \"gridcolor\": \"white\", \"linecolor\": \"white\", \"ticks\": \"\", \"title\": {\"standoff\": 15}, \"zerolinecolor\": \"white\", \"zerolinewidth\": 2}, \"yaxis\": {\"automargin\": true, \"gridcolor\": \"white\", \"linecolor\": \"white\", \"ticks\": \"\", \"title\": {\"standoff\": 15}, \"zerolinecolor\": \"white\", \"zerolinewidth\": 2}}}, \"title\": {\"font\": {\"color\": \"#4D5663\"}}, \"xaxis\": {\"gridcolor\": \"#E1E5ED\", \"showgrid\": true, \"tickfont\": {\"color\": \"#4D5663\"}, \"title\": {\"font\": {\"color\": \"#4D5663\"}, \"text\": \"\"}, \"zerolinecolor\": \"#E1E5ED\"}, \"yaxis\": {\"gridcolor\": \"#E1E5ED\", \"showgrid\": true, \"tickfont\": {\"color\": \"#4D5663\"}, \"title\": {\"font\": {\"color\": \"#4D5663\"}, \"text\": \"\"}, \"zerolinecolor\": \"#E1E5ED\"}},\n",
       "                        {\"showLink\": true, \"linkText\": \"Export to plot.ly\", \"plotlyServerURL\": \"https://plot.ly\", \"responsive\": true}\n",
       "                    ).then(function(){\n",
       "                            \n",
       "var gd = document.getElementById('df8bf88a-6d43-44c9-8e23-adc12c66bcfc');\n",
       "var x = new MutationObserver(function (mutations, observer) {{\n",
       "        var display = window.getComputedStyle(gd).display;\n",
       "        if (!display || display === 'none') {{\n",
       "            console.log([gd, 'removed!']);\n",
       "            Plotly.purge(gd);\n",
       "            observer.disconnect();\n",
       "        }}\n",
       "}});\n",
       "\n",
       "// Listen for the removal of the full notebook cells\n",
       "var notebookContainer = gd.closest('#notebook-container');\n",
       "if (notebookContainer) {{\n",
       "    x.observe(notebookContainer, {childList: true});\n",
       "}}\n",
       "\n",
       "// Listen for the clearing of the current output cell\n",
       "var outputEl = gd.closest('.output');\n",
       "if (outputEl) {{\n",
       "    x.observe(outputEl, {childList: true});\n",
       "}}\n",
       "\n",
       "                        })\n",
       "                };\n",
       "                });\n",
       "            </script>\n",
       "        </div>"
      ]
     },
     "metadata": {},
     "output_type": "display_data"
    }
   ],
   "source": [
    "df2.iplot(kind='bar',x='Category',y='Values')"
   ]
  },
  {
   "cell_type": "code",
   "execution_count": 15,
   "metadata": {},
   "outputs": [
    {
     "data": {
      "application/vnd.plotly.v1+json": {
       "config": {
        "linkText": "Export to plot.ly",
        "plotlyServerURL": "https://plot.ly",
        "showLink": true
       },
       "data": [
        {
         "marker": {
          "color": "rgba(255, 153, 51, 0.6)",
          "line": {
           "color": "rgba(255, 153, 51, 1.0)",
           "width": 1
          }
         },
         "name": "None",
         "orientation": "v",
         "text": "",
         "type": "bar",
         "x": [
          "A",
          "B",
          "C",
          "D"
         ],
         "y": [
          0.011756537339770858,
          0.15032451233075408,
          0.02026401145473363,
          -0.016762444581873273
         ]
        }
       ],
       "layout": {
        "legend": {
         "bgcolor": "#F5F6F9",
         "font": {
          "color": "#4D5663"
         }
        },
        "paper_bgcolor": "#F5F6F9",
        "plot_bgcolor": "#F5F6F9",
        "template": {
         "data": {
          "bar": [
           {
            "error_x": {
             "color": "#2a3f5f"
            },
            "error_y": {
             "color": "#2a3f5f"
            },
            "marker": {
             "line": {
              "color": "#E5ECF6",
              "width": 0.5
             }
            },
            "type": "bar"
           }
          ],
          "barpolar": [
           {
            "marker": {
             "line": {
              "color": "#E5ECF6",
              "width": 0.5
             }
            },
            "type": "barpolar"
           }
          ],
          "carpet": [
           {
            "aaxis": {
             "endlinecolor": "#2a3f5f",
             "gridcolor": "white",
             "linecolor": "white",
             "minorgridcolor": "white",
             "startlinecolor": "#2a3f5f"
            },
            "baxis": {
             "endlinecolor": "#2a3f5f",
             "gridcolor": "white",
             "linecolor": "white",
             "minorgridcolor": "white",
             "startlinecolor": "#2a3f5f"
            },
            "type": "carpet"
           }
          ],
          "choropleth": [
           {
            "colorbar": {
             "outlinewidth": 0,
             "ticks": ""
            },
            "type": "choropleth"
           }
          ],
          "contour": [
           {
            "colorbar": {
             "outlinewidth": 0,
             "ticks": ""
            },
            "colorscale": [
             [
              0,
              "#0d0887"
             ],
             [
              0.1111111111111111,
              "#46039f"
             ],
             [
              0.2222222222222222,
              "#7201a8"
             ],
             [
              0.3333333333333333,
              "#9c179e"
             ],
             [
              0.4444444444444444,
              "#bd3786"
             ],
             [
              0.5555555555555556,
              "#d8576b"
             ],
             [
              0.6666666666666666,
              "#ed7953"
             ],
             [
              0.7777777777777778,
              "#fb9f3a"
             ],
             [
              0.8888888888888888,
              "#fdca26"
             ],
             [
              1,
              "#f0f921"
             ]
            ],
            "type": "contour"
           }
          ],
          "contourcarpet": [
           {
            "colorbar": {
             "outlinewidth": 0,
             "ticks": ""
            },
            "type": "contourcarpet"
           }
          ],
          "heatmap": [
           {
            "colorbar": {
             "outlinewidth": 0,
             "ticks": ""
            },
            "colorscale": [
             [
              0,
              "#0d0887"
             ],
             [
              0.1111111111111111,
              "#46039f"
             ],
             [
              0.2222222222222222,
              "#7201a8"
             ],
             [
              0.3333333333333333,
              "#9c179e"
             ],
             [
              0.4444444444444444,
              "#bd3786"
             ],
             [
              0.5555555555555556,
              "#d8576b"
             ],
             [
              0.6666666666666666,
              "#ed7953"
             ],
             [
              0.7777777777777778,
              "#fb9f3a"
             ],
             [
              0.8888888888888888,
              "#fdca26"
             ],
             [
              1,
              "#f0f921"
             ]
            ],
            "type": "heatmap"
           }
          ],
          "heatmapgl": [
           {
            "colorbar": {
             "outlinewidth": 0,
             "ticks": ""
            },
            "colorscale": [
             [
              0,
              "#0d0887"
             ],
             [
              0.1111111111111111,
              "#46039f"
             ],
             [
              0.2222222222222222,
              "#7201a8"
             ],
             [
              0.3333333333333333,
              "#9c179e"
             ],
             [
              0.4444444444444444,
              "#bd3786"
             ],
             [
              0.5555555555555556,
              "#d8576b"
             ],
             [
              0.6666666666666666,
              "#ed7953"
             ],
             [
              0.7777777777777778,
              "#fb9f3a"
             ],
             [
              0.8888888888888888,
              "#fdca26"
             ],
             [
              1,
              "#f0f921"
             ]
            ],
            "type": "heatmapgl"
           }
          ],
          "histogram": [
           {
            "marker": {
             "colorbar": {
              "outlinewidth": 0,
              "ticks": ""
             }
            },
            "type": "histogram"
           }
          ],
          "histogram2d": [
           {
            "colorbar": {
             "outlinewidth": 0,
             "ticks": ""
            },
            "colorscale": [
             [
              0,
              "#0d0887"
             ],
             [
              0.1111111111111111,
              "#46039f"
             ],
             [
              0.2222222222222222,
              "#7201a8"
             ],
             [
              0.3333333333333333,
              "#9c179e"
             ],
             [
              0.4444444444444444,
              "#bd3786"
             ],
             [
              0.5555555555555556,
              "#d8576b"
             ],
             [
              0.6666666666666666,
              "#ed7953"
             ],
             [
              0.7777777777777778,
              "#fb9f3a"
             ],
             [
              0.8888888888888888,
              "#fdca26"
             ],
             [
              1,
              "#f0f921"
             ]
            ],
            "type": "histogram2d"
           }
          ],
          "histogram2dcontour": [
           {
            "colorbar": {
             "outlinewidth": 0,
             "ticks": ""
            },
            "colorscale": [
             [
              0,
              "#0d0887"
             ],
             [
              0.1111111111111111,
              "#46039f"
             ],
             [
              0.2222222222222222,
              "#7201a8"
             ],
             [
              0.3333333333333333,
              "#9c179e"
             ],
             [
              0.4444444444444444,
              "#bd3786"
             ],
             [
              0.5555555555555556,
              "#d8576b"
             ],
             [
              0.6666666666666666,
              "#ed7953"
             ],
             [
              0.7777777777777778,
              "#fb9f3a"
             ],
             [
              0.8888888888888888,
              "#fdca26"
             ],
             [
              1,
              "#f0f921"
             ]
            ],
            "type": "histogram2dcontour"
           }
          ],
          "mesh3d": [
           {
            "colorbar": {
             "outlinewidth": 0,
             "ticks": ""
            },
            "type": "mesh3d"
           }
          ],
          "parcoords": [
           {
            "line": {
             "colorbar": {
              "outlinewidth": 0,
              "ticks": ""
             }
            },
            "type": "parcoords"
           }
          ],
          "pie": [
           {
            "automargin": true,
            "type": "pie"
           }
          ],
          "scatter": [
           {
            "marker": {
             "colorbar": {
              "outlinewidth": 0,
              "ticks": ""
             }
            },
            "type": "scatter"
           }
          ],
          "scatter3d": [
           {
            "line": {
             "colorbar": {
              "outlinewidth": 0,
              "ticks": ""
             }
            },
            "marker": {
             "colorbar": {
              "outlinewidth": 0,
              "ticks": ""
             }
            },
            "type": "scatter3d"
           }
          ],
          "scattercarpet": [
           {
            "marker": {
             "colorbar": {
              "outlinewidth": 0,
              "ticks": ""
             }
            },
            "type": "scattercarpet"
           }
          ],
          "scattergeo": [
           {
            "marker": {
             "colorbar": {
              "outlinewidth": 0,
              "ticks": ""
             }
            },
            "type": "scattergeo"
           }
          ],
          "scattergl": [
           {
            "marker": {
             "colorbar": {
              "outlinewidth": 0,
              "ticks": ""
             }
            },
            "type": "scattergl"
           }
          ],
          "scattermapbox": [
           {
            "marker": {
             "colorbar": {
              "outlinewidth": 0,
              "ticks": ""
             }
            },
            "type": "scattermapbox"
           }
          ],
          "scatterpolar": [
           {
            "marker": {
             "colorbar": {
              "outlinewidth": 0,
              "ticks": ""
             }
            },
            "type": "scatterpolar"
           }
          ],
          "scatterpolargl": [
           {
            "marker": {
             "colorbar": {
              "outlinewidth": 0,
              "ticks": ""
             }
            },
            "type": "scatterpolargl"
           }
          ],
          "scatterternary": [
           {
            "marker": {
             "colorbar": {
              "outlinewidth": 0,
              "ticks": ""
             }
            },
            "type": "scatterternary"
           }
          ],
          "surface": [
           {
            "colorbar": {
             "outlinewidth": 0,
             "ticks": ""
            },
            "colorscale": [
             [
              0,
              "#0d0887"
             ],
             [
              0.1111111111111111,
              "#46039f"
             ],
             [
              0.2222222222222222,
              "#7201a8"
             ],
             [
              0.3333333333333333,
              "#9c179e"
             ],
             [
              0.4444444444444444,
              "#bd3786"
             ],
             [
              0.5555555555555556,
              "#d8576b"
             ],
             [
              0.6666666666666666,
              "#ed7953"
             ],
             [
              0.7777777777777778,
              "#fb9f3a"
             ],
             [
              0.8888888888888888,
              "#fdca26"
             ],
             [
              1,
              "#f0f921"
             ]
            ],
            "type": "surface"
           }
          ],
          "table": [
           {
            "cells": {
             "fill": {
              "color": "#EBF0F8"
             },
             "line": {
              "color": "white"
             }
            },
            "header": {
             "fill": {
              "color": "#C8D4E3"
             },
             "line": {
              "color": "white"
             }
            },
            "type": "table"
           }
          ]
         },
         "layout": {
          "annotationdefaults": {
           "arrowcolor": "#2a3f5f",
           "arrowhead": 0,
           "arrowwidth": 1
          },
          "coloraxis": {
           "colorbar": {
            "outlinewidth": 0,
            "ticks": ""
           }
          },
          "colorscale": {
           "diverging": [
            [
             0,
             "#8e0152"
            ],
            [
             0.1,
             "#c51b7d"
            ],
            [
             0.2,
             "#de77ae"
            ],
            [
             0.3,
             "#f1b6da"
            ],
            [
             0.4,
             "#fde0ef"
            ],
            [
             0.5,
             "#f7f7f7"
            ],
            [
             0.6,
             "#e6f5d0"
            ],
            [
             0.7,
             "#b8e186"
            ],
            [
             0.8,
             "#7fbc41"
            ],
            [
             0.9,
             "#4d9221"
            ],
            [
             1,
             "#276419"
            ]
           ],
           "sequential": [
            [
             0,
             "#0d0887"
            ],
            [
             0.1111111111111111,
             "#46039f"
            ],
            [
             0.2222222222222222,
             "#7201a8"
            ],
            [
             0.3333333333333333,
             "#9c179e"
            ],
            [
             0.4444444444444444,
             "#bd3786"
            ],
            [
             0.5555555555555556,
             "#d8576b"
            ],
            [
             0.6666666666666666,
             "#ed7953"
            ],
            [
             0.7777777777777778,
             "#fb9f3a"
            ],
            [
             0.8888888888888888,
             "#fdca26"
            ],
            [
             1,
             "#f0f921"
            ]
           ],
           "sequentialminus": [
            [
             0,
             "#0d0887"
            ],
            [
             0.1111111111111111,
             "#46039f"
            ],
            [
             0.2222222222222222,
             "#7201a8"
            ],
            [
             0.3333333333333333,
             "#9c179e"
            ],
            [
             0.4444444444444444,
             "#bd3786"
            ],
            [
             0.5555555555555556,
             "#d8576b"
            ],
            [
             0.6666666666666666,
             "#ed7953"
            ],
            [
             0.7777777777777778,
             "#fb9f3a"
            ],
            [
             0.8888888888888888,
             "#fdca26"
            ],
            [
             1,
             "#f0f921"
            ]
           ]
          },
          "colorway": [
           "#636efa",
           "#EF553B",
           "#00cc96",
           "#ab63fa",
           "#FFA15A",
           "#19d3f3",
           "#FF6692",
           "#B6E880",
           "#FF97FF",
           "#FECB52"
          ],
          "font": {
           "color": "#2a3f5f"
          },
          "geo": {
           "bgcolor": "white",
           "lakecolor": "white",
           "landcolor": "#E5ECF6",
           "showlakes": true,
           "showland": true,
           "subunitcolor": "white"
          },
          "hoverlabel": {
           "align": "left"
          },
          "hovermode": "closest",
          "mapbox": {
           "style": "light"
          },
          "paper_bgcolor": "white",
          "plot_bgcolor": "#E5ECF6",
          "polar": {
           "angularaxis": {
            "gridcolor": "white",
            "linecolor": "white",
            "ticks": ""
           },
           "bgcolor": "#E5ECF6",
           "radialaxis": {
            "gridcolor": "white",
            "linecolor": "white",
            "ticks": ""
           }
          },
          "scene": {
           "xaxis": {
            "backgroundcolor": "#E5ECF6",
            "gridcolor": "white",
            "gridwidth": 2,
            "linecolor": "white",
            "showbackground": true,
            "ticks": "",
            "zerolinecolor": "white"
           },
           "yaxis": {
            "backgroundcolor": "#E5ECF6",
            "gridcolor": "white",
            "gridwidth": 2,
            "linecolor": "white",
            "showbackground": true,
            "ticks": "",
            "zerolinecolor": "white"
           },
           "zaxis": {
            "backgroundcolor": "#E5ECF6",
            "gridcolor": "white",
            "gridwidth": 2,
            "linecolor": "white",
            "showbackground": true,
            "ticks": "",
            "zerolinecolor": "white"
           }
          },
          "shapedefaults": {
           "line": {
            "color": "#2a3f5f"
           }
          },
          "ternary": {
           "aaxis": {
            "gridcolor": "white",
            "linecolor": "white",
            "ticks": ""
           },
           "baxis": {
            "gridcolor": "white",
            "linecolor": "white",
            "ticks": ""
           },
           "bgcolor": "#E5ECF6",
           "caxis": {
            "gridcolor": "white",
            "linecolor": "white",
            "ticks": ""
           }
          },
          "title": {
           "x": 0.05
          },
          "xaxis": {
           "automargin": true,
           "gridcolor": "white",
           "linecolor": "white",
           "ticks": "",
           "title": {
            "standoff": 15
           },
           "zerolinecolor": "white",
           "zerolinewidth": 2
          },
          "yaxis": {
           "automargin": true,
           "gridcolor": "white",
           "linecolor": "white",
           "ticks": "",
           "title": {
            "standoff": 15
           },
           "zerolinecolor": "white",
           "zerolinewidth": 2
          }
         }
        },
        "title": {
         "font": {
          "color": "#4D5663"
         }
        },
        "xaxis": {
         "gridcolor": "#E1E5ED",
         "showgrid": true,
         "tickfont": {
          "color": "#4D5663"
         },
         "title": {
          "font": {
           "color": "#4D5663"
          },
          "text": ""
         },
         "zerolinecolor": "#E1E5ED"
        },
        "yaxis": {
         "gridcolor": "#E1E5ED",
         "showgrid": true,
         "tickfont": {
          "color": "#4D5663"
         },
         "title": {
          "font": {
           "color": "#4D5663"
          },
          "text": ""
         },
         "zerolinecolor": "#E1E5ED"
        }
       }
      },
      "text/html": [
       "<div>\n",
       "        \n",
       "        \n",
       "            <div id=\"195666a6-bc28-463f-a134-46cb1ff8dd42\" class=\"plotly-graph-div\" style=\"height:525px; width:100%;\"></div>\n",
       "            <script type=\"text/javascript\">\n",
       "                require([\"plotly\"], function(Plotly) {\n",
       "                    window.PLOTLYENV=window.PLOTLYENV || {};\n",
       "                    window.PLOTLYENV.BASE_URL='https://plot.ly';\n",
       "                    \n",
       "                if (document.getElementById(\"195666a6-bc28-463f-a134-46cb1ff8dd42\")) {\n",
       "                    Plotly.newPlot(\n",
       "                        '195666a6-bc28-463f-a134-46cb1ff8dd42',\n",
       "                        [{\"marker\": {\"color\": \"rgba(255, 153, 51, 0.6)\", \"line\": {\"color\": \"rgba(255, 153, 51, 1.0)\", \"width\": 1}}, \"name\": \"None\", \"orientation\": \"v\", \"text\": \"\", \"type\": \"bar\", \"x\": [\"A\", \"B\", \"C\", \"D\"], \"y\": [0.011756537339770858, 0.15032451233075408, 0.02026401145473363, -0.016762444581873273]}],\n",
       "                        {\"legend\": {\"bgcolor\": \"#F5F6F9\", \"font\": {\"color\": \"#4D5663\"}}, \"paper_bgcolor\": \"#F5F6F9\", \"plot_bgcolor\": \"#F5F6F9\", \"template\": {\"data\": {\"bar\": [{\"error_x\": {\"color\": \"#2a3f5f\"}, \"error_y\": {\"color\": \"#2a3f5f\"}, \"marker\": {\"line\": {\"color\": \"#E5ECF6\", \"width\": 0.5}}, \"type\": \"bar\"}], \"barpolar\": [{\"marker\": {\"line\": {\"color\": \"#E5ECF6\", \"width\": 0.5}}, \"type\": \"barpolar\"}], \"carpet\": [{\"aaxis\": {\"endlinecolor\": \"#2a3f5f\", \"gridcolor\": \"white\", \"linecolor\": \"white\", \"minorgridcolor\": \"white\", \"startlinecolor\": \"#2a3f5f\"}, \"baxis\": {\"endlinecolor\": \"#2a3f5f\", \"gridcolor\": \"white\", \"linecolor\": \"white\", \"minorgridcolor\": \"white\", \"startlinecolor\": \"#2a3f5f\"}, \"type\": \"carpet\"}], \"choropleth\": [{\"colorbar\": {\"outlinewidth\": 0, \"ticks\": \"\"}, \"type\": \"choropleth\"}], \"contour\": [{\"colorbar\": {\"outlinewidth\": 0, \"ticks\": \"\"}, \"colorscale\": [[0.0, \"#0d0887\"], [0.1111111111111111, \"#46039f\"], [0.2222222222222222, \"#7201a8\"], [0.3333333333333333, \"#9c179e\"], [0.4444444444444444, \"#bd3786\"], [0.5555555555555556, \"#d8576b\"], [0.6666666666666666, \"#ed7953\"], [0.7777777777777778, \"#fb9f3a\"], [0.8888888888888888, \"#fdca26\"], [1.0, \"#f0f921\"]], \"type\": \"contour\"}], \"contourcarpet\": [{\"colorbar\": {\"outlinewidth\": 0, \"ticks\": \"\"}, \"type\": \"contourcarpet\"}], \"heatmap\": [{\"colorbar\": {\"outlinewidth\": 0, \"ticks\": \"\"}, \"colorscale\": [[0.0, \"#0d0887\"], [0.1111111111111111, \"#46039f\"], [0.2222222222222222, \"#7201a8\"], [0.3333333333333333, \"#9c179e\"], [0.4444444444444444, \"#bd3786\"], [0.5555555555555556, \"#d8576b\"], [0.6666666666666666, \"#ed7953\"], [0.7777777777777778, \"#fb9f3a\"], [0.8888888888888888, \"#fdca26\"], [1.0, \"#f0f921\"]], \"type\": \"heatmap\"}], \"heatmapgl\": [{\"colorbar\": {\"outlinewidth\": 0, \"ticks\": \"\"}, \"colorscale\": [[0.0, \"#0d0887\"], [0.1111111111111111, \"#46039f\"], [0.2222222222222222, \"#7201a8\"], [0.3333333333333333, \"#9c179e\"], [0.4444444444444444, \"#bd3786\"], [0.5555555555555556, \"#d8576b\"], [0.6666666666666666, \"#ed7953\"], [0.7777777777777778, \"#fb9f3a\"], [0.8888888888888888, \"#fdca26\"], [1.0, \"#f0f921\"]], \"type\": \"heatmapgl\"}], \"histogram\": [{\"marker\": {\"colorbar\": {\"outlinewidth\": 0, \"ticks\": \"\"}}, \"type\": \"histogram\"}], \"histogram2d\": [{\"colorbar\": {\"outlinewidth\": 0, \"ticks\": \"\"}, \"colorscale\": [[0.0, \"#0d0887\"], [0.1111111111111111, \"#46039f\"], [0.2222222222222222, \"#7201a8\"], [0.3333333333333333, \"#9c179e\"], [0.4444444444444444, \"#bd3786\"], [0.5555555555555556, \"#d8576b\"], [0.6666666666666666, \"#ed7953\"], [0.7777777777777778, \"#fb9f3a\"], [0.8888888888888888, \"#fdca26\"], [1.0, \"#f0f921\"]], \"type\": \"histogram2d\"}], \"histogram2dcontour\": [{\"colorbar\": {\"outlinewidth\": 0, \"ticks\": \"\"}, \"colorscale\": [[0.0, \"#0d0887\"], [0.1111111111111111, \"#46039f\"], [0.2222222222222222, \"#7201a8\"], [0.3333333333333333, \"#9c179e\"], [0.4444444444444444, \"#bd3786\"], [0.5555555555555556, \"#d8576b\"], [0.6666666666666666, \"#ed7953\"], [0.7777777777777778, \"#fb9f3a\"], [0.8888888888888888, \"#fdca26\"], [1.0, \"#f0f921\"]], \"type\": \"histogram2dcontour\"}], \"mesh3d\": [{\"colorbar\": {\"outlinewidth\": 0, \"ticks\": \"\"}, \"type\": \"mesh3d\"}], \"parcoords\": [{\"line\": {\"colorbar\": {\"outlinewidth\": 0, \"ticks\": \"\"}}, \"type\": \"parcoords\"}], \"pie\": [{\"automargin\": true, \"type\": \"pie\"}], \"scatter\": [{\"marker\": {\"colorbar\": {\"outlinewidth\": 0, \"ticks\": \"\"}}, \"type\": \"scatter\"}], \"scatter3d\": [{\"line\": {\"colorbar\": {\"outlinewidth\": 0, \"ticks\": \"\"}}, \"marker\": {\"colorbar\": {\"outlinewidth\": 0, \"ticks\": \"\"}}, \"type\": \"scatter3d\"}], \"scattercarpet\": [{\"marker\": {\"colorbar\": {\"outlinewidth\": 0, \"ticks\": \"\"}}, \"type\": \"scattercarpet\"}], \"scattergeo\": [{\"marker\": {\"colorbar\": {\"outlinewidth\": 0, \"ticks\": \"\"}}, \"type\": \"scattergeo\"}], \"scattergl\": [{\"marker\": {\"colorbar\": {\"outlinewidth\": 0, \"ticks\": \"\"}}, \"type\": \"scattergl\"}], \"scattermapbox\": [{\"marker\": {\"colorbar\": {\"outlinewidth\": 0, \"ticks\": \"\"}}, \"type\": \"scattermapbox\"}], \"scatterpolar\": [{\"marker\": {\"colorbar\": {\"outlinewidth\": 0, \"ticks\": \"\"}}, \"type\": \"scatterpolar\"}], \"scatterpolargl\": [{\"marker\": {\"colorbar\": {\"outlinewidth\": 0, \"ticks\": \"\"}}, \"type\": \"scatterpolargl\"}], \"scatterternary\": [{\"marker\": {\"colorbar\": {\"outlinewidth\": 0, \"ticks\": \"\"}}, \"type\": \"scatterternary\"}], \"surface\": [{\"colorbar\": {\"outlinewidth\": 0, \"ticks\": \"\"}, \"colorscale\": [[0.0, \"#0d0887\"], [0.1111111111111111, \"#46039f\"], [0.2222222222222222, \"#7201a8\"], [0.3333333333333333, \"#9c179e\"], [0.4444444444444444, \"#bd3786\"], [0.5555555555555556, \"#d8576b\"], [0.6666666666666666, \"#ed7953\"], [0.7777777777777778, \"#fb9f3a\"], [0.8888888888888888, \"#fdca26\"], [1.0, \"#f0f921\"]], \"type\": \"surface\"}], \"table\": [{\"cells\": {\"fill\": {\"color\": \"#EBF0F8\"}, \"line\": {\"color\": \"white\"}}, \"header\": {\"fill\": {\"color\": \"#C8D4E3\"}, \"line\": {\"color\": \"white\"}}, \"type\": \"table\"}]}, \"layout\": {\"annotationdefaults\": {\"arrowcolor\": \"#2a3f5f\", \"arrowhead\": 0, \"arrowwidth\": 1}, \"coloraxis\": {\"colorbar\": {\"outlinewidth\": 0, \"ticks\": \"\"}}, \"colorscale\": {\"diverging\": [[0, \"#8e0152\"], [0.1, \"#c51b7d\"], [0.2, \"#de77ae\"], [0.3, \"#f1b6da\"], [0.4, \"#fde0ef\"], [0.5, \"#f7f7f7\"], [0.6, \"#e6f5d0\"], [0.7, \"#b8e186\"], [0.8, \"#7fbc41\"], [0.9, \"#4d9221\"], [1, \"#276419\"]], \"sequential\": [[0.0, \"#0d0887\"], [0.1111111111111111, \"#46039f\"], [0.2222222222222222, \"#7201a8\"], [0.3333333333333333, \"#9c179e\"], [0.4444444444444444, \"#bd3786\"], [0.5555555555555556, \"#d8576b\"], [0.6666666666666666, \"#ed7953\"], [0.7777777777777778, \"#fb9f3a\"], [0.8888888888888888, \"#fdca26\"], [1.0, \"#f0f921\"]], \"sequentialminus\": [[0.0, \"#0d0887\"], [0.1111111111111111, \"#46039f\"], [0.2222222222222222, \"#7201a8\"], [0.3333333333333333, \"#9c179e\"], [0.4444444444444444, \"#bd3786\"], [0.5555555555555556, \"#d8576b\"], [0.6666666666666666, \"#ed7953\"], [0.7777777777777778, \"#fb9f3a\"], [0.8888888888888888, \"#fdca26\"], [1.0, \"#f0f921\"]]}, \"colorway\": [\"#636efa\", \"#EF553B\", \"#00cc96\", \"#ab63fa\", \"#FFA15A\", \"#19d3f3\", \"#FF6692\", \"#B6E880\", \"#FF97FF\", \"#FECB52\"], \"font\": {\"color\": \"#2a3f5f\"}, \"geo\": {\"bgcolor\": \"white\", \"lakecolor\": \"white\", \"landcolor\": \"#E5ECF6\", \"showlakes\": true, \"showland\": true, \"subunitcolor\": \"white\"}, \"hoverlabel\": {\"align\": \"left\"}, \"hovermode\": \"closest\", \"mapbox\": {\"style\": \"light\"}, \"paper_bgcolor\": \"white\", \"plot_bgcolor\": \"#E5ECF6\", \"polar\": {\"angularaxis\": {\"gridcolor\": \"white\", \"linecolor\": \"white\", \"ticks\": \"\"}, \"bgcolor\": \"#E5ECF6\", \"radialaxis\": {\"gridcolor\": \"white\", \"linecolor\": \"white\", \"ticks\": \"\"}}, \"scene\": {\"xaxis\": {\"backgroundcolor\": \"#E5ECF6\", \"gridcolor\": \"white\", \"gridwidth\": 2, \"linecolor\": \"white\", \"showbackground\": true, \"ticks\": \"\", \"zerolinecolor\": \"white\"}, \"yaxis\": {\"backgroundcolor\": \"#E5ECF6\", \"gridcolor\": \"white\", \"gridwidth\": 2, \"linecolor\": \"white\", \"showbackground\": true, \"ticks\": \"\", \"zerolinecolor\": \"white\"}, \"zaxis\": {\"backgroundcolor\": \"#E5ECF6\", \"gridcolor\": \"white\", \"gridwidth\": 2, \"linecolor\": \"white\", \"showbackground\": true, \"ticks\": \"\", \"zerolinecolor\": \"white\"}}, \"shapedefaults\": {\"line\": {\"color\": \"#2a3f5f\"}}, \"ternary\": {\"aaxis\": {\"gridcolor\": \"white\", \"linecolor\": \"white\", \"ticks\": \"\"}, \"baxis\": {\"gridcolor\": \"white\", \"linecolor\": \"white\", \"ticks\": \"\"}, \"bgcolor\": \"#E5ECF6\", \"caxis\": {\"gridcolor\": \"white\", \"linecolor\": \"white\", \"ticks\": \"\"}}, \"title\": {\"x\": 0.05}, \"xaxis\": {\"automargin\": true, \"gridcolor\": \"white\", \"linecolor\": \"white\", \"ticks\": \"\", \"title\": {\"standoff\": 15}, \"zerolinecolor\": \"white\", \"zerolinewidth\": 2}, \"yaxis\": {\"automargin\": true, \"gridcolor\": \"white\", \"linecolor\": \"white\", \"ticks\": \"\", \"title\": {\"standoff\": 15}, \"zerolinecolor\": \"white\", \"zerolinewidth\": 2}}}, \"title\": {\"font\": {\"color\": \"#4D5663\"}}, \"xaxis\": {\"gridcolor\": \"#E1E5ED\", \"showgrid\": true, \"tickfont\": {\"color\": \"#4D5663\"}, \"title\": {\"font\": {\"color\": \"#4D5663\"}, \"text\": \"\"}, \"zerolinecolor\": \"#E1E5ED\"}, \"yaxis\": {\"gridcolor\": \"#E1E5ED\", \"showgrid\": true, \"tickfont\": {\"color\": \"#4D5663\"}, \"title\": {\"font\": {\"color\": \"#4D5663\"}, \"text\": \"\"}, \"zerolinecolor\": \"#E1E5ED\"}},\n",
       "                        {\"showLink\": true, \"linkText\": \"Export to plot.ly\", \"plotlyServerURL\": \"https://plot.ly\", \"responsive\": true}\n",
       "                    ).then(function(){\n",
       "                            \n",
       "var gd = document.getElementById('195666a6-bc28-463f-a134-46cb1ff8dd42');\n",
       "var x = new MutationObserver(function (mutations, observer) {{\n",
       "        var display = window.getComputedStyle(gd).display;\n",
       "        if (!display || display === 'none') {{\n",
       "            console.log([gd, 'removed!']);\n",
       "            Plotly.purge(gd);\n",
       "            observer.disconnect();\n",
       "        }}\n",
       "}});\n",
       "\n",
       "// Listen for the removal of the full notebook cells\n",
       "var notebookContainer = gd.closest('#notebook-container');\n",
       "if (notebookContainer) {{\n",
       "    x.observe(notebookContainer, {childList: true});\n",
       "}}\n",
       "\n",
       "// Listen for the clearing of the current output cell\n",
       "var outputEl = gd.closest('.output');\n",
       "if (outputEl) {{\n",
       "    x.observe(outputEl, {childList: true});\n",
       "}}\n",
       "\n",
       "                        })\n",
       "                };\n",
       "                });\n",
       "            </script>\n",
       "        </div>"
      ]
     },
     "metadata": {},
     "output_type": "display_data"
    }
   ],
   "source": [
    "df.mean().iplot(kind='bar')"
   ]
  },
  {
   "cell_type": "markdown",
   "metadata": {},
   "source": [
    "## Boxplots"
   ]
  },
  {
   "cell_type": "code",
   "execution_count": 34,
   "metadata": {},
   "outputs": [
    {
     "data": {
      "application/vnd.plotly.v1+json": {
       "config": {
        "linkText": "Export to plot.ly",
        "plotlyServerURL": "https://plot.ly",
        "showLink": true
       },
       "data": [
        {
         "boxpoints": false,
         "line": {
          "width": 1.3
         },
         "marker": {
          "color": "rgba(255, 153, 51, 1.0)"
         },
         "name": "A",
         "orientation": "v",
         "type": "box",
         "y": [
          1.8336563857102333,
          -0.5170542546680617,
          -0.8114263282845406,
          1.274566803519775,
          1.3182669635573279,
          -0.23163479176709945,
          -0.46281296106369735,
          0.10055112452178198,
          0.22384526559569287,
          -1.525393358713583,
          -0.30871753047232264,
          -1.0291153053917954,
          -0.6899781062500536,
          -0.10029168036865194,
          0.4746450173010357,
          -1.864862355681141,
          -0.5635606592102367,
          -0.540611265661081,
          2.1063885122743877,
          0.32581140232095773,
          1.3597767938954515,
          -0.6855673414419455,
          -0.627671967874757,
          -2.45953564618311,
          1.4022739084082843,
          0.3557968147465798,
          0.01345027923499118,
          -0.5772001444937302,
          0.049351916147705226,
          -0.211710400023351,
          -0.21969188385164204,
          -0.8003687123084843,
          0.5714665470688225,
          -0.3189392718621887,
          -0.29286656835406905,
          0.0804183851518422,
          1.7429171374834904,
          1.4668417270772027,
          0.5907594688316748,
          0.8492840065748899,
          2.035535450947834,
          0.7755634350275695,
          1.7968185079973182,
          0.5432783327714242,
          0.0818828119296996,
          -1.2032364825572954,
          0.044467034176761386,
          -0.9215453312860727,
          0.17120817027501212,
          -0.5440137449006027,
          -0.7034341625579391,
          -0.1335101218231566,
          -0.10869390037804114,
          -0.4670734106287393,
          1.4253689743724907,
          0.3894496389602283,
          -0.717096533253933,
          0.7316667268795621,
          1.4753593207805769,
          -0.3615467511122082,
          -0.11367242968425013,
          0.40059693656513895,
          2.629831036409875,
          -1.2213789109089375,
          -0.5504270150082914,
          -0.4871882362119614,
          1.0122753509680227,
          0.5254854021599186,
          -0.23469058216819447,
          0.057588332375279654,
          0.010113767683471072,
          0.17994140168615902,
          0.5662234468948822,
          0.2760176128373174,
          0.8058527450034779,
          0.05616819499311416,
          1.2383613823158082,
          1.25222227597833,
          1.4145539336292732,
          -0.6425695151028831,
          -0.6860503829816623,
          -1.2668580219052301,
          -0.2101910567164161,
          -1.0065499399280537,
          1.4399696640462747,
          0.14206837844069692,
          0.3090755300097875,
          -0.9340102557603331,
          1.2338946240417021,
          -0.21292753679379087,
          3.1520836999858184,
          0.7215299640125139,
          -0.24307848779925206,
          -0.8420137185295269,
          0.6564343346387973,
          1.8202022366633372,
          -0.21757176475898596,
          -0.16922391447570856,
          1.0216575529526715,
          1.9008171167304886
         ]
        },
        {
         "boxpoints": false,
         "line": {
          "width": 1.3
         },
         "marker": {
          "color": "rgba(55, 128, 191, 1.0)"
         },
         "name": "B",
         "orientation": "v",
         "type": "box",
         "y": [
          0.9317799519080954,
          0.9583169045620058,
          -2.1091454762769213,
          -1.0518866200012185,
          0.4045363235104093,
          0.6570935095233676,
          -0.08063583444437354,
          -1.4296231588666808,
          0.4681862917827855,
          1.7155277035274707,
          -0.22408325474613772,
          -0.488441713162645,
          -0.560453638977886,
          -1.0624047638938288,
          -0.7856283441830908,
          0.2568566451767039,
          -0.4561789769942539,
          -1.2220518737402861,
          -0.1386105356489743,
          -1.1731323052216454,
          -0.1576330592954085,
          -1.2178189545129157,
          -0.04189184542848242,
          0.8327886986612926,
          0.35342553022603806,
          1.1017192196132821,
          -0.670268382446317,
          1.439133404001383,
          0.334107747235402,
          0.12321057341541655,
          0.6839734314098366,
          -0.49073747920357286,
          -0.7739516186489693,
          -0.8761037604661204,
          -0.7419411758960293,
          -0.09966597290460134,
          -0.4005854018580816,
          0.1194190429435159,
          -0.12441444841110531,
          1.690704084817832,
          -1.6502257484973724,
          -1.3574716992875775,
          1.759688467089929,
          0.8983865155804007,
          0.5975237956673476,
          -0.4165851935186271,
          -0.5712213172688871,
          0.2164644594213698,
          1.5926217477702789,
          -0.5906777083984535,
          0.17197657766282742,
          -0.6856452559072524,
          0.7137769710157955,
          1.176225942302242,
          -0.4143355839194882,
          -1.7241052477653247,
          -0.5080265992767046,
          0.36232989195484805,
          1.1405652748436246,
          -0.25599798527594037,
          0.0283494458181763,
          -0.03897041922129405,
          0.3387262152277467,
          -2.3135704990458903,
          -0.28086141664505476,
          -0.7389919929912374,
          -0.7073062054781312,
          -0.17142517791230424,
          -1.3410853326377634,
          1.7658612299218635,
          0.7750774454504584,
          2.2437744517571545,
          1.1188748888478135,
          -0.8103090528425366,
          -0.05242958528823132,
          0.41658884507378346,
          -0.6874791393605725,
          0.23054382523008468,
          0.6020318143288642,
          1.5009142680156007,
          -0.23947603764132097,
          -0.1778947863920873,
          0.03430541086361643,
          0.7874960133261637,
          -2.0613358004460682,
          -1.2766083258476384,
          0.15368567394806304,
          0.07039792016506936,
          -0.7286022886316431,
          -0.07436842081735216,
          0.3744619037646374,
          0.37876396427331743,
          0.8836766885381173,
          0.33925390541846867,
          0.18933537664203687,
          1.6894297117687287,
          -0.13307308040532492,
          0.8801980976667464,
          -0.39649685156374487,
          -0.7477008434876448
         ]
        },
        {
         "boxpoints": false,
         "line": {
          "width": 1.3
         },
         "marker": {
          "color": "rgba(50, 171, 96, 1.0)"
         },
         "name": "C",
         "orientation": "v",
         "type": "box",
         "y": [
          -0.15056764124896832,
          1.085313921456766,
          0.5868403016240685,
          0.1076597122321769,
          -0.4620408004821102,
          -0.8828699867752597,
          -0.6369421588731972,
          -1.9668852576046871,
          0.26091322008529955,
          0.8096294672071237,
          -0.7484923745453653,
          -0.046765012225290774,
          0.3419697706989888,
          0.6984014812137099,
          -0.05806161298374443,
          -0.7184586930946887,
          0.18551695785883918,
          1.7972883420815668,
          1.0212560806151705,
          0.15051049705741834,
          -3.0095436805552116,
          1.5650700868098,
          -0.8354107969408971,
          -1.6796411315950373,
          -0.3185376457808649,
          -1.0176547040128436,
          -1.5269110478126484,
          2.2140318011007745,
          -1.409015066521554,
          -1.2388676186090084,
          -0.7200233210470047,
          1.3604042542970638,
          -0.47992892409527677,
          0.3537196002150941,
          1.8937211826273264,
          -2.03274842794466,
          -0.7743337769144294,
          1.4808331369945613,
          -0.32893752192282927,
          -1.0116305940066577,
          1.9002768739769473,
          1.2827200812006994,
          -1.2731636331280385,
          0.3148873484718054,
          -3.0807897745047765,
          1.306346766240196,
          -0.5026904902395863,
          0.29171731278050445,
          0.9246427234500388,
          0.11098330717305543,
          -0.15033965044673572,
          -0.6772406189105042,
          0.27325773457811836,
          1.496106153063146,
          -0.5541573239357221,
          -0.8805187845657497,
          -0.6429376441140157,
          -0.6036150465995715,
          0.19945454323695358,
          0.634439867982665,
          -1.6064081766234288,
          -0.7580451686288743,
          -2.0822298709414175,
          0.48832752392873646,
          -0.738516234940918,
          -0.24673848782420915,
          -1.3166806320780917,
          -2.542403203887746,
          -1.974632289517874,
          1.2191056489166359,
          -0.8376826511926102,
          1.320097981417363,
          -1.3173228118095834,
          0.13809217506438817,
          0.7457579938256036,
          0.0756840443415093,
          0.2754464182808177,
          -0.7714950539106947,
          -0.17122296700725356,
          -0.7912040036165922,
          1.131329113106368,
          -0.8806400039017306,
          -0.7187269462635707,
          -0.9006475932513225,
          -1.4614777061767532,
          -0.38238803916171876,
          -1.5150636641321433,
          -1.420625290858521,
          -0.38966111031976003,
          -0.4338811347649656,
          -0.7594702844924572,
          -1.2975921496308132,
          -1.4874413573271585,
          0.10648778803850562,
          -0.7689231996954788,
          0.10617186657164929,
          -0.9292274269473667,
          -1.0009416013591563,
          -0.6611687256598172,
          -0.2970281228514124
         ]
        },
        {
         "boxpoints": false,
         "line": {
          "width": 1.3
         },
         "marker": {
          "color": "rgba(128, 0, 128, 1.0)"
         },
         "name": "D",
         "orientation": "v",
         "type": "box",
         "y": [
          0.3882307710685272,
          0.3507032753658264,
          1.1205083181088324,
          1.3604026297339844,
          0.33338247805297544,
          -0.013898139841242047,
          -0.2559872371305652,
          0.7237168035070785,
          -2.825331673581181,
          -0.24027475423177147,
          0.17770972607798266,
          -1.6170338321963367,
          0.2714300470499026,
          -0.715621585468856,
          0.7296840092414635,
          -1.618516462203668,
          -1.48499465477773,
          1.1459642898523297,
          -0.33281322885290904,
          0.11871960875617998,
          -0.7952707476563686,
          0.14741669269917365,
          -0.5478796780533972,
          1.5620660159752164,
          0.06833900317481174,
          0.7390877021366545,
          -0.3998530853604331,
          -0.09815429411983102,
          0.3902869814106772,
          0.45890590515978597,
          1.3533569230511846,
          0.08021547147730343,
          -0.6237915601882231,
          2.0253935004898667,
          -1.1187880231082594,
          2.054852534606977,
          0.9135757600784421,
          -1.656172152492669,
          -1.3889861656222022,
          -0.7233945461057593,
          -1.2369431878843014,
          0.7513791336586758,
          -0.15915233576826623,
          -0.8220774467132597,
          -0.09248199179369036,
          0.6195964748773818,
          0.6997042120330836,
          -0.3268436692475785,
          -0.24234547369002313,
          0.16315083205302663,
          1.470127029960923,
          -1.2897927428037539,
          -1.0865078799914982,
          0.5553163987322444,
          -0.25792233915510293,
          -1.2227978630263203,
          0.3279673960788397,
          -0.5528427255902332,
          -0.1354608850912781,
          -1.0021834309976525,
          -0.11631693191808223,
          -1.6526946134603961,
          0.4950583798200281,
          0.6603682361345131,
          0.5674392991130646,
          0.19232284424901333,
          -0.4916809489899119,
          0.14417592026438975,
          0.12991665015442225,
          2.0521303907778794,
          0.38748524212968216,
          -0.2505202973070619,
          -0.22695855758036737,
          -0.6334006650361762,
          -0.655599987382642,
          -0.986104543168514,
          -1.3519580443585715,
          -0.5083949037028949,
          0.13353367131213315,
          1.5506299859612718,
          1.9505639038149858,
          -0.7705912402790528,
          -0.4391406071376013,
          0.5650849801554364,
          1.5123108048927958,
          0.636448335815444,
          -2.2168680667728067,
          -2.318010942782629,
          0.45353352256243734,
          -0.6623239119257736,
          0.11986676054689382,
          0.23080282656672613,
          0.41367844937413106,
          -0.21143650682977264,
          1.2446827121060362,
          1.028396540185957,
          -1.3786457457754224,
          1.7924600457747268,
          0.3781870678493866,
          -0.2378060839351198
         ]
        }
       ],
       "layout": {
        "legend": {
         "bgcolor": "#F5F6F9",
         "font": {
          "color": "#4D5663"
         }
        },
        "paper_bgcolor": "#F5F6F9",
        "plot_bgcolor": "#F5F6F9",
        "template": {
         "data": {
          "bar": [
           {
            "error_x": {
             "color": "#2a3f5f"
            },
            "error_y": {
             "color": "#2a3f5f"
            },
            "marker": {
             "line": {
              "color": "#E5ECF6",
              "width": 0.5
             }
            },
            "type": "bar"
           }
          ],
          "barpolar": [
           {
            "marker": {
             "line": {
              "color": "#E5ECF6",
              "width": 0.5
             }
            },
            "type": "barpolar"
           }
          ],
          "carpet": [
           {
            "aaxis": {
             "endlinecolor": "#2a3f5f",
             "gridcolor": "white",
             "linecolor": "white",
             "minorgridcolor": "white",
             "startlinecolor": "#2a3f5f"
            },
            "baxis": {
             "endlinecolor": "#2a3f5f",
             "gridcolor": "white",
             "linecolor": "white",
             "minorgridcolor": "white",
             "startlinecolor": "#2a3f5f"
            },
            "type": "carpet"
           }
          ],
          "choropleth": [
           {
            "colorbar": {
             "outlinewidth": 0,
             "ticks": ""
            },
            "type": "choropleth"
           }
          ],
          "contour": [
           {
            "colorbar": {
             "outlinewidth": 0,
             "ticks": ""
            },
            "colorscale": [
             [
              0,
              "#0d0887"
             ],
             [
              0.1111111111111111,
              "#46039f"
             ],
             [
              0.2222222222222222,
              "#7201a8"
             ],
             [
              0.3333333333333333,
              "#9c179e"
             ],
             [
              0.4444444444444444,
              "#bd3786"
             ],
             [
              0.5555555555555556,
              "#d8576b"
             ],
             [
              0.6666666666666666,
              "#ed7953"
             ],
             [
              0.7777777777777778,
              "#fb9f3a"
             ],
             [
              0.8888888888888888,
              "#fdca26"
             ],
             [
              1,
              "#f0f921"
             ]
            ],
            "type": "contour"
           }
          ],
          "contourcarpet": [
           {
            "colorbar": {
             "outlinewidth": 0,
             "ticks": ""
            },
            "type": "contourcarpet"
           }
          ],
          "heatmap": [
           {
            "colorbar": {
             "outlinewidth": 0,
             "ticks": ""
            },
            "colorscale": [
             [
              0,
              "#0d0887"
             ],
             [
              0.1111111111111111,
              "#46039f"
             ],
             [
              0.2222222222222222,
              "#7201a8"
             ],
             [
              0.3333333333333333,
              "#9c179e"
             ],
             [
              0.4444444444444444,
              "#bd3786"
             ],
             [
              0.5555555555555556,
              "#d8576b"
             ],
             [
              0.6666666666666666,
              "#ed7953"
             ],
             [
              0.7777777777777778,
              "#fb9f3a"
             ],
             [
              0.8888888888888888,
              "#fdca26"
             ],
             [
              1,
              "#f0f921"
             ]
            ],
            "type": "heatmap"
           }
          ],
          "heatmapgl": [
           {
            "colorbar": {
             "outlinewidth": 0,
             "ticks": ""
            },
            "colorscale": [
             [
              0,
              "#0d0887"
             ],
             [
              0.1111111111111111,
              "#46039f"
             ],
             [
              0.2222222222222222,
              "#7201a8"
             ],
             [
              0.3333333333333333,
              "#9c179e"
             ],
             [
              0.4444444444444444,
              "#bd3786"
             ],
             [
              0.5555555555555556,
              "#d8576b"
             ],
             [
              0.6666666666666666,
              "#ed7953"
             ],
             [
              0.7777777777777778,
              "#fb9f3a"
             ],
             [
              0.8888888888888888,
              "#fdca26"
             ],
             [
              1,
              "#f0f921"
             ]
            ],
            "type": "heatmapgl"
           }
          ],
          "histogram": [
           {
            "marker": {
             "colorbar": {
              "outlinewidth": 0,
              "ticks": ""
             }
            },
            "type": "histogram"
           }
          ],
          "histogram2d": [
           {
            "colorbar": {
             "outlinewidth": 0,
             "ticks": ""
            },
            "colorscale": [
             [
              0,
              "#0d0887"
             ],
             [
              0.1111111111111111,
              "#46039f"
             ],
             [
              0.2222222222222222,
              "#7201a8"
             ],
             [
              0.3333333333333333,
              "#9c179e"
             ],
             [
              0.4444444444444444,
              "#bd3786"
             ],
             [
              0.5555555555555556,
              "#d8576b"
             ],
             [
              0.6666666666666666,
              "#ed7953"
             ],
             [
              0.7777777777777778,
              "#fb9f3a"
             ],
             [
              0.8888888888888888,
              "#fdca26"
             ],
             [
              1,
              "#f0f921"
             ]
            ],
            "type": "histogram2d"
           }
          ],
          "histogram2dcontour": [
           {
            "colorbar": {
             "outlinewidth": 0,
             "ticks": ""
            },
            "colorscale": [
             [
              0,
              "#0d0887"
             ],
             [
              0.1111111111111111,
              "#46039f"
             ],
             [
              0.2222222222222222,
              "#7201a8"
             ],
             [
              0.3333333333333333,
              "#9c179e"
             ],
             [
              0.4444444444444444,
              "#bd3786"
             ],
             [
              0.5555555555555556,
              "#d8576b"
             ],
             [
              0.6666666666666666,
              "#ed7953"
             ],
             [
              0.7777777777777778,
              "#fb9f3a"
             ],
             [
              0.8888888888888888,
              "#fdca26"
             ],
             [
              1,
              "#f0f921"
             ]
            ],
            "type": "histogram2dcontour"
           }
          ],
          "mesh3d": [
           {
            "colorbar": {
             "outlinewidth": 0,
             "ticks": ""
            },
            "type": "mesh3d"
           }
          ],
          "parcoords": [
           {
            "line": {
             "colorbar": {
              "outlinewidth": 0,
              "ticks": ""
             }
            },
            "type": "parcoords"
           }
          ],
          "pie": [
           {
            "automargin": true,
            "type": "pie"
           }
          ],
          "scatter": [
           {
            "marker": {
             "colorbar": {
              "outlinewidth": 0,
              "ticks": ""
             }
            },
            "type": "scatter"
           }
          ],
          "scatter3d": [
           {
            "line": {
             "colorbar": {
              "outlinewidth": 0,
              "ticks": ""
             }
            },
            "marker": {
             "colorbar": {
              "outlinewidth": 0,
              "ticks": ""
             }
            },
            "type": "scatter3d"
           }
          ],
          "scattercarpet": [
           {
            "marker": {
             "colorbar": {
              "outlinewidth": 0,
              "ticks": ""
             }
            },
            "type": "scattercarpet"
           }
          ],
          "scattergeo": [
           {
            "marker": {
             "colorbar": {
              "outlinewidth": 0,
              "ticks": ""
             }
            },
            "type": "scattergeo"
           }
          ],
          "scattergl": [
           {
            "marker": {
             "colorbar": {
              "outlinewidth": 0,
              "ticks": ""
             }
            },
            "type": "scattergl"
           }
          ],
          "scattermapbox": [
           {
            "marker": {
             "colorbar": {
              "outlinewidth": 0,
              "ticks": ""
             }
            },
            "type": "scattermapbox"
           }
          ],
          "scatterpolar": [
           {
            "marker": {
             "colorbar": {
              "outlinewidth": 0,
              "ticks": ""
             }
            },
            "type": "scatterpolar"
           }
          ],
          "scatterpolargl": [
           {
            "marker": {
             "colorbar": {
              "outlinewidth": 0,
              "ticks": ""
             }
            },
            "type": "scatterpolargl"
           }
          ],
          "scatterternary": [
           {
            "marker": {
             "colorbar": {
              "outlinewidth": 0,
              "ticks": ""
             }
            },
            "type": "scatterternary"
           }
          ],
          "surface": [
           {
            "colorbar": {
             "outlinewidth": 0,
             "ticks": ""
            },
            "colorscale": [
             [
              0,
              "#0d0887"
             ],
             [
              0.1111111111111111,
              "#46039f"
             ],
             [
              0.2222222222222222,
              "#7201a8"
             ],
             [
              0.3333333333333333,
              "#9c179e"
             ],
             [
              0.4444444444444444,
              "#bd3786"
             ],
             [
              0.5555555555555556,
              "#d8576b"
             ],
             [
              0.6666666666666666,
              "#ed7953"
             ],
             [
              0.7777777777777778,
              "#fb9f3a"
             ],
             [
              0.8888888888888888,
              "#fdca26"
             ],
             [
              1,
              "#f0f921"
             ]
            ],
            "type": "surface"
           }
          ],
          "table": [
           {
            "cells": {
             "fill": {
              "color": "#EBF0F8"
             },
             "line": {
              "color": "white"
             }
            },
            "header": {
             "fill": {
              "color": "#C8D4E3"
             },
             "line": {
              "color": "white"
             }
            },
            "type": "table"
           }
          ]
         },
         "layout": {
          "annotationdefaults": {
           "arrowcolor": "#2a3f5f",
           "arrowhead": 0,
           "arrowwidth": 1
          },
          "coloraxis": {
           "colorbar": {
            "outlinewidth": 0,
            "ticks": ""
           }
          },
          "colorscale": {
           "diverging": [
            [
             0,
             "#8e0152"
            ],
            [
             0.1,
             "#c51b7d"
            ],
            [
             0.2,
             "#de77ae"
            ],
            [
             0.3,
             "#f1b6da"
            ],
            [
             0.4,
             "#fde0ef"
            ],
            [
             0.5,
             "#f7f7f7"
            ],
            [
             0.6,
             "#e6f5d0"
            ],
            [
             0.7,
             "#b8e186"
            ],
            [
             0.8,
             "#7fbc41"
            ],
            [
             0.9,
             "#4d9221"
            ],
            [
             1,
             "#276419"
            ]
           ],
           "sequential": [
            [
             0,
             "#0d0887"
            ],
            [
             0.1111111111111111,
             "#46039f"
            ],
            [
             0.2222222222222222,
             "#7201a8"
            ],
            [
             0.3333333333333333,
             "#9c179e"
            ],
            [
             0.4444444444444444,
             "#bd3786"
            ],
            [
             0.5555555555555556,
             "#d8576b"
            ],
            [
             0.6666666666666666,
             "#ed7953"
            ],
            [
             0.7777777777777778,
             "#fb9f3a"
            ],
            [
             0.8888888888888888,
             "#fdca26"
            ],
            [
             1,
             "#f0f921"
            ]
           ],
           "sequentialminus": [
            [
             0,
             "#0d0887"
            ],
            [
             0.1111111111111111,
             "#46039f"
            ],
            [
             0.2222222222222222,
             "#7201a8"
            ],
            [
             0.3333333333333333,
             "#9c179e"
            ],
            [
             0.4444444444444444,
             "#bd3786"
            ],
            [
             0.5555555555555556,
             "#d8576b"
            ],
            [
             0.6666666666666666,
             "#ed7953"
            ],
            [
             0.7777777777777778,
             "#fb9f3a"
            ],
            [
             0.8888888888888888,
             "#fdca26"
            ],
            [
             1,
             "#f0f921"
            ]
           ]
          },
          "colorway": [
           "#636efa",
           "#EF553B",
           "#00cc96",
           "#ab63fa",
           "#FFA15A",
           "#19d3f3",
           "#FF6692",
           "#B6E880",
           "#FF97FF",
           "#FECB52"
          ],
          "font": {
           "color": "#2a3f5f"
          },
          "geo": {
           "bgcolor": "white",
           "lakecolor": "white",
           "landcolor": "#E5ECF6",
           "showlakes": true,
           "showland": true,
           "subunitcolor": "white"
          },
          "hoverlabel": {
           "align": "left"
          },
          "hovermode": "closest",
          "mapbox": {
           "style": "light"
          },
          "paper_bgcolor": "white",
          "plot_bgcolor": "#E5ECF6",
          "polar": {
           "angularaxis": {
            "gridcolor": "white",
            "linecolor": "white",
            "ticks": ""
           },
           "bgcolor": "#E5ECF6",
           "radialaxis": {
            "gridcolor": "white",
            "linecolor": "white",
            "ticks": ""
           }
          },
          "scene": {
           "xaxis": {
            "backgroundcolor": "#E5ECF6",
            "gridcolor": "white",
            "gridwidth": 2,
            "linecolor": "white",
            "showbackground": true,
            "ticks": "",
            "zerolinecolor": "white"
           },
           "yaxis": {
            "backgroundcolor": "#E5ECF6",
            "gridcolor": "white",
            "gridwidth": 2,
            "linecolor": "white",
            "showbackground": true,
            "ticks": "",
            "zerolinecolor": "white"
           },
           "zaxis": {
            "backgroundcolor": "#E5ECF6",
            "gridcolor": "white",
            "gridwidth": 2,
            "linecolor": "white",
            "showbackground": true,
            "ticks": "",
            "zerolinecolor": "white"
           }
          },
          "shapedefaults": {
           "line": {
            "color": "#2a3f5f"
           }
          },
          "ternary": {
           "aaxis": {
            "gridcolor": "white",
            "linecolor": "white",
            "ticks": ""
           },
           "baxis": {
            "gridcolor": "white",
            "linecolor": "white",
            "ticks": ""
           },
           "bgcolor": "#E5ECF6",
           "caxis": {
            "gridcolor": "white",
            "linecolor": "white",
            "ticks": ""
           }
          },
          "title": {
           "x": 0.05
          },
          "xaxis": {
           "automargin": true,
           "gridcolor": "white",
           "linecolor": "white",
           "ticks": "",
           "title": {
            "standoff": 15
           },
           "zerolinecolor": "white",
           "zerolinewidth": 2
          },
          "yaxis": {
           "automargin": true,
           "gridcolor": "white",
           "linecolor": "white",
           "ticks": "",
           "title": {
            "standoff": 15
           },
           "zerolinecolor": "white",
           "zerolinewidth": 2
          }
         }
        },
        "title": {
         "font": {
          "color": "#4D5663"
         }
        },
        "xaxis": {
         "gridcolor": "#E1E5ED",
         "showgrid": true,
         "tickfont": {
          "color": "#4D5663"
         },
         "title": {
          "font": {
           "color": "#4D5663"
          },
          "text": ""
         },
         "zerolinecolor": "#E1E5ED"
        },
        "yaxis": {
         "gridcolor": "#E1E5ED",
         "showgrid": true,
         "tickfont": {
          "color": "#4D5663"
         },
         "title": {
          "font": {
           "color": "#4D5663"
          },
          "text": ""
         },
         "zerolinecolor": "#E1E5ED"
        }
       }
      },
      "text/html": [
       "<div>\n",
       "        \n",
       "        \n",
       "            <div id=\"65e591a2-3404-45eb-ac94-c3aa70e782cd\" class=\"plotly-graph-div\" style=\"height:525px; width:100%;\"></div>\n",
       "            <script type=\"text/javascript\">\n",
       "                require([\"plotly\"], function(Plotly) {\n",
       "                    window.PLOTLYENV=window.PLOTLYENV || {};\n",
       "                    window.PLOTLYENV.BASE_URL='https://plot.ly';\n",
       "                    \n",
       "                if (document.getElementById(\"65e591a2-3404-45eb-ac94-c3aa70e782cd\")) {\n",
       "                    Plotly.newPlot(\n",
       "                        '65e591a2-3404-45eb-ac94-c3aa70e782cd',\n",
       "                        [{\"boxpoints\": false, \"line\": {\"width\": 1.3}, \"marker\": {\"color\": \"rgba(255, 153, 51, 1.0)\"}, \"name\": \"A\", \"orientation\": \"v\", \"type\": \"box\", \"y\": [1.8336563857102333, -0.5170542546680617, -0.8114263282845406, 1.274566803519775, 1.3182669635573279, -0.23163479176709945, -0.46281296106369735, 0.10055112452178198, 0.22384526559569287, -1.525393358713583, -0.30871753047232264, -1.0291153053917954, -0.6899781062500536, -0.10029168036865194, 0.4746450173010357, -1.864862355681141, -0.5635606592102367, -0.540611265661081, 2.1063885122743877, 0.32581140232095773, 1.3597767938954515, -0.6855673414419455, -0.627671967874757, -2.45953564618311, 1.4022739084082843, 0.3557968147465798, 0.01345027923499118, -0.5772001444937302, 0.049351916147705226, -0.211710400023351, -0.21969188385164204, -0.8003687123084843, 0.5714665470688225, -0.3189392718621887, -0.29286656835406905, 0.0804183851518422, 1.7429171374834904, 1.4668417270772027, 0.5907594688316748, 0.8492840065748899, 2.035535450947834, 0.7755634350275695, 1.7968185079973182, 0.5432783327714242, 0.0818828119296996, -1.2032364825572954, 0.044467034176761386, -0.9215453312860727, 0.17120817027501212, -0.5440137449006027, -0.7034341625579391, -0.1335101218231566, -0.10869390037804114, -0.4670734106287393, 1.4253689743724907, 0.3894496389602283, -0.717096533253933, 0.7316667268795621, 1.4753593207805769, -0.3615467511122082, -0.11367242968425013, 0.40059693656513895, 2.629831036409875, -1.2213789109089375, -0.5504270150082914, -0.4871882362119614, 1.0122753509680227, 0.5254854021599186, -0.23469058216819447, 0.057588332375279654, 0.010113767683471072, 0.17994140168615902, 0.5662234468948822, 0.2760176128373174, 0.8058527450034779, 0.05616819499311416, 1.2383613823158082, 1.25222227597833, 1.4145539336292732, -0.6425695151028831, -0.6860503829816623, -1.2668580219052301, -0.2101910567164161, -1.0065499399280537, 1.4399696640462747, 0.14206837844069692, 0.3090755300097875, -0.9340102557603331, 1.2338946240417021, -0.21292753679379087, 3.1520836999858184, 0.7215299640125139, -0.24307848779925206, -0.8420137185295269, 0.6564343346387973, 1.8202022366633372, -0.21757176475898596, -0.16922391447570856, 1.0216575529526715, 1.9008171167304886]}, {\"boxpoints\": false, \"line\": {\"width\": 1.3}, \"marker\": {\"color\": \"rgba(55, 128, 191, 1.0)\"}, \"name\": \"B\", \"orientation\": \"v\", \"type\": \"box\", \"y\": [0.9317799519080954, 0.9583169045620058, -2.1091454762769213, -1.0518866200012185, 0.4045363235104093, 0.6570935095233676, -0.08063583444437354, -1.4296231588666808, 0.4681862917827855, 1.7155277035274707, -0.22408325474613772, -0.488441713162645, -0.560453638977886, -1.0624047638938288, -0.7856283441830908, 0.2568566451767039, -0.4561789769942539, -1.2220518737402861, -0.1386105356489743, -1.1731323052216454, -0.1576330592954085, -1.2178189545129157, -0.04189184542848242, 0.8327886986612926, 0.35342553022603806, 1.1017192196132821, -0.670268382446317, 1.439133404001383, 0.334107747235402, 0.12321057341541655, 0.6839734314098366, -0.49073747920357286, -0.7739516186489693, -0.8761037604661204, -0.7419411758960293, -0.09966597290460134, -0.4005854018580816, 0.1194190429435159, -0.12441444841110531, 1.690704084817832, -1.6502257484973724, -1.3574716992875775, 1.759688467089929, 0.8983865155804007, 0.5975237956673476, -0.4165851935186271, -0.5712213172688871, 0.2164644594213698, 1.5926217477702789, -0.5906777083984535, 0.17197657766282742, -0.6856452559072524, 0.7137769710157955, 1.176225942302242, -0.4143355839194882, -1.7241052477653247, -0.5080265992767046, 0.36232989195484805, 1.1405652748436246, -0.25599798527594037, 0.0283494458181763, -0.03897041922129405, 0.3387262152277467, -2.3135704990458903, -0.28086141664505476, -0.7389919929912374, -0.7073062054781312, -0.17142517791230424, -1.3410853326377634, 1.7658612299218635, 0.7750774454504584, 2.2437744517571545, 1.1188748888478135, -0.8103090528425366, -0.05242958528823132, 0.41658884507378346, -0.6874791393605725, 0.23054382523008468, 0.6020318143288642, 1.5009142680156007, -0.23947603764132097, -0.1778947863920873, 0.03430541086361643, 0.7874960133261637, -2.0613358004460682, -1.2766083258476384, 0.15368567394806304, 0.07039792016506936, -0.7286022886316431, -0.07436842081735216, 0.3744619037646374, 0.37876396427331743, 0.8836766885381173, 0.33925390541846867, 0.18933537664203687, 1.6894297117687287, -0.13307308040532492, 0.8801980976667464, -0.39649685156374487, -0.7477008434876448]}, {\"boxpoints\": false, \"line\": {\"width\": 1.3}, \"marker\": {\"color\": \"rgba(50, 171, 96, 1.0)\"}, \"name\": \"C\", \"orientation\": \"v\", \"type\": \"box\", \"y\": [-0.15056764124896832, 1.085313921456766, 0.5868403016240685, 0.1076597122321769, -0.4620408004821102, -0.8828699867752597, -0.6369421588731972, -1.9668852576046871, 0.26091322008529955, 0.8096294672071237, -0.7484923745453653, -0.046765012225290774, 0.3419697706989888, 0.6984014812137099, -0.05806161298374443, -0.7184586930946887, 0.18551695785883918, 1.7972883420815668, 1.0212560806151705, 0.15051049705741834, -3.0095436805552116, 1.5650700868098, -0.8354107969408971, -1.6796411315950373, -0.3185376457808649, -1.0176547040128436, -1.5269110478126484, 2.2140318011007745, -1.409015066521554, -1.2388676186090084, -0.7200233210470047, 1.3604042542970638, -0.47992892409527677, 0.3537196002150941, 1.8937211826273264, -2.03274842794466, -0.7743337769144294, 1.4808331369945613, -0.32893752192282927, -1.0116305940066577, 1.9002768739769473, 1.2827200812006994, -1.2731636331280385, 0.3148873484718054, -3.0807897745047765, 1.306346766240196, -0.5026904902395863, 0.29171731278050445, 0.9246427234500388, 0.11098330717305543, -0.15033965044673572, -0.6772406189105042, 0.27325773457811836, 1.496106153063146, -0.5541573239357221, -0.8805187845657497, -0.6429376441140157, -0.6036150465995715, 0.19945454323695358, 0.634439867982665, -1.6064081766234288, -0.7580451686288743, -2.0822298709414175, 0.48832752392873646, -0.738516234940918, -0.24673848782420915, -1.3166806320780917, -2.542403203887746, -1.974632289517874, 1.2191056489166359, -0.8376826511926102, 1.320097981417363, -1.3173228118095834, 0.13809217506438817, 0.7457579938256036, 0.0756840443415093, 0.2754464182808177, -0.7714950539106947, -0.17122296700725356, -0.7912040036165922, 1.131329113106368, -0.8806400039017306, -0.7187269462635707, -0.9006475932513225, -1.4614777061767532, -0.38238803916171876, -1.5150636641321433, -1.420625290858521, -0.38966111031976003, -0.4338811347649656, -0.7594702844924572, -1.2975921496308132, -1.4874413573271585, 0.10648778803850562, -0.7689231996954788, 0.10617186657164929, -0.9292274269473667, -1.0009416013591563, -0.6611687256598172, -0.2970281228514124]}, {\"boxpoints\": false, \"line\": {\"width\": 1.3}, \"marker\": {\"color\": \"rgba(128, 0, 128, 1.0)\"}, \"name\": \"D\", \"orientation\": \"v\", \"type\": \"box\", \"y\": [0.3882307710685272, 0.3507032753658264, 1.1205083181088324, 1.3604026297339844, 0.33338247805297544, -0.013898139841242047, -0.2559872371305652, 0.7237168035070785, -2.825331673581181, -0.24027475423177147, 0.17770972607798266, -1.6170338321963367, 0.2714300470499026, -0.715621585468856, 0.7296840092414635, -1.618516462203668, -1.48499465477773, 1.1459642898523297, -0.33281322885290904, 0.11871960875617998, -0.7952707476563686, 0.14741669269917365, -0.5478796780533972, 1.5620660159752164, 0.06833900317481174, 0.7390877021366545, -0.3998530853604331, -0.09815429411983102, 0.3902869814106772, 0.45890590515978597, 1.3533569230511846, 0.08021547147730343, -0.6237915601882231, 2.0253935004898667, -1.1187880231082594, 2.054852534606977, 0.9135757600784421, -1.656172152492669, -1.3889861656222022, -0.7233945461057593, -1.2369431878843014, 0.7513791336586758, -0.15915233576826623, -0.8220774467132597, -0.09248199179369036, 0.6195964748773818, 0.6997042120330836, -0.3268436692475785, -0.24234547369002313, 0.16315083205302663, 1.470127029960923, -1.2897927428037539, -1.0865078799914982, 0.5553163987322444, -0.25792233915510293, -1.2227978630263203, 0.3279673960788397, -0.5528427255902332, -0.1354608850912781, -1.0021834309976525, -0.11631693191808223, -1.6526946134603961, 0.4950583798200281, 0.6603682361345131, 0.5674392991130646, 0.19232284424901333, -0.4916809489899119, 0.14417592026438975, 0.12991665015442225, 2.0521303907778794, 0.38748524212968216, -0.2505202973070619, -0.22695855758036737, -0.6334006650361762, -0.655599987382642, -0.986104543168514, -1.3519580443585715, -0.5083949037028949, 0.13353367131213315, 1.5506299859612718, 1.9505639038149858, -0.7705912402790528, -0.4391406071376013, 0.5650849801554364, 1.5123108048927958, 0.636448335815444, -2.2168680667728067, -2.318010942782629, 0.45353352256243734, -0.6623239119257736, 0.11986676054689382, 0.23080282656672613, 0.41367844937413106, -0.21143650682977264, 1.2446827121060362, 1.028396540185957, -1.3786457457754224, 1.7924600457747268, 0.3781870678493866, -0.2378060839351198]}],\n",
       "                        {\"legend\": {\"bgcolor\": \"#F5F6F9\", \"font\": {\"color\": \"#4D5663\"}}, \"paper_bgcolor\": \"#F5F6F9\", \"plot_bgcolor\": \"#F5F6F9\", \"template\": {\"data\": {\"bar\": [{\"error_x\": {\"color\": \"#2a3f5f\"}, \"error_y\": {\"color\": \"#2a3f5f\"}, \"marker\": {\"line\": {\"color\": \"#E5ECF6\", \"width\": 0.5}}, \"type\": \"bar\"}], \"barpolar\": [{\"marker\": {\"line\": {\"color\": \"#E5ECF6\", \"width\": 0.5}}, \"type\": \"barpolar\"}], \"carpet\": [{\"aaxis\": {\"endlinecolor\": \"#2a3f5f\", \"gridcolor\": \"white\", \"linecolor\": \"white\", \"minorgridcolor\": \"white\", \"startlinecolor\": \"#2a3f5f\"}, \"baxis\": {\"endlinecolor\": \"#2a3f5f\", \"gridcolor\": \"white\", \"linecolor\": \"white\", \"minorgridcolor\": \"white\", \"startlinecolor\": \"#2a3f5f\"}, \"type\": \"carpet\"}], \"choropleth\": [{\"colorbar\": {\"outlinewidth\": 0, \"ticks\": \"\"}, \"type\": \"choropleth\"}], \"contour\": [{\"colorbar\": {\"outlinewidth\": 0, \"ticks\": \"\"}, \"colorscale\": [[0.0, \"#0d0887\"], [0.1111111111111111, \"#46039f\"], [0.2222222222222222, \"#7201a8\"], [0.3333333333333333, \"#9c179e\"], [0.4444444444444444, \"#bd3786\"], [0.5555555555555556, \"#d8576b\"], [0.6666666666666666, \"#ed7953\"], [0.7777777777777778, \"#fb9f3a\"], [0.8888888888888888, \"#fdca26\"], [1.0, \"#f0f921\"]], \"type\": \"contour\"}], \"contourcarpet\": [{\"colorbar\": {\"outlinewidth\": 0, \"ticks\": \"\"}, \"type\": \"contourcarpet\"}], \"heatmap\": [{\"colorbar\": {\"outlinewidth\": 0, \"ticks\": \"\"}, \"colorscale\": [[0.0, \"#0d0887\"], [0.1111111111111111, \"#46039f\"], [0.2222222222222222, \"#7201a8\"], [0.3333333333333333, \"#9c179e\"], [0.4444444444444444, \"#bd3786\"], [0.5555555555555556, \"#d8576b\"], [0.6666666666666666, \"#ed7953\"], [0.7777777777777778, \"#fb9f3a\"], [0.8888888888888888, \"#fdca26\"], [1.0, \"#f0f921\"]], \"type\": \"heatmap\"}], \"heatmapgl\": [{\"colorbar\": {\"outlinewidth\": 0, \"ticks\": \"\"}, \"colorscale\": [[0.0, \"#0d0887\"], [0.1111111111111111, \"#46039f\"], [0.2222222222222222, \"#7201a8\"], [0.3333333333333333, \"#9c179e\"], [0.4444444444444444, \"#bd3786\"], [0.5555555555555556, \"#d8576b\"], [0.6666666666666666, \"#ed7953\"], [0.7777777777777778, \"#fb9f3a\"], [0.8888888888888888, \"#fdca26\"], [1.0, \"#f0f921\"]], \"type\": \"heatmapgl\"}], \"histogram\": [{\"marker\": {\"colorbar\": {\"outlinewidth\": 0, \"ticks\": \"\"}}, \"type\": \"histogram\"}], \"histogram2d\": [{\"colorbar\": {\"outlinewidth\": 0, \"ticks\": \"\"}, \"colorscale\": [[0.0, \"#0d0887\"], [0.1111111111111111, \"#46039f\"], [0.2222222222222222, \"#7201a8\"], [0.3333333333333333, \"#9c179e\"], [0.4444444444444444, \"#bd3786\"], [0.5555555555555556, \"#d8576b\"], [0.6666666666666666, \"#ed7953\"], [0.7777777777777778, \"#fb9f3a\"], [0.8888888888888888, \"#fdca26\"], [1.0, \"#f0f921\"]], \"type\": \"histogram2d\"}], \"histogram2dcontour\": [{\"colorbar\": {\"outlinewidth\": 0, \"ticks\": \"\"}, \"colorscale\": [[0.0, \"#0d0887\"], [0.1111111111111111, \"#46039f\"], [0.2222222222222222, \"#7201a8\"], [0.3333333333333333, \"#9c179e\"], [0.4444444444444444, \"#bd3786\"], [0.5555555555555556, \"#d8576b\"], [0.6666666666666666, \"#ed7953\"], [0.7777777777777778, \"#fb9f3a\"], [0.8888888888888888, \"#fdca26\"], [1.0, \"#f0f921\"]], \"type\": \"histogram2dcontour\"}], \"mesh3d\": [{\"colorbar\": {\"outlinewidth\": 0, \"ticks\": \"\"}, \"type\": \"mesh3d\"}], \"parcoords\": [{\"line\": {\"colorbar\": {\"outlinewidth\": 0, \"ticks\": \"\"}}, \"type\": \"parcoords\"}], \"pie\": [{\"automargin\": true, \"type\": \"pie\"}], \"scatter\": [{\"marker\": {\"colorbar\": {\"outlinewidth\": 0, \"ticks\": \"\"}}, \"type\": \"scatter\"}], \"scatter3d\": [{\"line\": {\"colorbar\": {\"outlinewidth\": 0, \"ticks\": \"\"}}, \"marker\": {\"colorbar\": {\"outlinewidth\": 0, \"ticks\": \"\"}}, \"type\": \"scatter3d\"}], \"scattercarpet\": [{\"marker\": {\"colorbar\": {\"outlinewidth\": 0, \"ticks\": \"\"}}, \"type\": \"scattercarpet\"}], \"scattergeo\": [{\"marker\": {\"colorbar\": {\"outlinewidth\": 0, \"ticks\": \"\"}}, \"type\": \"scattergeo\"}], \"scattergl\": [{\"marker\": {\"colorbar\": {\"outlinewidth\": 0, \"ticks\": \"\"}}, \"type\": \"scattergl\"}], \"scattermapbox\": [{\"marker\": {\"colorbar\": {\"outlinewidth\": 0, \"ticks\": \"\"}}, \"type\": \"scattermapbox\"}], \"scatterpolar\": [{\"marker\": {\"colorbar\": {\"outlinewidth\": 0, \"ticks\": \"\"}}, \"type\": \"scatterpolar\"}], \"scatterpolargl\": [{\"marker\": {\"colorbar\": {\"outlinewidth\": 0, \"ticks\": \"\"}}, \"type\": \"scatterpolargl\"}], \"scatterternary\": [{\"marker\": {\"colorbar\": {\"outlinewidth\": 0, \"ticks\": \"\"}}, \"type\": \"scatterternary\"}], \"surface\": [{\"colorbar\": {\"outlinewidth\": 0, \"ticks\": \"\"}, \"colorscale\": [[0.0, \"#0d0887\"], [0.1111111111111111, \"#46039f\"], [0.2222222222222222, \"#7201a8\"], [0.3333333333333333, \"#9c179e\"], [0.4444444444444444, \"#bd3786\"], [0.5555555555555556, \"#d8576b\"], [0.6666666666666666, \"#ed7953\"], [0.7777777777777778, \"#fb9f3a\"], [0.8888888888888888, \"#fdca26\"], [1.0, \"#f0f921\"]], \"type\": \"surface\"}], \"table\": [{\"cells\": {\"fill\": {\"color\": \"#EBF0F8\"}, \"line\": {\"color\": \"white\"}}, \"header\": {\"fill\": {\"color\": \"#C8D4E3\"}, \"line\": {\"color\": \"white\"}}, \"type\": \"table\"}]}, \"layout\": {\"annotationdefaults\": {\"arrowcolor\": \"#2a3f5f\", \"arrowhead\": 0, \"arrowwidth\": 1}, \"coloraxis\": {\"colorbar\": {\"outlinewidth\": 0, \"ticks\": \"\"}}, \"colorscale\": {\"diverging\": [[0, \"#8e0152\"], [0.1, \"#c51b7d\"], [0.2, \"#de77ae\"], [0.3, \"#f1b6da\"], [0.4, \"#fde0ef\"], [0.5, \"#f7f7f7\"], [0.6, \"#e6f5d0\"], [0.7, \"#b8e186\"], [0.8, \"#7fbc41\"], [0.9, \"#4d9221\"], [1, \"#276419\"]], \"sequential\": [[0.0, \"#0d0887\"], [0.1111111111111111, \"#46039f\"], [0.2222222222222222, \"#7201a8\"], [0.3333333333333333, \"#9c179e\"], [0.4444444444444444, \"#bd3786\"], [0.5555555555555556, \"#d8576b\"], [0.6666666666666666, \"#ed7953\"], [0.7777777777777778, \"#fb9f3a\"], [0.8888888888888888, \"#fdca26\"], [1.0, \"#f0f921\"]], \"sequentialminus\": [[0.0, \"#0d0887\"], [0.1111111111111111, \"#46039f\"], [0.2222222222222222, \"#7201a8\"], [0.3333333333333333, \"#9c179e\"], [0.4444444444444444, \"#bd3786\"], [0.5555555555555556, \"#d8576b\"], [0.6666666666666666, \"#ed7953\"], [0.7777777777777778, \"#fb9f3a\"], [0.8888888888888888, \"#fdca26\"], [1.0, \"#f0f921\"]]}, \"colorway\": [\"#636efa\", \"#EF553B\", \"#00cc96\", \"#ab63fa\", \"#FFA15A\", \"#19d3f3\", \"#FF6692\", \"#B6E880\", \"#FF97FF\", \"#FECB52\"], \"font\": {\"color\": \"#2a3f5f\"}, \"geo\": {\"bgcolor\": \"white\", \"lakecolor\": \"white\", \"landcolor\": \"#E5ECF6\", \"showlakes\": true, \"showland\": true, \"subunitcolor\": \"white\"}, \"hoverlabel\": {\"align\": \"left\"}, \"hovermode\": \"closest\", \"mapbox\": {\"style\": \"light\"}, \"paper_bgcolor\": \"white\", \"plot_bgcolor\": \"#E5ECF6\", \"polar\": {\"angularaxis\": {\"gridcolor\": \"white\", \"linecolor\": \"white\", \"ticks\": \"\"}, \"bgcolor\": \"#E5ECF6\", \"radialaxis\": {\"gridcolor\": \"white\", \"linecolor\": \"white\", \"ticks\": \"\"}}, \"scene\": {\"xaxis\": {\"backgroundcolor\": \"#E5ECF6\", \"gridcolor\": \"white\", \"gridwidth\": 2, \"linecolor\": \"white\", \"showbackground\": true, \"ticks\": \"\", \"zerolinecolor\": \"white\"}, \"yaxis\": {\"backgroundcolor\": \"#E5ECF6\", \"gridcolor\": \"white\", \"gridwidth\": 2, \"linecolor\": \"white\", \"showbackground\": true, \"ticks\": \"\", \"zerolinecolor\": \"white\"}, \"zaxis\": {\"backgroundcolor\": \"#E5ECF6\", \"gridcolor\": \"white\", \"gridwidth\": 2, \"linecolor\": \"white\", \"showbackground\": true, \"ticks\": \"\", \"zerolinecolor\": \"white\"}}, \"shapedefaults\": {\"line\": {\"color\": \"#2a3f5f\"}}, \"ternary\": {\"aaxis\": {\"gridcolor\": \"white\", \"linecolor\": \"white\", \"ticks\": \"\"}, \"baxis\": {\"gridcolor\": \"white\", \"linecolor\": \"white\", \"ticks\": \"\"}, \"bgcolor\": \"#E5ECF6\", \"caxis\": {\"gridcolor\": \"white\", \"linecolor\": \"white\", \"ticks\": \"\"}}, \"title\": {\"x\": 0.05}, \"xaxis\": {\"automargin\": true, \"gridcolor\": \"white\", \"linecolor\": \"white\", \"ticks\": \"\", \"title\": {\"standoff\": 15}, \"zerolinecolor\": \"white\", \"zerolinewidth\": 2}, \"yaxis\": {\"automargin\": true, \"gridcolor\": \"white\", \"linecolor\": \"white\", \"ticks\": \"\", \"title\": {\"standoff\": 15}, \"zerolinecolor\": \"white\", \"zerolinewidth\": 2}}}, \"title\": {\"font\": {\"color\": \"#4D5663\"}}, \"xaxis\": {\"gridcolor\": \"#E1E5ED\", \"showgrid\": true, \"tickfont\": {\"color\": \"#4D5663\"}, \"title\": {\"font\": {\"color\": \"#4D5663\"}, \"text\": \"\"}, \"zerolinecolor\": \"#E1E5ED\"}, \"yaxis\": {\"gridcolor\": \"#E1E5ED\", \"showgrid\": true, \"tickfont\": {\"color\": \"#4D5663\"}, \"title\": {\"font\": {\"color\": \"#4D5663\"}, \"text\": \"\"}, \"zerolinecolor\": \"#E1E5ED\"}},\n",
       "                        {\"showLink\": true, \"linkText\": \"Export to plot.ly\", \"plotlyServerURL\": \"https://plot.ly\", \"responsive\": true}\n",
       "                    ).then(function(){\n",
       "                            \n",
       "var gd = document.getElementById('65e591a2-3404-45eb-ac94-c3aa70e782cd');\n",
       "var x = new MutationObserver(function (mutations, observer) {{\n",
       "        var display = window.getComputedStyle(gd).display;\n",
       "        if (!display || display === 'none') {{\n",
       "            console.log([gd, 'removed!']);\n",
       "            Plotly.purge(gd);\n",
       "            observer.disconnect();\n",
       "        }}\n",
       "}});\n",
       "\n",
       "// Listen for the removal of the full notebook cells\n",
       "var notebookContainer = gd.closest('#notebook-container');\n",
       "if (notebookContainer) {{\n",
       "    x.observe(notebookContainer, {childList: true});\n",
       "}}\n",
       "\n",
       "// Listen for the clearing of the current output cell\n",
       "var outputEl = gd.closest('.output');\n",
       "if (outputEl) {{\n",
       "    x.observe(outputEl, {childList: true});\n",
       "}}\n",
       "\n",
       "                        })\n",
       "                };\n",
       "                });\n",
       "            </script>\n",
       "        </div>"
      ]
     },
     "metadata": {},
     "output_type": "display_data"
    }
   ],
   "source": [
    "df.iplot(kind='box')"
   ]
  },
  {
   "cell_type": "markdown",
   "metadata": {},
   "source": [
    "## 3d Surface"
   ]
  },
  {
   "cell_type": "code",
   "execution_count": 13,
   "metadata": {},
   "outputs": [
    {
     "data": {
      "application/vnd.plotly.v1+json": {
       "config": {
        "linkText": "Export to plot.ly",
        "plotlyServerURL": "https://plot.ly",
        "showLink": true
       },
       "data": [
        {
         "colorscale": [
          [
           0,
           "rgb(165,0,38)"
          ],
          [
           0.1,
           "rgb(215,48,39)"
          ],
          [
           0.2,
           "rgb(244,109,67)"
          ],
          [
           0.3,
           "rgb(253,174,97)"
          ],
          [
           0.4,
           "rgb(254,224,144)"
          ],
          [
           0.5,
           "rgb(255,255,191)"
          ],
          [
           0.6,
           "rgb(224,243,248)"
          ],
          [
           0.7,
           "rgb(171,217,233)"
          ],
          [
           0.8,
           "rgb(116,173,209)"
          ],
          [
           0.9,
           "rgb(69,117,180)"
          ],
          [
           1,
           "rgb(49,54,149)"
          ]
         ],
         "type": "surface",
         "x": [
          0,
          1,
          2,
          3,
          4
         ],
         "y": [
          "x",
          "y",
          "z"
         ],
         "z": [
          [
           1,
           2,
           3,
           4,
           5
          ],
          [
           10,
           20,
           30,
           20,
           10
          ],
          [
           5,
           4,
           3,
           2,
           1
          ]
         ]
        }
       ],
       "layout": {
        "legend": {
         "bgcolor": "#F5F6F9",
         "font": {
          "color": "#4D5663"
         }
        },
        "paper_bgcolor": "#F5F6F9",
        "plot_bgcolor": "#F5F6F9",
        "template": {
         "data": {
          "bar": [
           {
            "error_x": {
             "color": "#2a3f5f"
            },
            "error_y": {
             "color": "#2a3f5f"
            },
            "marker": {
             "line": {
              "color": "#E5ECF6",
              "width": 0.5
             }
            },
            "type": "bar"
           }
          ],
          "barpolar": [
           {
            "marker": {
             "line": {
              "color": "#E5ECF6",
              "width": 0.5
             }
            },
            "type": "barpolar"
           }
          ],
          "carpet": [
           {
            "aaxis": {
             "endlinecolor": "#2a3f5f",
             "gridcolor": "white",
             "linecolor": "white",
             "minorgridcolor": "white",
             "startlinecolor": "#2a3f5f"
            },
            "baxis": {
             "endlinecolor": "#2a3f5f",
             "gridcolor": "white",
             "linecolor": "white",
             "minorgridcolor": "white",
             "startlinecolor": "#2a3f5f"
            },
            "type": "carpet"
           }
          ],
          "choropleth": [
           {
            "colorbar": {
             "outlinewidth": 0,
             "ticks": ""
            },
            "type": "choropleth"
           }
          ],
          "contour": [
           {
            "colorbar": {
             "outlinewidth": 0,
             "ticks": ""
            },
            "colorscale": [
             [
              0,
              "#0d0887"
             ],
             [
              0.1111111111111111,
              "#46039f"
             ],
             [
              0.2222222222222222,
              "#7201a8"
             ],
             [
              0.3333333333333333,
              "#9c179e"
             ],
             [
              0.4444444444444444,
              "#bd3786"
             ],
             [
              0.5555555555555556,
              "#d8576b"
             ],
             [
              0.6666666666666666,
              "#ed7953"
             ],
             [
              0.7777777777777778,
              "#fb9f3a"
             ],
             [
              0.8888888888888888,
              "#fdca26"
             ],
             [
              1,
              "#f0f921"
             ]
            ],
            "type": "contour"
           }
          ],
          "contourcarpet": [
           {
            "colorbar": {
             "outlinewidth": 0,
             "ticks": ""
            },
            "type": "contourcarpet"
           }
          ],
          "heatmap": [
           {
            "colorbar": {
             "outlinewidth": 0,
             "ticks": ""
            },
            "colorscale": [
             [
              0,
              "#0d0887"
             ],
             [
              0.1111111111111111,
              "#46039f"
             ],
             [
              0.2222222222222222,
              "#7201a8"
             ],
             [
              0.3333333333333333,
              "#9c179e"
             ],
             [
              0.4444444444444444,
              "#bd3786"
             ],
             [
              0.5555555555555556,
              "#d8576b"
             ],
             [
              0.6666666666666666,
              "#ed7953"
             ],
             [
              0.7777777777777778,
              "#fb9f3a"
             ],
             [
              0.8888888888888888,
              "#fdca26"
             ],
             [
              1,
              "#f0f921"
             ]
            ],
            "type": "heatmap"
           }
          ],
          "heatmapgl": [
           {
            "colorbar": {
             "outlinewidth": 0,
             "ticks": ""
            },
            "colorscale": [
             [
              0,
              "#0d0887"
             ],
             [
              0.1111111111111111,
              "#46039f"
             ],
             [
              0.2222222222222222,
              "#7201a8"
             ],
             [
              0.3333333333333333,
              "#9c179e"
             ],
             [
              0.4444444444444444,
              "#bd3786"
             ],
             [
              0.5555555555555556,
              "#d8576b"
             ],
             [
              0.6666666666666666,
              "#ed7953"
             ],
             [
              0.7777777777777778,
              "#fb9f3a"
             ],
             [
              0.8888888888888888,
              "#fdca26"
             ],
             [
              1,
              "#f0f921"
             ]
            ],
            "type": "heatmapgl"
           }
          ],
          "histogram": [
           {
            "marker": {
             "colorbar": {
              "outlinewidth": 0,
              "ticks": ""
             }
            },
            "type": "histogram"
           }
          ],
          "histogram2d": [
           {
            "colorbar": {
             "outlinewidth": 0,
             "ticks": ""
            },
            "colorscale": [
             [
              0,
              "#0d0887"
             ],
             [
              0.1111111111111111,
              "#46039f"
             ],
             [
              0.2222222222222222,
              "#7201a8"
             ],
             [
              0.3333333333333333,
              "#9c179e"
             ],
             [
              0.4444444444444444,
              "#bd3786"
             ],
             [
              0.5555555555555556,
              "#d8576b"
             ],
             [
              0.6666666666666666,
              "#ed7953"
             ],
             [
              0.7777777777777778,
              "#fb9f3a"
             ],
             [
              0.8888888888888888,
              "#fdca26"
             ],
             [
              1,
              "#f0f921"
             ]
            ],
            "type": "histogram2d"
           }
          ],
          "histogram2dcontour": [
           {
            "colorbar": {
             "outlinewidth": 0,
             "ticks": ""
            },
            "colorscale": [
             [
              0,
              "#0d0887"
             ],
             [
              0.1111111111111111,
              "#46039f"
             ],
             [
              0.2222222222222222,
              "#7201a8"
             ],
             [
              0.3333333333333333,
              "#9c179e"
             ],
             [
              0.4444444444444444,
              "#bd3786"
             ],
             [
              0.5555555555555556,
              "#d8576b"
             ],
             [
              0.6666666666666666,
              "#ed7953"
             ],
             [
              0.7777777777777778,
              "#fb9f3a"
             ],
             [
              0.8888888888888888,
              "#fdca26"
             ],
             [
              1,
              "#f0f921"
             ]
            ],
            "type": "histogram2dcontour"
           }
          ],
          "mesh3d": [
           {
            "colorbar": {
             "outlinewidth": 0,
             "ticks": ""
            },
            "type": "mesh3d"
           }
          ],
          "parcoords": [
           {
            "line": {
             "colorbar": {
              "outlinewidth": 0,
              "ticks": ""
             }
            },
            "type": "parcoords"
           }
          ],
          "pie": [
           {
            "automargin": true,
            "type": "pie"
           }
          ],
          "scatter": [
           {
            "marker": {
             "colorbar": {
              "outlinewidth": 0,
              "ticks": ""
             }
            },
            "type": "scatter"
           }
          ],
          "scatter3d": [
           {
            "line": {
             "colorbar": {
              "outlinewidth": 0,
              "ticks": ""
             }
            },
            "marker": {
             "colorbar": {
              "outlinewidth": 0,
              "ticks": ""
             }
            },
            "type": "scatter3d"
           }
          ],
          "scattercarpet": [
           {
            "marker": {
             "colorbar": {
              "outlinewidth": 0,
              "ticks": ""
             }
            },
            "type": "scattercarpet"
           }
          ],
          "scattergeo": [
           {
            "marker": {
             "colorbar": {
              "outlinewidth": 0,
              "ticks": ""
             }
            },
            "type": "scattergeo"
           }
          ],
          "scattergl": [
           {
            "marker": {
             "colorbar": {
              "outlinewidth": 0,
              "ticks": ""
             }
            },
            "type": "scattergl"
           }
          ],
          "scattermapbox": [
           {
            "marker": {
             "colorbar": {
              "outlinewidth": 0,
              "ticks": ""
             }
            },
            "type": "scattermapbox"
           }
          ],
          "scatterpolar": [
           {
            "marker": {
             "colorbar": {
              "outlinewidth": 0,
              "ticks": ""
             }
            },
            "type": "scatterpolar"
           }
          ],
          "scatterpolargl": [
           {
            "marker": {
             "colorbar": {
              "outlinewidth": 0,
              "ticks": ""
             }
            },
            "type": "scatterpolargl"
           }
          ],
          "scatterternary": [
           {
            "marker": {
             "colorbar": {
              "outlinewidth": 0,
              "ticks": ""
             }
            },
            "type": "scatterternary"
           }
          ],
          "surface": [
           {
            "colorbar": {
             "outlinewidth": 0,
             "ticks": ""
            },
            "colorscale": [
             [
              0,
              "#0d0887"
             ],
             [
              0.1111111111111111,
              "#46039f"
             ],
             [
              0.2222222222222222,
              "#7201a8"
             ],
             [
              0.3333333333333333,
              "#9c179e"
             ],
             [
              0.4444444444444444,
              "#bd3786"
             ],
             [
              0.5555555555555556,
              "#d8576b"
             ],
             [
              0.6666666666666666,
              "#ed7953"
             ],
             [
              0.7777777777777778,
              "#fb9f3a"
             ],
             [
              0.8888888888888888,
              "#fdca26"
             ],
             [
              1,
              "#f0f921"
             ]
            ],
            "type": "surface"
           }
          ],
          "table": [
           {
            "cells": {
             "fill": {
              "color": "#EBF0F8"
             },
             "line": {
              "color": "white"
             }
            },
            "header": {
             "fill": {
              "color": "#C8D4E3"
             },
             "line": {
              "color": "white"
             }
            },
            "type": "table"
           }
          ]
         },
         "layout": {
          "annotationdefaults": {
           "arrowcolor": "#2a3f5f",
           "arrowhead": 0,
           "arrowwidth": 1
          },
          "coloraxis": {
           "colorbar": {
            "outlinewidth": 0,
            "ticks": ""
           }
          },
          "colorscale": {
           "diverging": [
            [
             0,
             "#8e0152"
            ],
            [
             0.1,
             "#c51b7d"
            ],
            [
             0.2,
             "#de77ae"
            ],
            [
             0.3,
             "#f1b6da"
            ],
            [
             0.4,
             "#fde0ef"
            ],
            [
             0.5,
             "#f7f7f7"
            ],
            [
             0.6,
             "#e6f5d0"
            ],
            [
             0.7,
             "#b8e186"
            ],
            [
             0.8,
             "#7fbc41"
            ],
            [
             0.9,
             "#4d9221"
            ],
            [
             1,
             "#276419"
            ]
           ],
           "sequential": [
            [
             0,
             "#0d0887"
            ],
            [
             0.1111111111111111,
             "#46039f"
            ],
            [
             0.2222222222222222,
             "#7201a8"
            ],
            [
             0.3333333333333333,
             "#9c179e"
            ],
            [
             0.4444444444444444,
             "#bd3786"
            ],
            [
             0.5555555555555556,
             "#d8576b"
            ],
            [
             0.6666666666666666,
             "#ed7953"
            ],
            [
             0.7777777777777778,
             "#fb9f3a"
            ],
            [
             0.8888888888888888,
             "#fdca26"
            ],
            [
             1,
             "#f0f921"
            ]
           ],
           "sequentialminus": [
            [
             0,
             "#0d0887"
            ],
            [
             0.1111111111111111,
             "#46039f"
            ],
            [
             0.2222222222222222,
             "#7201a8"
            ],
            [
             0.3333333333333333,
             "#9c179e"
            ],
            [
             0.4444444444444444,
             "#bd3786"
            ],
            [
             0.5555555555555556,
             "#d8576b"
            ],
            [
             0.6666666666666666,
             "#ed7953"
            ],
            [
             0.7777777777777778,
             "#fb9f3a"
            ],
            [
             0.8888888888888888,
             "#fdca26"
            ],
            [
             1,
             "#f0f921"
            ]
           ]
          },
          "colorway": [
           "#636efa",
           "#EF553B",
           "#00cc96",
           "#ab63fa",
           "#FFA15A",
           "#19d3f3",
           "#FF6692",
           "#B6E880",
           "#FF97FF",
           "#FECB52"
          ],
          "font": {
           "color": "#2a3f5f"
          },
          "geo": {
           "bgcolor": "white",
           "lakecolor": "white",
           "landcolor": "#E5ECF6",
           "showlakes": true,
           "showland": true,
           "subunitcolor": "white"
          },
          "hoverlabel": {
           "align": "left"
          },
          "hovermode": "closest",
          "mapbox": {
           "style": "light"
          },
          "paper_bgcolor": "white",
          "plot_bgcolor": "#E5ECF6",
          "polar": {
           "angularaxis": {
            "gridcolor": "white",
            "linecolor": "white",
            "ticks": ""
           },
           "bgcolor": "#E5ECF6",
           "radialaxis": {
            "gridcolor": "white",
            "linecolor": "white",
            "ticks": ""
           }
          },
          "scene": {
           "xaxis": {
            "backgroundcolor": "#E5ECF6",
            "gridcolor": "white",
            "gridwidth": 2,
            "linecolor": "white",
            "showbackground": true,
            "ticks": "",
            "zerolinecolor": "white"
           },
           "yaxis": {
            "backgroundcolor": "#E5ECF6",
            "gridcolor": "white",
            "gridwidth": 2,
            "linecolor": "white",
            "showbackground": true,
            "ticks": "",
            "zerolinecolor": "white"
           },
           "zaxis": {
            "backgroundcolor": "#E5ECF6",
            "gridcolor": "white",
            "gridwidth": 2,
            "linecolor": "white",
            "showbackground": true,
            "ticks": "",
            "zerolinecolor": "white"
           }
          },
          "shapedefaults": {
           "line": {
            "color": "#2a3f5f"
           }
          },
          "ternary": {
           "aaxis": {
            "gridcolor": "white",
            "linecolor": "white",
            "ticks": ""
           },
           "baxis": {
            "gridcolor": "white",
            "linecolor": "white",
            "ticks": ""
           },
           "bgcolor": "#E5ECF6",
           "caxis": {
            "gridcolor": "white",
            "linecolor": "white",
            "ticks": ""
           }
          },
          "title": {
           "x": 0.05
          },
          "xaxis": {
           "automargin": true,
           "gridcolor": "white",
           "linecolor": "white",
           "ticks": "",
           "title": {
            "standoff": 15
           },
           "zerolinecolor": "white",
           "zerolinewidth": 2
          },
          "yaxis": {
           "automargin": true,
           "gridcolor": "white",
           "linecolor": "white",
           "ticks": "",
           "title": {
            "standoff": 15
           },
           "zerolinecolor": "white",
           "zerolinewidth": 2
          }
         }
        },
        "title": {
         "font": {
          "color": "#4D5663"
         }
        },
        "xaxis": {
         "gridcolor": "#E1E5ED",
         "showgrid": true,
         "tickfont": {
          "color": "#4D5663"
         },
         "title": {
          "font": {
           "color": "#4D5663"
          },
          "text": ""
         },
         "zerolinecolor": "#E1E5ED"
        },
        "yaxis": {
         "gridcolor": "#E1E5ED",
         "showgrid": true,
         "tickfont": {
          "color": "#4D5663"
         },
         "title": {
          "font": {
           "color": "#4D5663"
          },
          "text": ""
         },
         "zerolinecolor": "#E1E5ED"
        }
       }
      },
      "text/html": [
       "<div>\n",
       "        \n",
       "        \n",
       "            <div id=\"4af41814-71ec-4a1e-b14f-defe2351a31a\" class=\"plotly-graph-div\" style=\"height:525px; width:100%;\"></div>\n",
       "            <script type=\"text/javascript\">\n",
       "                require([\"plotly\"], function(Plotly) {\n",
       "                    window.PLOTLYENV=window.PLOTLYENV || {};\n",
       "                    window.PLOTLYENV.BASE_URL='https://plot.ly';\n",
       "                    \n",
       "                if (document.getElementById(\"4af41814-71ec-4a1e-b14f-defe2351a31a\")) {\n",
       "                    Plotly.newPlot(\n",
       "                        '4af41814-71ec-4a1e-b14f-defe2351a31a',\n",
       "                        [{\"colorscale\": [[0.0, \"rgb(165,0,38)\"], [0.1, \"rgb(215,48,39)\"], [0.2, \"rgb(244,109,67)\"], [0.3, \"rgb(253,174,97)\"], [0.4, \"rgb(254,224,144)\"], [0.5, \"rgb(255,255,191)\"], [0.6, \"rgb(224,243,248)\"], [0.7, \"rgb(171,217,233)\"], [0.8, \"rgb(116,173,209)\"], [0.9, \"rgb(69,117,180)\"], [1.0, \"rgb(49,54,149)\"]], \"type\": \"surface\", \"x\": [0, 1, 2, 3, 4], \"y\": [\"x\", \"y\", \"z\"], \"z\": [[1, 2, 3, 4, 5], [10, 20, 30, 20, 10], [5, 4, 3, 2, 1]]}],\n",
       "                        {\"legend\": {\"bgcolor\": \"#F5F6F9\", \"font\": {\"color\": \"#4D5663\"}}, \"paper_bgcolor\": \"#F5F6F9\", \"plot_bgcolor\": \"#F5F6F9\", \"template\": {\"data\": {\"bar\": [{\"error_x\": {\"color\": \"#2a3f5f\"}, \"error_y\": {\"color\": \"#2a3f5f\"}, \"marker\": {\"line\": {\"color\": \"#E5ECF6\", \"width\": 0.5}}, \"type\": \"bar\"}], \"barpolar\": [{\"marker\": {\"line\": {\"color\": \"#E5ECF6\", \"width\": 0.5}}, \"type\": \"barpolar\"}], \"carpet\": [{\"aaxis\": {\"endlinecolor\": \"#2a3f5f\", \"gridcolor\": \"white\", \"linecolor\": \"white\", \"minorgridcolor\": \"white\", \"startlinecolor\": \"#2a3f5f\"}, \"baxis\": {\"endlinecolor\": \"#2a3f5f\", \"gridcolor\": \"white\", \"linecolor\": \"white\", \"minorgridcolor\": \"white\", \"startlinecolor\": \"#2a3f5f\"}, \"type\": \"carpet\"}], \"choropleth\": [{\"colorbar\": {\"outlinewidth\": 0, \"ticks\": \"\"}, \"type\": \"choropleth\"}], \"contour\": [{\"colorbar\": {\"outlinewidth\": 0, \"ticks\": \"\"}, \"colorscale\": [[0.0, \"#0d0887\"], [0.1111111111111111, \"#46039f\"], [0.2222222222222222, \"#7201a8\"], [0.3333333333333333, \"#9c179e\"], [0.4444444444444444, \"#bd3786\"], [0.5555555555555556, \"#d8576b\"], [0.6666666666666666, \"#ed7953\"], [0.7777777777777778, \"#fb9f3a\"], [0.8888888888888888, \"#fdca26\"], [1.0, \"#f0f921\"]], \"type\": \"contour\"}], \"contourcarpet\": [{\"colorbar\": {\"outlinewidth\": 0, \"ticks\": \"\"}, \"type\": \"contourcarpet\"}], \"heatmap\": [{\"colorbar\": {\"outlinewidth\": 0, \"ticks\": \"\"}, \"colorscale\": [[0.0, \"#0d0887\"], [0.1111111111111111, \"#46039f\"], [0.2222222222222222, \"#7201a8\"], [0.3333333333333333, \"#9c179e\"], [0.4444444444444444, \"#bd3786\"], [0.5555555555555556, \"#d8576b\"], [0.6666666666666666, \"#ed7953\"], [0.7777777777777778, \"#fb9f3a\"], [0.8888888888888888, \"#fdca26\"], [1.0, \"#f0f921\"]], \"type\": \"heatmap\"}], \"heatmapgl\": [{\"colorbar\": {\"outlinewidth\": 0, \"ticks\": \"\"}, \"colorscale\": [[0.0, \"#0d0887\"], [0.1111111111111111, \"#46039f\"], [0.2222222222222222, \"#7201a8\"], [0.3333333333333333, \"#9c179e\"], [0.4444444444444444, \"#bd3786\"], [0.5555555555555556, \"#d8576b\"], [0.6666666666666666, \"#ed7953\"], [0.7777777777777778, \"#fb9f3a\"], [0.8888888888888888, \"#fdca26\"], [1.0, \"#f0f921\"]], \"type\": \"heatmapgl\"}], \"histogram\": [{\"marker\": {\"colorbar\": {\"outlinewidth\": 0, \"ticks\": \"\"}}, \"type\": \"histogram\"}], \"histogram2d\": [{\"colorbar\": {\"outlinewidth\": 0, \"ticks\": \"\"}, \"colorscale\": [[0.0, \"#0d0887\"], [0.1111111111111111, \"#46039f\"], [0.2222222222222222, \"#7201a8\"], [0.3333333333333333, \"#9c179e\"], [0.4444444444444444, \"#bd3786\"], [0.5555555555555556, \"#d8576b\"], [0.6666666666666666, \"#ed7953\"], [0.7777777777777778, \"#fb9f3a\"], [0.8888888888888888, \"#fdca26\"], [1.0, \"#f0f921\"]], \"type\": \"histogram2d\"}], \"histogram2dcontour\": [{\"colorbar\": {\"outlinewidth\": 0, \"ticks\": \"\"}, \"colorscale\": [[0.0, \"#0d0887\"], [0.1111111111111111, \"#46039f\"], [0.2222222222222222, \"#7201a8\"], [0.3333333333333333, \"#9c179e\"], [0.4444444444444444, \"#bd3786\"], [0.5555555555555556, \"#d8576b\"], [0.6666666666666666, \"#ed7953\"], [0.7777777777777778, \"#fb9f3a\"], [0.8888888888888888, \"#fdca26\"], [1.0, \"#f0f921\"]], \"type\": \"histogram2dcontour\"}], \"mesh3d\": [{\"colorbar\": {\"outlinewidth\": 0, \"ticks\": \"\"}, \"type\": \"mesh3d\"}], \"parcoords\": [{\"line\": {\"colorbar\": {\"outlinewidth\": 0, \"ticks\": \"\"}}, \"type\": \"parcoords\"}], \"pie\": [{\"automargin\": true, \"type\": \"pie\"}], \"scatter\": [{\"marker\": {\"colorbar\": {\"outlinewidth\": 0, \"ticks\": \"\"}}, \"type\": \"scatter\"}], \"scatter3d\": [{\"line\": {\"colorbar\": {\"outlinewidth\": 0, \"ticks\": \"\"}}, \"marker\": {\"colorbar\": {\"outlinewidth\": 0, \"ticks\": \"\"}}, \"type\": \"scatter3d\"}], \"scattercarpet\": [{\"marker\": {\"colorbar\": {\"outlinewidth\": 0, \"ticks\": \"\"}}, \"type\": \"scattercarpet\"}], \"scattergeo\": [{\"marker\": {\"colorbar\": {\"outlinewidth\": 0, \"ticks\": \"\"}}, \"type\": \"scattergeo\"}], \"scattergl\": [{\"marker\": {\"colorbar\": {\"outlinewidth\": 0, \"ticks\": \"\"}}, \"type\": \"scattergl\"}], \"scattermapbox\": [{\"marker\": {\"colorbar\": {\"outlinewidth\": 0, \"ticks\": \"\"}}, \"type\": \"scattermapbox\"}], \"scatterpolar\": [{\"marker\": {\"colorbar\": {\"outlinewidth\": 0, \"ticks\": \"\"}}, \"type\": \"scatterpolar\"}], \"scatterpolargl\": [{\"marker\": {\"colorbar\": {\"outlinewidth\": 0, \"ticks\": \"\"}}, \"type\": \"scatterpolargl\"}], \"scatterternary\": [{\"marker\": {\"colorbar\": {\"outlinewidth\": 0, \"ticks\": \"\"}}, \"type\": \"scatterternary\"}], \"surface\": [{\"colorbar\": {\"outlinewidth\": 0, \"ticks\": \"\"}, \"colorscale\": [[0.0, \"#0d0887\"], [0.1111111111111111, \"#46039f\"], [0.2222222222222222, \"#7201a8\"], [0.3333333333333333, \"#9c179e\"], [0.4444444444444444, \"#bd3786\"], [0.5555555555555556, \"#d8576b\"], [0.6666666666666666, \"#ed7953\"], [0.7777777777777778, \"#fb9f3a\"], [0.8888888888888888, \"#fdca26\"], [1.0, \"#f0f921\"]], \"type\": \"surface\"}], \"table\": [{\"cells\": {\"fill\": {\"color\": \"#EBF0F8\"}, \"line\": {\"color\": \"white\"}}, \"header\": {\"fill\": {\"color\": \"#C8D4E3\"}, \"line\": {\"color\": \"white\"}}, \"type\": \"table\"}]}, \"layout\": {\"annotationdefaults\": {\"arrowcolor\": \"#2a3f5f\", \"arrowhead\": 0, \"arrowwidth\": 1}, \"coloraxis\": {\"colorbar\": {\"outlinewidth\": 0, \"ticks\": \"\"}}, \"colorscale\": {\"diverging\": [[0, \"#8e0152\"], [0.1, \"#c51b7d\"], [0.2, \"#de77ae\"], [0.3, \"#f1b6da\"], [0.4, \"#fde0ef\"], [0.5, \"#f7f7f7\"], [0.6, \"#e6f5d0\"], [0.7, \"#b8e186\"], [0.8, \"#7fbc41\"], [0.9, \"#4d9221\"], [1, \"#276419\"]], \"sequential\": [[0.0, \"#0d0887\"], [0.1111111111111111, \"#46039f\"], [0.2222222222222222, \"#7201a8\"], [0.3333333333333333, \"#9c179e\"], [0.4444444444444444, \"#bd3786\"], [0.5555555555555556, \"#d8576b\"], [0.6666666666666666, \"#ed7953\"], [0.7777777777777778, \"#fb9f3a\"], [0.8888888888888888, \"#fdca26\"], [1.0, \"#f0f921\"]], \"sequentialminus\": [[0.0, \"#0d0887\"], [0.1111111111111111, \"#46039f\"], [0.2222222222222222, \"#7201a8\"], [0.3333333333333333, \"#9c179e\"], [0.4444444444444444, \"#bd3786\"], [0.5555555555555556, \"#d8576b\"], [0.6666666666666666, \"#ed7953\"], [0.7777777777777778, \"#fb9f3a\"], [0.8888888888888888, \"#fdca26\"], [1.0, \"#f0f921\"]]}, \"colorway\": [\"#636efa\", \"#EF553B\", \"#00cc96\", \"#ab63fa\", \"#FFA15A\", \"#19d3f3\", \"#FF6692\", \"#B6E880\", \"#FF97FF\", \"#FECB52\"], \"font\": {\"color\": \"#2a3f5f\"}, \"geo\": {\"bgcolor\": \"white\", \"lakecolor\": \"white\", \"landcolor\": \"#E5ECF6\", \"showlakes\": true, \"showland\": true, \"subunitcolor\": \"white\"}, \"hoverlabel\": {\"align\": \"left\"}, \"hovermode\": \"closest\", \"mapbox\": {\"style\": \"light\"}, \"paper_bgcolor\": \"white\", \"plot_bgcolor\": \"#E5ECF6\", \"polar\": {\"angularaxis\": {\"gridcolor\": \"white\", \"linecolor\": \"white\", \"ticks\": \"\"}, \"bgcolor\": \"#E5ECF6\", \"radialaxis\": {\"gridcolor\": \"white\", \"linecolor\": \"white\", \"ticks\": \"\"}}, \"scene\": {\"xaxis\": {\"backgroundcolor\": \"#E5ECF6\", \"gridcolor\": \"white\", \"gridwidth\": 2, \"linecolor\": \"white\", \"showbackground\": true, \"ticks\": \"\", \"zerolinecolor\": \"white\"}, \"yaxis\": {\"backgroundcolor\": \"#E5ECF6\", \"gridcolor\": \"white\", \"gridwidth\": 2, \"linecolor\": \"white\", \"showbackground\": true, \"ticks\": \"\", \"zerolinecolor\": \"white\"}, \"zaxis\": {\"backgroundcolor\": \"#E5ECF6\", \"gridcolor\": \"white\", \"gridwidth\": 2, \"linecolor\": \"white\", \"showbackground\": true, \"ticks\": \"\", \"zerolinecolor\": \"white\"}}, \"shapedefaults\": {\"line\": {\"color\": \"#2a3f5f\"}}, \"ternary\": {\"aaxis\": {\"gridcolor\": \"white\", \"linecolor\": \"white\", \"ticks\": \"\"}, \"baxis\": {\"gridcolor\": \"white\", \"linecolor\": \"white\", \"ticks\": \"\"}, \"bgcolor\": \"#E5ECF6\", \"caxis\": {\"gridcolor\": \"white\", \"linecolor\": \"white\", \"ticks\": \"\"}}, \"title\": {\"x\": 0.05}, \"xaxis\": {\"automargin\": true, \"gridcolor\": \"white\", \"linecolor\": \"white\", \"ticks\": \"\", \"title\": {\"standoff\": 15}, \"zerolinecolor\": \"white\", \"zerolinewidth\": 2}, \"yaxis\": {\"automargin\": true, \"gridcolor\": \"white\", \"linecolor\": \"white\", \"ticks\": \"\", \"title\": {\"standoff\": 15}, \"zerolinecolor\": \"white\", \"zerolinewidth\": 2}}}, \"title\": {\"font\": {\"color\": \"#4D5663\"}}, \"xaxis\": {\"gridcolor\": \"#E1E5ED\", \"showgrid\": true, \"tickfont\": {\"color\": \"#4D5663\"}, \"title\": {\"font\": {\"color\": \"#4D5663\"}, \"text\": \"\"}, \"zerolinecolor\": \"#E1E5ED\"}, \"yaxis\": {\"gridcolor\": \"#E1E5ED\", \"showgrid\": true, \"tickfont\": {\"color\": \"#4D5663\"}, \"title\": {\"font\": {\"color\": \"#4D5663\"}, \"text\": \"\"}, \"zerolinecolor\": \"#E1E5ED\"}},\n",
       "                        {\"showLink\": true, \"linkText\": \"Export to plot.ly\", \"plotlyServerURL\": \"https://plot.ly\", \"responsive\": true}\n",
       "                    ).then(function(){\n",
       "                            \n",
       "var gd = document.getElementById('4af41814-71ec-4a1e-b14f-defe2351a31a');\n",
       "var x = new MutationObserver(function (mutations, observer) {{\n",
       "        var display = window.getComputedStyle(gd).display;\n",
       "        if (!display || display === 'none') {{\n",
       "            console.log([gd, 'removed!']);\n",
       "            Plotly.purge(gd);\n",
       "            observer.disconnect();\n",
       "        }}\n",
       "}});\n",
       "\n",
       "// Listen for the removal of the full notebook cells\n",
       "var notebookContainer = gd.closest('#notebook-container');\n",
       "if (notebookContainer) {{\n",
       "    x.observe(notebookContainer, {childList: true});\n",
       "}}\n",
       "\n",
       "// Listen for the clearing of the current output cell\n",
       "var outputEl = gd.closest('.output');\n",
       "if (outputEl) {{\n",
       "    x.observe(outputEl, {childList: true});\n",
       "}}\n",
       "\n",
       "                        })\n",
       "                };\n",
       "                });\n",
       "            </script>\n",
       "        </div>"
      ]
     },
     "metadata": {},
     "output_type": "display_data"
    }
   ],
   "source": [
    "df3 = pd.DataFrame({'x':[1,2,3,4,5],'y':[10,20,30,20,10],'z':[5,4,3,2,1]})\n",
    "df3.iplot(kind='surface',colorscale='rdylbu')"
   ]
  },
  {
   "cell_type": "markdown",
   "metadata": {},
   "source": [
    "## Spread"
   ]
  },
  {
   "cell_type": "code",
   "execution_count": 14,
   "metadata": {},
   "outputs": [
    {
     "data": {
      "application/vnd.plotly.v1+json": {
       "config": {
        "linkText": "Export to plot.ly",
        "plotlyServerURL": "https://plot.ly",
        "showLink": true
       },
       "data": [
        {
         "line": {
          "color": "rgba(255, 153, 51, 1.0)",
          "dash": "solid",
          "shape": "linear",
          "width": 1.3
         },
         "mode": "lines",
         "name": "A",
         "text": "",
         "type": "scatter",
         "x": [
          0,
          1,
          2,
          3,
          4,
          5,
          6,
          7,
          8,
          9,
          10,
          11,
          12,
          13,
          14,
          15,
          16,
          17,
          18,
          19,
          20,
          21,
          22,
          23,
          24,
          25,
          26,
          27,
          28,
          29,
          30,
          31,
          32,
          33,
          34,
          35,
          36,
          37,
          38,
          39,
          40,
          41,
          42,
          43,
          44,
          45,
          46,
          47,
          48,
          49,
          50,
          51,
          52,
          53,
          54,
          55,
          56,
          57,
          58,
          59,
          60,
          61,
          62,
          63,
          64,
          65,
          66,
          67,
          68,
          69,
          70,
          71,
          72,
          73,
          74,
          75,
          76,
          77,
          78,
          79,
          80,
          81,
          82,
          83,
          84,
          85,
          86,
          87,
          88,
          89,
          90,
          91,
          92,
          93,
          94,
          95,
          96,
          97,
          98,
          99
         ],
         "y": [
          0.1206249701213706,
          0.49852343433333973,
          -1.3695553399502158,
          -1.7170528179870115,
          0.27324678432871136,
          -1.9470279113703413,
          -2.4483751648331227,
          2.333309249201956,
          -0.5121449809204915,
          0.12969221850822205,
          -0.6446330133850526,
          -0.7218087032598325,
          0.2656459530596007,
          -0.6601432489749915,
          1.095736886907146,
          -1.6081513991361676,
          -1.4711849425270092,
          -0.33015331325706504,
          2.0632132636067553,
          -0.27152117257142605,
          2.165183144756075,
          0.39182424403697896,
          0.19242497695043612,
          1.8579756132373373,
          -0.704147910019082,
          0.31985241358400507,
          3.2019984010748974,
          2.708493171628477,
          -0.8149582531644922,
          -0.6898431778469533,
          0.651341556525695,
          -1.15691281185948,
          0.5246347278944932,
          -0.013981722891419775,
          -0.45936999170141557,
          -0.9159335479923458,
          -0.41459056313818277,
          -1.152026965541066,
          0.7840720688654675,
          1.1711501936861313,
          2.8521190888211465,
          -0.24597651131725998,
          -0.5829420533728855,
          0.7560144769434166,
          0.18968195609462685,
          0.13975579709874156,
          -1.6288501016314474,
          -0.4207530522827984,
          0.27123940444038525,
          -0.40464482028266757,
          0.822839968676394,
          -0.5198717202635307,
          0.3492249557431336,
          -0.17654616410502988,
          -1.6242058314635195,
          0.5721763537313155,
          -0.782036216071513,
          0.23630964755269812,
          -0.5523086810647195,
          1.189118061813389,
          -0.769864654950212,
          0.8102943569511241,
          0.8277296824869714,
          1.3016116314975992,
          -1.6604476247983335,
          0.16636825426915391,
          -1.7601388874575197,
          0.8429652247550539,
          0.13641566927538096,
          0.8268913034982536,
          -0.6806238318448029,
          -0.943008434928968,
          0.5744194922192287,
          1.049889178412392,
          -0.31619961369343846,
          -0.8045301447010839,
          1.097732124163626,
          -1.4137201680366165,
          1.3008194488492095,
          -0.3804980351537032,
          1.234911257258786,
          0.9526409782109593,
          -0.21399781745464025,
          -0.7150615051321568,
          0.06518789533903417,
          -0.0014750191727604316,
          -0.7748752618691193,
          -1.0300167525228836,
          1.5485009452858873,
          0.8947138295198088,
          0.7452701013110108,
          0.5509705642248981,
          -0.12540225234218974,
          -1.5306440021233014,
          -1.9286582817432802,
          -0.6594991082590205,
          0.6744555298437124,
          -0.3298273188790175,
          0.681874032005342,
          -0.23528992937710205
         ]
        },
        {
         "line": {
          "color": "rgba(55, 128, 191, 1.0)",
          "dash": "solid",
          "shape": "linear",
          "width": 1.3
         },
         "mode": "lines",
         "name": "B",
         "text": "",
         "type": "scatter",
         "x": [
          0,
          1,
          2,
          3,
          4,
          5,
          6,
          7,
          8,
          9,
          10,
          11,
          12,
          13,
          14,
          15,
          16,
          17,
          18,
          19,
          20,
          21,
          22,
          23,
          24,
          25,
          26,
          27,
          28,
          29,
          30,
          31,
          32,
          33,
          34,
          35,
          36,
          37,
          38,
          39,
          40,
          41,
          42,
          43,
          44,
          45,
          46,
          47,
          48,
          49,
          50,
          51,
          52,
          53,
          54,
          55,
          56,
          57,
          58,
          59,
          60,
          61,
          62,
          63,
          64,
          65,
          66,
          67,
          68,
          69,
          70,
          71,
          72,
          73,
          74,
          75,
          76,
          77,
          78,
          79,
          80,
          81,
          82,
          83,
          84,
          85,
          86,
          87,
          88,
          89,
          90,
          91,
          92,
          93,
          94,
          95,
          96,
          97,
          98,
          99
         ],
         "y": [
          1.7644200206191962,
          -0.30576255159833926,
          0.48591216870055987,
          0.7985155071177396,
          -0.14876872605666622,
          -0.8622242683700565,
          0.1363141020244147,
          -0.7260451911673562,
          2.073816753478071,
          -0.43898713716167187,
          0.33691258903617394,
          -0.05977193298366424,
          -0.8227901853712595,
          -0.8323746630428965,
          0.11095605377397717,
          0.6454186407784175,
          -0.5617872893626544,
          -0.4110696787509862,
          0.412153074799562,
          1.0155778406138107,
          0.9303310600055554,
          0.44839861289213107,
          0.25060701266456337,
          -0.6200811509285393,
          -0.36400150881228605,
          -0.7812423279375649,
          2.7449130955233194,
          1.0482475424867093,
          0.4080247242022707,
          0.030117620479940908,
          0.6109744191377052,
          0.7051984383646073,
          0.550232781652086,
          0.22880534813358577,
          -1.1564235529442963,
          -0.8260709362775998,
          1.285516241637799,
          -1.0204578541625269,
          0.6873614732322731,
          0.9291586945660607,
          -0.9964508041363669,
          -1.1456252019685773,
          0.41945494135951766,
          0.5018426975736096,
          0.7857702165301329,
          -0.09848632547303204,
          -0.6588981067399119,
          1.1853881697458184,
          1.3013098324717234,
          -0.6901871629828826,
          1.5706311752726443,
          0.35375661865285923,
          -1.7730555476594445,
          0.1404389261610056,
          0.2800682200551832,
          0.09641204971271065,
          1.5947658424754458,
          -0.9085732689692162,
          -0.19971973896539877,
          -0.29538487952431997,
          -0.16782616148221235,
          -0.22318964705705444,
          -1.1872048056031284,
          0.6447368621613021,
          0.011365501551874865,
          1.4270433489524255,
          2.3503140280491395,
          1.3962528943379109,
          0.7244555209068144,
          -0.465532477546086,
          1.28244991571956,
          0.19457895804176906,
          1.6799624327556104,
          1.119688007459729,
          -1.6574546810221313,
          0.19306786021194244,
          -0.3805407112775789,
          0.8237696600063881,
          1.6242052320141758,
          0.40698880308051666,
          -0.6972818731596732,
          1.711150635837316,
          -0.4245327195817335,
          -0.20296865094415448,
          0.27848558727482353,
          -0.07798204924120888,
          -1.3626214176056117,
          0.7426308471042079,
          0.11623335626503752,
          -0.29613174978263107,
          -0.982863194027543,
          -0.796878071956125,
          -0.4549314438785417,
          -0.19493574595397817,
          -0.7581093396617404,
          -0.7753823819206512,
          -0.17383535358302876,
          -0.05555904455453927,
          0.6506547474934091,
          -1.1733039608928564
         ]
        },
        {
         "connectgaps": false,
         "fill": "tozeroy",
         "line": {
          "color": "green",
          "dash": "solid",
          "shape": "linear",
          "width": 0.5
         },
         "mode": "lines",
         "name": "Spread",
         "showlegend": false,
         "type": "scatter",
         "x": [
          0,
          1,
          2,
          3,
          4,
          5,
          6,
          7,
          8,
          9,
          10,
          11,
          12,
          13,
          14,
          15,
          16,
          17,
          18,
          19,
          20,
          21,
          22,
          23,
          24,
          25,
          26,
          27,
          28,
          29,
          30,
          31,
          32,
          33,
          34,
          35,
          36,
          37,
          38,
          39,
          40,
          41,
          42,
          43,
          44,
          45,
          46,
          47,
          48,
          49,
          50,
          51,
          52,
          53,
          54,
          55,
          56,
          57,
          58,
          59,
          60,
          61,
          62,
          63,
          64,
          65,
          66,
          67,
          68,
          69,
          70,
          71,
          72,
          73,
          74,
          75,
          76,
          77,
          78,
          79,
          80,
          81,
          82,
          83,
          84,
          85,
          86,
          87,
          88,
          89,
          90,
          91,
          92,
          93,
          94,
          95,
          96,
          97,
          98,
          99
         ],
         "xaxis": "x2",
         "y": [
          "",
          0.804285985931679,
          "",
          "",
          0.42201551038537755,
          "",
          "",
          3.059354440369312,
          "",
          0.5686793556698939,
          "",
          "",
          1.0884361384308603,
          0.172231414067905,
          0.9847808331331688,
          "",
          "",
          0.08091636549392117,
          1.6510601888071932,
          "",
          1.2348520847505196,
          "",
          "",
          2.478056764165877,
          "",
          1.10109474152157,
          0.457085305551578,
          1.6602456291417678,
          "",
          "",
          0.040367137387989804,
          "",
          "",
          "",
          0.6970535612428808,
          "",
          "",
          "",
          0.0967105956331944,
          0.24199149912007056,
          3.8485698929575136,
          0.8996486906513174,
          "",
          0.25417177936980706,
          "",
          0.2382421225717736,
          "",
          "",
          "",
          0.28554234270021506,
          "",
          "",
          2.1222805034025782,
          "",
          "",
          0.4757643040186048,
          "",
          1.1448829165219143,
          "",
          1.4845029413377089,
          "",
          1.0334840040081785,
          2.0149344880900997,
          0.6568747693362971,
          "",
          "",
          "",
          "",
          "",
          1.2924237810443395,
          "",
          "",
          "",
          "",
          1.341255067328693,
          "",
          1.478272835441205,
          "",
          "",
          "",
          1.932193130418459,
          "",
          0.21053490212709325,
          "",
          "",
          0.07650703006844846,
          0.5877461557364925,
          "",
          1.4322675890208498,
          1.19084557930244,
          1.7281332953385538,
          1.3478486361810231,
          0.32952919153635196,
          "",
          "",
          0.11588327366163076,
          0.8482908834267411,
          "",
          0.0312192845119329,
          0.9380140315157544
         ],
         "yaxis": "y2"
        },
        {
         "connectgaps": false,
         "fill": "tozeroy",
         "line": {
          "color": "red",
          "dash": "solid",
          "shape": "linear",
          "width": 0.5
         },
         "mode": "lines",
         "name": "Spread",
         "showlegend": false,
         "type": "scatter",
         "x": [
          0,
          1,
          2,
          3,
          4,
          5,
          6,
          7,
          8,
          9,
          10,
          11,
          12,
          13,
          14,
          15,
          16,
          17,
          18,
          19,
          20,
          21,
          22,
          23,
          24,
          25,
          26,
          27,
          28,
          29,
          30,
          31,
          32,
          33,
          34,
          35,
          36,
          37,
          38,
          39,
          40,
          41,
          42,
          43,
          44,
          45,
          46,
          47,
          48,
          49,
          50,
          51,
          52,
          53,
          54,
          55,
          56,
          57,
          58,
          59,
          60,
          61,
          62,
          63,
          64,
          65,
          66,
          67,
          68,
          69,
          70,
          71,
          72,
          73,
          74,
          75,
          76,
          77,
          78,
          79,
          80,
          81,
          82,
          83,
          84,
          85,
          86,
          87,
          88,
          89,
          90,
          91,
          92,
          93,
          94,
          95,
          96,
          97,
          98,
          99
         ],
         "xaxis": "x2",
         "y": [
          -1.6437950504978256,
          "",
          -1.8554675086507757,
          -2.515568325104751,
          "",
          -1.0848036430002848,
          -2.5846892668575374,
          "",
          -2.5859617343985626,
          "",
          -0.9815456024212266,
          -0.6620367702761683,
          "",
          "",
          "",
          -2.2535700399145853,
          -0.9093976531643547,
          "",
          "",
          -1.287099013185237,
          "",
          -0.0565743688551521,
          -0.05818203571412725,
          "",
          -0.3401464012067959,
          "",
          "",
          "",
          -1.2229829773667629,
          -0.7199607983268942,
          "",
          -1.8621112502240873,
          -0.02559805375759283,
          -0.24278707102500555,
          "",
          -0.08986261171474608,
          -1.7001068047759818,
          -0.1315691113785391,
          "",
          "",
          "",
          "",
          -1.0023969947324032,
          "",
          -0.596088260435506,
          "",
          -0.9699519948915355,
          -1.6061412220286169,
          -1.0300704280313382,
          "",
          -0.7477912065962503,
          -0.8736283389163899,
          "",
          -0.3169850902660355,
          -1.9042740515187027,
          "",
          -2.376802058546959,
          "",
          -0.3525889420993208,
          "",
          -0.6020384934679996,
          "",
          "",
          "",
          -1.6718131263502083,
          -1.2606750946832714,
          -4.110452915506659,
          -0.553287669582857,
          -0.5880398516314335,
          "",
          -1.963073747564363,
          -1.1375873929707372,
          -1.1055429405363817,
          -0.06979882904733703,
          "",
          -0.9975980049130263,
          "",
          -2.2374898280430044,
          -0.32338578316496625,
          -0.7874868382342198,
          "",
          -0.7585096576263568,
          "",
          -0.5120928541880023,
          -0.21329769193578935,
          "",
          "",
          -1.7726475996270916,
          "",
          "",
          "",
          "",
          "",
          -1.3357082561693232,
          -1.1705489420815398,
          "",
          "",
          -0.27426827432447826,
          "",
          ""
         ],
         "yaxis": "y2"
        }
       ],
       "layout": {
        "hovermode": "x",
        "legend": {
         "bgcolor": "#F5F6F9",
         "font": {
          "color": "#4D5663"
         }
        },
        "paper_bgcolor": "#F5F6F9",
        "plot_bgcolor": "#F5F6F9",
        "template": {
         "data": {
          "bar": [
           {
            "error_x": {
             "color": "#2a3f5f"
            },
            "error_y": {
             "color": "#2a3f5f"
            },
            "marker": {
             "line": {
              "color": "#E5ECF6",
              "width": 0.5
             }
            },
            "type": "bar"
           }
          ],
          "barpolar": [
           {
            "marker": {
             "line": {
              "color": "#E5ECF6",
              "width": 0.5
             }
            },
            "type": "barpolar"
           }
          ],
          "carpet": [
           {
            "aaxis": {
             "endlinecolor": "#2a3f5f",
             "gridcolor": "white",
             "linecolor": "white",
             "minorgridcolor": "white",
             "startlinecolor": "#2a3f5f"
            },
            "baxis": {
             "endlinecolor": "#2a3f5f",
             "gridcolor": "white",
             "linecolor": "white",
             "minorgridcolor": "white",
             "startlinecolor": "#2a3f5f"
            },
            "type": "carpet"
           }
          ],
          "choropleth": [
           {
            "colorbar": {
             "outlinewidth": 0,
             "ticks": ""
            },
            "type": "choropleth"
           }
          ],
          "contour": [
           {
            "colorbar": {
             "outlinewidth": 0,
             "ticks": ""
            },
            "colorscale": [
             [
              0,
              "#0d0887"
             ],
             [
              0.1111111111111111,
              "#46039f"
             ],
             [
              0.2222222222222222,
              "#7201a8"
             ],
             [
              0.3333333333333333,
              "#9c179e"
             ],
             [
              0.4444444444444444,
              "#bd3786"
             ],
             [
              0.5555555555555556,
              "#d8576b"
             ],
             [
              0.6666666666666666,
              "#ed7953"
             ],
             [
              0.7777777777777778,
              "#fb9f3a"
             ],
             [
              0.8888888888888888,
              "#fdca26"
             ],
             [
              1,
              "#f0f921"
             ]
            ],
            "type": "contour"
           }
          ],
          "contourcarpet": [
           {
            "colorbar": {
             "outlinewidth": 0,
             "ticks": ""
            },
            "type": "contourcarpet"
           }
          ],
          "heatmap": [
           {
            "colorbar": {
             "outlinewidth": 0,
             "ticks": ""
            },
            "colorscale": [
             [
              0,
              "#0d0887"
             ],
             [
              0.1111111111111111,
              "#46039f"
             ],
             [
              0.2222222222222222,
              "#7201a8"
             ],
             [
              0.3333333333333333,
              "#9c179e"
             ],
             [
              0.4444444444444444,
              "#bd3786"
             ],
             [
              0.5555555555555556,
              "#d8576b"
             ],
             [
              0.6666666666666666,
              "#ed7953"
             ],
             [
              0.7777777777777778,
              "#fb9f3a"
             ],
             [
              0.8888888888888888,
              "#fdca26"
             ],
             [
              1,
              "#f0f921"
             ]
            ],
            "type": "heatmap"
           }
          ],
          "heatmapgl": [
           {
            "colorbar": {
             "outlinewidth": 0,
             "ticks": ""
            },
            "colorscale": [
             [
              0,
              "#0d0887"
             ],
             [
              0.1111111111111111,
              "#46039f"
             ],
             [
              0.2222222222222222,
              "#7201a8"
             ],
             [
              0.3333333333333333,
              "#9c179e"
             ],
             [
              0.4444444444444444,
              "#bd3786"
             ],
             [
              0.5555555555555556,
              "#d8576b"
             ],
             [
              0.6666666666666666,
              "#ed7953"
             ],
             [
              0.7777777777777778,
              "#fb9f3a"
             ],
             [
              0.8888888888888888,
              "#fdca26"
             ],
             [
              1,
              "#f0f921"
             ]
            ],
            "type": "heatmapgl"
           }
          ],
          "histogram": [
           {
            "marker": {
             "colorbar": {
              "outlinewidth": 0,
              "ticks": ""
             }
            },
            "type": "histogram"
           }
          ],
          "histogram2d": [
           {
            "colorbar": {
             "outlinewidth": 0,
             "ticks": ""
            },
            "colorscale": [
             [
              0,
              "#0d0887"
             ],
             [
              0.1111111111111111,
              "#46039f"
             ],
             [
              0.2222222222222222,
              "#7201a8"
             ],
             [
              0.3333333333333333,
              "#9c179e"
             ],
             [
              0.4444444444444444,
              "#bd3786"
             ],
             [
              0.5555555555555556,
              "#d8576b"
             ],
             [
              0.6666666666666666,
              "#ed7953"
             ],
             [
              0.7777777777777778,
              "#fb9f3a"
             ],
             [
              0.8888888888888888,
              "#fdca26"
             ],
             [
              1,
              "#f0f921"
             ]
            ],
            "type": "histogram2d"
           }
          ],
          "histogram2dcontour": [
           {
            "colorbar": {
             "outlinewidth": 0,
             "ticks": ""
            },
            "colorscale": [
             [
              0,
              "#0d0887"
             ],
             [
              0.1111111111111111,
              "#46039f"
             ],
             [
              0.2222222222222222,
              "#7201a8"
             ],
             [
              0.3333333333333333,
              "#9c179e"
             ],
             [
              0.4444444444444444,
              "#bd3786"
             ],
             [
              0.5555555555555556,
              "#d8576b"
             ],
             [
              0.6666666666666666,
              "#ed7953"
             ],
             [
              0.7777777777777778,
              "#fb9f3a"
             ],
             [
              0.8888888888888888,
              "#fdca26"
             ],
             [
              1,
              "#f0f921"
             ]
            ],
            "type": "histogram2dcontour"
           }
          ],
          "mesh3d": [
           {
            "colorbar": {
             "outlinewidth": 0,
             "ticks": ""
            },
            "type": "mesh3d"
           }
          ],
          "parcoords": [
           {
            "line": {
             "colorbar": {
              "outlinewidth": 0,
              "ticks": ""
             }
            },
            "type": "parcoords"
           }
          ],
          "pie": [
           {
            "automargin": true,
            "type": "pie"
           }
          ],
          "scatter": [
           {
            "marker": {
             "colorbar": {
              "outlinewidth": 0,
              "ticks": ""
             }
            },
            "type": "scatter"
           }
          ],
          "scatter3d": [
           {
            "line": {
             "colorbar": {
              "outlinewidth": 0,
              "ticks": ""
             }
            },
            "marker": {
             "colorbar": {
              "outlinewidth": 0,
              "ticks": ""
             }
            },
            "type": "scatter3d"
           }
          ],
          "scattercarpet": [
           {
            "marker": {
             "colorbar": {
              "outlinewidth": 0,
              "ticks": ""
             }
            },
            "type": "scattercarpet"
           }
          ],
          "scattergeo": [
           {
            "marker": {
             "colorbar": {
              "outlinewidth": 0,
              "ticks": ""
             }
            },
            "type": "scattergeo"
           }
          ],
          "scattergl": [
           {
            "marker": {
             "colorbar": {
              "outlinewidth": 0,
              "ticks": ""
             }
            },
            "type": "scattergl"
           }
          ],
          "scattermapbox": [
           {
            "marker": {
             "colorbar": {
              "outlinewidth": 0,
              "ticks": ""
             }
            },
            "type": "scattermapbox"
           }
          ],
          "scatterpolar": [
           {
            "marker": {
             "colorbar": {
              "outlinewidth": 0,
              "ticks": ""
             }
            },
            "type": "scatterpolar"
           }
          ],
          "scatterpolargl": [
           {
            "marker": {
             "colorbar": {
              "outlinewidth": 0,
              "ticks": ""
             }
            },
            "type": "scatterpolargl"
           }
          ],
          "scatterternary": [
           {
            "marker": {
             "colorbar": {
              "outlinewidth": 0,
              "ticks": ""
             }
            },
            "type": "scatterternary"
           }
          ],
          "surface": [
           {
            "colorbar": {
             "outlinewidth": 0,
             "ticks": ""
            },
            "colorscale": [
             [
              0,
              "#0d0887"
             ],
             [
              0.1111111111111111,
              "#46039f"
             ],
             [
              0.2222222222222222,
              "#7201a8"
             ],
             [
              0.3333333333333333,
              "#9c179e"
             ],
             [
              0.4444444444444444,
              "#bd3786"
             ],
             [
              0.5555555555555556,
              "#d8576b"
             ],
             [
              0.6666666666666666,
              "#ed7953"
             ],
             [
              0.7777777777777778,
              "#fb9f3a"
             ],
             [
              0.8888888888888888,
              "#fdca26"
             ],
             [
              1,
              "#f0f921"
             ]
            ],
            "type": "surface"
           }
          ],
          "table": [
           {
            "cells": {
             "fill": {
              "color": "#EBF0F8"
             },
             "line": {
              "color": "white"
             }
            },
            "header": {
             "fill": {
              "color": "#C8D4E3"
             },
             "line": {
              "color": "white"
             }
            },
            "type": "table"
           }
          ]
         },
         "layout": {
          "annotationdefaults": {
           "arrowcolor": "#2a3f5f",
           "arrowhead": 0,
           "arrowwidth": 1
          },
          "coloraxis": {
           "colorbar": {
            "outlinewidth": 0,
            "ticks": ""
           }
          },
          "colorscale": {
           "diverging": [
            [
             0,
             "#8e0152"
            ],
            [
             0.1,
             "#c51b7d"
            ],
            [
             0.2,
             "#de77ae"
            ],
            [
             0.3,
             "#f1b6da"
            ],
            [
             0.4,
             "#fde0ef"
            ],
            [
             0.5,
             "#f7f7f7"
            ],
            [
             0.6,
             "#e6f5d0"
            ],
            [
             0.7,
             "#b8e186"
            ],
            [
             0.8,
             "#7fbc41"
            ],
            [
             0.9,
             "#4d9221"
            ],
            [
             1,
             "#276419"
            ]
           ],
           "sequential": [
            [
             0,
             "#0d0887"
            ],
            [
             0.1111111111111111,
             "#46039f"
            ],
            [
             0.2222222222222222,
             "#7201a8"
            ],
            [
             0.3333333333333333,
             "#9c179e"
            ],
            [
             0.4444444444444444,
             "#bd3786"
            ],
            [
             0.5555555555555556,
             "#d8576b"
            ],
            [
             0.6666666666666666,
             "#ed7953"
            ],
            [
             0.7777777777777778,
             "#fb9f3a"
            ],
            [
             0.8888888888888888,
             "#fdca26"
            ],
            [
             1,
             "#f0f921"
            ]
           ],
           "sequentialminus": [
            [
             0,
             "#0d0887"
            ],
            [
             0.1111111111111111,
             "#46039f"
            ],
            [
             0.2222222222222222,
             "#7201a8"
            ],
            [
             0.3333333333333333,
             "#9c179e"
            ],
            [
             0.4444444444444444,
             "#bd3786"
            ],
            [
             0.5555555555555556,
             "#d8576b"
            ],
            [
             0.6666666666666666,
             "#ed7953"
            ],
            [
             0.7777777777777778,
             "#fb9f3a"
            ],
            [
             0.8888888888888888,
             "#fdca26"
            ],
            [
             1,
             "#f0f921"
            ]
           ]
          },
          "colorway": [
           "#636efa",
           "#EF553B",
           "#00cc96",
           "#ab63fa",
           "#FFA15A",
           "#19d3f3",
           "#FF6692",
           "#B6E880",
           "#FF97FF",
           "#FECB52"
          ],
          "font": {
           "color": "#2a3f5f"
          },
          "geo": {
           "bgcolor": "white",
           "lakecolor": "white",
           "landcolor": "#E5ECF6",
           "showlakes": true,
           "showland": true,
           "subunitcolor": "white"
          },
          "hoverlabel": {
           "align": "left"
          },
          "hovermode": "closest",
          "mapbox": {
           "style": "light"
          },
          "paper_bgcolor": "white",
          "plot_bgcolor": "#E5ECF6",
          "polar": {
           "angularaxis": {
            "gridcolor": "white",
            "linecolor": "white",
            "ticks": ""
           },
           "bgcolor": "#E5ECF6",
           "radialaxis": {
            "gridcolor": "white",
            "linecolor": "white",
            "ticks": ""
           }
          },
          "scene": {
           "xaxis": {
            "backgroundcolor": "#E5ECF6",
            "gridcolor": "white",
            "gridwidth": 2,
            "linecolor": "white",
            "showbackground": true,
            "ticks": "",
            "zerolinecolor": "white"
           },
           "yaxis": {
            "backgroundcolor": "#E5ECF6",
            "gridcolor": "white",
            "gridwidth": 2,
            "linecolor": "white",
            "showbackground": true,
            "ticks": "",
            "zerolinecolor": "white"
           },
           "zaxis": {
            "backgroundcolor": "#E5ECF6",
            "gridcolor": "white",
            "gridwidth": 2,
            "linecolor": "white",
            "showbackground": true,
            "ticks": "",
            "zerolinecolor": "white"
           }
          },
          "shapedefaults": {
           "line": {
            "color": "#2a3f5f"
           }
          },
          "ternary": {
           "aaxis": {
            "gridcolor": "white",
            "linecolor": "white",
            "ticks": ""
           },
           "baxis": {
            "gridcolor": "white",
            "linecolor": "white",
            "ticks": ""
           },
           "bgcolor": "#E5ECF6",
           "caxis": {
            "gridcolor": "white",
            "linecolor": "white",
            "ticks": ""
           }
          },
          "title": {
           "x": 0.05
          },
          "xaxis": {
           "automargin": true,
           "gridcolor": "white",
           "linecolor": "white",
           "ticks": "",
           "title": {
            "standoff": 15
           },
           "zerolinecolor": "white",
           "zerolinewidth": 2
          },
          "yaxis": {
           "automargin": true,
           "gridcolor": "white",
           "linecolor": "white",
           "ticks": "",
           "title": {
            "standoff": 15
           },
           "zerolinecolor": "white",
           "zerolinewidth": 2
          }
         }
        },
        "title": {
         "font": {
          "color": "#4D5663"
         }
        },
        "xaxis": {
         "gridcolor": "#E1E5ED",
         "showgrid": true,
         "tickfont": {
          "color": "#4D5663"
         },
         "title": {
          "font": {
           "color": "#4D5663"
          },
          "text": ""
         },
         "zerolinecolor": "#E1E5ED"
        },
        "xaxis2": {
         "anchor": "y2",
         "gridcolor": "#E1E5ED",
         "showgrid": true,
         "showticklabels": false,
         "tickfont": {
          "color": "#4D5663"
         },
         "title": {
          "font": {
           "color": "#4D5663"
          },
          "text": ""
         },
         "zerolinecolor": "#E1E5ED"
        },
        "yaxis": {
         "domain": [
          0.3,
          1
         ],
         "gridcolor": "#E1E5ED",
         "showgrid": true,
         "tickfont": {
          "color": "#4D5663"
         },
         "title": {
          "font": {
           "color": "#4D5663"
          },
          "text": ""
         },
         "zerolinecolor": "#E1E5ED"
        },
        "yaxis2": {
         "domain": [
          0,
          0.25
         ],
         "gridcolor": "#E1E5ED",
         "showgrid": true,
         "tickfont": {
          "color": "#4D5663"
         },
         "title": {
          "font": {
           "color": "#4D5663"
          },
          "text": "Spread"
         },
         "zerolinecolor": "#E1E5ED"
        }
       }
      },
      "text/html": [
       "<div>\n",
       "        \n",
       "        \n",
       "            <div id=\"1a2e5b02-b828-4b94-b7ab-0dbdf262275b\" class=\"plotly-graph-div\" style=\"height:525px; width:100%;\"></div>\n",
       "            <script type=\"text/javascript\">\n",
       "                require([\"plotly\"], function(Plotly) {\n",
       "                    window.PLOTLYENV=window.PLOTLYENV || {};\n",
       "                    window.PLOTLYENV.BASE_URL='https://plot.ly';\n",
       "                    \n",
       "                if (document.getElementById(\"1a2e5b02-b828-4b94-b7ab-0dbdf262275b\")) {\n",
       "                    Plotly.newPlot(\n",
       "                        '1a2e5b02-b828-4b94-b7ab-0dbdf262275b',\n",
       "                        [{\"line\": {\"color\": \"rgba(255, 153, 51, 1.0)\", \"dash\": \"solid\", \"shape\": \"linear\", \"width\": 1.3}, \"mode\": \"lines\", \"name\": \"A\", \"text\": \"\", \"type\": \"scatter\", \"x\": [0, 1, 2, 3, 4, 5, 6, 7, 8, 9, 10, 11, 12, 13, 14, 15, 16, 17, 18, 19, 20, 21, 22, 23, 24, 25, 26, 27, 28, 29, 30, 31, 32, 33, 34, 35, 36, 37, 38, 39, 40, 41, 42, 43, 44, 45, 46, 47, 48, 49, 50, 51, 52, 53, 54, 55, 56, 57, 58, 59, 60, 61, 62, 63, 64, 65, 66, 67, 68, 69, 70, 71, 72, 73, 74, 75, 76, 77, 78, 79, 80, 81, 82, 83, 84, 85, 86, 87, 88, 89, 90, 91, 92, 93, 94, 95, 96, 97, 98, 99], \"y\": [0.1206249701213706, 0.49852343433333973, -1.3695553399502158, -1.7170528179870115, 0.27324678432871136, -1.9470279113703413, -2.4483751648331227, 2.333309249201956, -0.5121449809204915, 0.12969221850822205, -0.6446330133850526, -0.7218087032598325, 0.2656459530596007, -0.6601432489749915, 1.095736886907146, -1.6081513991361676, -1.4711849425270092, -0.33015331325706504, 2.0632132636067553, -0.27152117257142605, 2.165183144756075, 0.39182424403697896, 0.19242497695043612, 1.8579756132373373, -0.704147910019082, 0.31985241358400507, 3.2019984010748974, 2.708493171628477, -0.8149582531644922, -0.6898431778469533, 0.651341556525695, -1.15691281185948, 0.5246347278944932, -0.013981722891419775, -0.45936999170141557, -0.9159335479923458, -0.41459056313818277, -1.152026965541066, 0.7840720688654675, 1.1711501936861313, 2.8521190888211465, -0.24597651131725998, -0.5829420533728855, 0.7560144769434166, 0.18968195609462685, 0.13975579709874156, -1.6288501016314474, -0.4207530522827984, 0.27123940444038525, -0.40464482028266757, 0.822839968676394, -0.5198717202635307, 0.3492249557431336, -0.17654616410502988, -1.6242058314635195, 0.5721763537313155, -0.782036216071513, 0.23630964755269812, -0.5523086810647195, 1.189118061813389, -0.769864654950212, 0.8102943569511241, 0.8277296824869714, 1.3016116314975992, -1.6604476247983335, 0.16636825426915391, -1.7601388874575197, 0.8429652247550539, 0.13641566927538096, 0.8268913034982536, -0.6806238318448029, -0.943008434928968, 0.5744194922192287, 1.049889178412392, -0.31619961369343846, -0.8045301447010839, 1.097732124163626, -1.4137201680366165, 1.3008194488492095, -0.3804980351537032, 1.234911257258786, 0.9526409782109593, -0.21399781745464025, -0.7150615051321568, 0.06518789533903417, -0.0014750191727604316, -0.7748752618691193, -1.0300167525228836, 1.5485009452858873, 0.8947138295198088, 0.7452701013110108, 0.5509705642248981, -0.12540225234218974, -1.5306440021233014, -1.9286582817432802, -0.6594991082590205, 0.6744555298437124, -0.3298273188790175, 0.681874032005342, -0.23528992937710205]}, {\"line\": {\"color\": \"rgba(55, 128, 191, 1.0)\", \"dash\": \"solid\", \"shape\": \"linear\", \"width\": 1.3}, \"mode\": \"lines\", \"name\": \"B\", \"text\": \"\", \"type\": \"scatter\", \"x\": [0, 1, 2, 3, 4, 5, 6, 7, 8, 9, 10, 11, 12, 13, 14, 15, 16, 17, 18, 19, 20, 21, 22, 23, 24, 25, 26, 27, 28, 29, 30, 31, 32, 33, 34, 35, 36, 37, 38, 39, 40, 41, 42, 43, 44, 45, 46, 47, 48, 49, 50, 51, 52, 53, 54, 55, 56, 57, 58, 59, 60, 61, 62, 63, 64, 65, 66, 67, 68, 69, 70, 71, 72, 73, 74, 75, 76, 77, 78, 79, 80, 81, 82, 83, 84, 85, 86, 87, 88, 89, 90, 91, 92, 93, 94, 95, 96, 97, 98, 99], \"y\": [1.7644200206191962, -0.30576255159833926, 0.48591216870055987, 0.7985155071177396, -0.14876872605666622, -0.8622242683700565, 0.1363141020244147, -0.7260451911673562, 2.073816753478071, -0.43898713716167187, 0.33691258903617394, -0.05977193298366424, -0.8227901853712595, -0.8323746630428965, 0.11095605377397717, 0.6454186407784175, -0.5617872893626544, -0.4110696787509862, 0.412153074799562, 1.0155778406138107, 0.9303310600055554, 0.44839861289213107, 0.25060701266456337, -0.6200811509285393, -0.36400150881228605, -0.7812423279375649, 2.7449130955233194, 1.0482475424867093, 0.4080247242022707, 0.030117620479940908, 0.6109744191377052, 0.7051984383646073, 0.550232781652086, 0.22880534813358577, -1.1564235529442963, -0.8260709362775998, 1.285516241637799, -1.0204578541625269, 0.6873614732322731, 0.9291586945660607, -0.9964508041363669, -1.1456252019685773, 0.41945494135951766, 0.5018426975736096, 0.7857702165301329, -0.09848632547303204, -0.6588981067399119, 1.1853881697458184, 1.3013098324717234, -0.6901871629828826, 1.5706311752726443, 0.35375661865285923, -1.7730555476594445, 0.1404389261610056, 0.2800682200551832, 0.09641204971271065, 1.5947658424754458, -0.9085732689692162, -0.19971973896539877, -0.29538487952431997, -0.16782616148221235, -0.22318964705705444, -1.1872048056031284, 0.6447368621613021, 0.011365501551874865, 1.4270433489524255, 2.3503140280491395, 1.3962528943379109, 0.7244555209068144, -0.465532477546086, 1.28244991571956, 0.19457895804176906, 1.6799624327556104, 1.119688007459729, -1.6574546810221313, 0.19306786021194244, -0.3805407112775789, 0.8237696600063881, 1.6242052320141758, 0.40698880308051666, -0.6972818731596732, 1.711150635837316, -0.4245327195817335, -0.20296865094415448, 0.27848558727482353, -0.07798204924120888, -1.3626214176056117, 0.7426308471042079, 0.11623335626503752, -0.29613174978263107, -0.982863194027543, -0.796878071956125, -0.4549314438785417, -0.19493574595397817, -0.7581093396617404, -0.7753823819206512, -0.17383535358302876, -0.05555904455453927, 0.6506547474934091, -1.1733039608928564]}, {\"connectgaps\": false, \"fill\": \"tozeroy\", \"line\": {\"color\": \"green\", \"dash\": \"solid\", \"shape\": \"linear\", \"width\": 0.5}, \"mode\": \"lines\", \"name\": \"Spread\", \"showlegend\": false, \"type\": \"scatter\", \"x\": [0, 1, 2, 3, 4, 5, 6, 7, 8, 9, 10, 11, 12, 13, 14, 15, 16, 17, 18, 19, 20, 21, 22, 23, 24, 25, 26, 27, 28, 29, 30, 31, 32, 33, 34, 35, 36, 37, 38, 39, 40, 41, 42, 43, 44, 45, 46, 47, 48, 49, 50, 51, 52, 53, 54, 55, 56, 57, 58, 59, 60, 61, 62, 63, 64, 65, 66, 67, 68, 69, 70, 71, 72, 73, 74, 75, 76, 77, 78, 79, 80, 81, 82, 83, 84, 85, 86, 87, 88, 89, 90, 91, 92, 93, 94, 95, 96, 97, 98, 99], \"xaxis\": \"x2\", \"y\": [\"\", 0.804285985931679, \"\", \"\", 0.42201551038537755, \"\", \"\", 3.059354440369312, \"\", 0.5686793556698939, \"\", \"\", 1.0884361384308603, 0.172231414067905, 0.9847808331331688, \"\", \"\", 0.08091636549392117, 1.6510601888071932, \"\", 1.2348520847505196, \"\", \"\", 2.478056764165877, \"\", 1.10109474152157, 0.457085305551578, 1.6602456291417678, \"\", \"\", 0.040367137387989804, \"\", \"\", \"\", 0.6970535612428808, \"\", \"\", \"\", 0.0967105956331944, 0.24199149912007056, 3.8485698929575136, 0.8996486906513174, \"\", 0.25417177936980706, \"\", 0.2382421225717736, \"\", \"\", \"\", 0.28554234270021506, \"\", \"\", 2.1222805034025782, \"\", \"\", 0.4757643040186048, \"\", 1.1448829165219143, \"\", 1.4845029413377089, \"\", 1.0334840040081785, 2.0149344880900997, 0.6568747693362971, \"\", \"\", \"\", \"\", \"\", 1.2924237810443395, \"\", \"\", \"\", \"\", 1.341255067328693, \"\", 1.478272835441205, \"\", \"\", \"\", 1.932193130418459, \"\", 0.21053490212709325, \"\", \"\", 0.07650703006844846, 0.5877461557364925, \"\", 1.4322675890208498, 1.19084557930244, 1.7281332953385538, 1.3478486361810231, 0.32952919153635196, \"\", \"\", 0.11588327366163076, 0.8482908834267411, \"\", 0.0312192845119329, 0.9380140315157544], \"yaxis\": \"y2\"}, {\"connectgaps\": false, \"fill\": \"tozeroy\", \"line\": {\"color\": \"red\", \"dash\": \"solid\", \"shape\": \"linear\", \"width\": 0.5}, \"mode\": \"lines\", \"name\": \"Spread\", \"showlegend\": false, \"type\": \"scatter\", \"x\": [0, 1, 2, 3, 4, 5, 6, 7, 8, 9, 10, 11, 12, 13, 14, 15, 16, 17, 18, 19, 20, 21, 22, 23, 24, 25, 26, 27, 28, 29, 30, 31, 32, 33, 34, 35, 36, 37, 38, 39, 40, 41, 42, 43, 44, 45, 46, 47, 48, 49, 50, 51, 52, 53, 54, 55, 56, 57, 58, 59, 60, 61, 62, 63, 64, 65, 66, 67, 68, 69, 70, 71, 72, 73, 74, 75, 76, 77, 78, 79, 80, 81, 82, 83, 84, 85, 86, 87, 88, 89, 90, 91, 92, 93, 94, 95, 96, 97, 98, 99], \"xaxis\": \"x2\", \"y\": [-1.6437950504978256, \"\", -1.8554675086507757, -2.515568325104751, \"\", -1.0848036430002848, -2.5846892668575374, \"\", -2.5859617343985626, \"\", -0.9815456024212266, -0.6620367702761683, \"\", \"\", \"\", -2.2535700399145853, -0.9093976531643547, \"\", \"\", -1.287099013185237, \"\", -0.0565743688551521, -0.05818203571412725, \"\", -0.3401464012067959, \"\", \"\", \"\", -1.2229829773667629, -0.7199607983268942, \"\", -1.8621112502240873, -0.02559805375759283, -0.24278707102500555, \"\", -0.08986261171474608, -1.7001068047759818, -0.1315691113785391, \"\", \"\", \"\", \"\", -1.0023969947324032, \"\", -0.596088260435506, \"\", -0.9699519948915355, -1.6061412220286169, -1.0300704280313382, \"\", -0.7477912065962503, -0.8736283389163899, \"\", -0.3169850902660355, -1.9042740515187027, \"\", -2.376802058546959, \"\", -0.3525889420993208, \"\", -0.6020384934679996, \"\", \"\", \"\", -1.6718131263502083, -1.2606750946832714, -4.110452915506659, -0.553287669582857, -0.5880398516314335, \"\", -1.963073747564363, -1.1375873929707372, -1.1055429405363817, -0.06979882904733703, \"\", -0.9975980049130263, \"\", -2.2374898280430044, -0.32338578316496625, -0.7874868382342198, \"\", -0.7585096576263568, \"\", -0.5120928541880023, -0.21329769193578935, \"\", \"\", -1.7726475996270916, \"\", \"\", \"\", \"\", \"\", -1.3357082561693232, -1.1705489420815398, \"\", \"\", -0.27426827432447826, \"\", \"\"], \"yaxis\": \"y2\"}],\n",
       "                        {\"hovermode\": \"x\", \"legend\": {\"bgcolor\": \"#F5F6F9\", \"font\": {\"color\": \"#4D5663\"}}, \"paper_bgcolor\": \"#F5F6F9\", \"plot_bgcolor\": \"#F5F6F9\", \"template\": {\"data\": {\"bar\": [{\"error_x\": {\"color\": \"#2a3f5f\"}, \"error_y\": {\"color\": \"#2a3f5f\"}, \"marker\": {\"line\": {\"color\": \"#E5ECF6\", \"width\": 0.5}}, \"type\": \"bar\"}], \"barpolar\": [{\"marker\": {\"line\": {\"color\": \"#E5ECF6\", \"width\": 0.5}}, \"type\": \"barpolar\"}], \"carpet\": [{\"aaxis\": {\"endlinecolor\": \"#2a3f5f\", \"gridcolor\": \"white\", \"linecolor\": \"white\", \"minorgridcolor\": \"white\", \"startlinecolor\": \"#2a3f5f\"}, \"baxis\": {\"endlinecolor\": \"#2a3f5f\", \"gridcolor\": \"white\", \"linecolor\": \"white\", \"minorgridcolor\": \"white\", \"startlinecolor\": \"#2a3f5f\"}, \"type\": \"carpet\"}], \"choropleth\": [{\"colorbar\": {\"outlinewidth\": 0, \"ticks\": \"\"}, \"type\": \"choropleth\"}], \"contour\": [{\"colorbar\": {\"outlinewidth\": 0, \"ticks\": \"\"}, \"colorscale\": [[0.0, \"#0d0887\"], [0.1111111111111111, \"#46039f\"], [0.2222222222222222, \"#7201a8\"], [0.3333333333333333, \"#9c179e\"], [0.4444444444444444, \"#bd3786\"], [0.5555555555555556, \"#d8576b\"], [0.6666666666666666, \"#ed7953\"], [0.7777777777777778, \"#fb9f3a\"], [0.8888888888888888, \"#fdca26\"], [1.0, \"#f0f921\"]], \"type\": \"contour\"}], \"contourcarpet\": [{\"colorbar\": {\"outlinewidth\": 0, \"ticks\": \"\"}, \"type\": \"contourcarpet\"}], \"heatmap\": [{\"colorbar\": {\"outlinewidth\": 0, \"ticks\": \"\"}, \"colorscale\": [[0.0, \"#0d0887\"], [0.1111111111111111, \"#46039f\"], [0.2222222222222222, \"#7201a8\"], [0.3333333333333333, \"#9c179e\"], [0.4444444444444444, \"#bd3786\"], [0.5555555555555556, \"#d8576b\"], [0.6666666666666666, \"#ed7953\"], [0.7777777777777778, \"#fb9f3a\"], [0.8888888888888888, \"#fdca26\"], [1.0, \"#f0f921\"]], \"type\": \"heatmap\"}], \"heatmapgl\": [{\"colorbar\": {\"outlinewidth\": 0, \"ticks\": \"\"}, \"colorscale\": [[0.0, \"#0d0887\"], [0.1111111111111111, \"#46039f\"], [0.2222222222222222, \"#7201a8\"], [0.3333333333333333, \"#9c179e\"], [0.4444444444444444, \"#bd3786\"], [0.5555555555555556, \"#d8576b\"], [0.6666666666666666, \"#ed7953\"], [0.7777777777777778, \"#fb9f3a\"], [0.8888888888888888, \"#fdca26\"], [1.0, \"#f0f921\"]], \"type\": \"heatmapgl\"}], \"histogram\": [{\"marker\": {\"colorbar\": {\"outlinewidth\": 0, \"ticks\": \"\"}}, \"type\": \"histogram\"}], \"histogram2d\": [{\"colorbar\": {\"outlinewidth\": 0, \"ticks\": \"\"}, \"colorscale\": [[0.0, \"#0d0887\"], [0.1111111111111111, \"#46039f\"], [0.2222222222222222, \"#7201a8\"], [0.3333333333333333, \"#9c179e\"], [0.4444444444444444, \"#bd3786\"], [0.5555555555555556, \"#d8576b\"], [0.6666666666666666, \"#ed7953\"], [0.7777777777777778, \"#fb9f3a\"], [0.8888888888888888, \"#fdca26\"], [1.0, \"#f0f921\"]], \"type\": \"histogram2d\"}], \"histogram2dcontour\": [{\"colorbar\": {\"outlinewidth\": 0, \"ticks\": \"\"}, \"colorscale\": [[0.0, \"#0d0887\"], [0.1111111111111111, \"#46039f\"], [0.2222222222222222, \"#7201a8\"], [0.3333333333333333, \"#9c179e\"], [0.4444444444444444, \"#bd3786\"], [0.5555555555555556, \"#d8576b\"], [0.6666666666666666, \"#ed7953\"], [0.7777777777777778, \"#fb9f3a\"], [0.8888888888888888, \"#fdca26\"], [1.0, \"#f0f921\"]], \"type\": \"histogram2dcontour\"}], \"mesh3d\": [{\"colorbar\": {\"outlinewidth\": 0, \"ticks\": \"\"}, \"type\": \"mesh3d\"}], \"parcoords\": [{\"line\": {\"colorbar\": {\"outlinewidth\": 0, \"ticks\": \"\"}}, \"type\": \"parcoords\"}], \"pie\": [{\"automargin\": true, \"type\": \"pie\"}], \"scatter\": [{\"marker\": {\"colorbar\": {\"outlinewidth\": 0, \"ticks\": \"\"}}, \"type\": \"scatter\"}], \"scatter3d\": [{\"line\": {\"colorbar\": {\"outlinewidth\": 0, \"ticks\": \"\"}}, \"marker\": {\"colorbar\": {\"outlinewidth\": 0, \"ticks\": \"\"}}, \"type\": \"scatter3d\"}], \"scattercarpet\": [{\"marker\": {\"colorbar\": {\"outlinewidth\": 0, \"ticks\": \"\"}}, \"type\": \"scattercarpet\"}], \"scattergeo\": [{\"marker\": {\"colorbar\": {\"outlinewidth\": 0, \"ticks\": \"\"}}, \"type\": \"scattergeo\"}], \"scattergl\": [{\"marker\": {\"colorbar\": {\"outlinewidth\": 0, \"ticks\": \"\"}}, \"type\": \"scattergl\"}], \"scattermapbox\": [{\"marker\": {\"colorbar\": {\"outlinewidth\": 0, \"ticks\": \"\"}}, \"type\": \"scattermapbox\"}], \"scatterpolar\": [{\"marker\": {\"colorbar\": {\"outlinewidth\": 0, \"ticks\": \"\"}}, \"type\": \"scatterpolar\"}], \"scatterpolargl\": [{\"marker\": {\"colorbar\": {\"outlinewidth\": 0, \"ticks\": \"\"}}, \"type\": \"scatterpolargl\"}], \"scatterternary\": [{\"marker\": {\"colorbar\": {\"outlinewidth\": 0, \"ticks\": \"\"}}, \"type\": \"scatterternary\"}], \"surface\": [{\"colorbar\": {\"outlinewidth\": 0, \"ticks\": \"\"}, \"colorscale\": [[0.0, \"#0d0887\"], [0.1111111111111111, \"#46039f\"], [0.2222222222222222, \"#7201a8\"], [0.3333333333333333, \"#9c179e\"], [0.4444444444444444, \"#bd3786\"], [0.5555555555555556, \"#d8576b\"], [0.6666666666666666, \"#ed7953\"], [0.7777777777777778, \"#fb9f3a\"], [0.8888888888888888, \"#fdca26\"], [1.0, \"#f0f921\"]], \"type\": \"surface\"}], \"table\": [{\"cells\": {\"fill\": {\"color\": \"#EBF0F8\"}, \"line\": {\"color\": \"white\"}}, \"header\": {\"fill\": {\"color\": \"#C8D4E3\"}, \"line\": {\"color\": \"white\"}}, \"type\": \"table\"}]}, \"layout\": {\"annotationdefaults\": {\"arrowcolor\": \"#2a3f5f\", \"arrowhead\": 0, \"arrowwidth\": 1}, \"coloraxis\": {\"colorbar\": {\"outlinewidth\": 0, \"ticks\": \"\"}}, \"colorscale\": {\"diverging\": [[0, \"#8e0152\"], [0.1, \"#c51b7d\"], [0.2, \"#de77ae\"], [0.3, \"#f1b6da\"], [0.4, \"#fde0ef\"], [0.5, \"#f7f7f7\"], [0.6, \"#e6f5d0\"], [0.7, \"#b8e186\"], [0.8, \"#7fbc41\"], [0.9, \"#4d9221\"], [1, \"#276419\"]], \"sequential\": [[0.0, \"#0d0887\"], [0.1111111111111111, \"#46039f\"], [0.2222222222222222, \"#7201a8\"], [0.3333333333333333, \"#9c179e\"], [0.4444444444444444, \"#bd3786\"], [0.5555555555555556, \"#d8576b\"], [0.6666666666666666, \"#ed7953\"], [0.7777777777777778, \"#fb9f3a\"], [0.8888888888888888, \"#fdca26\"], [1.0, \"#f0f921\"]], \"sequentialminus\": [[0.0, \"#0d0887\"], [0.1111111111111111, \"#46039f\"], [0.2222222222222222, \"#7201a8\"], [0.3333333333333333, \"#9c179e\"], [0.4444444444444444, \"#bd3786\"], [0.5555555555555556, \"#d8576b\"], [0.6666666666666666, \"#ed7953\"], [0.7777777777777778, \"#fb9f3a\"], [0.8888888888888888, \"#fdca26\"], [1.0, \"#f0f921\"]]}, \"colorway\": [\"#636efa\", \"#EF553B\", \"#00cc96\", \"#ab63fa\", \"#FFA15A\", \"#19d3f3\", \"#FF6692\", \"#B6E880\", \"#FF97FF\", \"#FECB52\"], \"font\": {\"color\": \"#2a3f5f\"}, \"geo\": {\"bgcolor\": \"white\", \"lakecolor\": \"white\", \"landcolor\": \"#E5ECF6\", \"showlakes\": true, \"showland\": true, \"subunitcolor\": \"white\"}, \"hoverlabel\": {\"align\": \"left\"}, \"hovermode\": \"closest\", \"mapbox\": {\"style\": \"light\"}, \"paper_bgcolor\": \"white\", \"plot_bgcolor\": \"#E5ECF6\", \"polar\": {\"angularaxis\": {\"gridcolor\": \"white\", \"linecolor\": \"white\", \"ticks\": \"\"}, \"bgcolor\": \"#E5ECF6\", \"radialaxis\": {\"gridcolor\": \"white\", \"linecolor\": \"white\", \"ticks\": \"\"}}, \"scene\": {\"xaxis\": {\"backgroundcolor\": \"#E5ECF6\", \"gridcolor\": \"white\", \"gridwidth\": 2, \"linecolor\": \"white\", \"showbackground\": true, \"ticks\": \"\", \"zerolinecolor\": \"white\"}, \"yaxis\": {\"backgroundcolor\": \"#E5ECF6\", \"gridcolor\": \"white\", \"gridwidth\": 2, \"linecolor\": \"white\", \"showbackground\": true, \"ticks\": \"\", \"zerolinecolor\": \"white\"}, \"zaxis\": {\"backgroundcolor\": \"#E5ECF6\", \"gridcolor\": \"white\", \"gridwidth\": 2, \"linecolor\": \"white\", \"showbackground\": true, \"ticks\": \"\", \"zerolinecolor\": \"white\"}}, \"shapedefaults\": {\"line\": {\"color\": \"#2a3f5f\"}}, \"ternary\": {\"aaxis\": {\"gridcolor\": \"white\", \"linecolor\": \"white\", \"ticks\": \"\"}, \"baxis\": {\"gridcolor\": \"white\", \"linecolor\": \"white\", \"ticks\": \"\"}, \"bgcolor\": \"#E5ECF6\", \"caxis\": {\"gridcolor\": \"white\", \"linecolor\": \"white\", \"ticks\": \"\"}}, \"title\": {\"x\": 0.05}, \"xaxis\": {\"automargin\": true, \"gridcolor\": \"white\", \"linecolor\": \"white\", \"ticks\": \"\", \"title\": {\"standoff\": 15}, \"zerolinecolor\": \"white\", \"zerolinewidth\": 2}, \"yaxis\": {\"automargin\": true, \"gridcolor\": \"white\", \"linecolor\": \"white\", \"ticks\": \"\", \"title\": {\"standoff\": 15}, \"zerolinecolor\": \"white\", \"zerolinewidth\": 2}}}, \"title\": {\"font\": {\"color\": \"#4D5663\"}}, \"xaxis\": {\"gridcolor\": \"#E1E5ED\", \"showgrid\": true, \"tickfont\": {\"color\": \"#4D5663\"}, \"title\": {\"font\": {\"color\": \"#4D5663\"}, \"text\": \"\"}, \"zerolinecolor\": \"#E1E5ED\"}, \"xaxis2\": {\"anchor\": \"y2\", \"gridcolor\": \"#E1E5ED\", \"showgrid\": true, \"showticklabels\": false, \"tickfont\": {\"color\": \"#4D5663\"}, \"title\": {\"font\": {\"color\": \"#4D5663\"}, \"text\": \"\"}, \"zerolinecolor\": \"#E1E5ED\"}, \"yaxis\": {\"domain\": [0.3, 1], \"gridcolor\": \"#E1E5ED\", \"showgrid\": true, \"tickfont\": {\"color\": \"#4D5663\"}, \"title\": {\"font\": {\"color\": \"#4D5663\"}, \"text\": \"\"}, \"zerolinecolor\": \"#E1E5ED\"}, \"yaxis2\": {\"domain\": [0, 0.25], \"gridcolor\": \"#E1E5ED\", \"showgrid\": true, \"tickfont\": {\"color\": \"#4D5663\"}, \"title\": {\"font\": {\"color\": \"#4D5663\"}, \"text\": \"Spread\"}, \"zerolinecolor\": \"#E1E5ED\"}},\n",
       "                        {\"showLink\": true, \"linkText\": \"Export to plot.ly\", \"plotlyServerURL\": \"https://plot.ly\", \"responsive\": true}\n",
       "                    ).then(function(){\n",
       "                            \n",
       "var gd = document.getElementById('1a2e5b02-b828-4b94-b7ab-0dbdf262275b');\n",
       "var x = new MutationObserver(function (mutations, observer) {{\n",
       "        var display = window.getComputedStyle(gd).display;\n",
       "        if (!display || display === 'none') {{\n",
       "            console.log([gd, 'removed!']);\n",
       "            Plotly.purge(gd);\n",
       "            observer.disconnect();\n",
       "        }}\n",
       "}});\n",
       "\n",
       "// Listen for the removal of the full notebook cells\n",
       "var notebookContainer = gd.closest('#notebook-container');\n",
       "if (notebookContainer) {{\n",
       "    x.observe(notebookContainer, {childList: true});\n",
       "}}\n",
       "\n",
       "// Listen for the clearing of the current output cell\n",
       "var outputEl = gd.closest('.output');\n",
       "if (outputEl) {{\n",
       "    x.observe(outputEl, {childList: true});\n",
       "}}\n",
       "\n",
       "                        })\n",
       "                };\n",
       "                });\n",
       "            </script>\n",
       "        </div>"
      ]
     },
     "metadata": {},
     "output_type": "display_data"
    }
   ],
   "source": [
    "df[['A','B']].iplot(kind='spread')"
   ]
  },
  {
   "cell_type": "markdown",
   "metadata": {},
   "source": [
    "## histogram"
   ]
  },
  {
   "cell_type": "code",
   "execution_count": 16,
   "metadata": {},
   "outputs": [
    {
     "data": {
      "application/vnd.plotly.v1+json": {
       "config": {
        "linkText": "Export to plot.ly",
        "plotlyServerURL": "https://plot.ly",
        "showLink": true
       },
       "data": [
        {
         "histfunc": "count",
         "histnorm": "",
         "marker": {
          "color": "rgba(255, 153, 51, 1.0)",
          "line": {
           "color": "#4D5663",
           "width": 1.3
          }
         },
         "name": "A",
         "nbinsx": 25,
         "opacity": 0.8,
         "orientation": "v",
         "type": "histogram",
         "x": [
          0.1206249701213706,
          0.49852343433333973,
          -1.3695553399502158,
          -1.7170528179870115,
          0.27324678432871136,
          -1.9470279113703413,
          -2.4483751648331227,
          2.333309249201956,
          -0.5121449809204915,
          0.12969221850822205,
          -0.6446330133850526,
          -0.7218087032598325,
          0.2656459530596007,
          -0.6601432489749915,
          1.095736886907146,
          -1.6081513991361676,
          -1.4711849425270092,
          -0.33015331325706504,
          2.0632132636067553,
          -0.27152117257142605,
          2.165183144756075,
          0.39182424403697896,
          0.19242497695043612,
          1.8579756132373373,
          -0.704147910019082,
          0.31985241358400507,
          3.2019984010748974,
          2.708493171628477,
          -0.8149582531644922,
          -0.6898431778469533,
          0.651341556525695,
          -1.15691281185948,
          0.5246347278944932,
          -0.013981722891419775,
          -0.45936999170141557,
          -0.9159335479923458,
          -0.41459056313818277,
          -1.152026965541066,
          0.7840720688654675,
          1.1711501936861313,
          2.8521190888211465,
          -0.24597651131725998,
          -0.5829420533728855,
          0.7560144769434166,
          0.18968195609462685,
          0.13975579709874156,
          -1.6288501016314474,
          -0.4207530522827984,
          0.27123940444038525,
          -0.40464482028266757,
          0.822839968676394,
          -0.5198717202635307,
          0.3492249557431336,
          -0.17654616410502988,
          -1.6242058314635195,
          0.5721763537313155,
          -0.782036216071513,
          0.23630964755269812,
          -0.5523086810647195,
          1.189118061813389,
          -0.769864654950212,
          0.8102943569511241,
          0.8277296824869714,
          1.3016116314975992,
          -1.6604476247983335,
          0.16636825426915391,
          -1.7601388874575197,
          0.8429652247550539,
          0.13641566927538096,
          0.8268913034982536,
          -0.6806238318448029,
          -0.943008434928968,
          0.5744194922192287,
          1.049889178412392,
          -0.31619961369343846,
          -0.8045301447010839,
          1.097732124163626,
          -1.4137201680366165,
          1.3008194488492095,
          -0.3804980351537032,
          1.234911257258786,
          0.9526409782109593,
          -0.21399781745464025,
          -0.7150615051321568,
          0.06518789533903417,
          -0.0014750191727604316,
          -0.7748752618691193,
          -1.0300167525228836,
          1.5485009452858873,
          0.8947138295198088,
          0.7452701013110108,
          0.5509705642248981,
          -0.12540225234218974,
          -1.5306440021233014,
          -1.9286582817432802,
          -0.6594991082590205,
          0.6744555298437124,
          -0.3298273188790175,
          0.681874032005342,
          -0.23528992937710205
         ]
        }
       ],
       "layout": {
        "barmode": "overlay",
        "legend": {
         "bgcolor": "#F5F6F9",
         "font": {
          "color": "#4D5663"
         }
        },
        "paper_bgcolor": "#F5F6F9",
        "plot_bgcolor": "#F5F6F9",
        "template": {
         "data": {
          "bar": [
           {
            "error_x": {
             "color": "#2a3f5f"
            },
            "error_y": {
             "color": "#2a3f5f"
            },
            "marker": {
             "line": {
              "color": "#E5ECF6",
              "width": 0.5
             }
            },
            "type": "bar"
           }
          ],
          "barpolar": [
           {
            "marker": {
             "line": {
              "color": "#E5ECF6",
              "width": 0.5
             }
            },
            "type": "barpolar"
           }
          ],
          "carpet": [
           {
            "aaxis": {
             "endlinecolor": "#2a3f5f",
             "gridcolor": "white",
             "linecolor": "white",
             "minorgridcolor": "white",
             "startlinecolor": "#2a3f5f"
            },
            "baxis": {
             "endlinecolor": "#2a3f5f",
             "gridcolor": "white",
             "linecolor": "white",
             "minorgridcolor": "white",
             "startlinecolor": "#2a3f5f"
            },
            "type": "carpet"
           }
          ],
          "choropleth": [
           {
            "colorbar": {
             "outlinewidth": 0,
             "ticks": ""
            },
            "type": "choropleth"
           }
          ],
          "contour": [
           {
            "colorbar": {
             "outlinewidth": 0,
             "ticks": ""
            },
            "colorscale": [
             [
              0,
              "#0d0887"
             ],
             [
              0.1111111111111111,
              "#46039f"
             ],
             [
              0.2222222222222222,
              "#7201a8"
             ],
             [
              0.3333333333333333,
              "#9c179e"
             ],
             [
              0.4444444444444444,
              "#bd3786"
             ],
             [
              0.5555555555555556,
              "#d8576b"
             ],
             [
              0.6666666666666666,
              "#ed7953"
             ],
             [
              0.7777777777777778,
              "#fb9f3a"
             ],
             [
              0.8888888888888888,
              "#fdca26"
             ],
             [
              1,
              "#f0f921"
             ]
            ],
            "type": "contour"
           }
          ],
          "contourcarpet": [
           {
            "colorbar": {
             "outlinewidth": 0,
             "ticks": ""
            },
            "type": "contourcarpet"
           }
          ],
          "heatmap": [
           {
            "colorbar": {
             "outlinewidth": 0,
             "ticks": ""
            },
            "colorscale": [
             [
              0,
              "#0d0887"
             ],
             [
              0.1111111111111111,
              "#46039f"
             ],
             [
              0.2222222222222222,
              "#7201a8"
             ],
             [
              0.3333333333333333,
              "#9c179e"
             ],
             [
              0.4444444444444444,
              "#bd3786"
             ],
             [
              0.5555555555555556,
              "#d8576b"
             ],
             [
              0.6666666666666666,
              "#ed7953"
             ],
             [
              0.7777777777777778,
              "#fb9f3a"
             ],
             [
              0.8888888888888888,
              "#fdca26"
             ],
             [
              1,
              "#f0f921"
             ]
            ],
            "type": "heatmap"
           }
          ],
          "heatmapgl": [
           {
            "colorbar": {
             "outlinewidth": 0,
             "ticks": ""
            },
            "colorscale": [
             [
              0,
              "#0d0887"
             ],
             [
              0.1111111111111111,
              "#46039f"
             ],
             [
              0.2222222222222222,
              "#7201a8"
             ],
             [
              0.3333333333333333,
              "#9c179e"
             ],
             [
              0.4444444444444444,
              "#bd3786"
             ],
             [
              0.5555555555555556,
              "#d8576b"
             ],
             [
              0.6666666666666666,
              "#ed7953"
             ],
             [
              0.7777777777777778,
              "#fb9f3a"
             ],
             [
              0.8888888888888888,
              "#fdca26"
             ],
             [
              1,
              "#f0f921"
             ]
            ],
            "type": "heatmapgl"
           }
          ],
          "histogram": [
           {
            "marker": {
             "colorbar": {
              "outlinewidth": 0,
              "ticks": ""
             }
            },
            "type": "histogram"
           }
          ],
          "histogram2d": [
           {
            "colorbar": {
             "outlinewidth": 0,
             "ticks": ""
            },
            "colorscale": [
             [
              0,
              "#0d0887"
             ],
             [
              0.1111111111111111,
              "#46039f"
             ],
             [
              0.2222222222222222,
              "#7201a8"
             ],
             [
              0.3333333333333333,
              "#9c179e"
             ],
             [
              0.4444444444444444,
              "#bd3786"
             ],
             [
              0.5555555555555556,
              "#d8576b"
             ],
             [
              0.6666666666666666,
              "#ed7953"
             ],
             [
              0.7777777777777778,
              "#fb9f3a"
             ],
             [
              0.8888888888888888,
              "#fdca26"
             ],
             [
              1,
              "#f0f921"
             ]
            ],
            "type": "histogram2d"
           }
          ],
          "histogram2dcontour": [
           {
            "colorbar": {
             "outlinewidth": 0,
             "ticks": ""
            },
            "colorscale": [
             [
              0,
              "#0d0887"
             ],
             [
              0.1111111111111111,
              "#46039f"
             ],
             [
              0.2222222222222222,
              "#7201a8"
             ],
             [
              0.3333333333333333,
              "#9c179e"
             ],
             [
              0.4444444444444444,
              "#bd3786"
             ],
             [
              0.5555555555555556,
              "#d8576b"
             ],
             [
              0.6666666666666666,
              "#ed7953"
             ],
             [
              0.7777777777777778,
              "#fb9f3a"
             ],
             [
              0.8888888888888888,
              "#fdca26"
             ],
             [
              1,
              "#f0f921"
             ]
            ],
            "type": "histogram2dcontour"
           }
          ],
          "mesh3d": [
           {
            "colorbar": {
             "outlinewidth": 0,
             "ticks": ""
            },
            "type": "mesh3d"
           }
          ],
          "parcoords": [
           {
            "line": {
             "colorbar": {
              "outlinewidth": 0,
              "ticks": ""
             }
            },
            "type": "parcoords"
           }
          ],
          "pie": [
           {
            "automargin": true,
            "type": "pie"
           }
          ],
          "scatter": [
           {
            "marker": {
             "colorbar": {
              "outlinewidth": 0,
              "ticks": ""
             }
            },
            "type": "scatter"
           }
          ],
          "scatter3d": [
           {
            "line": {
             "colorbar": {
              "outlinewidth": 0,
              "ticks": ""
             }
            },
            "marker": {
             "colorbar": {
              "outlinewidth": 0,
              "ticks": ""
             }
            },
            "type": "scatter3d"
           }
          ],
          "scattercarpet": [
           {
            "marker": {
             "colorbar": {
              "outlinewidth": 0,
              "ticks": ""
             }
            },
            "type": "scattercarpet"
           }
          ],
          "scattergeo": [
           {
            "marker": {
             "colorbar": {
              "outlinewidth": 0,
              "ticks": ""
             }
            },
            "type": "scattergeo"
           }
          ],
          "scattergl": [
           {
            "marker": {
             "colorbar": {
              "outlinewidth": 0,
              "ticks": ""
             }
            },
            "type": "scattergl"
           }
          ],
          "scattermapbox": [
           {
            "marker": {
             "colorbar": {
              "outlinewidth": 0,
              "ticks": ""
             }
            },
            "type": "scattermapbox"
           }
          ],
          "scatterpolar": [
           {
            "marker": {
             "colorbar": {
              "outlinewidth": 0,
              "ticks": ""
             }
            },
            "type": "scatterpolar"
           }
          ],
          "scatterpolargl": [
           {
            "marker": {
             "colorbar": {
              "outlinewidth": 0,
              "ticks": ""
             }
            },
            "type": "scatterpolargl"
           }
          ],
          "scatterternary": [
           {
            "marker": {
             "colorbar": {
              "outlinewidth": 0,
              "ticks": ""
             }
            },
            "type": "scatterternary"
           }
          ],
          "surface": [
           {
            "colorbar": {
             "outlinewidth": 0,
             "ticks": ""
            },
            "colorscale": [
             [
              0,
              "#0d0887"
             ],
             [
              0.1111111111111111,
              "#46039f"
             ],
             [
              0.2222222222222222,
              "#7201a8"
             ],
             [
              0.3333333333333333,
              "#9c179e"
             ],
             [
              0.4444444444444444,
              "#bd3786"
             ],
             [
              0.5555555555555556,
              "#d8576b"
             ],
             [
              0.6666666666666666,
              "#ed7953"
             ],
             [
              0.7777777777777778,
              "#fb9f3a"
             ],
             [
              0.8888888888888888,
              "#fdca26"
             ],
             [
              1,
              "#f0f921"
             ]
            ],
            "type": "surface"
           }
          ],
          "table": [
           {
            "cells": {
             "fill": {
              "color": "#EBF0F8"
             },
             "line": {
              "color": "white"
             }
            },
            "header": {
             "fill": {
              "color": "#C8D4E3"
             },
             "line": {
              "color": "white"
             }
            },
            "type": "table"
           }
          ]
         },
         "layout": {
          "annotationdefaults": {
           "arrowcolor": "#2a3f5f",
           "arrowhead": 0,
           "arrowwidth": 1
          },
          "coloraxis": {
           "colorbar": {
            "outlinewidth": 0,
            "ticks": ""
           }
          },
          "colorscale": {
           "diverging": [
            [
             0,
             "#8e0152"
            ],
            [
             0.1,
             "#c51b7d"
            ],
            [
             0.2,
             "#de77ae"
            ],
            [
             0.3,
             "#f1b6da"
            ],
            [
             0.4,
             "#fde0ef"
            ],
            [
             0.5,
             "#f7f7f7"
            ],
            [
             0.6,
             "#e6f5d0"
            ],
            [
             0.7,
             "#b8e186"
            ],
            [
             0.8,
             "#7fbc41"
            ],
            [
             0.9,
             "#4d9221"
            ],
            [
             1,
             "#276419"
            ]
           ],
           "sequential": [
            [
             0,
             "#0d0887"
            ],
            [
             0.1111111111111111,
             "#46039f"
            ],
            [
             0.2222222222222222,
             "#7201a8"
            ],
            [
             0.3333333333333333,
             "#9c179e"
            ],
            [
             0.4444444444444444,
             "#bd3786"
            ],
            [
             0.5555555555555556,
             "#d8576b"
            ],
            [
             0.6666666666666666,
             "#ed7953"
            ],
            [
             0.7777777777777778,
             "#fb9f3a"
            ],
            [
             0.8888888888888888,
             "#fdca26"
            ],
            [
             1,
             "#f0f921"
            ]
           ],
           "sequentialminus": [
            [
             0,
             "#0d0887"
            ],
            [
             0.1111111111111111,
             "#46039f"
            ],
            [
             0.2222222222222222,
             "#7201a8"
            ],
            [
             0.3333333333333333,
             "#9c179e"
            ],
            [
             0.4444444444444444,
             "#bd3786"
            ],
            [
             0.5555555555555556,
             "#d8576b"
            ],
            [
             0.6666666666666666,
             "#ed7953"
            ],
            [
             0.7777777777777778,
             "#fb9f3a"
            ],
            [
             0.8888888888888888,
             "#fdca26"
            ],
            [
             1,
             "#f0f921"
            ]
           ]
          },
          "colorway": [
           "#636efa",
           "#EF553B",
           "#00cc96",
           "#ab63fa",
           "#FFA15A",
           "#19d3f3",
           "#FF6692",
           "#B6E880",
           "#FF97FF",
           "#FECB52"
          ],
          "font": {
           "color": "#2a3f5f"
          },
          "geo": {
           "bgcolor": "white",
           "lakecolor": "white",
           "landcolor": "#E5ECF6",
           "showlakes": true,
           "showland": true,
           "subunitcolor": "white"
          },
          "hoverlabel": {
           "align": "left"
          },
          "hovermode": "closest",
          "mapbox": {
           "style": "light"
          },
          "paper_bgcolor": "white",
          "plot_bgcolor": "#E5ECF6",
          "polar": {
           "angularaxis": {
            "gridcolor": "white",
            "linecolor": "white",
            "ticks": ""
           },
           "bgcolor": "#E5ECF6",
           "radialaxis": {
            "gridcolor": "white",
            "linecolor": "white",
            "ticks": ""
           }
          },
          "scene": {
           "xaxis": {
            "backgroundcolor": "#E5ECF6",
            "gridcolor": "white",
            "gridwidth": 2,
            "linecolor": "white",
            "showbackground": true,
            "ticks": "",
            "zerolinecolor": "white"
           },
           "yaxis": {
            "backgroundcolor": "#E5ECF6",
            "gridcolor": "white",
            "gridwidth": 2,
            "linecolor": "white",
            "showbackground": true,
            "ticks": "",
            "zerolinecolor": "white"
           },
           "zaxis": {
            "backgroundcolor": "#E5ECF6",
            "gridcolor": "white",
            "gridwidth": 2,
            "linecolor": "white",
            "showbackground": true,
            "ticks": "",
            "zerolinecolor": "white"
           }
          },
          "shapedefaults": {
           "line": {
            "color": "#2a3f5f"
           }
          },
          "ternary": {
           "aaxis": {
            "gridcolor": "white",
            "linecolor": "white",
            "ticks": ""
           },
           "baxis": {
            "gridcolor": "white",
            "linecolor": "white",
            "ticks": ""
           },
           "bgcolor": "#E5ECF6",
           "caxis": {
            "gridcolor": "white",
            "linecolor": "white",
            "ticks": ""
           }
          },
          "title": {
           "x": 0.05
          },
          "xaxis": {
           "automargin": true,
           "gridcolor": "white",
           "linecolor": "white",
           "ticks": "",
           "title": {
            "standoff": 15
           },
           "zerolinecolor": "white",
           "zerolinewidth": 2
          },
          "yaxis": {
           "automargin": true,
           "gridcolor": "white",
           "linecolor": "white",
           "ticks": "",
           "title": {
            "standoff": 15
           },
           "zerolinecolor": "white",
           "zerolinewidth": 2
          }
         }
        },
        "title": {
         "font": {
          "color": "#4D5663"
         }
        },
        "xaxis": {
         "gridcolor": "#E1E5ED",
         "showgrid": true,
         "tickfont": {
          "color": "#4D5663"
         },
         "title": {
          "font": {
           "color": "#4D5663"
          },
          "text": ""
         },
         "zerolinecolor": "#E1E5ED"
        },
        "yaxis": {
         "gridcolor": "#E1E5ED",
         "showgrid": true,
         "tickfont": {
          "color": "#4D5663"
         },
         "title": {
          "font": {
           "color": "#4D5663"
          },
          "text": ""
         },
         "zerolinecolor": "#E1E5ED"
        }
       }
      },
      "text/html": [
       "<div>\n",
       "        \n",
       "        \n",
       "            <div id=\"69e91677-820a-4f4f-a85b-09a92b879729\" class=\"plotly-graph-div\" style=\"height:525px; width:100%;\"></div>\n",
       "            <script type=\"text/javascript\">\n",
       "                require([\"plotly\"], function(Plotly) {\n",
       "                    window.PLOTLYENV=window.PLOTLYENV || {};\n",
       "                    window.PLOTLYENV.BASE_URL='https://plot.ly';\n",
       "                    \n",
       "                if (document.getElementById(\"69e91677-820a-4f4f-a85b-09a92b879729\")) {\n",
       "                    Plotly.newPlot(\n",
       "                        '69e91677-820a-4f4f-a85b-09a92b879729',\n",
       "                        [{\"histfunc\": \"count\", \"histnorm\": \"\", \"marker\": {\"color\": \"rgba(255, 153, 51, 1.0)\", \"line\": {\"color\": \"#4D5663\", \"width\": 1.3}}, \"name\": \"A\", \"nbinsx\": 25, \"opacity\": 0.8, \"orientation\": \"v\", \"type\": \"histogram\", \"x\": [0.1206249701213706, 0.49852343433333973, -1.3695553399502158, -1.7170528179870115, 0.27324678432871136, -1.9470279113703413, -2.4483751648331227, 2.333309249201956, -0.5121449809204915, 0.12969221850822205, -0.6446330133850526, -0.7218087032598325, 0.2656459530596007, -0.6601432489749915, 1.095736886907146, -1.6081513991361676, -1.4711849425270092, -0.33015331325706504, 2.0632132636067553, -0.27152117257142605, 2.165183144756075, 0.39182424403697896, 0.19242497695043612, 1.8579756132373373, -0.704147910019082, 0.31985241358400507, 3.2019984010748974, 2.708493171628477, -0.8149582531644922, -0.6898431778469533, 0.651341556525695, -1.15691281185948, 0.5246347278944932, -0.013981722891419775, -0.45936999170141557, -0.9159335479923458, -0.41459056313818277, -1.152026965541066, 0.7840720688654675, 1.1711501936861313, 2.8521190888211465, -0.24597651131725998, -0.5829420533728855, 0.7560144769434166, 0.18968195609462685, 0.13975579709874156, -1.6288501016314474, -0.4207530522827984, 0.27123940444038525, -0.40464482028266757, 0.822839968676394, -0.5198717202635307, 0.3492249557431336, -0.17654616410502988, -1.6242058314635195, 0.5721763537313155, -0.782036216071513, 0.23630964755269812, -0.5523086810647195, 1.189118061813389, -0.769864654950212, 0.8102943569511241, 0.8277296824869714, 1.3016116314975992, -1.6604476247983335, 0.16636825426915391, -1.7601388874575197, 0.8429652247550539, 0.13641566927538096, 0.8268913034982536, -0.6806238318448029, -0.943008434928968, 0.5744194922192287, 1.049889178412392, -0.31619961369343846, -0.8045301447010839, 1.097732124163626, -1.4137201680366165, 1.3008194488492095, -0.3804980351537032, 1.234911257258786, 0.9526409782109593, -0.21399781745464025, -0.7150615051321568, 0.06518789533903417, -0.0014750191727604316, -0.7748752618691193, -1.0300167525228836, 1.5485009452858873, 0.8947138295198088, 0.7452701013110108, 0.5509705642248981, -0.12540225234218974, -1.5306440021233014, -1.9286582817432802, -0.6594991082590205, 0.6744555298437124, -0.3298273188790175, 0.681874032005342, -0.23528992937710205]}],\n",
       "                        {\"barmode\": \"overlay\", \"legend\": {\"bgcolor\": \"#F5F6F9\", \"font\": {\"color\": \"#4D5663\"}}, \"paper_bgcolor\": \"#F5F6F9\", \"plot_bgcolor\": \"#F5F6F9\", \"template\": {\"data\": {\"bar\": [{\"error_x\": {\"color\": \"#2a3f5f\"}, \"error_y\": {\"color\": \"#2a3f5f\"}, \"marker\": {\"line\": {\"color\": \"#E5ECF6\", \"width\": 0.5}}, \"type\": \"bar\"}], \"barpolar\": [{\"marker\": {\"line\": {\"color\": \"#E5ECF6\", \"width\": 0.5}}, \"type\": \"barpolar\"}], \"carpet\": [{\"aaxis\": {\"endlinecolor\": \"#2a3f5f\", \"gridcolor\": \"white\", \"linecolor\": \"white\", \"minorgridcolor\": \"white\", \"startlinecolor\": \"#2a3f5f\"}, \"baxis\": {\"endlinecolor\": \"#2a3f5f\", \"gridcolor\": \"white\", \"linecolor\": \"white\", \"minorgridcolor\": \"white\", \"startlinecolor\": \"#2a3f5f\"}, \"type\": \"carpet\"}], \"choropleth\": [{\"colorbar\": {\"outlinewidth\": 0, \"ticks\": \"\"}, \"type\": \"choropleth\"}], \"contour\": [{\"colorbar\": {\"outlinewidth\": 0, \"ticks\": \"\"}, \"colorscale\": [[0.0, \"#0d0887\"], [0.1111111111111111, \"#46039f\"], [0.2222222222222222, \"#7201a8\"], [0.3333333333333333, \"#9c179e\"], [0.4444444444444444, \"#bd3786\"], [0.5555555555555556, \"#d8576b\"], [0.6666666666666666, \"#ed7953\"], [0.7777777777777778, \"#fb9f3a\"], [0.8888888888888888, \"#fdca26\"], [1.0, \"#f0f921\"]], \"type\": \"contour\"}], \"contourcarpet\": [{\"colorbar\": {\"outlinewidth\": 0, \"ticks\": \"\"}, \"type\": \"contourcarpet\"}], \"heatmap\": [{\"colorbar\": {\"outlinewidth\": 0, \"ticks\": \"\"}, \"colorscale\": [[0.0, \"#0d0887\"], [0.1111111111111111, \"#46039f\"], [0.2222222222222222, \"#7201a8\"], [0.3333333333333333, \"#9c179e\"], [0.4444444444444444, \"#bd3786\"], [0.5555555555555556, \"#d8576b\"], [0.6666666666666666, \"#ed7953\"], [0.7777777777777778, \"#fb9f3a\"], [0.8888888888888888, \"#fdca26\"], [1.0, \"#f0f921\"]], \"type\": \"heatmap\"}], \"heatmapgl\": [{\"colorbar\": {\"outlinewidth\": 0, \"ticks\": \"\"}, \"colorscale\": [[0.0, \"#0d0887\"], [0.1111111111111111, \"#46039f\"], [0.2222222222222222, \"#7201a8\"], [0.3333333333333333, \"#9c179e\"], [0.4444444444444444, \"#bd3786\"], [0.5555555555555556, \"#d8576b\"], [0.6666666666666666, \"#ed7953\"], [0.7777777777777778, \"#fb9f3a\"], [0.8888888888888888, \"#fdca26\"], [1.0, \"#f0f921\"]], \"type\": \"heatmapgl\"}], \"histogram\": [{\"marker\": {\"colorbar\": {\"outlinewidth\": 0, \"ticks\": \"\"}}, \"type\": \"histogram\"}], \"histogram2d\": [{\"colorbar\": {\"outlinewidth\": 0, \"ticks\": \"\"}, \"colorscale\": [[0.0, \"#0d0887\"], [0.1111111111111111, \"#46039f\"], [0.2222222222222222, \"#7201a8\"], [0.3333333333333333, \"#9c179e\"], [0.4444444444444444, \"#bd3786\"], [0.5555555555555556, \"#d8576b\"], [0.6666666666666666, \"#ed7953\"], [0.7777777777777778, \"#fb9f3a\"], [0.8888888888888888, \"#fdca26\"], [1.0, \"#f0f921\"]], \"type\": \"histogram2d\"}], \"histogram2dcontour\": [{\"colorbar\": {\"outlinewidth\": 0, \"ticks\": \"\"}, \"colorscale\": [[0.0, \"#0d0887\"], [0.1111111111111111, \"#46039f\"], [0.2222222222222222, \"#7201a8\"], [0.3333333333333333, \"#9c179e\"], [0.4444444444444444, \"#bd3786\"], [0.5555555555555556, \"#d8576b\"], [0.6666666666666666, \"#ed7953\"], [0.7777777777777778, \"#fb9f3a\"], [0.8888888888888888, \"#fdca26\"], [1.0, \"#f0f921\"]], \"type\": \"histogram2dcontour\"}], \"mesh3d\": [{\"colorbar\": {\"outlinewidth\": 0, \"ticks\": \"\"}, \"type\": \"mesh3d\"}], \"parcoords\": [{\"line\": {\"colorbar\": {\"outlinewidth\": 0, \"ticks\": \"\"}}, \"type\": \"parcoords\"}], \"pie\": [{\"automargin\": true, \"type\": \"pie\"}], \"scatter\": [{\"marker\": {\"colorbar\": {\"outlinewidth\": 0, \"ticks\": \"\"}}, \"type\": \"scatter\"}], \"scatter3d\": [{\"line\": {\"colorbar\": {\"outlinewidth\": 0, \"ticks\": \"\"}}, \"marker\": {\"colorbar\": {\"outlinewidth\": 0, \"ticks\": \"\"}}, \"type\": \"scatter3d\"}], \"scattercarpet\": [{\"marker\": {\"colorbar\": {\"outlinewidth\": 0, \"ticks\": \"\"}}, \"type\": \"scattercarpet\"}], \"scattergeo\": [{\"marker\": {\"colorbar\": {\"outlinewidth\": 0, \"ticks\": \"\"}}, \"type\": \"scattergeo\"}], \"scattergl\": [{\"marker\": {\"colorbar\": {\"outlinewidth\": 0, \"ticks\": \"\"}}, \"type\": \"scattergl\"}], \"scattermapbox\": [{\"marker\": {\"colorbar\": {\"outlinewidth\": 0, \"ticks\": \"\"}}, \"type\": \"scattermapbox\"}], \"scatterpolar\": [{\"marker\": {\"colorbar\": {\"outlinewidth\": 0, \"ticks\": \"\"}}, \"type\": \"scatterpolar\"}], \"scatterpolargl\": [{\"marker\": {\"colorbar\": {\"outlinewidth\": 0, \"ticks\": \"\"}}, \"type\": \"scatterpolargl\"}], \"scatterternary\": [{\"marker\": {\"colorbar\": {\"outlinewidth\": 0, \"ticks\": \"\"}}, \"type\": \"scatterternary\"}], \"surface\": [{\"colorbar\": {\"outlinewidth\": 0, \"ticks\": \"\"}, \"colorscale\": [[0.0, \"#0d0887\"], [0.1111111111111111, \"#46039f\"], [0.2222222222222222, \"#7201a8\"], [0.3333333333333333, \"#9c179e\"], [0.4444444444444444, \"#bd3786\"], [0.5555555555555556, \"#d8576b\"], [0.6666666666666666, \"#ed7953\"], [0.7777777777777778, \"#fb9f3a\"], [0.8888888888888888, \"#fdca26\"], [1.0, \"#f0f921\"]], \"type\": \"surface\"}], \"table\": [{\"cells\": {\"fill\": {\"color\": \"#EBF0F8\"}, \"line\": {\"color\": \"white\"}}, \"header\": {\"fill\": {\"color\": \"#C8D4E3\"}, \"line\": {\"color\": \"white\"}}, \"type\": \"table\"}]}, \"layout\": {\"annotationdefaults\": {\"arrowcolor\": \"#2a3f5f\", \"arrowhead\": 0, \"arrowwidth\": 1}, \"coloraxis\": {\"colorbar\": {\"outlinewidth\": 0, \"ticks\": \"\"}}, \"colorscale\": {\"diverging\": [[0, \"#8e0152\"], [0.1, \"#c51b7d\"], [0.2, \"#de77ae\"], [0.3, \"#f1b6da\"], [0.4, \"#fde0ef\"], [0.5, \"#f7f7f7\"], [0.6, \"#e6f5d0\"], [0.7, \"#b8e186\"], [0.8, \"#7fbc41\"], [0.9, \"#4d9221\"], [1, \"#276419\"]], \"sequential\": [[0.0, \"#0d0887\"], [0.1111111111111111, \"#46039f\"], [0.2222222222222222, \"#7201a8\"], [0.3333333333333333, \"#9c179e\"], [0.4444444444444444, \"#bd3786\"], [0.5555555555555556, \"#d8576b\"], [0.6666666666666666, \"#ed7953\"], [0.7777777777777778, \"#fb9f3a\"], [0.8888888888888888, \"#fdca26\"], [1.0, \"#f0f921\"]], \"sequentialminus\": [[0.0, \"#0d0887\"], [0.1111111111111111, \"#46039f\"], [0.2222222222222222, \"#7201a8\"], [0.3333333333333333, \"#9c179e\"], [0.4444444444444444, \"#bd3786\"], [0.5555555555555556, \"#d8576b\"], [0.6666666666666666, \"#ed7953\"], [0.7777777777777778, \"#fb9f3a\"], [0.8888888888888888, \"#fdca26\"], [1.0, \"#f0f921\"]]}, \"colorway\": [\"#636efa\", \"#EF553B\", \"#00cc96\", \"#ab63fa\", \"#FFA15A\", \"#19d3f3\", \"#FF6692\", \"#B6E880\", \"#FF97FF\", \"#FECB52\"], \"font\": {\"color\": \"#2a3f5f\"}, \"geo\": {\"bgcolor\": \"white\", \"lakecolor\": \"white\", \"landcolor\": \"#E5ECF6\", \"showlakes\": true, \"showland\": true, \"subunitcolor\": \"white\"}, \"hoverlabel\": {\"align\": \"left\"}, \"hovermode\": \"closest\", \"mapbox\": {\"style\": \"light\"}, \"paper_bgcolor\": \"white\", \"plot_bgcolor\": \"#E5ECF6\", \"polar\": {\"angularaxis\": {\"gridcolor\": \"white\", \"linecolor\": \"white\", \"ticks\": \"\"}, \"bgcolor\": \"#E5ECF6\", \"radialaxis\": {\"gridcolor\": \"white\", \"linecolor\": \"white\", \"ticks\": \"\"}}, \"scene\": {\"xaxis\": {\"backgroundcolor\": \"#E5ECF6\", \"gridcolor\": \"white\", \"gridwidth\": 2, \"linecolor\": \"white\", \"showbackground\": true, \"ticks\": \"\", \"zerolinecolor\": \"white\"}, \"yaxis\": {\"backgroundcolor\": \"#E5ECF6\", \"gridcolor\": \"white\", \"gridwidth\": 2, \"linecolor\": \"white\", \"showbackground\": true, \"ticks\": \"\", \"zerolinecolor\": \"white\"}, \"zaxis\": {\"backgroundcolor\": \"#E5ECF6\", \"gridcolor\": \"white\", \"gridwidth\": 2, \"linecolor\": \"white\", \"showbackground\": true, \"ticks\": \"\", \"zerolinecolor\": \"white\"}}, \"shapedefaults\": {\"line\": {\"color\": \"#2a3f5f\"}}, \"ternary\": {\"aaxis\": {\"gridcolor\": \"white\", \"linecolor\": \"white\", \"ticks\": \"\"}, \"baxis\": {\"gridcolor\": \"white\", \"linecolor\": \"white\", \"ticks\": \"\"}, \"bgcolor\": \"#E5ECF6\", \"caxis\": {\"gridcolor\": \"white\", \"linecolor\": \"white\", \"ticks\": \"\"}}, \"title\": {\"x\": 0.05}, \"xaxis\": {\"automargin\": true, \"gridcolor\": \"white\", \"linecolor\": \"white\", \"ticks\": \"\", \"title\": {\"standoff\": 15}, \"zerolinecolor\": \"white\", \"zerolinewidth\": 2}, \"yaxis\": {\"automargin\": true, \"gridcolor\": \"white\", \"linecolor\": \"white\", \"ticks\": \"\", \"title\": {\"standoff\": 15}, \"zerolinecolor\": \"white\", \"zerolinewidth\": 2}}}, \"title\": {\"font\": {\"color\": \"#4D5663\"}}, \"xaxis\": {\"gridcolor\": \"#E1E5ED\", \"showgrid\": true, \"tickfont\": {\"color\": \"#4D5663\"}, \"title\": {\"font\": {\"color\": \"#4D5663\"}, \"text\": \"\"}, \"zerolinecolor\": \"#E1E5ED\"}, \"yaxis\": {\"gridcolor\": \"#E1E5ED\", \"showgrid\": true, \"tickfont\": {\"color\": \"#4D5663\"}, \"title\": {\"font\": {\"color\": \"#4D5663\"}, \"text\": \"\"}, \"zerolinecolor\": \"#E1E5ED\"}},\n",
       "                        {\"showLink\": true, \"linkText\": \"Export to plot.ly\", \"plotlyServerURL\": \"https://plot.ly\", \"responsive\": true}\n",
       "                    ).then(function(){\n",
       "                            \n",
       "var gd = document.getElementById('69e91677-820a-4f4f-a85b-09a92b879729');\n",
       "var x = new MutationObserver(function (mutations, observer) {{\n",
       "        var display = window.getComputedStyle(gd).display;\n",
       "        if (!display || display === 'none') {{\n",
       "            console.log([gd, 'removed!']);\n",
       "            Plotly.purge(gd);\n",
       "            observer.disconnect();\n",
       "        }}\n",
       "}});\n",
       "\n",
       "// Listen for the removal of the full notebook cells\n",
       "var notebookContainer = gd.closest('#notebook-container');\n",
       "if (notebookContainer) {{\n",
       "    x.observe(notebookContainer, {childList: true});\n",
       "}}\n",
       "\n",
       "// Listen for the clearing of the current output cell\n",
       "var outputEl = gd.closest('.output');\n",
       "if (outputEl) {{\n",
       "    x.observe(outputEl, {childList: true});\n",
       "}}\n",
       "\n",
       "                        })\n",
       "                };\n",
       "                });\n",
       "            </script>\n",
       "        </div>"
      ]
     },
     "metadata": {},
     "output_type": "display_data"
    }
   ],
   "source": [
    "df['A'].iplot(kind='hist',bins=25)"
   ]
  },
  {
   "cell_type": "code",
   "execution_count": 18,
   "metadata": {},
   "outputs": [
    {
     "data": {
      "application/vnd.plotly.v1+json": {
       "config": {
        "linkText": "Export to plot.ly",
        "plotlyServerURL": "https://plot.ly",
        "showLink": true
       },
       "data": [
        {
         "marker": {
          "color": [
           "red",
           "red",
           "red",
           "red",
           "red",
           "red",
           "red",
           "red",
           "red",
           "red",
           "red",
           "red",
           "red",
           "red",
           "red",
           "red",
           "red",
           "red",
           "red",
           "red",
           "red",
           "red",
           "red",
           "red",
           "red",
           "red",
           "red",
           "red",
           "red",
           "red",
           "red",
           "red",
           "red",
           "red",
           "red",
           "red",
           "red",
           "red",
           "red",
           "red",
           "red",
           "red",
           "red",
           "red",
           "red",
           "red",
           "red",
           "red",
           "red",
           "red",
           "red",
           "red",
           "red",
           "red",
           "red",
           "red",
           "red",
           "red",
           "red",
           "red",
           "red",
           "red",
           "red",
           "red",
           "red",
           "red",
           "red",
           "red",
           "red",
           "red",
           "red",
           "red",
           "red",
           "red",
           "red",
           "red",
           "red",
           "red",
           "red",
           "red",
           "red",
           "red",
           "red",
           "red",
           "red",
           "red",
           "red",
           "red",
           "red",
           "red",
           "red",
           "red",
           "red",
           "red",
           "red",
           "red",
           "red",
           "red",
           "red",
           "red"
          ],
          "line": {
           "width": 1.3
          },
          "size": [
           34,
           37,
           54,
           69,
           62,
           66,
           69,
           73,
           73,
           78,
           62,
           60,
           92,
           67,
           81,
           69,
           60,
           95,
           43,
           61,
           64,
           67,
           92,
           25,
           53,
           62,
           70,
           47,
           64,
           59,
           12,
           45,
           61,
           60,
           54,
           87,
           54,
           68,
           57,
           28,
           70,
           88,
           54,
           33,
           85,
           49,
           87,
           60,
           98,
           41,
           47,
           25,
           69,
           77,
           46,
           65,
           61,
           73,
           41,
           56,
           41,
           53,
           24,
           50,
           33,
           63,
           75,
           99,
           112,
           44,
           28,
           60,
           57,
           50,
           64,
           88,
           48,
           86,
           17,
           55,
           51,
           71,
           68,
           54,
           57,
           41,
           62,
           53,
           71,
           48,
           78,
           70,
           46,
           79,
           68,
           91,
           61,
           62,
           61,
           66
          ],
          "symbol": "circle"
         },
         "mode": "markers",
         "text": "",
         "type": "scatter",
         "x": [
          0.1206249701213706,
          0.49852343433333973,
          -1.3695553399502158,
          -1.7170528179870115,
          0.27324678432871136,
          -1.9470279113703413,
          -2.4483751648331227,
          2.333309249201956,
          -0.5121449809204915,
          0.12969221850822205,
          -0.6446330133850526,
          -0.7218087032598325,
          0.2656459530596007,
          -0.6601432489749915,
          1.095736886907146,
          -1.6081513991361676,
          -1.4711849425270092,
          -0.33015331325706504,
          2.0632132636067553,
          -0.27152117257142605,
          2.165183144756075,
          0.39182424403697896,
          0.19242497695043612,
          1.8579756132373373,
          -0.704147910019082,
          0.31985241358400507,
          3.2019984010748974,
          2.708493171628477,
          -0.8149582531644922,
          -0.6898431778469533,
          0.651341556525695,
          -1.15691281185948,
          0.5246347278944932,
          -0.013981722891419775,
          -0.45936999170141557,
          -0.9159335479923458,
          -0.41459056313818277,
          -1.152026965541066,
          0.7840720688654675,
          1.1711501936861313,
          2.8521190888211465,
          -0.24597651131725998,
          -0.5829420533728855,
          0.7560144769434166,
          0.18968195609462685,
          0.13975579709874156,
          -1.6288501016314474,
          -0.4207530522827984,
          0.27123940444038525,
          -0.40464482028266757,
          0.822839968676394,
          -0.5198717202635307,
          0.3492249557431336,
          -0.17654616410502988,
          -1.6242058314635195,
          0.5721763537313155,
          -0.782036216071513,
          0.23630964755269812,
          -0.5523086810647195,
          1.189118061813389,
          -0.769864654950212,
          0.8102943569511241,
          0.8277296824869714,
          1.3016116314975992,
          -1.6604476247983335,
          0.16636825426915391,
          -1.7601388874575197,
          0.8429652247550539,
          0.13641566927538096,
          0.8268913034982536,
          -0.6806238318448029,
          -0.943008434928968,
          0.5744194922192287,
          1.049889178412392,
          -0.31619961369343846,
          -0.8045301447010839,
          1.097732124163626,
          -1.4137201680366165,
          1.3008194488492095,
          -0.3804980351537032,
          1.234911257258786,
          0.9526409782109593,
          -0.21399781745464025,
          -0.7150615051321568,
          0.06518789533903417,
          -0.0014750191727604316,
          -0.7748752618691193,
          -1.0300167525228836,
          1.5485009452858873,
          0.8947138295198088,
          0.7452701013110108,
          0.5509705642248981,
          -0.12540225234218974,
          -1.5306440021233014,
          -1.9286582817432802,
          -0.6594991082590205,
          0.6744555298437124,
          -0.3298273188790175,
          0.681874032005342,
          -0.23528992937710205
         ],
         "y": [
          1.7644200206191962,
          -0.30576255159833926,
          0.48591216870055987,
          0.7985155071177396,
          -0.14876872605666622,
          -0.8622242683700565,
          0.1363141020244147,
          -0.7260451911673562,
          2.073816753478071,
          -0.43898713716167187,
          0.33691258903617394,
          -0.05977193298366424,
          -0.8227901853712595,
          -0.8323746630428965,
          0.11095605377397717,
          0.6454186407784175,
          -0.5617872893626544,
          -0.4110696787509862,
          0.412153074799562,
          1.0155778406138107,
          0.9303310600055554,
          0.44839861289213107,
          0.25060701266456337,
          -0.6200811509285393,
          -0.36400150881228605,
          -0.7812423279375649,
          2.7449130955233194,
          1.0482475424867093,
          0.4080247242022707,
          0.030117620479940908,
          0.6109744191377052,
          0.7051984383646073,
          0.550232781652086,
          0.22880534813358577,
          -1.1564235529442963,
          -0.8260709362775998,
          1.285516241637799,
          -1.0204578541625269,
          0.6873614732322731,
          0.9291586945660607,
          -0.9964508041363669,
          -1.1456252019685773,
          0.41945494135951766,
          0.5018426975736096,
          0.7857702165301329,
          -0.09848632547303204,
          -0.6588981067399119,
          1.1853881697458184,
          1.3013098324717234,
          -0.6901871629828826,
          1.5706311752726443,
          0.35375661865285923,
          -1.7730555476594445,
          0.1404389261610056,
          0.2800682200551832,
          0.09641204971271065,
          1.5947658424754458,
          -0.9085732689692162,
          -0.19971973896539877,
          -0.29538487952431997,
          -0.16782616148221235,
          -0.22318964705705444,
          -1.1872048056031284,
          0.6447368621613021,
          0.011365501551874865,
          1.4270433489524255,
          2.3503140280491395,
          1.3962528943379109,
          0.7244555209068144,
          -0.465532477546086,
          1.28244991571956,
          0.19457895804176906,
          1.6799624327556104,
          1.119688007459729,
          -1.6574546810221313,
          0.19306786021194244,
          -0.3805407112775789,
          0.8237696600063881,
          1.6242052320141758,
          0.40698880308051666,
          -0.6972818731596732,
          1.711150635837316,
          -0.4245327195817335,
          -0.20296865094415448,
          0.27848558727482353,
          -0.07798204924120888,
          -1.3626214176056117,
          0.7426308471042079,
          0.11623335626503752,
          -0.29613174978263107,
          -0.982863194027543,
          -0.796878071956125,
          -0.4549314438785417,
          -0.19493574595397817,
          -0.7581093396617404,
          -0.7753823819206512,
          -0.17383535358302876,
          -0.05555904455453927,
          0.6506547474934091,
          -1.1733039608928564
         ]
        }
       ],
       "layout": {
        "legend": {
         "bgcolor": "#F5F6F9",
         "font": {
          "color": "#4D5663"
         }
        },
        "paper_bgcolor": "#F5F6F9",
        "plot_bgcolor": "#F5F6F9",
        "template": {
         "data": {
          "bar": [
           {
            "error_x": {
             "color": "#2a3f5f"
            },
            "error_y": {
             "color": "#2a3f5f"
            },
            "marker": {
             "line": {
              "color": "#E5ECF6",
              "width": 0.5
             }
            },
            "type": "bar"
           }
          ],
          "barpolar": [
           {
            "marker": {
             "line": {
              "color": "#E5ECF6",
              "width": 0.5
             }
            },
            "type": "barpolar"
           }
          ],
          "carpet": [
           {
            "aaxis": {
             "endlinecolor": "#2a3f5f",
             "gridcolor": "white",
             "linecolor": "white",
             "minorgridcolor": "white",
             "startlinecolor": "#2a3f5f"
            },
            "baxis": {
             "endlinecolor": "#2a3f5f",
             "gridcolor": "white",
             "linecolor": "white",
             "minorgridcolor": "white",
             "startlinecolor": "#2a3f5f"
            },
            "type": "carpet"
           }
          ],
          "choropleth": [
           {
            "colorbar": {
             "outlinewidth": 0,
             "ticks": ""
            },
            "type": "choropleth"
           }
          ],
          "contour": [
           {
            "colorbar": {
             "outlinewidth": 0,
             "ticks": ""
            },
            "colorscale": [
             [
              0,
              "#0d0887"
             ],
             [
              0.1111111111111111,
              "#46039f"
             ],
             [
              0.2222222222222222,
              "#7201a8"
             ],
             [
              0.3333333333333333,
              "#9c179e"
             ],
             [
              0.4444444444444444,
              "#bd3786"
             ],
             [
              0.5555555555555556,
              "#d8576b"
             ],
             [
              0.6666666666666666,
              "#ed7953"
             ],
             [
              0.7777777777777778,
              "#fb9f3a"
             ],
             [
              0.8888888888888888,
              "#fdca26"
             ],
             [
              1,
              "#f0f921"
             ]
            ],
            "type": "contour"
           }
          ],
          "contourcarpet": [
           {
            "colorbar": {
             "outlinewidth": 0,
             "ticks": ""
            },
            "type": "contourcarpet"
           }
          ],
          "heatmap": [
           {
            "colorbar": {
             "outlinewidth": 0,
             "ticks": ""
            },
            "colorscale": [
             [
              0,
              "#0d0887"
             ],
             [
              0.1111111111111111,
              "#46039f"
             ],
             [
              0.2222222222222222,
              "#7201a8"
             ],
             [
              0.3333333333333333,
              "#9c179e"
             ],
             [
              0.4444444444444444,
              "#bd3786"
             ],
             [
              0.5555555555555556,
              "#d8576b"
             ],
             [
              0.6666666666666666,
              "#ed7953"
             ],
             [
              0.7777777777777778,
              "#fb9f3a"
             ],
             [
              0.8888888888888888,
              "#fdca26"
             ],
             [
              1,
              "#f0f921"
             ]
            ],
            "type": "heatmap"
           }
          ],
          "heatmapgl": [
           {
            "colorbar": {
             "outlinewidth": 0,
             "ticks": ""
            },
            "colorscale": [
             [
              0,
              "#0d0887"
             ],
             [
              0.1111111111111111,
              "#46039f"
             ],
             [
              0.2222222222222222,
              "#7201a8"
             ],
             [
              0.3333333333333333,
              "#9c179e"
             ],
             [
              0.4444444444444444,
              "#bd3786"
             ],
             [
              0.5555555555555556,
              "#d8576b"
             ],
             [
              0.6666666666666666,
              "#ed7953"
             ],
             [
              0.7777777777777778,
              "#fb9f3a"
             ],
             [
              0.8888888888888888,
              "#fdca26"
             ],
             [
              1,
              "#f0f921"
             ]
            ],
            "type": "heatmapgl"
           }
          ],
          "histogram": [
           {
            "marker": {
             "colorbar": {
              "outlinewidth": 0,
              "ticks": ""
             }
            },
            "type": "histogram"
           }
          ],
          "histogram2d": [
           {
            "colorbar": {
             "outlinewidth": 0,
             "ticks": ""
            },
            "colorscale": [
             [
              0,
              "#0d0887"
             ],
             [
              0.1111111111111111,
              "#46039f"
             ],
             [
              0.2222222222222222,
              "#7201a8"
             ],
             [
              0.3333333333333333,
              "#9c179e"
             ],
             [
              0.4444444444444444,
              "#bd3786"
             ],
             [
              0.5555555555555556,
              "#d8576b"
             ],
             [
              0.6666666666666666,
              "#ed7953"
             ],
             [
              0.7777777777777778,
              "#fb9f3a"
             ],
             [
              0.8888888888888888,
              "#fdca26"
             ],
             [
              1,
              "#f0f921"
             ]
            ],
            "type": "histogram2d"
           }
          ],
          "histogram2dcontour": [
           {
            "colorbar": {
             "outlinewidth": 0,
             "ticks": ""
            },
            "colorscale": [
             [
              0,
              "#0d0887"
             ],
             [
              0.1111111111111111,
              "#46039f"
             ],
             [
              0.2222222222222222,
              "#7201a8"
             ],
             [
              0.3333333333333333,
              "#9c179e"
             ],
             [
              0.4444444444444444,
              "#bd3786"
             ],
             [
              0.5555555555555556,
              "#d8576b"
             ],
             [
              0.6666666666666666,
              "#ed7953"
             ],
             [
              0.7777777777777778,
              "#fb9f3a"
             ],
             [
              0.8888888888888888,
              "#fdca26"
             ],
             [
              1,
              "#f0f921"
             ]
            ],
            "type": "histogram2dcontour"
           }
          ],
          "mesh3d": [
           {
            "colorbar": {
             "outlinewidth": 0,
             "ticks": ""
            },
            "type": "mesh3d"
           }
          ],
          "parcoords": [
           {
            "line": {
             "colorbar": {
              "outlinewidth": 0,
              "ticks": ""
             }
            },
            "type": "parcoords"
           }
          ],
          "pie": [
           {
            "automargin": true,
            "type": "pie"
           }
          ],
          "scatter": [
           {
            "marker": {
             "colorbar": {
              "outlinewidth": 0,
              "ticks": ""
             }
            },
            "type": "scatter"
           }
          ],
          "scatter3d": [
           {
            "line": {
             "colorbar": {
              "outlinewidth": 0,
              "ticks": ""
             }
            },
            "marker": {
             "colorbar": {
              "outlinewidth": 0,
              "ticks": ""
             }
            },
            "type": "scatter3d"
           }
          ],
          "scattercarpet": [
           {
            "marker": {
             "colorbar": {
              "outlinewidth": 0,
              "ticks": ""
             }
            },
            "type": "scattercarpet"
           }
          ],
          "scattergeo": [
           {
            "marker": {
             "colorbar": {
              "outlinewidth": 0,
              "ticks": ""
             }
            },
            "type": "scattergeo"
           }
          ],
          "scattergl": [
           {
            "marker": {
             "colorbar": {
              "outlinewidth": 0,
              "ticks": ""
             }
            },
            "type": "scattergl"
           }
          ],
          "scattermapbox": [
           {
            "marker": {
             "colorbar": {
              "outlinewidth": 0,
              "ticks": ""
             }
            },
            "type": "scattermapbox"
           }
          ],
          "scatterpolar": [
           {
            "marker": {
             "colorbar": {
              "outlinewidth": 0,
              "ticks": ""
             }
            },
            "type": "scatterpolar"
           }
          ],
          "scatterpolargl": [
           {
            "marker": {
             "colorbar": {
              "outlinewidth": 0,
              "ticks": ""
             }
            },
            "type": "scatterpolargl"
           }
          ],
          "scatterternary": [
           {
            "marker": {
             "colorbar": {
              "outlinewidth": 0,
              "ticks": ""
             }
            },
            "type": "scatterternary"
           }
          ],
          "surface": [
           {
            "colorbar": {
             "outlinewidth": 0,
             "ticks": ""
            },
            "colorscale": [
             [
              0,
              "#0d0887"
             ],
             [
              0.1111111111111111,
              "#46039f"
             ],
             [
              0.2222222222222222,
              "#7201a8"
             ],
             [
              0.3333333333333333,
              "#9c179e"
             ],
             [
              0.4444444444444444,
              "#bd3786"
             ],
             [
              0.5555555555555556,
              "#d8576b"
             ],
             [
              0.6666666666666666,
              "#ed7953"
             ],
             [
              0.7777777777777778,
              "#fb9f3a"
             ],
             [
              0.8888888888888888,
              "#fdca26"
             ],
             [
              1,
              "#f0f921"
             ]
            ],
            "type": "surface"
           }
          ],
          "table": [
           {
            "cells": {
             "fill": {
              "color": "#EBF0F8"
             },
             "line": {
              "color": "white"
             }
            },
            "header": {
             "fill": {
              "color": "#C8D4E3"
             },
             "line": {
              "color": "white"
             }
            },
            "type": "table"
           }
          ]
         },
         "layout": {
          "annotationdefaults": {
           "arrowcolor": "#2a3f5f",
           "arrowhead": 0,
           "arrowwidth": 1
          },
          "coloraxis": {
           "colorbar": {
            "outlinewidth": 0,
            "ticks": ""
           }
          },
          "colorscale": {
           "diverging": [
            [
             0,
             "#8e0152"
            ],
            [
             0.1,
             "#c51b7d"
            ],
            [
             0.2,
             "#de77ae"
            ],
            [
             0.3,
             "#f1b6da"
            ],
            [
             0.4,
             "#fde0ef"
            ],
            [
             0.5,
             "#f7f7f7"
            ],
            [
             0.6,
             "#e6f5d0"
            ],
            [
             0.7,
             "#b8e186"
            ],
            [
             0.8,
             "#7fbc41"
            ],
            [
             0.9,
             "#4d9221"
            ],
            [
             1,
             "#276419"
            ]
           ],
           "sequential": [
            [
             0,
             "#0d0887"
            ],
            [
             0.1111111111111111,
             "#46039f"
            ],
            [
             0.2222222222222222,
             "#7201a8"
            ],
            [
             0.3333333333333333,
             "#9c179e"
            ],
            [
             0.4444444444444444,
             "#bd3786"
            ],
            [
             0.5555555555555556,
             "#d8576b"
            ],
            [
             0.6666666666666666,
             "#ed7953"
            ],
            [
             0.7777777777777778,
             "#fb9f3a"
            ],
            [
             0.8888888888888888,
             "#fdca26"
            ],
            [
             1,
             "#f0f921"
            ]
           ],
           "sequentialminus": [
            [
             0,
             "#0d0887"
            ],
            [
             0.1111111111111111,
             "#46039f"
            ],
            [
             0.2222222222222222,
             "#7201a8"
            ],
            [
             0.3333333333333333,
             "#9c179e"
            ],
            [
             0.4444444444444444,
             "#bd3786"
            ],
            [
             0.5555555555555556,
             "#d8576b"
            ],
            [
             0.6666666666666666,
             "#ed7953"
            ],
            [
             0.7777777777777778,
             "#fb9f3a"
            ],
            [
             0.8888888888888888,
             "#fdca26"
            ],
            [
             1,
             "#f0f921"
            ]
           ]
          },
          "colorway": [
           "#636efa",
           "#EF553B",
           "#00cc96",
           "#ab63fa",
           "#FFA15A",
           "#19d3f3",
           "#FF6692",
           "#B6E880",
           "#FF97FF",
           "#FECB52"
          ],
          "font": {
           "color": "#2a3f5f"
          },
          "geo": {
           "bgcolor": "white",
           "lakecolor": "white",
           "landcolor": "#E5ECF6",
           "showlakes": true,
           "showland": true,
           "subunitcolor": "white"
          },
          "hoverlabel": {
           "align": "left"
          },
          "hovermode": "closest",
          "mapbox": {
           "style": "light"
          },
          "paper_bgcolor": "white",
          "plot_bgcolor": "#E5ECF6",
          "polar": {
           "angularaxis": {
            "gridcolor": "white",
            "linecolor": "white",
            "ticks": ""
           },
           "bgcolor": "#E5ECF6",
           "radialaxis": {
            "gridcolor": "white",
            "linecolor": "white",
            "ticks": ""
           }
          },
          "scene": {
           "xaxis": {
            "backgroundcolor": "#E5ECF6",
            "gridcolor": "white",
            "gridwidth": 2,
            "linecolor": "white",
            "showbackground": true,
            "ticks": "",
            "zerolinecolor": "white"
           },
           "yaxis": {
            "backgroundcolor": "#E5ECF6",
            "gridcolor": "white",
            "gridwidth": 2,
            "linecolor": "white",
            "showbackground": true,
            "ticks": "",
            "zerolinecolor": "white"
           },
           "zaxis": {
            "backgroundcolor": "#E5ECF6",
            "gridcolor": "white",
            "gridwidth": 2,
            "linecolor": "white",
            "showbackground": true,
            "ticks": "",
            "zerolinecolor": "white"
           }
          },
          "shapedefaults": {
           "line": {
            "color": "#2a3f5f"
           }
          },
          "ternary": {
           "aaxis": {
            "gridcolor": "white",
            "linecolor": "white",
            "ticks": ""
           },
           "baxis": {
            "gridcolor": "white",
            "linecolor": "white",
            "ticks": ""
           },
           "bgcolor": "#E5ECF6",
           "caxis": {
            "gridcolor": "white",
            "linecolor": "white",
            "ticks": ""
           }
          },
          "title": {
           "x": 0.05
          },
          "xaxis": {
           "automargin": true,
           "gridcolor": "white",
           "linecolor": "white",
           "ticks": "",
           "title": {
            "standoff": 15
           },
           "zerolinecolor": "white",
           "zerolinewidth": 2
          },
          "yaxis": {
           "automargin": true,
           "gridcolor": "white",
           "linecolor": "white",
           "ticks": "",
           "title": {
            "standoff": 15
           },
           "zerolinecolor": "white",
           "zerolinewidth": 2
          }
         }
        },
        "title": {
         "font": {
          "color": "#4D5663"
         }
        },
        "xaxis": {
         "gridcolor": "#E1E5ED",
         "showgrid": true,
         "tickfont": {
          "color": "#4D5663"
         },
         "title": {
          "font": {
           "color": "#4D5663"
          },
          "text": ""
         },
         "zerolinecolor": "#E1E5ED"
        },
        "yaxis": {
         "gridcolor": "#E1E5ED",
         "showgrid": true,
         "tickfont": {
          "color": "#4D5663"
         },
         "title": {
          "font": {
           "color": "#4D5663"
          },
          "text": ""
         },
         "zerolinecolor": "#E1E5ED"
        }
       }
      },
      "text/html": [
       "<div>\n",
       "        \n",
       "        \n",
       "            <div id=\"32cc1354-844a-4dfc-8db3-246202f9c0e9\" class=\"plotly-graph-div\" style=\"height:525px; width:100%;\"></div>\n",
       "            <script type=\"text/javascript\">\n",
       "                require([\"plotly\"], function(Plotly) {\n",
       "                    window.PLOTLYENV=window.PLOTLYENV || {};\n",
       "                    window.PLOTLYENV.BASE_URL='https://plot.ly';\n",
       "                    \n",
       "                if (document.getElementById(\"32cc1354-844a-4dfc-8db3-246202f9c0e9\")) {\n",
       "                    Plotly.newPlot(\n",
       "                        '32cc1354-844a-4dfc-8db3-246202f9c0e9',\n",
       "                        [{\"marker\": {\"color\": [\"red\", \"red\", \"red\", \"red\", \"red\", \"red\", \"red\", \"red\", \"red\", \"red\", \"red\", \"red\", \"red\", \"red\", \"red\", \"red\", \"red\", \"red\", \"red\", \"red\", \"red\", \"red\", \"red\", \"red\", \"red\", \"red\", \"red\", \"red\", \"red\", \"red\", \"red\", \"red\", \"red\", \"red\", \"red\", \"red\", \"red\", \"red\", \"red\", \"red\", \"red\", \"red\", \"red\", \"red\", \"red\", \"red\", \"red\", \"red\", \"red\", \"red\", \"red\", \"red\", \"red\", \"red\", \"red\", \"red\", \"red\", \"red\", \"red\", \"red\", \"red\", \"red\", \"red\", \"red\", \"red\", \"red\", \"red\", \"red\", \"red\", \"red\", \"red\", \"red\", \"red\", \"red\", \"red\", \"red\", \"red\", \"red\", \"red\", \"red\", \"red\", \"red\", \"red\", \"red\", \"red\", \"red\", \"red\", \"red\", \"red\", \"red\", \"red\", \"red\", \"red\", \"red\", \"red\", \"red\", \"red\", \"red\", \"red\", \"red\"], \"line\": {\"width\": 1.3}, \"size\": [34, 37, 54, 69, 62, 66, 69, 73, 73, 78, 62, 60, 92, 67, 81, 69, 60, 95, 43, 61, 64, 67, 92, 25, 53, 62, 70, 47, 64, 59, 12, 45, 61, 60, 54, 87, 54, 68, 57, 28, 70, 88, 54, 33, 85, 49, 87, 60, 98, 41, 47, 25, 69, 77, 46, 65, 61, 73, 41, 56, 41, 53, 24, 50, 33, 63, 75, 99, 112, 44, 28, 60, 57, 50, 64, 88, 48, 86, 17, 55, 51, 71, 68, 54, 57, 41, 62, 53, 71, 48, 78, 70, 46, 79, 68, 91, 61, 62, 61, 66], \"symbol\": \"circle\"}, \"mode\": \"markers\", \"text\": \"\", \"type\": \"scatter\", \"x\": [0.1206249701213706, 0.49852343433333973, -1.3695553399502158, -1.7170528179870115, 0.27324678432871136, -1.9470279113703413, -2.4483751648331227, 2.333309249201956, -0.5121449809204915, 0.12969221850822205, -0.6446330133850526, -0.7218087032598325, 0.2656459530596007, -0.6601432489749915, 1.095736886907146, -1.6081513991361676, -1.4711849425270092, -0.33015331325706504, 2.0632132636067553, -0.27152117257142605, 2.165183144756075, 0.39182424403697896, 0.19242497695043612, 1.8579756132373373, -0.704147910019082, 0.31985241358400507, 3.2019984010748974, 2.708493171628477, -0.8149582531644922, -0.6898431778469533, 0.651341556525695, -1.15691281185948, 0.5246347278944932, -0.013981722891419775, -0.45936999170141557, -0.9159335479923458, -0.41459056313818277, -1.152026965541066, 0.7840720688654675, 1.1711501936861313, 2.8521190888211465, -0.24597651131725998, -0.5829420533728855, 0.7560144769434166, 0.18968195609462685, 0.13975579709874156, -1.6288501016314474, -0.4207530522827984, 0.27123940444038525, -0.40464482028266757, 0.822839968676394, -0.5198717202635307, 0.3492249557431336, -0.17654616410502988, -1.6242058314635195, 0.5721763537313155, -0.782036216071513, 0.23630964755269812, -0.5523086810647195, 1.189118061813389, -0.769864654950212, 0.8102943569511241, 0.8277296824869714, 1.3016116314975992, -1.6604476247983335, 0.16636825426915391, -1.7601388874575197, 0.8429652247550539, 0.13641566927538096, 0.8268913034982536, -0.6806238318448029, -0.943008434928968, 0.5744194922192287, 1.049889178412392, -0.31619961369343846, -0.8045301447010839, 1.097732124163626, -1.4137201680366165, 1.3008194488492095, -0.3804980351537032, 1.234911257258786, 0.9526409782109593, -0.21399781745464025, -0.7150615051321568, 0.06518789533903417, -0.0014750191727604316, -0.7748752618691193, -1.0300167525228836, 1.5485009452858873, 0.8947138295198088, 0.7452701013110108, 0.5509705642248981, -0.12540225234218974, -1.5306440021233014, -1.9286582817432802, -0.6594991082590205, 0.6744555298437124, -0.3298273188790175, 0.681874032005342, -0.23528992937710205], \"y\": [1.7644200206191962, -0.30576255159833926, 0.48591216870055987, 0.7985155071177396, -0.14876872605666622, -0.8622242683700565, 0.1363141020244147, -0.7260451911673562, 2.073816753478071, -0.43898713716167187, 0.33691258903617394, -0.05977193298366424, -0.8227901853712595, -0.8323746630428965, 0.11095605377397717, 0.6454186407784175, -0.5617872893626544, -0.4110696787509862, 0.412153074799562, 1.0155778406138107, 0.9303310600055554, 0.44839861289213107, 0.25060701266456337, -0.6200811509285393, -0.36400150881228605, -0.7812423279375649, 2.7449130955233194, 1.0482475424867093, 0.4080247242022707, 0.030117620479940908, 0.6109744191377052, 0.7051984383646073, 0.550232781652086, 0.22880534813358577, -1.1564235529442963, -0.8260709362775998, 1.285516241637799, -1.0204578541625269, 0.6873614732322731, 0.9291586945660607, -0.9964508041363669, -1.1456252019685773, 0.41945494135951766, 0.5018426975736096, 0.7857702165301329, -0.09848632547303204, -0.6588981067399119, 1.1853881697458184, 1.3013098324717234, -0.6901871629828826, 1.5706311752726443, 0.35375661865285923, -1.7730555476594445, 0.1404389261610056, 0.2800682200551832, 0.09641204971271065, 1.5947658424754458, -0.9085732689692162, -0.19971973896539877, -0.29538487952431997, -0.16782616148221235, -0.22318964705705444, -1.1872048056031284, 0.6447368621613021, 0.011365501551874865, 1.4270433489524255, 2.3503140280491395, 1.3962528943379109, 0.7244555209068144, -0.465532477546086, 1.28244991571956, 0.19457895804176906, 1.6799624327556104, 1.119688007459729, -1.6574546810221313, 0.19306786021194244, -0.3805407112775789, 0.8237696600063881, 1.6242052320141758, 0.40698880308051666, -0.6972818731596732, 1.711150635837316, -0.4245327195817335, -0.20296865094415448, 0.27848558727482353, -0.07798204924120888, -1.3626214176056117, 0.7426308471042079, 0.11623335626503752, -0.29613174978263107, -0.982863194027543, -0.796878071956125, -0.4549314438785417, -0.19493574595397817, -0.7581093396617404, -0.7753823819206512, -0.17383535358302876, -0.05555904455453927, 0.6506547474934091, -1.1733039608928564]}],\n",
       "                        {\"legend\": {\"bgcolor\": \"#F5F6F9\", \"font\": {\"color\": \"#4D5663\"}}, \"paper_bgcolor\": \"#F5F6F9\", \"plot_bgcolor\": \"#F5F6F9\", \"template\": {\"data\": {\"bar\": [{\"error_x\": {\"color\": \"#2a3f5f\"}, \"error_y\": {\"color\": \"#2a3f5f\"}, \"marker\": {\"line\": {\"color\": \"#E5ECF6\", \"width\": 0.5}}, \"type\": \"bar\"}], \"barpolar\": [{\"marker\": {\"line\": {\"color\": \"#E5ECF6\", \"width\": 0.5}}, \"type\": \"barpolar\"}], \"carpet\": [{\"aaxis\": {\"endlinecolor\": \"#2a3f5f\", \"gridcolor\": \"white\", \"linecolor\": \"white\", \"minorgridcolor\": \"white\", \"startlinecolor\": \"#2a3f5f\"}, \"baxis\": {\"endlinecolor\": \"#2a3f5f\", \"gridcolor\": \"white\", \"linecolor\": \"white\", \"minorgridcolor\": \"white\", \"startlinecolor\": \"#2a3f5f\"}, \"type\": \"carpet\"}], \"choropleth\": [{\"colorbar\": {\"outlinewidth\": 0, \"ticks\": \"\"}, \"type\": \"choropleth\"}], \"contour\": [{\"colorbar\": {\"outlinewidth\": 0, \"ticks\": \"\"}, \"colorscale\": [[0.0, \"#0d0887\"], [0.1111111111111111, \"#46039f\"], [0.2222222222222222, \"#7201a8\"], [0.3333333333333333, \"#9c179e\"], [0.4444444444444444, \"#bd3786\"], [0.5555555555555556, \"#d8576b\"], [0.6666666666666666, \"#ed7953\"], [0.7777777777777778, \"#fb9f3a\"], [0.8888888888888888, \"#fdca26\"], [1.0, \"#f0f921\"]], \"type\": \"contour\"}], \"contourcarpet\": [{\"colorbar\": {\"outlinewidth\": 0, \"ticks\": \"\"}, \"type\": \"contourcarpet\"}], \"heatmap\": [{\"colorbar\": {\"outlinewidth\": 0, \"ticks\": \"\"}, \"colorscale\": [[0.0, \"#0d0887\"], [0.1111111111111111, \"#46039f\"], [0.2222222222222222, \"#7201a8\"], [0.3333333333333333, \"#9c179e\"], [0.4444444444444444, \"#bd3786\"], [0.5555555555555556, \"#d8576b\"], [0.6666666666666666, \"#ed7953\"], [0.7777777777777778, \"#fb9f3a\"], [0.8888888888888888, \"#fdca26\"], [1.0, \"#f0f921\"]], \"type\": \"heatmap\"}], \"heatmapgl\": [{\"colorbar\": {\"outlinewidth\": 0, \"ticks\": \"\"}, \"colorscale\": [[0.0, \"#0d0887\"], [0.1111111111111111, \"#46039f\"], [0.2222222222222222, \"#7201a8\"], [0.3333333333333333, \"#9c179e\"], [0.4444444444444444, \"#bd3786\"], [0.5555555555555556, \"#d8576b\"], [0.6666666666666666, \"#ed7953\"], [0.7777777777777778, \"#fb9f3a\"], [0.8888888888888888, \"#fdca26\"], [1.0, \"#f0f921\"]], \"type\": \"heatmapgl\"}], \"histogram\": [{\"marker\": {\"colorbar\": {\"outlinewidth\": 0, \"ticks\": \"\"}}, \"type\": \"histogram\"}], \"histogram2d\": [{\"colorbar\": {\"outlinewidth\": 0, \"ticks\": \"\"}, \"colorscale\": [[0.0, \"#0d0887\"], [0.1111111111111111, \"#46039f\"], [0.2222222222222222, \"#7201a8\"], [0.3333333333333333, \"#9c179e\"], [0.4444444444444444, \"#bd3786\"], [0.5555555555555556, \"#d8576b\"], [0.6666666666666666, \"#ed7953\"], [0.7777777777777778, \"#fb9f3a\"], [0.8888888888888888, \"#fdca26\"], [1.0, \"#f0f921\"]], \"type\": \"histogram2d\"}], \"histogram2dcontour\": [{\"colorbar\": {\"outlinewidth\": 0, \"ticks\": \"\"}, \"colorscale\": [[0.0, \"#0d0887\"], [0.1111111111111111, \"#46039f\"], [0.2222222222222222, \"#7201a8\"], [0.3333333333333333, \"#9c179e\"], [0.4444444444444444, \"#bd3786\"], [0.5555555555555556, \"#d8576b\"], [0.6666666666666666, \"#ed7953\"], [0.7777777777777778, \"#fb9f3a\"], [0.8888888888888888, \"#fdca26\"], [1.0, \"#f0f921\"]], \"type\": \"histogram2dcontour\"}], \"mesh3d\": [{\"colorbar\": {\"outlinewidth\": 0, \"ticks\": \"\"}, \"type\": \"mesh3d\"}], \"parcoords\": [{\"line\": {\"colorbar\": {\"outlinewidth\": 0, \"ticks\": \"\"}}, \"type\": \"parcoords\"}], \"pie\": [{\"automargin\": true, \"type\": \"pie\"}], \"scatter\": [{\"marker\": {\"colorbar\": {\"outlinewidth\": 0, \"ticks\": \"\"}}, \"type\": \"scatter\"}], \"scatter3d\": [{\"line\": {\"colorbar\": {\"outlinewidth\": 0, \"ticks\": \"\"}}, \"marker\": {\"colorbar\": {\"outlinewidth\": 0, \"ticks\": \"\"}}, \"type\": \"scatter3d\"}], \"scattercarpet\": [{\"marker\": {\"colorbar\": {\"outlinewidth\": 0, \"ticks\": \"\"}}, \"type\": \"scattercarpet\"}], \"scattergeo\": [{\"marker\": {\"colorbar\": {\"outlinewidth\": 0, \"ticks\": \"\"}}, \"type\": \"scattergeo\"}], \"scattergl\": [{\"marker\": {\"colorbar\": {\"outlinewidth\": 0, \"ticks\": \"\"}}, \"type\": \"scattergl\"}], \"scattermapbox\": [{\"marker\": {\"colorbar\": {\"outlinewidth\": 0, \"ticks\": \"\"}}, \"type\": \"scattermapbox\"}], \"scatterpolar\": [{\"marker\": {\"colorbar\": {\"outlinewidth\": 0, \"ticks\": \"\"}}, \"type\": \"scatterpolar\"}], \"scatterpolargl\": [{\"marker\": {\"colorbar\": {\"outlinewidth\": 0, \"ticks\": \"\"}}, \"type\": \"scatterpolargl\"}], \"scatterternary\": [{\"marker\": {\"colorbar\": {\"outlinewidth\": 0, \"ticks\": \"\"}}, \"type\": \"scatterternary\"}], \"surface\": [{\"colorbar\": {\"outlinewidth\": 0, \"ticks\": \"\"}, \"colorscale\": [[0.0, \"#0d0887\"], [0.1111111111111111, \"#46039f\"], [0.2222222222222222, \"#7201a8\"], [0.3333333333333333, \"#9c179e\"], [0.4444444444444444, \"#bd3786\"], [0.5555555555555556, \"#d8576b\"], [0.6666666666666666, \"#ed7953\"], [0.7777777777777778, \"#fb9f3a\"], [0.8888888888888888, \"#fdca26\"], [1.0, \"#f0f921\"]], \"type\": \"surface\"}], \"table\": [{\"cells\": {\"fill\": {\"color\": \"#EBF0F8\"}, \"line\": {\"color\": \"white\"}}, \"header\": {\"fill\": {\"color\": \"#C8D4E3\"}, \"line\": {\"color\": \"white\"}}, \"type\": \"table\"}]}, \"layout\": {\"annotationdefaults\": {\"arrowcolor\": \"#2a3f5f\", \"arrowhead\": 0, \"arrowwidth\": 1}, \"coloraxis\": {\"colorbar\": {\"outlinewidth\": 0, \"ticks\": \"\"}}, \"colorscale\": {\"diverging\": [[0, \"#8e0152\"], [0.1, \"#c51b7d\"], [0.2, \"#de77ae\"], [0.3, \"#f1b6da\"], [0.4, \"#fde0ef\"], [0.5, \"#f7f7f7\"], [0.6, \"#e6f5d0\"], [0.7, \"#b8e186\"], [0.8, \"#7fbc41\"], [0.9, \"#4d9221\"], [1, \"#276419\"]], \"sequential\": [[0.0, \"#0d0887\"], [0.1111111111111111, \"#46039f\"], [0.2222222222222222, \"#7201a8\"], [0.3333333333333333, \"#9c179e\"], [0.4444444444444444, \"#bd3786\"], [0.5555555555555556, \"#d8576b\"], [0.6666666666666666, \"#ed7953\"], [0.7777777777777778, \"#fb9f3a\"], [0.8888888888888888, \"#fdca26\"], [1.0, \"#f0f921\"]], \"sequentialminus\": [[0.0, \"#0d0887\"], [0.1111111111111111, \"#46039f\"], [0.2222222222222222, \"#7201a8\"], [0.3333333333333333, \"#9c179e\"], [0.4444444444444444, \"#bd3786\"], [0.5555555555555556, \"#d8576b\"], [0.6666666666666666, \"#ed7953\"], [0.7777777777777778, \"#fb9f3a\"], [0.8888888888888888, \"#fdca26\"], [1.0, \"#f0f921\"]]}, \"colorway\": [\"#636efa\", \"#EF553B\", \"#00cc96\", \"#ab63fa\", \"#FFA15A\", \"#19d3f3\", \"#FF6692\", \"#B6E880\", \"#FF97FF\", \"#FECB52\"], \"font\": {\"color\": \"#2a3f5f\"}, \"geo\": {\"bgcolor\": \"white\", \"lakecolor\": \"white\", \"landcolor\": \"#E5ECF6\", \"showlakes\": true, \"showland\": true, \"subunitcolor\": \"white\"}, \"hoverlabel\": {\"align\": \"left\"}, \"hovermode\": \"closest\", \"mapbox\": {\"style\": \"light\"}, \"paper_bgcolor\": \"white\", \"plot_bgcolor\": \"#E5ECF6\", \"polar\": {\"angularaxis\": {\"gridcolor\": \"white\", \"linecolor\": \"white\", \"ticks\": \"\"}, \"bgcolor\": \"#E5ECF6\", \"radialaxis\": {\"gridcolor\": \"white\", \"linecolor\": \"white\", \"ticks\": \"\"}}, \"scene\": {\"xaxis\": {\"backgroundcolor\": \"#E5ECF6\", \"gridcolor\": \"white\", \"gridwidth\": 2, \"linecolor\": \"white\", \"showbackground\": true, \"ticks\": \"\", \"zerolinecolor\": \"white\"}, \"yaxis\": {\"backgroundcolor\": \"#E5ECF6\", \"gridcolor\": \"white\", \"gridwidth\": 2, \"linecolor\": \"white\", \"showbackground\": true, \"ticks\": \"\", \"zerolinecolor\": \"white\"}, \"zaxis\": {\"backgroundcolor\": \"#E5ECF6\", \"gridcolor\": \"white\", \"gridwidth\": 2, \"linecolor\": \"white\", \"showbackground\": true, \"ticks\": \"\", \"zerolinecolor\": \"white\"}}, \"shapedefaults\": {\"line\": {\"color\": \"#2a3f5f\"}}, \"ternary\": {\"aaxis\": {\"gridcolor\": \"white\", \"linecolor\": \"white\", \"ticks\": \"\"}, \"baxis\": {\"gridcolor\": \"white\", \"linecolor\": \"white\", \"ticks\": \"\"}, \"bgcolor\": \"#E5ECF6\", \"caxis\": {\"gridcolor\": \"white\", \"linecolor\": \"white\", \"ticks\": \"\"}}, \"title\": {\"x\": 0.05}, \"xaxis\": {\"automargin\": true, \"gridcolor\": \"white\", \"linecolor\": \"white\", \"ticks\": \"\", \"title\": {\"standoff\": 15}, \"zerolinecolor\": \"white\", \"zerolinewidth\": 2}, \"yaxis\": {\"automargin\": true, \"gridcolor\": \"white\", \"linecolor\": \"white\", \"ticks\": \"\", \"title\": {\"standoff\": 15}, \"zerolinecolor\": \"white\", \"zerolinewidth\": 2}}}, \"title\": {\"font\": {\"color\": \"#4D5663\"}}, \"xaxis\": {\"gridcolor\": \"#E1E5ED\", \"showgrid\": true, \"tickfont\": {\"color\": \"#4D5663\"}, \"title\": {\"font\": {\"color\": \"#4D5663\"}, \"text\": \"\"}, \"zerolinecolor\": \"#E1E5ED\"}, \"yaxis\": {\"gridcolor\": \"#E1E5ED\", \"showgrid\": true, \"tickfont\": {\"color\": \"#4D5663\"}, \"title\": {\"font\": {\"color\": \"#4D5663\"}, \"text\": \"\"}, \"zerolinecolor\": \"#E1E5ED\"}},\n",
       "                        {\"showLink\": true, \"linkText\": \"Export to plot.ly\", \"plotlyServerURL\": \"https://plot.ly\", \"responsive\": true}\n",
       "                    ).then(function(){\n",
       "                            \n",
       "var gd = document.getElementById('32cc1354-844a-4dfc-8db3-246202f9c0e9');\n",
       "var x = new MutationObserver(function (mutations, observer) {{\n",
       "        var display = window.getComputedStyle(gd).display;\n",
       "        if (!display || display === 'none') {{\n",
       "            console.log([gd, 'removed!']);\n",
       "            Plotly.purge(gd);\n",
       "            observer.disconnect();\n",
       "        }}\n",
       "}});\n",
       "\n",
       "// Listen for the removal of the full notebook cells\n",
       "var notebookContainer = gd.closest('#notebook-container');\n",
       "if (notebookContainer) {{\n",
       "    x.observe(notebookContainer, {childList: true});\n",
       "}}\n",
       "\n",
       "// Listen for the clearing of the current output cell\n",
       "var outputEl = gd.closest('.output');\n",
       "if (outputEl) {{\n",
       "    x.observe(outputEl, {childList: true});\n",
       "}}\n",
       "\n",
       "                        })\n",
       "                };\n",
       "                });\n",
       "            </script>\n",
       "        </div>"
      ]
     },
     "metadata": {},
     "output_type": "display_data"
    }
   ],
   "source": [
    "df.iplot(kind='bubble',x='A',y='B',size='C',color='red')"
   ]
  },
  {
   "cell_type": "markdown",
   "metadata": {},
   "source": [
    "## scatter_matrix()\n",
    "\n",
    "Similar to sns.pairplot()"
   ]
  },
  {
   "cell_type": "code",
   "execution_count": 19,
   "metadata": {},
   "outputs": [
    {
     "data": {
      "application/vnd.plotly.v1+json": {
       "config": {
        "linkText": "Export to plot.ly",
        "plotlyServerURL": "https://plot.ly",
        "showLink": true
       },
       "data": [
        {
         "histfunc": "count",
         "histnorm": "",
         "marker": {
          "color": "rgba(255, 153, 51, 1.0)",
          "line": {
           "color": "#4D5663",
           "width": 1.3
          }
         },
         "name": "A",
         "nbinsx": 10,
         "opacity": 0.8,
         "orientation": "v",
         "type": "histogram",
         "x": [
          0.1206249701213706,
          0.49852343433333973,
          -1.3695553399502158,
          -1.7170528179870115,
          0.27324678432871136,
          -1.9470279113703413,
          -2.4483751648331227,
          2.333309249201956,
          -0.5121449809204915,
          0.12969221850822205,
          -0.6446330133850526,
          -0.7218087032598325,
          0.2656459530596007,
          -0.6601432489749915,
          1.095736886907146,
          -1.6081513991361676,
          -1.4711849425270092,
          -0.33015331325706504,
          2.0632132636067553,
          -0.27152117257142605,
          2.165183144756075,
          0.39182424403697896,
          0.19242497695043612,
          1.8579756132373373,
          -0.704147910019082,
          0.31985241358400507,
          3.2019984010748974,
          2.708493171628477,
          -0.8149582531644922,
          -0.6898431778469533,
          0.651341556525695,
          -1.15691281185948,
          0.5246347278944932,
          -0.013981722891419775,
          -0.45936999170141557,
          -0.9159335479923458,
          -0.41459056313818277,
          -1.152026965541066,
          0.7840720688654675,
          1.1711501936861313,
          2.8521190888211465,
          -0.24597651131725998,
          -0.5829420533728855,
          0.7560144769434166,
          0.18968195609462685,
          0.13975579709874156,
          -1.6288501016314474,
          -0.4207530522827984,
          0.27123940444038525,
          -0.40464482028266757,
          0.822839968676394,
          -0.5198717202635307,
          0.3492249557431336,
          -0.17654616410502988,
          -1.6242058314635195,
          0.5721763537313155,
          -0.782036216071513,
          0.23630964755269812,
          -0.5523086810647195,
          1.189118061813389,
          -0.769864654950212,
          0.8102943569511241,
          0.8277296824869714,
          1.3016116314975992,
          -1.6604476247983335,
          0.16636825426915391,
          -1.7601388874575197,
          0.8429652247550539,
          0.13641566927538096,
          0.8268913034982536,
          -0.6806238318448029,
          -0.943008434928968,
          0.5744194922192287,
          1.049889178412392,
          -0.31619961369343846,
          -0.8045301447010839,
          1.097732124163626,
          -1.4137201680366165,
          1.3008194488492095,
          -0.3804980351537032,
          1.234911257258786,
          0.9526409782109593,
          -0.21399781745464025,
          -0.7150615051321568,
          0.06518789533903417,
          -0.0014750191727604316,
          -0.7748752618691193,
          -1.0300167525228836,
          1.5485009452858873,
          0.8947138295198088,
          0.7452701013110108,
          0.5509705642248981,
          -0.12540225234218974,
          -1.5306440021233014,
          -1.9286582817432802,
          -0.6594991082590205,
          0.6744555298437124,
          -0.3298273188790175,
          0.681874032005342,
          -0.23528992937710205
         ],
         "xaxis": "x",
         "yaxis": "y"
        },
        {
         "line": {
          "color": "rgba(128, 128, 128, 1.0)",
          "dash": "solid",
          "shape": "linear",
          "width": 1.3
         },
         "marker": {
          "size": 2,
          "symbol": "circle"
         },
         "mode": "markers",
         "name": "A",
         "text": "",
         "type": "scatter",
         "x": [
          1.7644200206191962,
          -0.30576255159833926,
          0.48591216870055987,
          0.7985155071177396,
          -0.14876872605666622,
          -0.8622242683700565,
          0.1363141020244147,
          -0.7260451911673562,
          2.073816753478071,
          -0.43898713716167187,
          0.33691258903617394,
          -0.05977193298366424,
          -0.8227901853712595,
          -0.8323746630428965,
          0.11095605377397717,
          0.6454186407784175,
          -0.5617872893626544,
          -0.4110696787509862,
          0.412153074799562,
          1.0155778406138107,
          0.9303310600055554,
          0.44839861289213107,
          0.25060701266456337,
          -0.6200811509285393,
          -0.36400150881228605,
          -0.7812423279375649,
          2.7449130955233194,
          1.0482475424867093,
          0.4080247242022707,
          0.030117620479940908,
          0.6109744191377052,
          0.7051984383646073,
          0.550232781652086,
          0.22880534813358577,
          -1.1564235529442963,
          -0.8260709362775998,
          1.285516241637799,
          -1.0204578541625269,
          0.6873614732322731,
          0.9291586945660607,
          -0.9964508041363669,
          -1.1456252019685773,
          0.41945494135951766,
          0.5018426975736096,
          0.7857702165301329,
          -0.09848632547303204,
          -0.6588981067399119,
          1.1853881697458184,
          1.3013098324717234,
          -0.6901871629828826,
          1.5706311752726443,
          0.35375661865285923,
          -1.7730555476594445,
          0.1404389261610056,
          0.2800682200551832,
          0.09641204971271065,
          1.5947658424754458,
          -0.9085732689692162,
          -0.19971973896539877,
          -0.29538487952431997,
          -0.16782616148221235,
          -0.22318964705705444,
          -1.1872048056031284,
          0.6447368621613021,
          0.011365501551874865,
          1.4270433489524255,
          2.3503140280491395,
          1.3962528943379109,
          0.7244555209068144,
          -0.465532477546086,
          1.28244991571956,
          0.19457895804176906,
          1.6799624327556104,
          1.119688007459729,
          -1.6574546810221313,
          0.19306786021194244,
          -0.3805407112775789,
          0.8237696600063881,
          1.6242052320141758,
          0.40698880308051666,
          -0.6972818731596732,
          1.711150635837316,
          -0.4245327195817335,
          -0.20296865094415448,
          0.27848558727482353,
          -0.07798204924120888,
          -1.3626214176056117,
          0.7426308471042079,
          0.11623335626503752,
          -0.29613174978263107,
          -0.982863194027543,
          -0.796878071956125,
          -0.4549314438785417,
          -0.19493574595397817,
          -0.7581093396617404,
          -0.7753823819206512,
          -0.17383535358302876,
          -0.05555904455453927,
          0.6506547474934091,
          -1.1733039608928564
         ],
         "xaxis": "x2",
         "y": [
          0.1206249701213706,
          0.49852343433333973,
          -1.3695553399502158,
          -1.7170528179870115,
          0.27324678432871136,
          -1.9470279113703413,
          -2.4483751648331227,
          2.333309249201956,
          -0.5121449809204915,
          0.12969221850822205,
          -0.6446330133850526,
          -0.7218087032598325,
          0.2656459530596007,
          -0.6601432489749915,
          1.095736886907146,
          -1.6081513991361676,
          -1.4711849425270092,
          -0.33015331325706504,
          2.0632132636067553,
          -0.27152117257142605,
          2.165183144756075,
          0.39182424403697896,
          0.19242497695043612,
          1.8579756132373373,
          -0.704147910019082,
          0.31985241358400507,
          3.2019984010748974,
          2.708493171628477,
          -0.8149582531644922,
          -0.6898431778469533,
          0.651341556525695,
          -1.15691281185948,
          0.5246347278944932,
          -0.013981722891419775,
          -0.45936999170141557,
          -0.9159335479923458,
          -0.41459056313818277,
          -1.152026965541066,
          0.7840720688654675,
          1.1711501936861313,
          2.8521190888211465,
          -0.24597651131725998,
          -0.5829420533728855,
          0.7560144769434166,
          0.18968195609462685,
          0.13975579709874156,
          -1.6288501016314474,
          -0.4207530522827984,
          0.27123940444038525,
          -0.40464482028266757,
          0.822839968676394,
          -0.5198717202635307,
          0.3492249557431336,
          -0.17654616410502988,
          -1.6242058314635195,
          0.5721763537313155,
          -0.782036216071513,
          0.23630964755269812,
          -0.5523086810647195,
          1.189118061813389,
          -0.769864654950212,
          0.8102943569511241,
          0.8277296824869714,
          1.3016116314975992,
          -1.6604476247983335,
          0.16636825426915391,
          -1.7601388874575197,
          0.8429652247550539,
          0.13641566927538096,
          0.8268913034982536,
          -0.6806238318448029,
          -0.943008434928968,
          0.5744194922192287,
          1.049889178412392,
          -0.31619961369343846,
          -0.8045301447010839,
          1.097732124163626,
          -1.4137201680366165,
          1.3008194488492095,
          -0.3804980351537032,
          1.234911257258786,
          0.9526409782109593,
          -0.21399781745464025,
          -0.7150615051321568,
          0.06518789533903417,
          -0.0014750191727604316,
          -0.7748752618691193,
          -1.0300167525228836,
          1.5485009452858873,
          0.8947138295198088,
          0.7452701013110108,
          0.5509705642248981,
          -0.12540225234218974,
          -1.5306440021233014,
          -1.9286582817432802,
          -0.6594991082590205,
          0.6744555298437124,
          -0.3298273188790175,
          0.681874032005342,
          -0.23528992937710205
         ],
         "yaxis": "y2"
        },
        {
         "line": {
          "color": "rgba(128, 128, 128, 1.0)",
          "dash": "solid",
          "shape": "linear",
          "width": 1.3
         },
         "marker": {
          "size": 2,
          "symbol": "circle"
         },
         "mode": "markers",
         "name": "A",
         "text": "",
         "type": "scatter",
         "x": [
          -1.4353966420823925,
          -1.2535533336745956,
          -0.3312332066930816,
          0.4666662821253617,
          0.07834336053202509,
          0.2893959383570913,
          0.4536638718923692,
          0.6815369239830283,
          0.7141815293675279,
          0.9590023199438273,
          0.08592826600935377,
          0.010530578401795835,
          1.7184068370384047,
          0.36491543037996194,
          1.1074682868501626,
          0.49738220000748157,
          -0.019904043288244657,
          1.8950663879202003,
          -0.9364895280704577,
          0.05361104383863928,
          0.21960142400134855,
          0.359703994362732,
          1.7099525245013625,
          -1.9295035821080788,
          -0.3781937016594894,
          0.10328586601590974,
          0.5226896110063345,
          -0.7186577035475074,
          0.2165461863489111,
          -0.07098728740866844,
          -2.6585128681731707,
          -0.8539770031825489,
          0.05780169660411606,
          -0.004455692955851115,
          -0.3661520898509892,
          1.4707843826300595,
          -0.3388796929399279,
          0.4125926469181926,
          -0.18002240895551846,
          -1.765831613682973,
          0.5173488316931735,
          1.4956955615610374,
          -0.32182985016991467,
          -1.4867619913762722,
          1.3259032420415517,
          -0.6140294150509013,
          1.4636859603495558,
          -0.03424967231508822,
          2.060643698863137,
          -1.0369997945860756,
          -0.6963609991014325,
          -1.9240304850018841,
          0.49551315978036614,
          0.9090058696007308,
          -0.8029822085787376,
          0.27464465844729435,
          0.035166650292638504,
          0.7175482524755589,
          -1.0339118270050127,
          -0.2400525458809578,
          -1.0586818750760338,
          -0.3891080515774163,
          -1.9540214547671773,
          -0.5809349287448948,
          -1.4732731165875967,
          0.12993430093232297,
          0.7803626584648855,
          2.119066141470023,
          2.7937677930562237,
          -0.8717665012328791,
          -1.7716577077202336,
          -0.020169035913827058,
          -0.18100549019509146,
          -0.5721254704852813,
          0.22479894787532842,
          1.5062428819314406,
          -0.6898301270305548,
          1.3855743133154805,
          -2.3357336771251562,
          -0.28005544380489905,
          -0.4807570778569516,
          0.5945424139610986,
          0.43038514666522054,
          -0.3413555511478162,
          -0.16995162040634973,
          -1.0538988418566408,
          0.08042481979036202,
          -0.37549452630626995,
          0.5940362133384189,
          -0.6468205980677861,
          0.9540308957184628,
          0.5175574675990638,
          -0.7785047623803996,
          1.0490185685029791,
          0.3967836266977258,
          1.6895669396929442,
          0.051317573915553805,
          0.08427056446171943,
          0.021557083999335175,
          0.33705436556655755
         ],
         "xaxis": "x3",
         "y": [
          0.1206249701213706,
          0.49852343433333973,
          -1.3695553399502158,
          -1.7170528179870115,
          0.27324678432871136,
          -1.9470279113703413,
          -2.4483751648331227,
          2.333309249201956,
          -0.5121449809204915,
          0.12969221850822205,
          -0.6446330133850526,
          -0.7218087032598325,
          0.2656459530596007,
          -0.6601432489749915,
          1.095736886907146,
          -1.6081513991361676,
          -1.4711849425270092,
          -0.33015331325706504,
          2.0632132636067553,
          -0.27152117257142605,
          2.165183144756075,
          0.39182424403697896,
          0.19242497695043612,
          1.8579756132373373,
          -0.704147910019082,
          0.31985241358400507,
          3.2019984010748974,
          2.708493171628477,
          -0.8149582531644922,
          -0.6898431778469533,
          0.651341556525695,
          -1.15691281185948,
          0.5246347278944932,
          -0.013981722891419775,
          -0.45936999170141557,
          -0.9159335479923458,
          -0.41459056313818277,
          -1.152026965541066,
          0.7840720688654675,
          1.1711501936861313,
          2.8521190888211465,
          -0.24597651131725998,
          -0.5829420533728855,
          0.7560144769434166,
          0.18968195609462685,
          0.13975579709874156,
          -1.6288501016314474,
          -0.4207530522827984,
          0.27123940444038525,
          -0.40464482028266757,
          0.822839968676394,
          -0.5198717202635307,
          0.3492249557431336,
          -0.17654616410502988,
          -1.6242058314635195,
          0.5721763537313155,
          -0.782036216071513,
          0.23630964755269812,
          -0.5523086810647195,
          1.189118061813389,
          -0.769864654950212,
          0.8102943569511241,
          0.8277296824869714,
          1.3016116314975992,
          -1.6604476247983335,
          0.16636825426915391,
          -1.7601388874575197,
          0.8429652247550539,
          0.13641566927538096,
          0.8268913034982536,
          -0.6806238318448029,
          -0.943008434928968,
          0.5744194922192287,
          1.049889178412392,
          -0.31619961369343846,
          -0.8045301447010839,
          1.097732124163626,
          -1.4137201680366165,
          1.3008194488492095,
          -0.3804980351537032,
          1.234911257258786,
          0.9526409782109593,
          -0.21399781745464025,
          -0.7150615051321568,
          0.06518789533903417,
          -0.0014750191727604316,
          -0.7748752618691193,
          -1.0300167525228836,
          1.5485009452858873,
          0.8947138295198088,
          0.7452701013110108,
          0.5509705642248981,
          -0.12540225234218974,
          -1.5306440021233014,
          -1.9286582817432802,
          -0.6594991082590205,
          0.6744555298437124,
          -0.3298273188790175,
          0.681874032005342,
          -0.23528992937710205
         ],
         "yaxis": "y3"
        },
        {
         "line": {
          "color": "rgba(128, 128, 128, 1.0)",
          "dash": "solid",
          "shape": "linear",
          "width": 1.3
         },
         "marker": {
          "size": 2,
          "symbol": "circle"
         },
         "mode": "markers",
         "name": "A",
         "text": "",
         "type": "scatter",
         "x": [
          0.4475437913509518,
          0.9570926807223412,
          0.07070139423127939,
          -0.5222075509032993,
          -1.5550204277123403,
          -1.6354877614659291,
          -1.3694106483332433,
          -1.4202820968799394,
          -0.04253818029830309,
          2.4423542391038464,
          1.9678087738305776,
          0.3859444904584297,
          0.35571827372776976,
          0.10176787222024548,
          0.34374648943988906,
          -1.0598915668974493,
          1.062147280398189,
          -0.1920650344093556,
          0.966264773886157,
          0.5859812257299339,
          -0.4015626946527886,
          0.32111648642671275,
          1.8338315332976864,
          -0.5893122627024603,
          -0.6879599393328965,
          -0.560782495777356,
          -0.20621787323971097,
          -1.136581241660549,
          -0.7411146204324128,
          -0.2498849605291373,
          0.6797097983431598,
          -0.15843454123051615,
          -0.8893692821150188,
          0.871590017046108,
          -1.2444662784229075,
          -1.2368614065163206,
          -0.9884099833446874,
          -1.129387853119377,
          1.2127499519008558,
          -2.522020585229388,
          -0.9564079334101551,
          1.0000456942091123,
          0.5000852607899331,
          -1.7162432921273487,
          -0.9742071910626999,
          0.6939326414553603,
          1.763672380188067,
          0.10985639309637814,
          0.41161930675804514,
          -0.6952008846090426,
          0.5168631898089454,
          0.18764615361386797,
          0.41359573084936196,
          -1.2197391377039357,
          -0.8029887158440556,
          1.2725541326680152,
          -0.10003203364732165,
          -0.4579275617026912,
          -1.1827360590697227,
          -0.000928602097623532,
          0.3864411293729688,
          -0.08491110038323808,
          1.0621823370708148,
          -0.7773670819443731,
          0.8733248898140209,
          0.3168779930099508,
          -0.7953368294878966,
          -1.5586227787773843,
          0.3212115508392596,
          0.46289794589459454,
          0.938402719680537,
          0.44941156173235974,
          0.9591939407839223,
          1.2226741306976623,
          -0.7325653933552027,
          0.042179836200926316,
          -0.06098456104058909,
          -0.3140267595358866,
          1.2780293199864832,
          0.084884577171398,
          0.7433188613735633,
          1.6391180650635655,
          -0.10458486398949307,
          0.462523334664757,
          -0.17701876028182614,
          0.578477589308682,
          -1.2937262667819105,
          -0.4016686366439628,
          -0.6315012991011363,
          1.629970100028498,
          -1.7245166053120138,
          1.7596137353489198,
          -0.7759191460727132,
          -0.990621857272532,
          0.573452231216451,
          -1.2203950678999884,
          1.723062349628582,
          -0.9056008922164058,
          -0.29104103242382123,
          0.826657016373895
         ],
         "xaxis": "x4",
         "y": [
          0.1206249701213706,
          0.49852343433333973,
          -1.3695553399502158,
          -1.7170528179870115,
          0.27324678432871136,
          -1.9470279113703413,
          -2.4483751648331227,
          2.333309249201956,
          -0.5121449809204915,
          0.12969221850822205,
          -0.6446330133850526,
          -0.7218087032598325,
          0.2656459530596007,
          -0.6601432489749915,
          1.095736886907146,
          -1.6081513991361676,
          -1.4711849425270092,
          -0.33015331325706504,
          2.0632132636067553,
          -0.27152117257142605,
          2.165183144756075,
          0.39182424403697896,
          0.19242497695043612,
          1.8579756132373373,
          -0.704147910019082,
          0.31985241358400507,
          3.2019984010748974,
          2.708493171628477,
          -0.8149582531644922,
          -0.6898431778469533,
          0.651341556525695,
          -1.15691281185948,
          0.5246347278944932,
          -0.013981722891419775,
          -0.45936999170141557,
          -0.9159335479923458,
          -0.41459056313818277,
          -1.152026965541066,
          0.7840720688654675,
          1.1711501936861313,
          2.8521190888211465,
          -0.24597651131725998,
          -0.5829420533728855,
          0.7560144769434166,
          0.18968195609462685,
          0.13975579709874156,
          -1.6288501016314474,
          -0.4207530522827984,
          0.27123940444038525,
          -0.40464482028266757,
          0.822839968676394,
          -0.5198717202635307,
          0.3492249557431336,
          -0.17654616410502988,
          -1.6242058314635195,
          0.5721763537313155,
          -0.782036216071513,
          0.23630964755269812,
          -0.5523086810647195,
          1.189118061813389,
          -0.769864654950212,
          0.8102943569511241,
          0.8277296824869714,
          1.3016116314975992,
          -1.6604476247983335,
          0.16636825426915391,
          -1.7601388874575197,
          0.8429652247550539,
          0.13641566927538096,
          0.8268913034982536,
          -0.6806238318448029,
          -0.943008434928968,
          0.5744194922192287,
          1.049889178412392,
          -0.31619961369343846,
          -0.8045301447010839,
          1.097732124163626,
          -1.4137201680366165,
          1.3008194488492095,
          -0.3804980351537032,
          1.234911257258786,
          0.9526409782109593,
          -0.21399781745464025,
          -0.7150615051321568,
          0.06518789533903417,
          -0.0014750191727604316,
          -0.7748752618691193,
          -1.0300167525228836,
          1.5485009452858873,
          0.8947138295198088,
          0.7452701013110108,
          0.5509705642248981,
          -0.12540225234218974,
          -1.5306440021233014,
          -1.9286582817432802,
          -0.6594991082590205,
          0.6744555298437124,
          -0.3298273188790175,
          0.681874032005342,
          -0.23528992937710205
         ],
         "yaxis": "y4"
        },
        {
         "line": {
          "color": "rgba(128, 128, 128, 1.0)",
          "dash": "solid",
          "shape": "linear",
          "width": 1.3
         },
         "marker": {
          "size": 2,
          "symbol": "circle"
         },
         "mode": "markers",
         "name": "B",
         "text": "",
         "type": "scatter",
         "x": [
          0.1206249701213706,
          0.49852343433333973,
          -1.3695553399502158,
          -1.7170528179870115,
          0.27324678432871136,
          -1.9470279113703413,
          -2.4483751648331227,
          2.333309249201956,
          -0.5121449809204915,
          0.12969221850822205,
          -0.6446330133850526,
          -0.7218087032598325,
          0.2656459530596007,
          -0.6601432489749915,
          1.095736886907146,
          -1.6081513991361676,
          -1.4711849425270092,
          -0.33015331325706504,
          2.0632132636067553,
          -0.27152117257142605,
          2.165183144756075,
          0.39182424403697896,
          0.19242497695043612,
          1.8579756132373373,
          -0.704147910019082,
          0.31985241358400507,
          3.2019984010748974,
          2.708493171628477,
          -0.8149582531644922,
          -0.6898431778469533,
          0.651341556525695,
          -1.15691281185948,
          0.5246347278944932,
          -0.013981722891419775,
          -0.45936999170141557,
          -0.9159335479923458,
          -0.41459056313818277,
          -1.152026965541066,
          0.7840720688654675,
          1.1711501936861313,
          2.8521190888211465,
          -0.24597651131725998,
          -0.5829420533728855,
          0.7560144769434166,
          0.18968195609462685,
          0.13975579709874156,
          -1.6288501016314474,
          -0.4207530522827984,
          0.27123940444038525,
          -0.40464482028266757,
          0.822839968676394,
          -0.5198717202635307,
          0.3492249557431336,
          -0.17654616410502988,
          -1.6242058314635195,
          0.5721763537313155,
          -0.782036216071513,
          0.23630964755269812,
          -0.5523086810647195,
          1.189118061813389,
          -0.769864654950212,
          0.8102943569511241,
          0.8277296824869714,
          1.3016116314975992,
          -1.6604476247983335,
          0.16636825426915391,
          -1.7601388874575197,
          0.8429652247550539,
          0.13641566927538096,
          0.8268913034982536,
          -0.6806238318448029,
          -0.943008434928968,
          0.5744194922192287,
          1.049889178412392,
          -0.31619961369343846,
          -0.8045301447010839,
          1.097732124163626,
          -1.4137201680366165,
          1.3008194488492095,
          -0.3804980351537032,
          1.234911257258786,
          0.9526409782109593,
          -0.21399781745464025,
          -0.7150615051321568,
          0.06518789533903417,
          -0.0014750191727604316,
          -0.7748752618691193,
          -1.0300167525228836,
          1.5485009452858873,
          0.8947138295198088,
          0.7452701013110108,
          0.5509705642248981,
          -0.12540225234218974,
          -1.5306440021233014,
          -1.9286582817432802,
          -0.6594991082590205,
          0.6744555298437124,
          -0.3298273188790175,
          0.681874032005342,
          -0.23528992937710205
         ],
         "xaxis": "x5",
         "y": [
          1.7644200206191962,
          -0.30576255159833926,
          0.48591216870055987,
          0.7985155071177396,
          -0.14876872605666622,
          -0.8622242683700565,
          0.1363141020244147,
          -0.7260451911673562,
          2.073816753478071,
          -0.43898713716167187,
          0.33691258903617394,
          -0.05977193298366424,
          -0.8227901853712595,
          -0.8323746630428965,
          0.11095605377397717,
          0.6454186407784175,
          -0.5617872893626544,
          -0.4110696787509862,
          0.412153074799562,
          1.0155778406138107,
          0.9303310600055554,
          0.44839861289213107,
          0.25060701266456337,
          -0.6200811509285393,
          -0.36400150881228605,
          -0.7812423279375649,
          2.7449130955233194,
          1.0482475424867093,
          0.4080247242022707,
          0.030117620479940908,
          0.6109744191377052,
          0.7051984383646073,
          0.550232781652086,
          0.22880534813358577,
          -1.1564235529442963,
          -0.8260709362775998,
          1.285516241637799,
          -1.0204578541625269,
          0.6873614732322731,
          0.9291586945660607,
          -0.9964508041363669,
          -1.1456252019685773,
          0.41945494135951766,
          0.5018426975736096,
          0.7857702165301329,
          -0.09848632547303204,
          -0.6588981067399119,
          1.1853881697458184,
          1.3013098324717234,
          -0.6901871629828826,
          1.5706311752726443,
          0.35375661865285923,
          -1.7730555476594445,
          0.1404389261610056,
          0.2800682200551832,
          0.09641204971271065,
          1.5947658424754458,
          -0.9085732689692162,
          -0.19971973896539877,
          -0.29538487952431997,
          -0.16782616148221235,
          -0.22318964705705444,
          -1.1872048056031284,
          0.6447368621613021,
          0.011365501551874865,
          1.4270433489524255,
          2.3503140280491395,
          1.3962528943379109,
          0.7244555209068144,
          -0.465532477546086,
          1.28244991571956,
          0.19457895804176906,
          1.6799624327556104,
          1.119688007459729,
          -1.6574546810221313,
          0.19306786021194244,
          -0.3805407112775789,
          0.8237696600063881,
          1.6242052320141758,
          0.40698880308051666,
          -0.6972818731596732,
          1.711150635837316,
          -0.4245327195817335,
          -0.20296865094415448,
          0.27848558727482353,
          -0.07798204924120888,
          -1.3626214176056117,
          0.7426308471042079,
          0.11623335626503752,
          -0.29613174978263107,
          -0.982863194027543,
          -0.796878071956125,
          -0.4549314438785417,
          -0.19493574595397817,
          -0.7581093396617404,
          -0.7753823819206512,
          -0.17383535358302876,
          -0.05555904455453927,
          0.6506547474934091,
          -1.1733039608928564
         ],
         "yaxis": "y5"
        },
        {
         "histfunc": "count",
         "histnorm": "",
         "marker": {
          "color": "rgba(55, 128, 191, 1.0)",
          "line": {
           "color": "#4D5663",
           "width": 1.3
          }
         },
         "name": "B",
         "nbinsx": 10,
         "opacity": 0.8,
         "orientation": "v",
         "type": "histogram",
         "x": [
          1.7644200206191962,
          -0.30576255159833926,
          0.48591216870055987,
          0.7985155071177396,
          -0.14876872605666622,
          -0.8622242683700565,
          0.1363141020244147,
          -0.7260451911673562,
          2.073816753478071,
          -0.43898713716167187,
          0.33691258903617394,
          -0.05977193298366424,
          -0.8227901853712595,
          -0.8323746630428965,
          0.11095605377397717,
          0.6454186407784175,
          -0.5617872893626544,
          -0.4110696787509862,
          0.412153074799562,
          1.0155778406138107,
          0.9303310600055554,
          0.44839861289213107,
          0.25060701266456337,
          -0.6200811509285393,
          -0.36400150881228605,
          -0.7812423279375649,
          2.7449130955233194,
          1.0482475424867093,
          0.4080247242022707,
          0.030117620479940908,
          0.6109744191377052,
          0.7051984383646073,
          0.550232781652086,
          0.22880534813358577,
          -1.1564235529442963,
          -0.8260709362775998,
          1.285516241637799,
          -1.0204578541625269,
          0.6873614732322731,
          0.9291586945660607,
          -0.9964508041363669,
          -1.1456252019685773,
          0.41945494135951766,
          0.5018426975736096,
          0.7857702165301329,
          -0.09848632547303204,
          -0.6588981067399119,
          1.1853881697458184,
          1.3013098324717234,
          -0.6901871629828826,
          1.5706311752726443,
          0.35375661865285923,
          -1.7730555476594445,
          0.1404389261610056,
          0.2800682200551832,
          0.09641204971271065,
          1.5947658424754458,
          -0.9085732689692162,
          -0.19971973896539877,
          -0.29538487952431997,
          -0.16782616148221235,
          -0.22318964705705444,
          -1.1872048056031284,
          0.6447368621613021,
          0.011365501551874865,
          1.4270433489524255,
          2.3503140280491395,
          1.3962528943379109,
          0.7244555209068144,
          -0.465532477546086,
          1.28244991571956,
          0.19457895804176906,
          1.6799624327556104,
          1.119688007459729,
          -1.6574546810221313,
          0.19306786021194244,
          -0.3805407112775789,
          0.8237696600063881,
          1.6242052320141758,
          0.40698880308051666,
          -0.6972818731596732,
          1.711150635837316,
          -0.4245327195817335,
          -0.20296865094415448,
          0.27848558727482353,
          -0.07798204924120888,
          -1.3626214176056117,
          0.7426308471042079,
          0.11623335626503752,
          -0.29613174978263107,
          -0.982863194027543,
          -0.796878071956125,
          -0.4549314438785417,
          -0.19493574595397817,
          -0.7581093396617404,
          -0.7753823819206512,
          -0.17383535358302876,
          -0.05555904455453927,
          0.6506547474934091,
          -1.1733039608928564
         ],
         "xaxis": "x6",
         "yaxis": "y6"
        },
        {
         "line": {
          "color": "rgba(128, 128, 128, 1.0)",
          "dash": "solid",
          "shape": "linear",
          "width": 1.3
         },
         "marker": {
          "size": 2,
          "symbol": "circle"
         },
         "mode": "markers",
         "name": "B",
         "text": "",
         "type": "scatter",
         "x": [
          -1.4353966420823925,
          -1.2535533336745956,
          -0.3312332066930816,
          0.4666662821253617,
          0.07834336053202509,
          0.2893959383570913,
          0.4536638718923692,
          0.6815369239830283,
          0.7141815293675279,
          0.9590023199438273,
          0.08592826600935377,
          0.010530578401795835,
          1.7184068370384047,
          0.36491543037996194,
          1.1074682868501626,
          0.49738220000748157,
          -0.019904043288244657,
          1.8950663879202003,
          -0.9364895280704577,
          0.05361104383863928,
          0.21960142400134855,
          0.359703994362732,
          1.7099525245013625,
          -1.9295035821080788,
          -0.3781937016594894,
          0.10328586601590974,
          0.5226896110063345,
          -0.7186577035475074,
          0.2165461863489111,
          -0.07098728740866844,
          -2.6585128681731707,
          -0.8539770031825489,
          0.05780169660411606,
          -0.004455692955851115,
          -0.3661520898509892,
          1.4707843826300595,
          -0.3388796929399279,
          0.4125926469181926,
          -0.18002240895551846,
          -1.765831613682973,
          0.5173488316931735,
          1.4956955615610374,
          -0.32182985016991467,
          -1.4867619913762722,
          1.3259032420415517,
          -0.6140294150509013,
          1.4636859603495558,
          -0.03424967231508822,
          2.060643698863137,
          -1.0369997945860756,
          -0.6963609991014325,
          -1.9240304850018841,
          0.49551315978036614,
          0.9090058696007308,
          -0.8029822085787376,
          0.27464465844729435,
          0.035166650292638504,
          0.7175482524755589,
          -1.0339118270050127,
          -0.2400525458809578,
          -1.0586818750760338,
          -0.3891080515774163,
          -1.9540214547671773,
          -0.5809349287448948,
          -1.4732731165875967,
          0.12993430093232297,
          0.7803626584648855,
          2.119066141470023,
          2.7937677930562237,
          -0.8717665012328791,
          -1.7716577077202336,
          -0.020169035913827058,
          -0.18100549019509146,
          -0.5721254704852813,
          0.22479894787532842,
          1.5062428819314406,
          -0.6898301270305548,
          1.3855743133154805,
          -2.3357336771251562,
          -0.28005544380489905,
          -0.4807570778569516,
          0.5945424139610986,
          0.43038514666522054,
          -0.3413555511478162,
          -0.16995162040634973,
          -1.0538988418566408,
          0.08042481979036202,
          -0.37549452630626995,
          0.5940362133384189,
          -0.6468205980677861,
          0.9540308957184628,
          0.5175574675990638,
          -0.7785047623803996,
          1.0490185685029791,
          0.3967836266977258,
          1.6895669396929442,
          0.051317573915553805,
          0.08427056446171943,
          0.021557083999335175,
          0.33705436556655755
         ],
         "xaxis": "x7",
         "y": [
          1.7644200206191962,
          -0.30576255159833926,
          0.48591216870055987,
          0.7985155071177396,
          -0.14876872605666622,
          -0.8622242683700565,
          0.1363141020244147,
          -0.7260451911673562,
          2.073816753478071,
          -0.43898713716167187,
          0.33691258903617394,
          -0.05977193298366424,
          -0.8227901853712595,
          -0.8323746630428965,
          0.11095605377397717,
          0.6454186407784175,
          -0.5617872893626544,
          -0.4110696787509862,
          0.412153074799562,
          1.0155778406138107,
          0.9303310600055554,
          0.44839861289213107,
          0.25060701266456337,
          -0.6200811509285393,
          -0.36400150881228605,
          -0.7812423279375649,
          2.7449130955233194,
          1.0482475424867093,
          0.4080247242022707,
          0.030117620479940908,
          0.6109744191377052,
          0.7051984383646073,
          0.550232781652086,
          0.22880534813358577,
          -1.1564235529442963,
          -0.8260709362775998,
          1.285516241637799,
          -1.0204578541625269,
          0.6873614732322731,
          0.9291586945660607,
          -0.9964508041363669,
          -1.1456252019685773,
          0.41945494135951766,
          0.5018426975736096,
          0.7857702165301329,
          -0.09848632547303204,
          -0.6588981067399119,
          1.1853881697458184,
          1.3013098324717234,
          -0.6901871629828826,
          1.5706311752726443,
          0.35375661865285923,
          -1.7730555476594445,
          0.1404389261610056,
          0.2800682200551832,
          0.09641204971271065,
          1.5947658424754458,
          -0.9085732689692162,
          -0.19971973896539877,
          -0.29538487952431997,
          -0.16782616148221235,
          -0.22318964705705444,
          -1.1872048056031284,
          0.6447368621613021,
          0.011365501551874865,
          1.4270433489524255,
          2.3503140280491395,
          1.3962528943379109,
          0.7244555209068144,
          -0.465532477546086,
          1.28244991571956,
          0.19457895804176906,
          1.6799624327556104,
          1.119688007459729,
          -1.6574546810221313,
          0.19306786021194244,
          -0.3805407112775789,
          0.8237696600063881,
          1.6242052320141758,
          0.40698880308051666,
          -0.6972818731596732,
          1.711150635837316,
          -0.4245327195817335,
          -0.20296865094415448,
          0.27848558727482353,
          -0.07798204924120888,
          -1.3626214176056117,
          0.7426308471042079,
          0.11623335626503752,
          -0.29613174978263107,
          -0.982863194027543,
          -0.796878071956125,
          -0.4549314438785417,
          -0.19493574595397817,
          -0.7581093396617404,
          -0.7753823819206512,
          -0.17383535358302876,
          -0.05555904455453927,
          0.6506547474934091,
          -1.1733039608928564
         ],
         "yaxis": "y7"
        },
        {
         "line": {
          "color": "rgba(128, 128, 128, 1.0)",
          "dash": "solid",
          "shape": "linear",
          "width": 1.3
         },
         "marker": {
          "size": 2,
          "symbol": "circle"
         },
         "mode": "markers",
         "name": "B",
         "text": "",
         "type": "scatter",
         "x": [
          0.4475437913509518,
          0.9570926807223412,
          0.07070139423127939,
          -0.5222075509032993,
          -1.5550204277123403,
          -1.6354877614659291,
          -1.3694106483332433,
          -1.4202820968799394,
          -0.04253818029830309,
          2.4423542391038464,
          1.9678087738305776,
          0.3859444904584297,
          0.35571827372776976,
          0.10176787222024548,
          0.34374648943988906,
          -1.0598915668974493,
          1.062147280398189,
          -0.1920650344093556,
          0.966264773886157,
          0.5859812257299339,
          -0.4015626946527886,
          0.32111648642671275,
          1.8338315332976864,
          -0.5893122627024603,
          -0.6879599393328965,
          -0.560782495777356,
          -0.20621787323971097,
          -1.136581241660549,
          -0.7411146204324128,
          -0.2498849605291373,
          0.6797097983431598,
          -0.15843454123051615,
          -0.8893692821150188,
          0.871590017046108,
          -1.2444662784229075,
          -1.2368614065163206,
          -0.9884099833446874,
          -1.129387853119377,
          1.2127499519008558,
          -2.522020585229388,
          -0.9564079334101551,
          1.0000456942091123,
          0.5000852607899331,
          -1.7162432921273487,
          -0.9742071910626999,
          0.6939326414553603,
          1.763672380188067,
          0.10985639309637814,
          0.41161930675804514,
          -0.6952008846090426,
          0.5168631898089454,
          0.18764615361386797,
          0.41359573084936196,
          -1.2197391377039357,
          -0.8029887158440556,
          1.2725541326680152,
          -0.10003203364732165,
          -0.4579275617026912,
          -1.1827360590697227,
          -0.000928602097623532,
          0.3864411293729688,
          -0.08491110038323808,
          1.0621823370708148,
          -0.7773670819443731,
          0.8733248898140209,
          0.3168779930099508,
          -0.7953368294878966,
          -1.5586227787773843,
          0.3212115508392596,
          0.46289794589459454,
          0.938402719680537,
          0.44941156173235974,
          0.9591939407839223,
          1.2226741306976623,
          -0.7325653933552027,
          0.042179836200926316,
          -0.06098456104058909,
          -0.3140267595358866,
          1.2780293199864832,
          0.084884577171398,
          0.7433188613735633,
          1.6391180650635655,
          -0.10458486398949307,
          0.462523334664757,
          -0.17701876028182614,
          0.578477589308682,
          -1.2937262667819105,
          -0.4016686366439628,
          -0.6315012991011363,
          1.629970100028498,
          -1.7245166053120138,
          1.7596137353489198,
          -0.7759191460727132,
          -0.990621857272532,
          0.573452231216451,
          -1.2203950678999884,
          1.723062349628582,
          -0.9056008922164058,
          -0.29104103242382123,
          0.826657016373895
         ],
         "xaxis": "x8",
         "y": [
          1.7644200206191962,
          -0.30576255159833926,
          0.48591216870055987,
          0.7985155071177396,
          -0.14876872605666622,
          -0.8622242683700565,
          0.1363141020244147,
          -0.7260451911673562,
          2.073816753478071,
          -0.43898713716167187,
          0.33691258903617394,
          -0.05977193298366424,
          -0.8227901853712595,
          -0.8323746630428965,
          0.11095605377397717,
          0.6454186407784175,
          -0.5617872893626544,
          -0.4110696787509862,
          0.412153074799562,
          1.0155778406138107,
          0.9303310600055554,
          0.44839861289213107,
          0.25060701266456337,
          -0.6200811509285393,
          -0.36400150881228605,
          -0.7812423279375649,
          2.7449130955233194,
          1.0482475424867093,
          0.4080247242022707,
          0.030117620479940908,
          0.6109744191377052,
          0.7051984383646073,
          0.550232781652086,
          0.22880534813358577,
          -1.1564235529442963,
          -0.8260709362775998,
          1.285516241637799,
          -1.0204578541625269,
          0.6873614732322731,
          0.9291586945660607,
          -0.9964508041363669,
          -1.1456252019685773,
          0.41945494135951766,
          0.5018426975736096,
          0.7857702165301329,
          -0.09848632547303204,
          -0.6588981067399119,
          1.1853881697458184,
          1.3013098324717234,
          -0.6901871629828826,
          1.5706311752726443,
          0.35375661865285923,
          -1.7730555476594445,
          0.1404389261610056,
          0.2800682200551832,
          0.09641204971271065,
          1.5947658424754458,
          -0.9085732689692162,
          -0.19971973896539877,
          -0.29538487952431997,
          -0.16782616148221235,
          -0.22318964705705444,
          -1.1872048056031284,
          0.6447368621613021,
          0.011365501551874865,
          1.4270433489524255,
          2.3503140280491395,
          1.3962528943379109,
          0.7244555209068144,
          -0.465532477546086,
          1.28244991571956,
          0.19457895804176906,
          1.6799624327556104,
          1.119688007459729,
          -1.6574546810221313,
          0.19306786021194244,
          -0.3805407112775789,
          0.8237696600063881,
          1.6242052320141758,
          0.40698880308051666,
          -0.6972818731596732,
          1.711150635837316,
          -0.4245327195817335,
          -0.20296865094415448,
          0.27848558727482353,
          -0.07798204924120888,
          -1.3626214176056117,
          0.7426308471042079,
          0.11623335626503752,
          -0.29613174978263107,
          -0.982863194027543,
          -0.796878071956125,
          -0.4549314438785417,
          -0.19493574595397817,
          -0.7581093396617404,
          -0.7753823819206512,
          -0.17383535358302876,
          -0.05555904455453927,
          0.6506547474934091,
          -1.1733039608928564
         ],
         "yaxis": "y8"
        },
        {
         "line": {
          "color": "rgba(128, 128, 128, 1.0)",
          "dash": "solid",
          "shape": "linear",
          "width": 1.3
         },
         "marker": {
          "size": 2,
          "symbol": "circle"
         },
         "mode": "markers",
         "name": "C",
         "text": "",
         "type": "scatter",
         "x": [
          0.1206249701213706,
          0.49852343433333973,
          -1.3695553399502158,
          -1.7170528179870115,
          0.27324678432871136,
          -1.9470279113703413,
          -2.4483751648331227,
          2.333309249201956,
          -0.5121449809204915,
          0.12969221850822205,
          -0.6446330133850526,
          -0.7218087032598325,
          0.2656459530596007,
          -0.6601432489749915,
          1.095736886907146,
          -1.6081513991361676,
          -1.4711849425270092,
          -0.33015331325706504,
          2.0632132636067553,
          -0.27152117257142605,
          2.165183144756075,
          0.39182424403697896,
          0.19242497695043612,
          1.8579756132373373,
          -0.704147910019082,
          0.31985241358400507,
          3.2019984010748974,
          2.708493171628477,
          -0.8149582531644922,
          -0.6898431778469533,
          0.651341556525695,
          -1.15691281185948,
          0.5246347278944932,
          -0.013981722891419775,
          -0.45936999170141557,
          -0.9159335479923458,
          -0.41459056313818277,
          -1.152026965541066,
          0.7840720688654675,
          1.1711501936861313,
          2.8521190888211465,
          -0.24597651131725998,
          -0.5829420533728855,
          0.7560144769434166,
          0.18968195609462685,
          0.13975579709874156,
          -1.6288501016314474,
          -0.4207530522827984,
          0.27123940444038525,
          -0.40464482028266757,
          0.822839968676394,
          -0.5198717202635307,
          0.3492249557431336,
          -0.17654616410502988,
          -1.6242058314635195,
          0.5721763537313155,
          -0.782036216071513,
          0.23630964755269812,
          -0.5523086810647195,
          1.189118061813389,
          -0.769864654950212,
          0.8102943569511241,
          0.8277296824869714,
          1.3016116314975992,
          -1.6604476247983335,
          0.16636825426915391,
          -1.7601388874575197,
          0.8429652247550539,
          0.13641566927538096,
          0.8268913034982536,
          -0.6806238318448029,
          -0.943008434928968,
          0.5744194922192287,
          1.049889178412392,
          -0.31619961369343846,
          -0.8045301447010839,
          1.097732124163626,
          -1.4137201680366165,
          1.3008194488492095,
          -0.3804980351537032,
          1.234911257258786,
          0.9526409782109593,
          -0.21399781745464025,
          -0.7150615051321568,
          0.06518789533903417,
          -0.0014750191727604316,
          -0.7748752618691193,
          -1.0300167525228836,
          1.5485009452858873,
          0.8947138295198088,
          0.7452701013110108,
          0.5509705642248981,
          -0.12540225234218974,
          -1.5306440021233014,
          -1.9286582817432802,
          -0.6594991082590205,
          0.6744555298437124,
          -0.3298273188790175,
          0.681874032005342,
          -0.23528992937710205
         ],
         "xaxis": "x9",
         "y": [
          -1.4353966420823925,
          -1.2535533336745956,
          -0.3312332066930816,
          0.4666662821253617,
          0.07834336053202509,
          0.2893959383570913,
          0.4536638718923692,
          0.6815369239830283,
          0.7141815293675279,
          0.9590023199438273,
          0.08592826600935377,
          0.010530578401795835,
          1.7184068370384047,
          0.36491543037996194,
          1.1074682868501626,
          0.49738220000748157,
          -0.019904043288244657,
          1.8950663879202003,
          -0.9364895280704577,
          0.05361104383863928,
          0.21960142400134855,
          0.359703994362732,
          1.7099525245013625,
          -1.9295035821080788,
          -0.3781937016594894,
          0.10328586601590974,
          0.5226896110063345,
          -0.7186577035475074,
          0.2165461863489111,
          -0.07098728740866844,
          -2.6585128681731707,
          -0.8539770031825489,
          0.05780169660411606,
          -0.004455692955851115,
          -0.3661520898509892,
          1.4707843826300595,
          -0.3388796929399279,
          0.4125926469181926,
          -0.18002240895551846,
          -1.765831613682973,
          0.5173488316931735,
          1.4956955615610374,
          -0.32182985016991467,
          -1.4867619913762722,
          1.3259032420415517,
          -0.6140294150509013,
          1.4636859603495558,
          -0.03424967231508822,
          2.060643698863137,
          -1.0369997945860756,
          -0.6963609991014325,
          -1.9240304850018841,
          0.49551315978036614,
          0.9090058696007308,
          -0.8029822085787376,
          0.27464465844729435,
          0.035166650292638504,
          0.7175482524755589,
          -1.0339118270050127,
          -0.2400525458809578,
          -1.0586818750760338,
          -0.3891080515774163,
          -1.9540214547671773,
          -0.5809349287448948,
          -1.4732731165875967,
          0.12993430093232297,
          0.7803626584648855,
          2.119066141470023,
          2.7937677930562237,
          -0.8717665012328791,
          -1.7716577077202336,
          -0.020169035913827058,
          -0.18100549019509146,
          -0.5721254704852813,
          0.22479894787532842,
          1.5062428819314406,
          -0.6898301270305548,
          1.3855743133154805,
          -2.3357336771251562,
          -0.28005544380489905,
          -0.4807570778569516,
          0.5945424139610986,
          0.43038514666522054,
          -0.3413555511478162,
          -0.16995162040634973,
          -1.0538988418566408,
          0.08042481979036202,
          -0.37549452630626995,
          0.5940362133384189,
          -0.6468205980677861,
          0.9540308957184628,
          0.5175574675990638,
          -0.7785047623803996,
          1.0490185685029791,
          0.3967836266977258,
          1.6895669396929442,
          0.051317573915553805,
          0.08427056446171943,
          0.021557083999335175,
          0.33705436556655755
         ],
         "yaxis": "y9"
        },
        {
         "line": {
          "color": "rgba(128, 128, 128, 1.0)",
          "dash": "solid",
          "shape": "linear",
          "width": 1.3
         },
         "marker": {
          "size": 2,
          "symbol": "circle"
         },
         "mode": "markers",
         "name": "C",
         "text": "",
         "type": "scatter",
         "x": [
          1.7644200206191962,
          -0.30576255159833926,
          0.48591216870055987,
          0.7985155071177396,
          -0.14876872605666622,
          -0.8622242683700565,
          0.1363141020244147,
          -0.7260451911673562,
          2.073816753478071,
          -0.43898713716167187,
          0.33691258903617394,
          -0.05977193298366424,
          -0.8227901853712595,
          -0.8323746630428965,
          0.11095605377397717,
          0.6454186407784175,
          -0.5617872893626544,
          -0.4110696787509862,
          0.412153074799562,
          1.0155778406138107,
          0.9303310600055554,
          0.44839861289213107,
          0.25060701266456337,
          -0.6200811509285393,
          -0.36400150881228605,
          -0.7812423279375649,
          2.7449130955233194,
          1.0482475424867093,
          0.4080247242022707,
          0.030117620479940908,
          0.6109744191377052,
          0.7051984383646073,
          0.550232781652086,
          0.22880534813358577,
          -1.1564235529442963,
          -0.8260709362775998,
          1.285516241637799,
          -1.0204578541625269,
          0.6873614732322731,
          0.9291586945660607,
          -0.9964508041363669,
          -1.1456252019685773,
          0.41945494135951766,
          0.5018426975736096,
          0.7857702165301329,
          -0.09848632547303204,
          -0.6588981067399119,
          1.1853881697458184,
          1.3013098324717234,
          -0.6901871629828826,
          1.5706311752726443,
          0.35375661865285923,
          -1.7730555476594445,
          0.1404389261610056,
          0.2800682200551832,
          0.09641204971271065,
          1.5947658424754458,
          -0.9085732689692162,
          -0.19971973896539877,
          -0.29538487952431997,
          -0.16782616148221235,
          -0.22318964705705444,
          -1.1872048056031284,
          0.6447368621613021,
          0.011365501551874865,
          1.4270433489524255,
          2.3503140280491395,
          1.3962528943379109,
          0.7244555209068144,
          -0.465532477546086,
          1.28244991571956,
          0.19457895804176906,
          1.6799624327556104,
          1.119688007459729,
          -1.6574546810221313,
          0.19306786021194244,
          -0.3805407112775789,
          0.8237696600063881,
          1.6242052320141758,
          0.40698880308051666,
          -0.6972818731596732,
          1.711150635837316,
          -0.4245327195817335,
          -0.20296865094415448,
          0.27848558727482353,
          -0.07798204924120888,
          -1.3626214176056117,
          0.7426308471042079,
          0.11623335626503752,
          -0.29613174978263107,
          -0.982863194027543,
          -0.796878071956125,
          -0.4549314438785417,
          -0.19493574595397817,
          -0.7581093396617404,
          -0.7753823819206512,
          -0.17383535358302876,
          -0.05555904455453927,
          0.6506547474934091,
          -1.1733039608928564
         ],
         "xaxis": "x10",
         "y": [
          -1.4353966420823925,
          -1.2535533336745956,
          -0.3312332066930816,
          0.4666662821253617,
          0.07834336053202509,
          0.2893959383570913,
          0.4536638718923692,
          0.6815369239830283,
          0.7141815293675279,
          0.9590023199438273,
          0.08592826600935377,
          0.010530578401795835,
          1.7184068370384047,
          0.36491543037996194,
          1.1074682868501626,
          0.49738220000748157,
          -0.019904043288244657,
          1.8950663879202003,
          -0.9364895280704577,
          0.05361104383863928,
          0.21960142400134855,
          0.359703994362732,
          1.7099525245013625,
          -1.9295035821080788,
          -0.3781937016594894,
          0.10328586601590974,
          0.5226896110063345,
          -0.7186577035475074,
          0.2165461863489111,
          -0.07098728740866844,
          -2.6585128681731707,
          -0.8539770031825489,
          0.05780169660411606,
          -0.004455692955851115,
          -0.3661520898509892,
          1.4707843826300595,
          -0.3388796929399279,
          0.4125926469181926,
          -0.18002240895551846,
          -1.765831613682973,
          0.5173488316931735,
          1.4956955615610374,
          -0.32182985016991467,
          -1.4867619913762722,
          1.3259032420415517,
          -0.6140294150509013,
          1.4636859603495558,
          -0.03424967231508822,
          2.060643698863137,
          -1.0369997945860756,
          -0.6963609991014325,
          -1.9240304850018841,
          0.49551315978036614,
          0.9090058696007308,
          -0.8029822085787376,
          0.27464465844729435,
          0.035166650292638504,
          0.7175482524755589,
          -1.0339118270050127,
          -0.2400525458809578,
          -1.0586818750760338,
          -0.3891080515774163,
          -1.9540214547671773,
          -0.5809349287448948,
          -1.4732731165875967,
          0.12993430093232297,
          0.7803626584648855,
          2.119066141470023,
          2.7937677930562237,
          -0.8717665012328791,
          -1.7716577077202336,
          -0.020169035913827058,
          -0.18100549019509146,
          -0.5721254704852813,
          0.22479894787532842,
          1.5062428819314406,
          -0.6898301270305548,
          1.3855743133154805,
          -2.3357336771251562,
          -0.28005544380489905,
          -0.4807570778569516,
          0.5945424139610986,
          0.43038514666522054,
          -0.3413555511478162,
          -0.16995162040634973,
          -1.0538988418566408,
          0.08042481979036202,
          -0.37549452630626995,
          0.5940362133384189,
          -0.6468205980677861,
          0.9540308957184628,
          0.5175574675990638,
          -0.7785047623803996,
          1.0490185685029791,
          0.3967836266977258,
          1.6895669396929442,
          0.051317573915553805,
          0.08427056446171943,
          0.021557083999335175,
          0.33705436556655755
         ],
         "yaxis": "y10"
        },
        {
         "histfunc": "count",
         "histnorm": "",
         "marker": {
          "color": "rgba(50, 171, 96, 1.0)",
          "line": {
           "color": "#4D5663",
           "width": 1.3
          }
         },
         "name": "C",
         "nbinsx": 10,
         "opacity": 0.8,
         "orientation": "v",
         "type": "histogram",
         "x": [
          -1.4353966420823925,
          -1.2535533336745956,
          -0.3312332066930816,
          0.4666662821253617,
          0.07834336053202509,
          0.2893959383570913,
          0.4536638718923692,
          0.6815369239830283,
          0.7141815293675279,
          0.9590023199438273,
          0.08592826600935377,
          0.010530578401795835,
          1.7184068370384047,
          0.36491543037996194,
          1.1074682868501626,
          0.49738220000748157,
          -0.019904043288244657,
          1.8950663879202003,
          -0.9364895280704577,
          0.05361104383863928,
          0.21960142400134855,
          0.359703994362732,
          1.7099525245013625,
          -1.9295035821080788,
          -0.3781937016594894,
          0.10328586601590974,
          0.5226896110063345,
          -0.7186577035475074,
          0.2165461863489111,
          -0.07098728740866844,
          -2.6585128681731707,
          -0.8539770031825489,
          0.05780169660411606,
          -0.004455692955851115,
          -0.3661520898509892,
          1.4707843826300595,
          -0.3388796929399279,
          0.4125926469181926,
          -0.18002240895551846,
          -1.765831613682973,
          0.5173488316931735,
          1.4956955615610374,
          -0.32182985016991467,
          -1.4867619913762722,
          1.3259032420415517,
          -0.6140294150509013,
          1.4636859603495558,
          -0.03424967231508822,
          2.060643698863137,
          -1.0369997945860756,
          -0.6963609991014325,
          -1.9240304850018841,
          0.49551315978036614,
          0.9090058696007308,
          -0.8029822085787376,
          0.27464465844729435,
          0.035166650292638504,
          0.7175482524755589,
          -1.0339118270050127,
          -0.2400525458809578,
          -1.0586818750760338,
          -0.3891080515774163,
          -1.9540214547671773,
          -0.5809349287448948,
          -1.4732731165875967,
          0.12993430093232297,
          0.7803626584648855,
          2.119066141470023,
          2.7937677930562237,
          -0.8717665012328791,
          -1.7716577077202336,
          -0.020169035913827058,
          -0.18100549019509146,
          -0.5721254704852813,
          0.22479894787532842,
          1.5062428819314406,
          -0.6898301270305548,
          1.3855743133154805,
          -2.3357336771251562,
          -0.28005544380489905,
          -0.4807570778569516,
          0.5945424139610986,
          0.43038514666522054,
          -0.3413555511478162,
          -0.16995162040634973,
          -1.0538988418566408,
          0.08042481979036202,
          -0.37549452630626995,
          0.5940362133384189,
          -0.6468205980677861,
          0.9540308957184628,
          0.5175574675990638,
          -0.7785047623803996,
          1.0490185685029791,
          0.3967836266977258,
          1.6895669396929442,
          0.051317573915553805,
          0.08427056446171943,
          0.021557083999335175,
          0.33705436556655755
         ],
         "xaxis": "x11",
         "yaxis": "y11"
        },
        {
         "line": {
          "color": "rgba(128, 128, 128, 1.0)",
          "dash": "solid",
          "shape": "linear",
          "width": 1.3
         },
         "marker": {
          "size": 2,
          "symbol": "circle"
         },
         "mode": "markers",
         "name": "C",
         "text": "",
         "type": "scatter",
         "x": [
          0.4475437913509518,
          0.9570926807223412,
          0.07070139423127939,
          -0.5222075509032993,
          -1.5550204277123403,
          -1.6354877614659291,
          -1.3694106483332433,
          -1.4202820968799394,
          -0.04253818029830309,
          2.4423542391038464,
          1.9678087738305776,
          0.3859444904584297,
          0.35571827372776976,
          0.10176787222024548,
          0.34374648943988906,
          -1.0598915668974493,
          1.062147280398189,
          -0.1920650344093556,
          0.966264773886157,
          0.5859812257299339,
          -0.4015626946527886,
          0.32111648642671275,
          1.8338315332976864,
          -0.5893122627024603,
          -0.6879599393328965,
          -0.560782495777356,
          -0.20621787323971097,
          -1.136581241660549,
          -0.7411146204324128,
          -0.2498849605291373,
          0.6797097983431598,
          -0.15843454123051615,
          -0.8893692821150188,
          0.871590017046108,
          -1.2444662784229075,
          -1.2368614065163206,
          -0.9884099833446874,
          -1.129387853119377,
          1.2127499519008558,
          -2.522020585229388,
          -0.9564079334101551,
          1.0000456942091123,
          0.5000852607899331,
          -1.7162432921273487,
          -0.9742071910626999,
          0.6939326414553603,
          1.763672380188067,
          0.10985639309637814,
          0.41161930675804514,
          -0.6952008846090426,
          0.5168631898089454,
          0.18764615361386797,
          0.41359573084936196,
          -1.2197391377039357,
          -0.8029887158440556,
          1.2725541326680152,
          -0.10003203364732165,
          -0.4579275617026912,
          -1.1827360590697227,
          -0.000928602097623532,
          0.3864411293729688,
          -0.08491110038323808,
          1.0621823370708148,
          -0.7773670819443731,
          0.8733248898140209,
          0.3168779930099508,
          -0.7953368294878966,
          -1.5586227787773843,
          0.3212115508392596,
          0.46289794589459454,
          0.938402719680537,
          0.44941156173235974,
          0.9591939407839223,
          1.2226741306976623,
          -0.7325653933552027,
          0.042179836200926316,
          -0.06098456104058909,
          -0.3140267595358866,
          1.2780293199864832,
          0.084884577171398,
          0.7433188613735633,
          1.6391180650635655,
          -0.10458486398949307,
          0.462523334664757,
          -0.17701876028182614,
          0.578477589308682,
          -1.2937262667819105,
          -0.4016686366439628,
          -0.6315012991011363,
          1.629970100028498,
          -1.7245166053120138,
          1.7596137353489198,
          -0.7759191460727132,
          -0.990621857272532,
          0.573452231216451,
          -1.2203950678999884,
          1.723062349628582,
          -0.9056008922164058,
          -0.29104103242382123,
          0.826657016373895
         ],
         "xaxis": "x12",
         "y": [
          -1.4353966420823925,
          -1.2535533336745956,
          -0.3312332066930816,
          0.4666662821253617,
          0.07834336053202509,
          0.2893959383570913,
          0.4536638718923692,
          0.6815369239830283,
          0.7141815293675279,
          0.9590023199438273,
          0.08592826600935377,
          0.010530578401795835,
          1.7184068370384047,
          0.36491543037996194,
          1.1074682868501626,
          0.49738220000748157,
          -0.019904043288244657,
          1.8950663879202003,
          -0.9364895280704577,
          0.05361104383863928,
          0.21960142400134855,
          0.359703994362732,
          1.7099525245013625,
          -1.9295035821080788,
          -0.3781937016594894,
          0.10328586601590974,
          0.5226896110063345,
          -0.7186577035475074,
          0.2165461863489111,
          -0.07098728740866844,
          -2.6585128681731707,
          -0.8539770031825489,
          0.05780169660411606,
          -0.004455692955851115,
          -0.3661520898509892,
          1.4707843826300595,
          -0.3388796929399279,
          0.4125926469181926,
          -0.18002240895551846,
          -1.765831613682973,
          0.5173488316931735,
          1.4956955615610374,
          -0.32182985016991467,
          -1.4867619913762722,
          1.3259032420415517,
          -0.6140294150509013,
          1.4636859603495558,
          -0.03424967231508822,
          2.060643698863137,
          -1.0369997945860756,
          -0.6963609991014325,
          -1.9240304850018841,
          0.49551315978036614,
          0.9090058696007308,
          -0.8029822085787376,
          0.27464465844729435,
          0.035166650292638504,
          0.7175482524755589,
          -1.0339118270050127,
          -0.2400525458809578,
          -1.0586818750760338,
          -0.3891080515774163,
          -1.9540214547671773,
          -0.5809349287448948,
          -1.4732731165875967,
          0.12993430093232297,
          0.7803626584648855,
          2.119066141470023,
          2.7937677930562237,
          -0.8717665012328791,
          -1.7716577077202336,
          -0.020169035913827058,
          -0.18100549019509146,
          -0.5721254704852813,
          0.22479894787532842,
          1.5062428819314406,
          -0.6898301270305548,
          1.3855743133154805,
          -2.3357336771251562,
          -0.28005544380489905,
          -0.4807570778569516,
          0.5945424139610986,
          0.43038514666522054,
          -0.3413555511478162,
          -0.16995162040634973,
          -1.0538988418566408,
          0.08042481979036202,
          -0.37549452630626995,
          0.5940362133384189,
          -0.6468205980677861,
          0.9540308957184628,
          0.5175574675990638,
          -0.7785047623803996,
          1.0490185685029791,
          0.3967836266977258,
          1.6895669396929442,
          0.051317573915553805,
          0.08427056446171943,
          0.021557083999335175,
          0.33705436556655755
         ],
         "yaxis": "y12"
        },
        {
         "line": {
          "color": "rgba(128, 128, 128, 1.0)",
          "dash": "solid",
          "shape": "linear",
          "width": 1.3
         },
         "marker": {
          "size": 2,
          "symbol": "circle"
         },
         "mode": "markers",
         "name": "D",
         "text": "",
         "type": "scatter",
         "x": [
          0.1206249701213706,
          0.49852343433333973,
          -1.3695553399502158,
          -1.7170528179870115,
          0.27324678432871136,
          -1.9470279113703413,
          -2.4483751648331227,
          2.333309249201956,
          -0.5121449809204915,
          0.12969221850822205,
          -0.6446330133850526,
          -0.7218087032598325,
          0.2656459530596007,
          -0.6601432489749915,
          1.095736886907146,
          -1.6081513991361676,
          -1.4711849425270092,
          -0.33015331325706504,
          2.0632132636067553,
          -0.27152117257142605,
          2.165183144756075,
          0.39182424403697896,
          0.19242497695043612,
          1.8579756132373373,
          -0.704147910019082,
          0.31985241358400507,
          3.2019984010748974,
          2.708493171628477,
          -0.8149582531644922,
          -0.6898431778469533,
          0.651341556525695,
          -1.15691281185948,
          0.5246347278944932,
          -0.013981722891419775,
          -0.45936999170141557,
          -0.9159335479923458,
          -0.41459056313818277,
          -1.152026965541066,
          0.7840720688654675,
          1.1711501936861313,
          2.8521190888211465,
          -0.24597651131725998,
          -0.5829420533728855,
          0.7560144769434166,
          0.18968195609462685,
          0.13975579709874156,
          -1.6288501016314474,
          -0.4207530522827984,
          0.27123940444038525,
          -0.40464482028266757,
          0.822839968676394,
          -0.5198717202635307,
          0.3492249557431336,
          -0.17654616410502988,
          -1.6242058314635195,
          0.5721763537313155,
          -0.782036216071513,
          0.23630964755269812,
          -0.5523086810647195,
          1.189118061813389,
          -0.769864654950212,
          0.8102943569511241,
          0.8277296824869714,
          1.3016116314975992,
          -1.6604476247983335,
          0.16636825426915391,
          -1.7601388874575197,
          0.8429652247550539,
          0.13641566927538096,
          0.8268913034982536,
          -0.6806238318448029,
          -0.943008434928968,
          0.5744194922192287,
          1.049889178412392,
          -0.31619961369343846,
          -0.8045301447010839,
          1.097732124163626,
          -1.4137201680366165,
          1.3008194488492095,
          -0.3804980351537032,
          1.234911257258786,
          0.9526409782109593,
          -0.21399781745464025,
          -0.7150615051321568,
          0.06518789533903417,
          -0.0014750191727604316,
          -0.7748752618691193,
          -1.0300167525228836,
          1.5485009452858873,
          0.8947138295198088,
          0.7452701013110108,
          0.5509705642248981,
          -0.12540225234218974,
          -1.5306440021233014,
          -1.9286582817432802,
          -0.6594991082590205,
          0.6744555298437124,
          -0.3298273188790175,
          0.681874032005342,
          -0.23528992937710205
         ],
         "xaxis": "x13",
         "y": [
          0.4475437913509518,
          0.9570926807223412,
          0.07070139423127939,
          -0.5222075509032993,
          -1.5550204277123403,
          -1.6354877614659291,
          -1.3694106483332433,
          -1.4202820968799394,
          -0.04253818029830309,
          2.4423542391038464,
          1.9678087738305776,
          0.3859444904584297,
          0.35571827372776976,
          0.10176787222024548,
          0.34374648943988906,
          -1.0598915668974493,
          1.062147280398189,
          -0.1920650344093556,
          0.966264773886157,
          0.5859812257299339,
          -0.4015626946527886,
          0.32111648642671275,
          1.8338315332976864,
          -0.5893122627024603,
          -0.6879599393328965,
          -0.560782495777356,
          -0.20621787323971097,
          -1.136581241660549,
          -0.7411146204324128,
          -0.2498849605291373,
          0.6797097983431598,
          -0.15843454123051615,
          -0.8893692821150188,
          0.871590017046108,
          -1.2444662784229075,
          -1.2368614065163206,
          -0.9884099833446874,
          -1.129387853119377,
          1.2127499519008558,
          -2.522020585229388,
          -0.9564079334101551,
          1.0000456942091123,
          0.5000852607899331,
          -1.7162432921273487,
          -0.9742071910626999,
          0.6939326414553603,
          1.763672380188067,
          0.10985639309637814,
          0.41161930675804514,
          -0.6952008846090426,
          0.5168631898089454,
          0.18764615361386797,
          0.41359573084936196,
          -1.2197391377039357,
          -0.8029887158440556,
          1.2725541326680152,
          -0.10003203364732165,
          -0.4579275617026912,
          -1.1827360590697227,
          -0.000928602097623532,
          0.3864411293729688,
          -0.08491110038323808,
          1.0621823370708148,
          -0.7773670819443731,
          0.8733248898140209,
          0.3168779930099508,
          -0.7953368294878966,
          -1.5586227787773843,
          0.3212115508392596,
          0.46289794589459454,
          0.938402719680537,
          0.44941156173235974,
          0.9591939407839223,
          1.2226741306976623,
          -0.7325653933552027,
          0.042179836200926316,
          -0.06098456104058909,
          -0.3140267595358866,
          1.2780293199864832,
          0.084884577171398,
          0.7433188613735633,
          1.6391180650635655,
          -0.10458486398949307,
          0.462523334664757,
          -0.17701876028182614,
          0.578477589308682,
          -1.2937262667819105,
          -0.4016686366439628,
          -0.6315012991011363,
          1.629970100028498,
          -1.7245166053120138,
          1.7596137353489198,
          -0.7759191460727132,
          -0.990621857272532,
          0.573452231216451,
          -1.2203950678999884,
          1.723062349628582,
          -0.9056008922164058,
          -0.29104103242382123,
          0.826657016373895
         ],
         "yaxis": "y13"
        },
        {
         "line": {
          "color": "rgba(128, 128, 128, 1.0)",
          "dash": "solid",
          "shape": "linear",
          "width": 1.3
         },
         "marker": {
          "size": 2,
          "symbol": "circle"
         },
         "mode": "markers",
         "name": "D",
         "text": "",
         "type": "scatter",
         "x": [
          1.7644200206191962,
          -0.30576255159833926,
          0.48591216870055987,
          0.7985155071177396,
          -0.14876872605666622,
          -0.8622242683700565,
          0.1363141020244147,
          -0.7260451911673562,
          2.073816753478071,
          -0.43898713716167187,
          0.33691258903617394,
          -0.05977193298366424,
          -0.8227901853712595,
          -0.8323746630428965,
          0.11095605377397717,
          0.6454186407784175,
          -0.5617872893626544,
          -0.4110696787509862,
          0.412153074799562,
          1.0155778406138107,
          0.9303310600055554,
          0.44839861289213107,
          0.25060701266456337,
          -0.6200811509285393,
          -0.36400150881228605,
          -0.7812423279375649,
          2.7449130955233194,
          1.0482475424867093,
          0.4080247242022707,
          0.030117620479940908,
          0.6109744191377052,
          0.7051984383646073,
          0.550232781652086,
          0.22880534813358577,
          -1.1564235529442963,
          -0.8260709362775998,
          1.285516241637799,
          -1.0204578541625269,
          0.6873614732322731,
          0.9291586945660607,
          -0.9964508041363669,
          -1.1456252019685773,
          0.41945494135951766,
          0.5018426975736096,
          0.7857702165301329,
          -0.09848632547303204,
          -0.6588981067399119,
          1.1853881697458184,
          1.3013098324717234,
          -0.6901871629828826,
          1.5706311752726443,
          0.35375661865285923,
          -1.7730555476594445,
          0.1404389261610056,
          0.2800682200551832,
          0.09641204971271065,
          1.5947658424754458,
          -0.9085732689692162,
          -0.19971973896539877,
          -0.29538487952431997,
          -0.16782616148221235,
          -0.22318964705705444,
          -1.1872048056031284,
          0.6447368621613021,
          0.011365501551874865,
          1.4270433489524255,
          2.3503140280491395,
          1.3962528943379109,
          0.7244555209068144,
          -0.465532477546086,
          1.28244991571956,
          0.19457895804176906,
          1.6799624327556104,
          1.119688007459729,
          -1.6574546810221313,
          0.19306786021194244,
          -0.3805407112775789,
          0.8237696600063881,
          1.6242052320141758,
          0.40698880308051666,
          -0.6972818731596732,
          1.711150635837316,
          -0.4245327195817335,
          -0.20296865094415448,
          0.27848558727482353,
          -0.07798204924120888,
          -1.3626214176056117,
          0.7426308471042079,
          0.11623335626503752,
          -0.29613174978263107,
          -0.982863194027543,
          -0.796878071956125,
          -0.4549314438785417,
          -0.19493574595397817,
          -0.7581093396617404,
          -0.7753823819206512,
          -0.17383535358302876,
          -0.05555904455453927,
          0.6506547474934091,
          -1.1733039608928564
         ],
         "xaxis": "x14",
         "y": [
          0.4475437913509518,
          0.9570926807223412,
          0.07070139423127939,
          -0.5222075509032993,
          -1.5550204277123403,
          -1.6354877614659291,
          -1.3694106483332433,
          -1.4202820968799394,
          -0.04253818029830309,
          2.4423542391038464,
          1.9678087738305776,
          0.3859444904584297,
          0.35571827372776976,
          0.10176787222024548,
          0.34374648943988906,
          -1.0598915668974493,
          1.062147280398189,
          -0.1920650344093556,
          0.966264773886157,
          0.5859812257299339,
          -0.4015626946527886,
          0.32111648642671275,
          1.8338315332976864,
          -0.5893122627024603,
          -0.6879599393328965,
          -0.560782495777356,
          -0.20621787323971097,
          -1.136581241660549,
          -0.7411146204324128,
          -0.2498849605291373,
          0.6797097983431598,
          -0.15843454123051615,
          -0.8893692821150188,
          0.871590017046108,
          -1.2444662784229075,
          -1.2368614065163206,
          -0.9884099833446874,
          -1.129387853119377,
          1.2127499519008558,
          -2.522020585229388,
          -0.9564079334101551,
          1.0000456942091123,
          0.5000852607899331,
          -1.7162432921273487,
          -0.9742071910626999,
          0.6939326414553603,
          1.763672380188067,
          0.10985639309637814,
          0.41161930675804514,
          -0.6952008846090426,
          0.5168631898089454,
          0.18764615361386797,
          0.41359573084936196,
          -1.2197391377039357,
          -0.8029887158440556,
          1.2725541326680152,
          -0.10003203364732165,
          -0.4579275617026912,
          -1.1827360590697227,
          -0.000928602097623532,
          0.3864411293729688,
          -0.08491110038323808,
          1.0621823370708148,
          -0.7773670819443731,
          0.8733248898140209,
          0.3168779930099508,
          -0.7953368294878966,
          -1.5586227787773843,
          0.3212115508392596,
          0.46289794589459454,
          0.938402719680537,
          0.44941156173235974,
          0.9591939407839223,
          1.2226741306976623,
          -0.7325653933552027,
          0.042179836200926316,
          -0.06098456104058909,
          -0.3140267595358866,
          1.2780293199864832,
          0.084884577171398,
          0.7433188613735633,
          1.6391180650635655,
          -0.10458486398949307,
          0.462523334664757,
          -0.17701876028182614,
          0.578477589308682,
          -1.2937262667819105,
          -0.4016686366439628,
          -0.6315012991011363,
          1.629970100028498,
          -1.7245166053120138,
          1.7596137353489198,
          -0.7759191460727132,
          -0.990621857272532,
          0.573452231216451,
          -1.2203950678999884,
          1.723062349628582,
          -0.9056008922164058,
          -0.29104103242382123,
          0.826657016373895
         ],
         "yaxis": "y14"
        },
        {
         "line": {
          "color": "rgba(128, 128, 128, 1.0)",
          "dash": "solid",
          "shape": "linear",
          "width": 1.3
         },
         "marker": {
          "size": 2,
          "symbol": "circle"
         },
         "mode": "markers",
         "name": "D",
         "text": "",
         "type": "scatter",
         "x": [
          -1.4353966420823925,
          -1.2535533336745956,
          -0.3312332066930816,
          0.4666662821253617,
          0.07834336053202509,
          0.2893959383570913,
          0.4536638718923692,
          0.6815369239830283,
          0.7141815293675279,
          0.9590023199438273,
          0.08592826600935377,
          0.010530578401795835,
          1.7184068370384047,
          0.36491543037996194,
          1.1074682868501626,
          0.49738220000748157,
          -0.019904043288244657,
          1.8950663879202003,
          -0.9364895280704577,
          0.05361104383863928,
          0.21960142400134855,
          0.359703994362732,
          1.7099525245013625,
          -1.9295035821080788,
          -0.3781937016594894,
          0.10328586601590974,
          0.5226896110063345,
          -0.7186577035475074,
          0.2165461863489111,
          -0.07098728740866844,
          -2.6585128681731707,
          -0.8539770031825489,
          0.05780169660411606,
          -0.004455692955851115,
          -0.3661520898509892,
          1.4707843826300595,
          -0.3388796929399279,
          0.4125926469181926,
          -0.18002240895551846,
          -1.765831613682973,
          0.5173488316931735,
          1.4956955615610374,
          -0.32182985016991467,
          -1.4867619913762722,
          1.3259032420415517,
          -0.6140294150509013,
          1.4636859603495558,
          -0.03424967231508822,
          2.060643698863137,
          -1.0369997945860756,
          -0.6963609991014325,
          -1.9240304850018841,
          0.49551315978036614,
          0.9090058696007308,
          -0.8029822085787376,
          0.27464465844729435,
          0.035166650292638504,
          0.7175482524755589,
          -1.0339118270050127,
          -0.2400525458809578,
          -1.0586818750760338,
          -0.3891080515774163,
          -1.9540214547671773,
          -0.5809349287448948,
          -1.4732731165875967,
          0.12993430093232297,
          0.7803626584648855,
          2.119066141470023,
          2.7937677930562237,
          -0.8717665012328791,
          -1.7716577077202336,
          -0.020169035913827058,
          -0.18100549019509146,
          -0.5721254704852813,
          0.22479894787532842,
          1.5062428819314406,
          -0.6898301270305548,
          1.3855743133154805,
          -2.3357336771251562,
          -0.28005544380489905,
          -0.4807570778569516,
          0.5945424139610986,
          0.43038514666522054,
          -0.3413555511478162,
          -0.16995162040634973,
          -1.0538988418566408,
          0.08042481979036202,
          -0.37549452630626995,
          0.5940362133384189,
          -0.6468205980677861,
          0.9540308957184628,
          0.5175574675990638,
          -0.7785047623803996,
          1.0490185685029791,
          0.3967836266977258,
          1.6895669396929442,
          0.051317573915553805,
          0.08427056446171943,
          0.021557083999335175,
          0.33705436556655755
         ],
         "xaxis": "x15",
         "y": [
          0.4475437913509518,
          0.9570926807223412,
          0.07070139423127939,
          -0.5222075509032993,
          -1.5550204277123403,
          -1.6354877614659291,
          -1.3694106483332433,
          -1.4202820968799394,
          -0.04253818029830309,
          2.4423542391038464,
          1.9678087738305776,
          0.3859444904584297,
          0.35571827372776976,
          0.10176787222024548,
          0.34374648943988906,
          -1.0598915668974493,
          1.062147280398189,
          -0.1920650344093556,
          0.966264773886157,
          0.5859812257299339,
          -0.4015626946527886,
          0.32111648642671275,
          1.8338315332976864,
          -0.5893122627024603,
          -0.6879599393328965,
          -0.560782495777356,
          -0.20621787323971097,
          -1.136581241660549,
          -0.7411146204324128,
          -0.2498849605291373,
          0.6797097983431598,
          -0.15843454123051615,
          -0.8893692821150188,
          0.871590017046108,
          -1.2444662784229075,
          -1.2368614065163206,
          -0.9884099833446874,
          -1.129387853119377,
          1.2127499519008558,
          -2.522020585229388,
          -0.9564079334101551,
          1.0000456942091123,
          0.5000852607899331,
          -1.7162432921273487,
          -0.9742071910626999,
          0.6939326414553603,
          1.763672380188067,
          0.10985639309637814,
          0.41161930675804514,
          -0.6952008846090426,
          0.5168631898089454,
          0.18764615361386797,
          0.41359573084936196,
          -1.2197391377039357,
          -0.8029887158440556,
          1.2725541326680152,
          -0.10003203364732165,
          -0.4579275617026912,
          -1.1827360590697227,
          -0.000928602097623532,
          0.3864411293729688,
          -0.08491110038323808,
          1.0621823370708148,
          -0.7773670819443731,
          0.8733248898140209,
          0.3168779930099508,
          -0.7953368294878966,
          -1.5586227787773843,
          0.3212115508392596,
          0.46289794589459454,
          0.938402719680537,
          0.44941156173235974,
          0.9591939407839223,
          1.2226741306976623,
          -0.7325653933552027,
          0.042179836200926316,
          -0.06098456104058909,
          -0.3140267595358866,
          1.2780293199864832,
          0.084884577171398,
          0.7433188613735633,
          1.6391180650635655,
          -0.10458486398949307,
          0.462523334664757,
          -0.17701876028182614,
          0.578477589308682,
          -1.2937262667819105,
          -0.4016686366439628,
          -0.6315012991011363,
          1.629970100028498,
          -1.7245166053120138,
          1.7596137353489198,
          -0.7759191460727132,
          -0.990621857272532,
          0.573452231216451,
          -1.2203950678999884,
          1.723062349628582,
          -0.9056008922164058,
          -0.29104103242382123,
          0.826657016373895
         ],
         "yaxis": "y15"
        },
        {
         "histfunc": "count",
         "histnorm": "",
         "marker": {
          "color": "rgba(128, 0, 128, 1.0)",
          "line": {
           "color": "#4D5663",
           "width": 1.3
          }
         },
         "name": "D",
         "nbinsx": 10,
         "opacity": 0.8,
         "orientation": "v",
         "type": "histogram",
         "x": [
          0.4475437913509518,
          0.9570926807223412,
          0.07070139423127939,
          -0.5222075509032993,
          -1.5550204277123403,
          -1.6354877614659291,
          -1.3694106483332433,
          -1.4202820968799394,
          -0.04253818029830309,
          2.4423542391038464,
          1.9678087738305776,
          0.3859444904584297,
          0.35571827372776976,
          0.10176787222024548,
          0.34374648943988906,
          -1.0598915668974493,
          1.062147280398189,
          -0.1920650344093556,
          0.966264773886157,
          0.5859812257299339,
          -0.4015626946527886,
          0.32111648642671275,
          1.8338315332976864,
          -0.5893122627024603,
          -0.6879599393328965,
          -0.560782495777356,
          -0.20621787323971097,
          -1.136581241660549,
          -0.7411146204324128,
          -0.2498849605291373,
          0.6797097983431598,
          -0.15843454123051615,
          -0.8893692821150188,
          0.871590017046108,
          -1.2444662784229075,
          -1.2368614065163206,
          -0.9884099833446874,
          -1.129387853119377,
          1.2127499519008558,
          -2.522020585229388,
          -0.9564079334101551,
          1.0000456942091123,
          0.5000852607899331,
          -1.7162432921273487,
          -0.9742071910626999,
          0.6939326414553603,
          1.763672380188067,
          0.10985639309637814,
          0.41161930675804514,
          -0.6952008846090426,
          0.5168631898089454,
          0.18764615361386797,
          0.41359573084936196,
          -1.2197391377039357,
          -0.8029887158440556,
          1.2725541326680152,
          -0.10003203364732165,
          -0.4579275617026912,
          -1.1827360590697227,
          -0.000928602097623532,
          0.3864411293729688,
          -0.08491110038323808,
          1.0621823370708148,
          -0.7773670819443731,
          0.8733248898140209,
          0.3168779930099508,
          -0.7953368294878966,
          -1.5586227787773843,
          0.3212115508392596,
          0.46289794589459454,
          0.938402719680537,
          0.44941156173235974,
          0.9591939407839223,
          1.2226741306976623,
          -0.7325653933552027,
          0.042179836200926316,
          -0.06098456104058909,
          -0.3140267595358866,
          1.2780293199864832,
          0.084884577171398,
          0.7433188613735633,
          1.6391180650635655,
          -0.10458486398949307,
          0.462523334664757,
          -0.17701876028182614,
          0.578477589308682,
          -1.2937262667819105,
          -0.4016686366439628,
          -0.6315012991011363,
          1.629970100028498,
          -1.7245166053120138,
          1.7596137353489198,
          -0.7759191460727132,
          -0.990621857272532,
          0.573452231216451,
          -1.2203950678999884,
          1.723062349628582,
          -0.9056008922164058,
          -0.29104103242382123,
          0.826657016373895
         ],
         "xaxis": "x16",
         "yaxis": "y16"
        }
       ],
       "layout": {
        "bargap": 0.02,
        "legend": {
         "bgcolor": "#F5F6F9",
         "font": {
          "color": "#4D5663"
         }
        },
        "paper_bgcolor": "#F5F6F9",
        "plot_bgcolor": "#F5F6F9",
        "showlegend": false,
        "template": {
         "data": {
          "bar": [
           {
            "error_x": {
             "color": "#2a3f5f"
            },
            "error_y": {
             "color": "#2a3f5f"
            },
            "marker": {
             "line": {
              "color": "#E5ECF6",
              "width": 0.5
             }
            },
            "type": "bar"
           }
          ],
          "barpolar": [
           {
            "marker": {
             "line": {
              "color": "#E5ECF6",
              "width": 0.5
             }
            },
            "type": "barpolar"
           }
          ],
          "carpet": [
           {
            "aaxis": {
             "endlinecolor": "#2a3f5f",
             "gridcolor": "white",
             "linecolor": "white",
             "minorgridcolor": "white",
             "startlinecolor": "#2a3f5f"
            },
            "baxis": {
             "endlinecolor": "#2a3f5f",
             "gridcolor": "white",
             "linecolor": "white",
             "minorgridcolor": "white",
             "startlinecolor": "#2a3f5f"
            },
            "type": "carpet"
           }
          ],
          "choropleth": [
           {
            "colorbar": {
             "outlinewidth": 0,
             "ticks": ""
            },
            "type": "choropleth"
           }
          ],
          "contour": [
           {
            "colorbar": {
             "outlinewidth": 0,
             "ticks": ""
            },
            "colorscale": [
             [
              0,
              "#0d0887"
             ],
             [
              0.1111111111111111,
              "#46039f"
             ],
             [
              0.2222222222222222,
              "#7201a8"
             ],
             [
              0.3333333333333333,
              "#9c179e"
             ],
             [
              0.4444444444444444,
              "#bd3786"
             ],
             [
              0.5555555555555556,
              "#d8576b"
             ],
             [
              0.6666666666666666,
              "#ed7953"
             ],
             [
              0.7777777777777778,
              "#fb9f3a"
             ],
             [
              0.8888888888888888,
              "#fdca26"
             ],
             [
              1,
              "#f0f921"
             ]
            ],
            "type": "contour"
           }
          ],
          "contourcarpet": [
           {
            "colorbar": {
             "outlinewidth": 0,
             "ticks": ""
            },
            "type": "contourcarpet"
           }
          ],
          "heatmap": [
           {
            "colorbar": {
             "outlinewidth": 0,
             "ticks": ""
            },
            "colorscale": [
             [
              0,
              "#0d0887"
             ],
             [
              0.1111111111111111,
              "#46039f"
             ],
             [
              0.2222222222222222,
              "#7201a8"
             ],
             [
              0.3333333333333333,
              "#9c179e"
             ],
             [
              0.4444444444444444,
              "#bd3786"
             ],
             [
              0.5555555555555556,
              "#d8576b"
             ],
             [
              0.6666666666666666,
              "#ed7953"
             ],
             [
              0.7777777777777778,
              "#fb9f3a"
             ],
             [
              0.8888888888888888,
              "#fdca26"
             ],
             [
              1,
              "#f0f921"
             ]
            ],
            "type": "heatmap"
           }
          ],
          "heatmapgl": [
           {
            "colorbar": {
             "outlinewidth": 0,
             "ticks": ""
            },
            "colorscale": [
             [
              0,
              "#0d0887"
             ],
             [
              0.1111111111111111,
              "#46039f"
             ],
             [
              0.2222222222222222,
              "#7201a8"
             ],
             [
              0.3333333333333333,
              "#9c179e"
             ],
             [
              0.4444444444444444,
              "#bd3786"
             ],
             [
              0.5555555555555556,
              "#d8576b"
             ],
             [
              0.6666666666666666,
              "#ed7953"
             ],
             [
              0.7777777777777778,
              "#fb9f3a"
             ],
             [
              0.8888888888888888,
              "#fdca26"
             ],
             [
              1,
              "#f0f921"
             ]
            ],
            "type": "heatmapgl"
           }
          ],
          "histogram": [
           {
            "marker": {
             "colorbar": {
              "outlinewidth": 0,
              "ticks": ""
             }
            },
            "type": "histogram"
           }
          ],
          "histogram2d": [
           {
            "colorbar": {
             "outlinewidth": 0,
             "ticks": ""
            },
            "colorscale": [
             [
              0,
              "#0d0887"
             ],
             [
              0.1111111111111111,
              "#46039f"
             ],
             [
              0.2222222222222222,
              "#7201a8"
             ],
             [
              0.3333333333333333,
              "#9c179e"
             ],
             [
              0.4444444444444444,
              "#bd3786"
             ],
             [
              0.5555555555555556,
              "#d8576b"
             ],
             [
              0.6666666666666666,
              "#ed7953"
             ],
             [
              0.7777777777777778,
              "#fb9f3a"
             ],
             [
              0.8888888888888888,
              "#fdca26"
             ],
             [
              1,
              "#f0f921"
             ]
            ],
            "type": "histogram2d"
           }
          ],
          "histogram2dcontour": [
           {
            "colorbar": {
             "outlinewidth": 0,
             "ticks": ""
            },
            "colorscale": [
             [
              0,
              "#0d0887"
             ],
             [
              0.1111111111111111,
              "#46039f"
             ],
             [
              0.2222222222222222,
              "#7201a8"
             ],
             [
              0.3333333333333333,
              "#9c179e"
             ],
             [
              0.4444444444444444,
              "#bd3786"
             ],
             [
              0.5555555555555556,
              "#d8576b"
             ],
             [
              0.6666666666666666,
              "#ed7953"
             ],
             [
              0.7777777777777778,
              "#fb9f3a"
             ],
             [
              0.8888888888888888,
              "#fdca26"
             ],
             [
              1,
              "#f0f921"
             ]
            ],
            "type": "histogram2dcontour"
           }
          ],
          "mesh3d": [
           {
            "colorbar": {
             "outlinewidth": 0,
             "ticks": ""
            },
            "type": "mesh3d"
           }
          ],
          "parcoords": [
           {
            "line": {
             "colorbar": {
              "outlinewidth": 0,
              "ticks": ""
             }
            },
            "type": "parcoords"
           }
          ],
          "pie": [
           {
            "automargin": true,
            "type": "pie"
           }
          ],
          "scatter": [
           {
            "marker": {
             "colorbar": {
              "outlinewidth": 0,
              "ticks": ""
             }
            },
            "type": "scatter"
           }
          ],
          "scatter3d": [
           {
            "line": {
             "colorbar": {
              "outlinewidth": 0,
              "ticks": ""
             }
            },
            "marker": {
             "colorbar": {
              "outlinewidth": 0,
              "ticks": ""
             }
            },
            "type": "scatter3d"
           }
          ],
          "scattercarpet": [
           {
            "marker": {
             "colorbar": {
              "outlinewidth": 0,
              "ticks": ""
             }
            },
            "type": "scattercarpet"
           }
          ],
          "scattergeo": [
           {
            "marker": {
             "colorbar": {
              "outlinewidth": 0,
              "ticks": ""
             }
            },
            "type": "scattergeo"
           }
          ],
          "scattergl": [
           {
            "marker": {
             "colorbar": {
              "outlinewidth": 0,
              "ticks": ""
             }
            },
            "type": "scattergl"
           }
          ],
          "scattermapbox": [
           {
            "marker": {
             "colorbar": {
              "outlinewidth": 0,
              "ticks": ""
             }
            },
            "type": "scattermapbox"
           }
          ],
          "scatterpolar": [
           {
            "marker": {
             "colorbar": {
              "outlinewidth": 0,
              "ticks": ""
             }
            },
            "type": "scatterpolar"
           }
          ],
          "scatterpolargl": [
           {
            "marker": {
             "colorbar": {
              "outlinewidth": 0,
              "ticks": ""
             }
            },
            "type": "scatterpolargl"
           }
          ],
          "scatterternary": [
           {
            "marker": {
             "colorbar": {
              "outlinewidth": 0,
              "ticks": ""
             }
            },
            "type": "scatterternary"
           }
          ],
          "surface": [
           {
            "colorbar": {
             "outlinewidth": 0,
             "ticks": ""
            },
            "colorscale": [
             [
              0,
              "#0d0887"
             ],
             [
              0.1111111111111111,
              "#46039f"
             ],
             [
              0.2222222222222222,
              "#7201a8"
             ],
             [
              0.3333333333333333,
              "#9c179e"
             ],
             [
              0.4444444444444444,
              "#bd3786"
             ],
             [
              0.5555555555555556,
              "#d8576b"
             ],
             [
              0.6666666666666666,
              "#ed7953"
             ],
             [
              0.7777777777777778,
              "#fb9f3a"
             ],
             [
              0.8888888888888888,
              "#fdca26"
             ],
             [
              1,
              "#f0f921"
             ]
            ],
            "type": "surface"
           }
          ],
          "table": [
           {
            "cells": {
             "fill": {
              "color": "#EBF0F8"
             },
             "line": {
              "color": "white"
             }
            },
            "header": {
             "fill": {
              "color": "#C8D4E3"
             },
             "line": {
              "color": "white"
             }
            },
            "type": "table"
           }
          ]
         },
         "layout": {
          "annotationdefaults": {
           "arrowcolor": "#2a3f5f",
           "arrowhead": 0,
           "arrowwidth": 1
          },
          "coloraxis": {
           "colorbar": {
            "outlinewidth": 0,
            "ticks": ""
           }
          },
          "colorscale": {
           "diverging": [
            [
             0,
             "#8e0152"
            ],
            [
             0.1,
             "#c51b7d"
            ],
            [
             0.2,
             "#de77ae"
            ],
            [
             0.3,
             "#f1b6da"
            ],
            [
             0.4,
             "#fde0ef"
            ],
            [
             0.5,
             "#f7f7f7"
            ],
            [
             0.6,
             "#e6f5d0"
            ],
            [
             0.7,
             "#b8e186"
            ],
            [
             0.8,
             "#7fbc41"
            ],
            [
             0.9,
             "#4d9221"
            ],
            [
             1,
             "#276419"
            ]
           ],
           "sequential": [
            [
             0,
             "#0d0887"
            ],
            [
             0.1111111111111111,
             "#46039f"
            ],
            [
             0.2222222222222222,
             "#7201a8"
            ],
            [
             0.3333333333333333,
             "#9c179e"
            ],
            [
             0.4444444444444444,
             "#bd3786"
            ],
            [
             0.5555555555555556,
             "#d8576b"
            ],
            [
             0.6666666666666666,
             "#ed7953"
            ],
            [
             0.7777777777777778,
             "#fb9f3a"
            ],
            [
             0.8888888888888888,
             "#fdca26"
            ],
            [
             1,
             "#f0f921"
            ]
           ],
           "sequentialminus": [
            [
             0,
             "#0d0887"
            ],
            [
             0.1111111111111111,
             "#46039f"
            ],
            [
             0.2222222222222222,
             "#7201a8"
            ],
            [
             0.3333333333333333,
             "#9c179e"
            ],
            [
             0.4444444444444444,
             "#bd3786"
            ],
            [
             0.5555555555555556,
             "#d8576b"
            ],
            [
             0.6666666666666666,
             "#ed7953"
            ],
            [
             0.7777777777777778,
             "#fb9f3a"
            ],
            [
             0.8888888888888888,
             "#fdca26"
            ],
            [
             1,
             "#f0f921"
            ]
           ]
          },
          "colorway": [
           "#636efa",
           "#EF553B",
           "#00cc96",
           "#ab63fa",
           "#FFA15A",
           "#19d3f3",
           "#FF6692",
           "#B6E880",
           "#FF97FF",
           "#FECB52"
          ],
          "font": {
           "color": "#2a3f5f"
          },
          "geo": {
           "bgcolor": "white",
           "lakecolor": "white",
           "landcolor": "#E5ECF6",
           "showlakes": true,
           "showland": true,
           "subunitcolor": "white"
          },
          "hoverlabel": {
           "align": "left"
          },
          "hovermode": "closest",
          "mapbox": {
           "style": "light"
          },
          "paper_bgcolor": "white",
          "plot_bgcolor": "#E5ECF6",
          "polar": {
           "angularaxis": {
            "gridcolor": "white",
            "linecolor": "white",
            "ticks": ""
           },
           "bgcolor": "#E5ECF6",
           "radialaxis": {
            "gridcolor": "white",
            "linecolor": "white",
            "ticks": ""
           }
          },
          "scene": {
           "xaxis": {
            "backgroundcolor": "#E5ECF6",
            "gridcolor": "white",
            "gridwidth": 2,
            "linecolor": "white",
            "showbackground": true,
            "ticks": "",
            "zerolinecolor": "white"
           },
           "yaxis": {
            "backgroundcolor": "#E5ECF6",
            "gridcolor": "white",
            "gridwidth": 2,
            "linecolor": "white",
            "showbackground": true,
            "ticks": "",
            "zerolinecolor": "white"
           },
           "zaxis": {
            "backgroundcolor": "#E5ECF6",
            "gridcolor": "white",
            "gridwidth": 2,
            "linecolor": "white",
            "showbackground": true,
            "ticks": "",
            "zerolinecolor": "white"
           }
          },
          "shapedefaults": {
           "line": {
            "color": "#2a3f5f"
           }
          },
          "ternary": {
           "aaxis": {
            "gridcolor": "white",
            "linecolor": "white",
            "ticks": ""
           },
           "baxis": {
            "gridcolor": "white",
            "linecolor": "white",
            "ticks": ""
           },
           "bgcolor": "#E5ECF6",
           "caxis": {
            "gridcolor": "white",
            "linecolor": "white",
            "ticks": ""
           }
          },
          "title": {
           "x": 0.05
          },
          "xaxis": {
           "automargin": true,
           "gridcolor": "white",
           "linecolor": "white",
           "ticks": "",
           "title": {
            "standoff": 15
           },
           "zerolinecolor": "white",
           "zerolinewidth": 2
          },
          "yaxis": {
           "automargin": true,
           "gridcolor": "white",
           "linecolor": "white",
           "ticks": "",
           "title": {
            "standoff": 15
           },
           "zerolinecolor": "white",
           "zerolinewidth": 2
          }
         }
        },
        "title": {
         "font": {
          "color": "#4D5663"
         }
        },
        "xaxis": {
         "anchor": "y",
         "domain": [
          0,
          0.2125
         ],
         "gridcolor": "#E1E5ED",
         "showgrid": false,
         "tickfont": {
          "color": "#4D5663"
         },
         "title": {
          "font": {
           "color": "#4D5663"
          },
          "text": ""
         },
         "zerolinecolor": "#E1E5ED"
        },
        "xaxis10": {
         "anchor": "y10",
         "domain": [
          0.2625,
          0.475
         ],
         "gridcolor": "#E1E5ED",
         "showgrid": false,
         "tickfont": {
          "color": "#4D5663"
         },
         "title": {
          "font": {
           "color": "#4D5663"
          },
          "text": ""
         },
         "zerolinecolor": "#E1E5ED"
        },
        "xaxis11": {
         "anchor": "y11",
         "domain": [
          0.525,
          0.7375
         ],
         "gridcolor": "#E1E5ED",
         "showgrid": false,
         "tickfont": {
          "color": "#4D5663"
         },
         "title": {
          "font": {
           "color": "#4D5663"
          },
          "text": ""
         },
         "zerolinecolor": "#E1E5ED"
        },
        "xaxis12": {
         "anchor": "y12",
         "domain": [
          0.7875,
          1
         ],
         "gridcolor": "#E1E5ED",
         "showgrid": false,
         "tickfont": {
          "color": "#4D5663"
         },
         "title": {
          "font": {
           "color": "#4D5663"
          },
          "text": ""
         },
         "zerolinecolor": "#E1E5ED"
        },
        "xaxis13": {
         "anchor": "y13",
         "domain": [
          0,
          0.2125
         ],
         "gridcolor": "#E1E5ED",
         "showgrid": false,
         "tickfont": {
          "color": "#4D5663"
         },
         "title": {
          "font": {
           "color": "#4D5663"
          },
          "text": ""
         },
         "zerolinecolor": "#E1E5ED"
        },
        "xaxis14": {
         "anchor": "y14",
         "domain": [
          0.2625,
          0.475
         ],
         "gridcolor": "#E1E5ED",
         "showgrid": false,
         "tickfont": {
          "color": "#4D5663"
         },
         "title": {
          "font": {
           "color": "#4D5663"
          },
          "text": ""
         },
         "zerolinecolor": "#E1E5ED"
        },
        "xaxis15": {
         "anchor": "y15",
         "domain": [
          0.525,
          0.7375
         ],
         "gridcolor": "#E1E5ED",
         "showgrid": false,
         "tickfont": {
          "color": "#4D5663"
         },
         "title": {
          "font": {
           "color": "#4D5663"
          },
          "text": ""
         },
         "zerolinecolor": "#E1E5ED"
        },
        "xaxis16": {
         "anchor": "y16",
         "domain": [
          0.7875,
          1
         ],
         "gridcolor": "#E1E5ED",
         "showgrid": false,
         "tickfont": {
          "color": "#4D5663"
         },
         "title": {
          "font": {
           "color": "#4D5663"
          },
          "text": ""
         },
         "zerolinecolor": "#E1E5ED"
        },
        "xaxis2": {
         "anchor": "y2",
         "domain": [
          0.2625,
          0.475
         ],
         "gridcolor": "#E1E5ED",
         "showgrid": false,
         "tickfont": {
          "color": "#4D5663"
         },
         "title": {
          "font": {
           "color": "#4D5663"
          },
          "text": ""
         },
         "zerolinecolor": "#E1E5ED"
        },
        "xaxis3": {
         "anchor": "y3",
         "domain": [
          0.525,
          0.7375
         ],
         "gridcolor": "#E1E5ED",
         "showgrid": false,
         "tickfont": {
          "color": "#4D5663"
         },
         "title": {
          "font": {
           "color": "#4D5663"
          },
          "text": ""
         },
         "zerolinecolor": "#E1E5ED"
        },
        "xaxis4": {
         "anchor": "y4",
         "domain": [
          0.7875,
          1
         ],
         "gridcolor": "#E1E5ED",
         "showgrid": false,
         "tickfont": {
          "color": "#4D5663"
         },
         "title": {
          "font": {
           "color": "#4D5663"
          },
          "text": ""
         },
         "zerolinecolor": "#E1E5ED"
        },
        "xaxis5": {
         "anchor": "y5",
         "domain": [
          0,
          0.2125
         ],
         "gridcolor": "#E1E5ED",
         "showgrid": false,
         "tickfont": {
          "color": "#4D5663"
         },
         "title": {
          "font": {
           "color": "#4D5663"
          },
          "text": ""
         },
         "zerolinecolor": "#E1E5ED"
        },
        "xaxis6": {
         "anchor": "y6",
         "domain": [
          0.2625,
          0.475
         ],
         "gridcolor": "#E1E5ED",
         "showgrid": false,
         "tickfont": {
          "color": "#4D5663"
         },
         "title": {
          "font": {
           "color": "#4D5663"
          },
          "text": ""
         },
         "zerolinecolor": "#E1E5ED"
        },
        "xaxis7": {
         "anchor": "y7",
         "domain": [
          0.525,
          0.7375
         ],
         "gridcolor": "#E1E5ED",
         "showgrid": false,
         "tickfont": {
          "color": "#4D5663"
         },
         "title": {
          "font": {
           "color": "#4D5663"
          },
          "text": ""
         },
         "zerolinecolor": "#E1E5ED"
        },
        "xaxis8": {
         "anchor": "y8",
         "domain": [
          0.7875,
          1
         ],
         "gridcolor": "#E1E5ED",
         "showgrid": false,
         "tickfont": {
          "color": "#4D5663"
         },
         "title": {
          "font": {
           "color": "#4D5663"
          },
          "text": ""
         },
         "zerolinecolor": "#E1E5ED"
        },
        "xaxis9": {
         "anchor": "y9",
         "domain": [
          0,
          0.2125
         ],
         "gridcolor": "#E1E5ED",
         "showgrid": false,
         "tickfont": {
          "color": "#4D5663"
         },
         "title": {
          "font": {
           "color": "#4D5663"
          },
          "text": ""
         },
         "zerolinecolor": "#E1E5ED"
        },
        "yaxis": {
         "anchor": "x",
         "domain": [
          0.8025,
          1
         ],
         "gridcolor": "#E1E5ED",
         "showgrid": false,
         "tickfont": {
          "color": "#4D5663"
         },
         "title": {
          "font": {
           "color": "#4D5663"
          },
          "text": ""
         },
         "zerolinecolor": "#E1E5ED"
        },
        "yaxis10": {
         "anchor": "x10",
         "domain": [
          0.2675,
          0.465
         ],
         "gridcolor": "#E1E5ED",
         "showgrid": false,
         "tickfont": {
          "color": "#4D5663"
         },
         "title": {
          "font": {
           "color": "#4D5663"
          },
          "text": ""
         },
         "zerolinecolor": "#E1E5ED"
        },
        "yaxis11": {
         "anchor": "x11",
         "domain": [
          0.2675,
          0.465
         ],
         "gridcolor": "#E1E5ED",
         "showgrid": false,
         "tickfont": {
          "color": "#4D5663"
         },
         "title": {
          "font": {
           "color": "#4D5663"
          },
          "text": ""
         },
         "zerolinecolor": "#E1E5ED"
        },
        "yaxis12": {
         "anchor": "x12",
         "domain": [
          0.2675,
          0.465
         ],
         "gridcolor": "#E1E5ED",
         "showgrid": false,
         "tickfont": {
          "color": "#4D5663"
         },
         "title": {
          "font": {
           "color": "#4D5663"
          },
          "text": ""
         },
         "zerolinecolor": "#E1E5ED"
        },
        "yaxis13": {
         "anchor": "x13",
         "domain": [
          0,
          0.1975
         ],
         "gridcolor": "#E1E5ED",
         "showgrid": false,
         "tickfont": {
          "color": "#4D5663"
         },
         "title": {
          "font": {
           "color": "#4D5663"
          },
          "text": ""
         },
         "zerolinecolor": "#E1E5ED"
        },
        "yaxis14": {
         "anchor": "x14",
         "domain": [
          0,
          0.1975
         ],
         "gridcolor": "#E1E5ED",
         "showgrid": false,
         "tickfont": {
          "color": "#4D5663"
         },
         "title": {
          "font": {
           "color": "#4D5663"
          },
          "text": ""
         },
         "zerolinecolor": "#E1E5ED"
        },
        "yaxis15": {
         "anchor": "x15",
         "domain": [
          0,
          0.1975
         ],
         "gridcolor": "#E1E5ED",
         "showgrid": false,
         "tickfont": {
          "color": "#4D5663"
         },
         "title": {
          "font": {
           "color": "#4D5663"
          },
          "text": ""
         },
         "zerolinecolor": "#E1E5ED"
        },
        "yaxis16": {
         "anchor": "x16",
         "domain": [
          0,
          0.1975
         ],
         "gridcolor": "#E1E5ED",
         "showgrid": false,
         "tickfont": {
          "color": "#4D5663"
         },
         "title": {
          "font": {
           "color": "#4D5663"
          },
          "text": ""
         },
         "zerolinecolor": "#E1E5ED"
        },
        "yaxis2": {
         "anchor": "x2",
         "domain": [
          0.8025,
          1
         ],
         "gridcolor": "#E1E5ED",
         "showgrid": false,
         "tickfont": {
          "color": "#4D5663"
         },
         "title": {
          "font": {
           "color": "#4D5663"
          },
          "text": ""
         },
         "zerolinecolor": "#E1E5ED"
        },
        "yaxis3": {
         "anchor": "x3",
         "domain": [
          0.8025,
          1
         ],
         "gridcolor": "#E1E5ED",
         "showgrid": false,
         "tickfont": {
          "color": "#4D5663"
         },
         "title": {
          "font": {
           "color": "#4D5663"
          },
          "text": ""
         },
         "zerolinecolor": "#E1E5ED"
        },
        "yaxis4": {
         "anchor": "x4",
         "domain": [
          0.8025,
          1
         ],
         "gridcolor": "#E1E5ED",
         "showgrid": false,
         "tickfont": {
          "color": "#4D5663"
         },
         "title": {
          "font": {
           "color": "#4D5663"
          },
          "text": ""
         },
         "zerolinecolor": "#E1E5ED"
        },
        "yaxis5": {
         "anchor": "x5",
         "domain": [
          0.535,
          0.7325
         ],
         "gridcolor": "#E1E5ED",
         "showgrid": false,
         "tickfont": {
          "color": "#4D5663"
         },
         "title": {
          "font": {
           "color": "#4D5663"
          },
          "text": ""
         },
         "zerolinecolor": "#E1E5ED"
        },
        "yaxis6": {
         "anchor": "x6",
         "domain": [
          0.535,
          0.7325
         ],
         "gridcolor": "#E1E5ED",
         "showgrid": false,
         "tickfont": {
          "color": "#4D5663"
         },
         "title": {
          "font": {
           "color": "#4D5663"
          },
          "text": ""
         },
         "zerolinecolor": "#E1E5ED"
        },
        "yaxis7": {
         "anchor": "x7",
         "domain": [
          0.535,
          0.7325
         ],
         "gridcolor": "#E1E5ED",
         "showgrid": false,
         "tickfont": {
          "color": "#4D5663"
         },
         "title": {
          "font": {
           "color": "#4D5663"
          },
          "text": ""
         },
         "zerolinecolor": "#E1E5ED"
        },
        "yaxis8": {
         "anchor": "x8",
         "domain": [
          0.535,
          0.7325
         ],
         "gridcolor": "#E1E5ED",
         "showgrid": false,
         "tickfont": {
          "color": "#4D5663"
         },
         "title": {
          "font": {
           "color": "#4D5663"
          },
          "text": ""
         },
         "zerolinecolor": "#E1E5ED"
        },
        "yaxis9": {
         "anchor": "x9",
         "domain": [
          0.2675,
          0.465
         ],
         "gridcolor": "#E1E5ED",
         "showgrid": false,
         "tickfont": {
          "color": "#4D5663"
         },
         "title": {
          "font": {
           "color": "#4D5663"
          },
          "text": ""
         },
         "zerolinecolor": "#E1E5ED"
        }
       }
      },
      "text/html": [
       "<div>\n",
       "        \n",
       "        \n",
       "            <div id=\"922680e7-4bcd-449f-9183-e67160d35996\" class=\"plotly-graph-div\" style=\"height:525px; width:100%;\"></div>\n",
       "            <script type=\"text/javascript\">\n",
       "                require([\"plotly\"], function(Plotly) {\n",
       "                    window.PLOTLYENV=window.PLOTLYENV || {};\n",
       "                    window.PLOTLYENV.BASE_URL='https://plot.ly';\n",
       "                    \n",
       "                if (document.getElementById(\"922680e7-4bcd-449f-9183-e67160d35996\")) {\n",
       "                    Plotly.newPlot(\n",
       "                        '922680e7-4bcd-449f-9183-e67160d35996',\n",
       "                        [{\"histfunc\": \"count\", \"histnorm\": \"\", \"marker\": {\"color\": \"rgba(255, 153, 51, 1.0)\", \"line\": {\"color\": \"#4D5663\", \"width\": 1.3}}, \"name\": \"A\", \"nbinsx\": 10, \"opacity\": 0.8, \"orientation\": \"v\", \"type\": \"histogram\", \"x\": [0.1206249701213706, 0.49852343433333973, -1.3695553399502158, -1.7170528179870115, 0.27324678432871136, -1.9470279113703413, -2.4483751648331227, 2.333309249201956, -0.5121449809204915, 0.12969221850822205, -0.6446330133850526, -0.7218087032598325, 0.2656459530596007, -0.6601432489749915, 1.095736886907146, -1.6081513991361676, -1.4711849425270092, -0.33015331325706504, 2.0632132636067553, -0.27152117257142605, 2.165183144756075, 0.39182424403697896, 0.19242497695043612, 1.8579756132373373, -0.704147910019082, 0.31985241358400507, 3.2019984010748974, 2.708493171628477, -0.8149582531644922, -0.6898431778469533, 0.651341556525695, -1.15691281185948, 0.5246347278944932, -0.013981722891419775, -0.45936999170141557, -0.9159335479923458, -0.41459056313818277, -1.152026965541066, 0.7840720688654675, 1.1711501936861313, 2.8521190888211465, -0.24597651131725998, -0.5829420533728855, 0.7560144769434166, 0.18968195609462685, 0.13975579709874156, -1.6288501016314474, -0.4207530522827984, 0.27123940444038525, -0.40464482028266757, 0.822839968676394, -0.5198717202635307, 0.3492249557431336, -0.17654616410502988, -1.6242058314635195, 0.5721763537313155, -0.782036216071513, 0.23630964755269812, -0.5523086810647195, 1.189118061813389, -0.769864654950212, 0.8102943569511241, 0.8277296824869714, 1.3016116314975992, -1.6604476247983335, 0.16636825426915391, -1.7601388874575197, 0.8429652247550539, 0.13641566927538096, 0.8268913034982536, -0.6806238318448029, -0.943008434928968, 0.5744194922192287, 1.049889178412392, -0.31619961369343846, -0.8045301447010839, 1.097732124163626, -1.4137201680366165, 1.3008194488492095, -0.3804980351537032, 1.234911257258786, 0.9526409782109593, -0.21399781745464025, -0.7150615051321568, 0.06518789533903417, -0.0014750191727604316, -0.7748752618691193, -1.0300167525228836, 1.5485009452858873, 0.8947138295198088, 0.7452701013110108, 0.5509705642248981, -0.12540225234218974, -1.5306440021233014, -1.9286582817432802, -0.6594991082590205, 0.6744555298437124, -0.3298273188790175, 0.681874032005342, -0.23528992937710205], \"xaxis\": \"x\", \"yaxis\": \"y\"}, {\"line\": {\"color\": \"rgba(128, 128, 128, 1.0)\", \"dash\": \"solid\", \"shape\": \"linear\", \"width\": 1.3}, \"marker\": {\"size\": 2, \"symbol\": \"circle\"}, \"mode\": \"markers\", \"name\": \"A\", \"text\": \"\", \"type\": \"scatter\", \"x\": [1.7644200206191962, -0.30576255159833926, 0.48591216870055987, 0.7985155071177396, -0.14876872605666622, -0.8622242683700565, 0.1363141020244147, -0.7260451911673562, 2.073816753478071, -0.43898713716167187, 0.33691258903617394, -0.05977193298366424, -0.8227901853712595, -0.8323746630428965, 0.11095605377397717, 0.6454186407784175, -0.5617872893626544, -0.4110696787509862, 0.412153074799562, 1.0155778406138107, 0.9303310600055554, 0.44839861289213107, 0.25060701266456337, -0.6200811509285393, -0.36400150881228605, -0.7812423279375649, 2.7449130955233194, 1.0482475424867093, 0.4080247242022707, 0.030117620479940908, 0.6109744191377052, 0.7051984383646073, 0.550232781652086, 0.22880534813358577, -1.1564235529442963, -0.8260709362775998, 1.285516241637799, -1.0204578541625269, 0.6873614732322731, 0.9291586945660607, -0.9964508041363669, -1.1456252019685773, 0.41945494135951766, 0.5018426975736096, 0.7857702165301329, -0.09848632547303204, -0.6588981067399119, 1.1853881697458184, 1.3013098324717234, -0.6901871629828826, 1.5706311752726443, 0.35375661865285923, -1.7730555476594445, 0.1404389261610056, 0.2800682200551832, 0.09641204971271065, 1.5947658424754458, -0.9085732689692162, -0.19971973896539877, -0.29538487952431997, -0.16782616148221235, -0.22318964705705444, -1.1872048056031284, 0.6447368621613021, 0.011365501551874865, 1.4270433489524255, 2.3503140280491395, 1.3962528943379109, 0.7244555209068144, -0.465532477546086, 1.28244991571956, 0.19457895804176906, 1.6799624327556104, 1.119688007459729, -1.6574546810221313, 0.19306786021194244, -0.3805407112775789, 0.8237696600063881, 1.6242052320141758, 0.40698880308051666, -0.6972818731596732, 1.711150635837316, -0.4245327195817335, -0.20296865094415448, 0.27848558727482353, -0.07798204924120888, -1.3626214176056117, 0.7426308471042079, 0.11623335626503752, -0.29613174978263107, -0.982863194027543, -0.796878071956125, -0.4549314438785417, -0.19493574595397817, -0.7581093396617404, -0.7753823819206512, -0.17383535358302876, -0.05555904455453927, 0.6506547474934091, -1.1733039608928564], \"xaxis\": \"x2\", \"y\": [0.1206249701213706, 0.49852343433333973, -1.3695553399502158, -1.7170528179870115, 0.27324678432871136, -1.9470279113703413, -2.4483751648331227, 2.333309249201956, -0.5121449809204915, 0.12969221850822205, -0.6446330133850526, -0.7218087032598325, 0.2656459530596007, -0.6601432489749915, 1.095736886907146, -1.6081513991361676, -1.4711849425270092, -0.33015331325706504, 2.0632132636067553, -0.27152117257142605, 2.165183144756075, 0.39182424403697896, 0.19242497695043612, 1.8579756132373373, -0.704147910019082, 0.31985241358400507, 3.2019984010748974, 2.708493171628477, -0.8149582531644922, -0.6898431778469533, 0.651341556525695, -1.15691281185948, 0.5246347278944932, -0.013981722891419775, -0.45936999170141557, -0.9159335479923458, -0.41459056313818277, -1.152026965541066, 0.7840720688654675, 1.1711501936861313, 2.8521190888211465, -0.24597651131725998, -0.5829420533728855, 0.7560144769434166, 0.18968195609462685, 0.13975579709874156, -1.6288501016314474, -0.4207530522827984, 0.27123940444038525, -0.40464482028266757, 0.822839968676394, -0.5198717202635307, 0.3492249557431336, -0.17654616410502988, -1.6242058314635195, 0.5721763537313155, -0.782036216071513, 0.23630964755269812, -0.5523086810647195, 1.189118061813389, -0.769864654950212, 0.8102943569511241, 0.8277296824869714, 1.3016116314975992, -1.6604476247983335, 0.16636825426915391, -1.7601388874575197, 0.8429652247550539, 0.13641566927538096, 0.8268913034982536, -0.6806238318448029, -0.943008434928968, 0.5744194922192287, 1.049889178412392, -0.31619961369343846, -0.8045301447010839, 1.097732124163626, -1.4137201680366165, 1.3008194488492095, -0.3804980351537032, 1.234911257258786, 0.9526409782109593, -0.21399781745464025, -0.7150615051321568, 0.06518789533903417, -0.0014750191727604316, -0.7748752618691193, -1.0300167525228836, 1.5485009452858873, 0.8947138295198088, 0.7452701013110108, 0.5509705642248981, -0.12540225234218974, -1.5306440021233014, -1.9286582817432802, -0.6594991082590205, 0.6744555298437124, -0.3298273188790175, 0.681874032005342, -0.23528992937710205], \"yaxis\": \"y2\"}, {\"line\": {\"color\": \"rgba(128, 128, 128, 1.0)\", \"dash\": \"solid\", \"shape\": \"linear\", \"width\": 1.3}, \"marker\": {\"size\": 2, \"symbol\": \"circle\"}, \"mode\": \"markers\", \"name\": \"A\", \"text\": \"\", \"type\": \"scatter\", \"x\": [-1.4353966420823925, -1.2535533336745956, -0.3312332066930816, 0.4666662821253617, 0.07834336053202509, 0.2893959383570913, 0.4536638718923692, 0.6815369239830283, 0.7141815293675279, 0.9590023199438273, 0.08592826600935377, 0.010530578401795835, 1.7184068370384047, 0.36491543037996194, 1.1074682868501626, 0.49738220000748157, -0.019904043288244657, 1.8950663879202003, -0.9364895280704577, 0.05361104383863928, 0.21960142400134855, 0.359703994362732, 1.7099525245013625, -1.9295035821080788, -0.3781937016594894, 0.10328586601590974, 0.5226896110063345, -0.7186577035475074, 0.2165461863489111, -0.07098728740866844, -2.6585128681731707, -0.8539770031825489, 0.05780169660411606, -0.004455692955851115, -0.3661520898509892, 1.4707843826300595, -0.3388796929399279, 0.4125926469181926, -0.18002240895551846, -1.765831613682973, 0.5173488316931735, 1.4956955615610374, -0.32182985016991467, -1.4867619913762722, 1.3259032420415517, -0.6140294150509013, 1.4636859603495558, -0.03424967231508822, 2.060643698863137, -1.0369997945860756, -0.6963609991014325, -1.9240304850018841, 0.49551315978036614, 0.9090058696007308, -0.8029822085787376, 0.27464465844729435, 0.035166650292638504, 0.7175482524755589, -1.0339118270050127, -0.2400525458809578, -1.0586818750760338, -0.3891080515774163, -1.9540214547671773, -0.5809349287448948, -1.4732731165875967, 0.12993430093232297, 0.7803626584648855, 2.119066141470023, 2.7937677930562237, -0.8717665012328791, -1.7716577077202336, -0.020169035913827058, -0.18100549019509146, -0.5721254704852813, 0.22479894787532842, 1.5062428819314406, -0.6898301270305548, 1.3855743133154805, -2.3357336771251562, -0.28005544380489905, -0.4807570778569516, 0.5945424139610986, 0.43038514666522054, -0.3413555511478162, -0.16995162040634973, -1.0538988418566408, 0.08042481979036202, -0.37549452630626995, 0.5940362133384189, -0.6468205980677861, 0.9540308957184628, 0.5175574675990638, -0.7785047623803996, 1.0490185685029791, 0.3967836266977258, 1.6895669396929442, 0.051317573915553805, 0.08427056446171943, 0.021557083999335175, 0.33705436556655755], \"xaxis\": \"x3\", \"y\": [0.1206249701213706, 0.49852343433333973, -1.3695553399502158, -1.7170528179870115, 0.27324678432871136, -1.9470279113703413, -2.4483751648331227, 2.333309249201956, -0.5121449809204915, 0.12969221850822205, -0.6446330133850526, -0.7218087032598325, 0.2656459530596007, -0.6601432489749915, 1.095736886907146, -1.6081513991361676, -1.4711849425270092, -0.33015331325706504, 2.0632132636067553, -0.27152117257142605, 2.165183144756075, 0.39182424403697896, 0.19242497695043612, 1.8579756132373373, -0.704147910019082, 0.31985241358400507, 3.2019984010748974, 2.708493171628477, -0.8149582531644922, -0.6898431778469533, 0.651341556525695, -1.15691281185948, 0.5246347278944932, -0.013981722891419775, -0.45936999170141557, -0.9159335479923458, -0.41459056313818277, -1.152026965541066, 0.7840720688654675, 1.1711501936861313, 2.8521190888211465, -0.24597651131725998, -0.5829420533728855, 0.7560144769434166, 0.18968195609462685, 0.13975579709874156, -1.6288501016314474, -0.4207530522827984, 0.27123940444038525, -0.40464482028266757, 0.822839968676394, -0.5198717202635307, 0.3492249557431336, -0.17654616410502988, -1.6242058314635195, 0.5721763537313155, -0.782036216071513, 0.23630964755269812, -0.5523086810647195, 1.189118061813389, -0.769864654950212, 0.8102943569511241, 0.8277296824869714, 1.3016116314975992, -1.6604476247983335, 0.16636825426915391, -1.7601388874575197, 0.8429652247550539, 0.13641566927538096, 0.8268913034982536, -0.6806238318448029, -0.943008434928968, 0.5744194922192287, 1.049889178412392, -0.31619961369343846, -0.8045301447010839, 1.097732124163626, -1.4137201680366165, 1.3008194488492095, -0.3804980351537032, 1.234911257258786, 0.9526409782109593, -0.21399781745464025, -0.7150615051321568, 0.06518789533903417, -0.0014750191727604316, -0.7748752618691193, -1.0300167525228836, 1.5485009452858873, 0.8947138295198088, 0.7452701013110108, 0.5509705642248981, -0.12540225234218974, -1.5306440021233014, -1.9286582817432802, -0.6594991082590205, 0.6744555298437124, -0.3298273188790175, 0.681874032005342, -0.23528992937710205], \"yaxis\": \"y3\"}, {\"line\": {\"color\": \"rgba(128, 128, 128, 1.0)\", \"dash\": \"solid\", \"shape\": \"linear\", \"width\": 1.3}, \"marker\": {\"size\": 2, \"symbol\": \"circle\"}, \"mode\": \"markers\", \"name\": \"A\", \"text\": \"\", \"type\": \"scatter\", \"x\": [0.4475437913509518, 0.9570926807223412, 0.07070139423127939, -0.5222075509032993, -1.5550204277123403, -1.6354877614659291, -1.3694106483332433, -1.4202820968799394, -0.04253818029830309, 2.4423542391038464, 1.9678087738305776, 0.3859444904584297, 0.35571827372776976, 0.10176787222024548, 0.34374648943988906, -1.0598915668974493, 1.062147280398189, -0.1920650344093556, 0.966264773886157, 0.5859812257299339, -0.4015626946527886, 0.32111648642671275, 1.8338315332976864, -0.5893122627024603, -0.6879599393328965, -0.560782495777356, -0.20621787323971097, -1.136581241660549, -0.7411146204324128, -0.2498849605291373, 0.6797097983431598, -0.15843454123051615, -0.8893692821150188, 0.871590017046108, -1.2444662784229075, -1.2368614065163206, -0.9884099833446874, -1.129387853119377, 1.2127499519008558, -2.522020585229388, -0.9564079334101551, 1.0000456942091123, 0.5000852607899331, -1.7162432921273487, -0.9742071910626999, 0.6939326414553603, 1.763672380188067, 0.10985639309637814, 0.41161930675804514, -0.6952008846090426, 0.5168631898089454, 0.18764615361386797, 0.41359573084936196, -1.2197391377039357, -0.8029887158440556, 1.2725541326680152, -0.10003203364732165, -0.4579275617026912, -1.1827360590697227, -0.000928602097623532, 0.3864411293729688, -0.08491110038323808, 1.0621823370708148, -0.7773670819443731, 0.8733248898140209, 0.3168779930099508, -0.7953368294878966, -1.5586227787773843, 0.3212115508392596, 0.46289794589459454, 0.938402719680537, 0.44941156173235974, 0.9591939407839223, 1.2226741306976623, -0.7325653933552027, 0.042179836200926316, -0.06098456104058909, -0.3140267595358866, 1.2780293199864832, 0.084884577171398, 0.7433188613735633, 1.6391180650635655, -0.10458486398949307, 0.462523334664757, -0.17701876028182614, 0.578477589308682, -1.2937262667819105, -0.4016686366439628, -0.6315012991011363, 1.629970100028498, -1.7245166053120138, 1.7596137353489198, -0.7759191460727132, -0.990621857272532, 0.573452231216451, -1.2203950678999884, 1.723062349628582, -0.9056008922164058, -0.29104103242382123, 0.826657016373895], \"xaxis\": \"x4\", \"y\": [0.1206249701213706, 0.49852343433333973, -1.3695553399502158, -1.7170528179870115, 0.27324678432871136, -1.9470279113703413, -2.4483751648331227, 2.333309249201956, -0.5121449809204915, 0.12969221850822205, -0.6446330133850526, -0.7218087032598325, 0.2656459530596007, -0.6601432489749915, 1.095736886907146, -1.6081513991361676, -1.4711849425270092, -0.33015331325706504, 2.0632132636067553, -0.27152117257142605, 2.165183144756075, 0.39182424403697896, 0.19242497695043612, 1.8579756132373373, -0.704147910019082, 0.31985241358400507, 3.2019984010748974, 2.708493171628477, -0.8149582531644922, -0.6898431778469533, 0.651341556525695, -1.15691281185948, 0.5246347278944932, -0.013981722891419775, -0.45936999170141557, -0.9159335479923458, -0.41459056313818277, -1.152026965541066, 0.7840720688654675, 1.1711501936861313, 2.8521190888211465, -0.24597651131725998, -0.5829420533728855, 0.7560144769434166, 0.18968195609462685, 0.13975579709874156, -1.6288501016314474, -0.4207530522827984, 0.27123940444038525, -0.40464482028266757, 0.822839968676394, -0.5198717202635307, 0.3492249557431336, -0.17654616410502988, -1.6242058314635195, 0.5721763537313155, -0.782036216071513, 0.23630964755269812, -0.5523086810647195, 1.189118061813389, -0.769864654950212, 0.8102943569511241, 0.8277296824869714, 1.3016116314975992, -1.6604476247983335, 0.16636825426915391, -1.7601388874575197, 0.8429652247550539, 0.13641566927538096, 0.8268913034982536, -0.6806238318448029, -0.943008434928968, 0.5744194922192287, 1.049889178412392, -0.31619961369343846, -0.8045301447010839, 1.097732124163626, -1.4137201680366165, 1.3008194488492095, -0.3804980351537032, 1.234911257258786, 0.9526409782109593, -0.21399781745464025, -0.7150615051321568, 0.06518789533903417, -0.0014750191727604316, -0.7748752618691193, -1.0300167525228836, 1.5485009452858873, 0.8947138295198088, 0.7452701013110108, 0.5509705642248981, -0.12540225234218974, -1.5306440021233014, -1.9286582817432802, -0.6594991082590205, 0.6744555298437124, -0.3298273188790175, 0.681874032005342, -0.23528992937710205], \"yaxis\": \"y4\"}, {\"line\": {\"color\": \"rgba(128, 128, 128, 1.0)\", \"dash\": \"solid\", \"shape\": \"linear\", \"width\": 1.3}, \"marker\": {\"size\": 2, \"symbol\": \"circle\"}, \"mode\": \"markers\", \"name\": \"B\", \"text\": \"\", \"type\": \"scatter\", \"x\": [0.1206249701213706, 0.49852343433333973, -1.3695553399502158, -1.7170528179870115, 0.27324678432871136, -1.9470279113703413, -2.4483751648331227, 2.333309249201956, -0.5121449809204915, 0.12969221850822205, -0.6446330133850526, -0.7218087032598325, 0.2656459530596007, -0.6601432489749915, 1.095736886907146, -1.6081513991361676, -1.4711849425270092, -0.33015331325706504, 2.0632132636067553, -0.27152117257142605, 2.165183144756075, 0.39182424403697896, 0.19242497695043612, 1.8579756132373373, -0.704147910019082, 0.31985241358400507, 3.2019984010748974, 2.708493171628477, -0.8149582531644922, -0.6898431778469533, 0.651341556525695, -1.15691281185948, 0.5246347278944932, -0.013981722891419775, -0.45936999170141557, -0.9159335479923458, -0.41459056313818277, -1.152026965541066, 0.7840720688654675, 1.1711501936861313, 2.8521190888211465, -0.24597651131725998, -0.5829420533728855, 0.7560144769434166, 0.18968195609462685, 0.13975579709874156, -1.6288501016314474, -0.4207530522827984, 0.27123940444038525, -0.40464482028266757, 0.822839968676394, -0.5198717202635307, 0.3492249557431336, -0.17654616410502988, -1.6242058314635195, 0.5721763537313155, -0.782036216071513, 0.23630964755269812, -0.5523086810647195, 1.189118061813389, -0.769864654950212, 0.8102943569511241, 0.8277296824869714, 1.3016116314975992, -1.6604476247983335, 0.16636825426915391, -1.7601388874575197, 0.8429652247550539, 0.13641566927538096, 0.8268913034982536, -0.6806238318448029, -0.943008434928968, 0.5744194922192287, 1.049889178412392, -0.31619961369343846, -0.8045301447010839, 1.097732124163626, -1.4137201680366165, 1.3008194488492095, -0.3804980351537032, 1.234911257258786, 0.9526409782109593, -0.21399781745464025, -0.7150615051321568, 0.06518789533903417, -0.0014750191727604316, -0.7748752618691193, -1.0300167525228836, 1.5485009452858873, 0.8947138295198088, 0.7452701013110108, 0.5509705642248981, -0.12540225234218974, -1.5306440021233014, -1.9286582817432802, -0.6594991082590205, 0.6744555298437124, -0.3298273188790175, 0.681874032005342, -0.23528992937710205], \"xaxis\": \"x5\", \"y\": [1.7644200206191962, -0.30576255159833926, 0.48591216870055987, 0.7985155071177396, -0.14876872605666622, -0.8622242683700565, 0.1363141020244147, -0.7260451911673562, 2.073816753478071, -0.43898713716167187, 0.33691258903617394, -0.05977193298366424, -0.8227901853712595, -0.8323746630428965, 0.11095605377397717, 0.6454186407784175, -0.5617872893626544, -0.4110696787509862, 0.412153074799562, 1.0155778406138107, 0.9303310600055554, 0.44839861289213107, 0.25060701266456337, -0.6200811509285393, -0.36400150881228605, -0.7812423279375649, 2.7449130955233194, 1.0482475424867093, 0.4080247242022707, 0.030117620479940908, 0.6109744191377052, 0.7051984383646073, 0.550232781652086, 0.22880534813358577, -1.1564235529442963, -0.8260709362775998, 1.285516241637799, -1.0204578541625269, 0.6873614732322731, 0.9291586945660607, -0.9964508041363669, -1.1456252019685773, 0.41945494135951766, 0.5018426975736096, 0.7857702165301329, -0.09848632547303204, -0.6588981067399119, 1.1853881697458184, 1.3013098324717234, -0.6901871629828826, 1.5706311752726443, 0.35375661865285923, -1.7730555476594445, 0.1404389261610056, 0.2800682200551832, 0.09641204971271065, 1.5947658424754458, -0.9085732689692162, -0.19971973896539877, -0.29538487952431997, -0.16782616148221235, -0.22318964705705444, -1.1872048056031284, 0.6447368621613021, 0.011365501551874865, 1.4270433489524255, 2.3503140280491395, 1.3962528943379109, 0.7244555209068144, -0.465532477546086, 1.28244991571956, 0.19457895804176906, 1.6799624327556104, 1.119688007459729, -1.6574546810221313, 0.19306786021194244, -0.3805407112775789, 0.8237696600063881, 1.6242052320141758, 0.40698880308051666, -0.6972818731596732, 1.711150635837316, -0.4245327195817335, -0.20296865094415448, 0.27848558727482353, -0.07798204924120888, -1.3626214176056117, 0.7426308471042079, 0.11623335626503752, -0.29613174978263107, -0.982863194027543, -0.796878071956125, -0.4549314438785417, -0.19493574595397817, -0.7581093396617404, -0.7753823819206512, -0.17383535358302876, -0.05555904455453927, 0.6506547474934091, -1.1733039608928564], \"yaxis\": \"y5\"}, {\"histfunc\": \"count\", \"histnorm\": \"\", \"marker\": {\"color\": \"rgba(55, 128, 191, 1.0)\", \"line\": {\"color\": \"#4D5663\", \"width\": 1.3}}, \"name\": \"B\", \"nbinsx\": 10, \"opacity\": 0.8, \"orientation\": \"v\", \"type\": \"histogram\", \"x\": [1.7644200206191962, -0.30576255159833926, 0.48591216870055987, 0.7985155071177396, -0.14876872605666622, -0.8622242683700565, 0.1363141020244147, -0.7260451911673562, 2.073816753478071, -0.43898713716167187, 0.33691258903617394, -0.05977193298366424, -0.8227901853712595, -0.8323746630428965, 0.11095605377397717, 0.6454186407784175, -0.5617872893626544, -0.4110696787509862, 0.412153074799562, 1.0155778406138107, 0.9303310600055554, 0.44839861289213107, 0.25060701266456337, -0.6200811509285393, -0.36400150881228605, -0.7812423279375649, 2.7449130955233194, 1.0482475424867093, 0.4080247242022707, 0.030117620479940908, 0.6109744191377052, 0.7051984383646073, 0.550232781652086, 0.22880534813358577, -1.1564235529442963, -0.8260709362775998, 1.285516241637799, -1.0204578541625269, 0.6873614732322731, 0.9291586945660607, -0.9964508041363669, -1.1456252019685773, 0.41945494135951766, 0.5018426975736096, 0.7857702165301329, -0.09848632547303204, -0.6588981067399119, 1.1853881697458184, 1.3013098324717234, -0.6901871629828826, 1.5706311752726443, 0.35375661865285923, -1.7730555476594445, 0.1404389261610056, 0.2800682200551832, 0.09641204971271065, 1.5947658424754458, -0.9085732689692162, -0.19971973896539877, -0.29538487952431997, -0.16782616148221235, -0.22318964705705444, -1.1872048056031284, 0.6447368621613021, 0.011365501551874865, 1.4270433489524255, 2.3503140280491395, 1.3962528943379109, 0.7244555209068144, -0.465532477546086, 1.28244991571956, 0.19457895804176906, 1.6799624327556104, 1.119688007459729, -1.6574546810221313, 0.19306786021194244, -0.3805407112775789, 0.8237696600063881, 1.6242052320141758, 0.40698880308051666, -0.6972818731596732, 1.711150635837316, -0.4245327195817335, -0.20296865094415448, 0.27848558727482353, -0.07798204924120888, -1.3626214176056117, 0.7426308471042079, 0.11623335626503752, -0.29613174978263107, -0.982863194027543, -0.796878071956125, -0.4549314438785417, -0.19493574595397817, -0.7581093396617404, -0.7753823819206512, -0.17383535358302876, -0.05555904455453927, 0.6506547474934091, -1.1733039608928564], \"xaxis\": \"x6\", \"yaxis\": \"y6\"}, {\"line\": {\"color\": \"rgba(128, 128, 128, 1.0)\", \"dash\": \"solid\", \"shape\": \"linear\", \"width\": 1.3}, \"marker\": {\"size\": 2, \"symbol\": \"circle\"}, \"mode\": \"markers\", \"name\": \"B\", \"text\": \"\", \"type\": \"scatter\", \"x\": [-1.4353966420823925, -1.2535533336745956, -0.3312332066930816, 0.4666662821253617, 0.07834336053202509, 0.2893959383570913, 0.4536638718923692, 0.6815369239830283, 0.7141815293675279, 0.9590023199438273, 0.08592826600935377, 0.010530578401795835, 1.7184068370384047, 0.36491543037996194, 1.1074682868501626, 0.49738220000748157, -0.019904043288244657, 1.8950663879202003, -0.9364895280704577, 0.05361104383863928, 0.21960142400134855, 0.359703994362732, 1.7099525245013625, -1.9295035821080788, -0.3781937016594894, 0.10328586601590974, 0.5226896110063345, -0.7186577035475074, 0.2165461863489111, -0.07098728740866844, -2.6585128681731707, -0.8539770031825489, 0.05780169660411606, -0.004455692955851115, -0.3661520898509892, 1.4707843826300595, -0.3388796929399279, 0.4125926469181926, -0.18002240895551846, -1.765831613682973, 0.5173488316931735, 1.4956955615610374, -0.32182985016991467, -1.4867619913762722, 1.3259032420415517, -0.6140294150509013, 1.4636859603495558, -0.03424967231508822, 2.060643698863137, -1.0369997945860756, -0.6963609991014325, -1.9240304850018841, 0.49551315978036614, 0.9090058696007308, -0.8029822085787376, 0.27464465844729435, 0.035166650292638504, 0.7175482524755589, -1.0339118270050127, -0.2400525458809578, -1.0586818750760338, -0.3891080515774163, -1.9540214547671773, -0.5809349287448948, -1.4732731165875967, 0.12993430093232297, 0.7803626584648855, 2.119066141470023, 2.7937677930562237, -0.8717665012328791, -1.7716577077202336, -0.020169035913827058, -0.18100549019509146, -0.5721254704852813, 0.22479894787532842, 1.5062428819314406, -0.6898301270305548, 1.3855743133154805, -2.3357336771251562, -0.28005544380489905, -0.4807570778569516, 0.5945424139610986, 0.43038514666522054, -0.3413555511478162, -0.16995162040634973, -1.0538988418566408, 0.08042481979036202, -0.37549452630626995, 0.5940362133384189, -0.6468205980677861, 0.9540308957184628, 0.5175574675990638, -0.7785047623803996, 1.0490185685029791, 0.3967836266977258, 1.6895669396929442, 0.051317573915553805, 0.08427056446171943, 0.021557083999335175, 0.33705436556655755], \"xaxis\": \"x7\", \"y\": [1.7644200206191962, -0.30576255159833926, 0.48591216870055987, 0.7985155071177396, -0.14876872605666622, -0.8622242683700565, 0.1363141020244147, -0.7260451911673562, 2.073816753478071, -0.43898713716167187, 0.33691258903617394, -0.05977193298366424, -0.8227901853712595, -0.8323746630428965, 0.11095605377397717, 0.6454186407784175, -0.5617872893626544, -0.4110696787509862, 0.412153074799562, 1.0155778406138107, 0.9303310600055554, 0.44839861289213107, 0.25060701266456337, -0.6200811509285393, -0.36400150881228605, -0.7812423279375649, 2.7449130955233194, 1.0482475424867093, 0.4080247242022707, 0.030117620479940908, 0.6109744191377052, 0.7051984383646073, 0.550232781652086, 0.22880534813358577, -1.1564235529442963, -0.8260709362775998, 1.285516241637799, -1.0204578541625269, 0.6873614732322731, 0.9291586945660607, -0.9964508041363669, -1.1456252019685773, 0.41945494135951766, 0.5018426975736096, 0.7857702165301329, -0.09848632547303204, -0.6588981067399119, 1.1853881697458184, 1.3013098324717234, -0.6901871629828826, 1.5706311752726443, 0.35375661865285923, -1.7730555476594445, 0.1404389261610056, 0.2800682200551832, 0.09641204971271065, 1.5947658424754458, -0.9085732689692162, -0.19971973896539877, -0.29538487952431997, -0.16782616148221235, -0.22318964705705444, -1.1872048056031284, 0.6447368621613021, 0.011365501551874865, 1.4270433489524255, 2.3503140280491395, 1.3962528943379109, 0.7244555209068144, -0.465532477546086, 1.28244991571956, 0.19457895804176906, 1.6799624327556104, 1.119688007459729, -1.6574546810221313, 0.19306786021194244, -0.3805407112775789, 0.8237696600063881, 1.6242052320141758, 0.40698880308051666, -0.6972818731596732, 1.711150635837316, -0.4245327195817335, -0.20296865094415448, 0.27848558727482353, -0.07798204924120888, -1.3626214176056117, 0.7426308471042079, 0.11623335626503752, -0.29613174978263107, -0.982863194027543, -0.796878071956125, -0.4549314438785417, -0.19493574595397817, -0.7581093396617404, -0.7753823819206512, -0.17383535358302876, -0.05555904455453927, 0.6506547474934091, -1.1733039608928564], \"yaxis\": \"y7\"}, {\"line\": {\"color\": \"rgba(128, 128, 128, 1.0)\", \"dash\": \"solid\", \"shape\": \"linear\", \"width\": 1.3}, \"marker\": {\"size\": 2, \"symbol\": \"circle\"}, \"mode\": \"markers\", \"name\": \"B\", \"text\": \"\", \"type\": \"scatter\", \"x\": [0.4475437913509518, 0.9570926807223412, 0.07070139423127939, -0.5222075509032993, -1.5550204277123403, -1.6354877614659291, -1.3694106483332433, -1.4202820968799394, -0.04253818029830309, 2.4423542391038464, 1.9678087738305776, 0.3859444904584297, 0.35571827372776976, 0.10176787222024548, 0.34374648943988906, -1.0598915668974493, 1.062147280398189, -0.1920650344093556, 0.966264773886157, 0.5859812257299339, -0.4015626946527886, 0.32111648642671275, 1.8338315332976864, -0.5893122627024603, -0.6879599393328965, -0.560782495777356, -0.20621787323971097, -1.136581241660549, -0.7411146204324128, -0.2498849605291373, 0.6797097983431598, -0.15843454123051615, -0.8893692821150188, 0.871590017046108, -1.2444662784229075, -1.2368614065163206, -0.9884099833446874, -1.129387853119377, 1.2127499519008558, -2.522020585229388, -0.9564079334101551, 1.0000456942091123, 0.5000852607899331, -1.7162432921273487, -0.9742071910626999, 0.6939326414553603, 1.763672380188067, 0.10985639309637814, 0.41161930675804514, -0.6952008846090426, 0.5168631898089454, 0.18764615361386797, 0.41359573084936196, -1.2197391377039357, -0.8029887158440556, 1.2725541326680152, -0.10003203364732165, -0.4579275617026912, -1.1827360590697227, -0.000928602097623532, 0.3864411293729688, -0.08491110038323808, 1.0621823370708148, -0.7773670819443731, 0.8733248898140209, 0.3168779930099508, -0.7953368294878966, -1.5586227787773843, 0.3212115508392596, 0.46289794589459454, 0.938402719680537, 0.44941156173235974, 0.9591939407839223, 1.2226741306976623, -0.7325653933552027, 0.042179836200926316, -0.06098456104058909, -0.3140267595358866, 1.2780293199864832, 0.084884577171398, 0.7433188613735633, 1.6391180650635655, -0.10458486398949307, 0.462523334664757, -0.17701876028182614, 0.578477589308682, -1.2937262667819105, -0.4016686366439628, -0.6315012991011363, 1.629970100028498, -1.7245166053120138, 1.7596137353489198, -0.7759191460727132, -0.990621857272532, 0.573452231216451, -1.2203950678999884, 1.723062349628582, -0.9056008922164058, -0.29104103242382123, 0.826657016373895], \"xaxis\": \"x8\", \"y\": [1.7644200206191962, -0.30576255159833926, 0.48591216870055987, 0.7985155071177396, -0.14876872605666622, -0.8622242683700565, 0.1363141020244147, -0.7260451911673562, 2.073816753478071, -0.43898713716167187, 0.33691258903617394, -0.05977193298366424, -0.8227901853712595, -0.8323746630428965, 0.11095605377397717, 0.6454186407784175, -0.5617872893626544, -0.4110696787509862, 0.412153074799562, 1.0155778406138107, 0.9303310600055554, 0.44839861289213107, 0.25060701266456337, -0.6200811509285393, -0.36400150881228605, -0.7812423279375649, 2.7449130955233194, 1.0482475424867093, 0.4080247242022707, 0.030117620479940908, 0.6109744191377052, 0.7051984383646073, 0.550232781652086, 0.22880534813358577, -1.1564235529442963, -0.8260709362775998, 1.285516241637799, -1.0204578541625269, 0.6873614732322731, 0.9291586945660607, -0.9964508041363669, -1.1456252019685773, 0.41945494135951766, 0.5018426975736096, 0.7857702165301329, -0.09848632547303204, -0.6588981067399119, 1.1853881697458184, 1.3013098324717234, -0.6901871629828826, 1.5706311752726443, 0.35375661865285923, -1.7730555476594445, 0.1404389261610056, 0.2800682200551832, 0.09641204971271065, 1.5947658424754458, -0.9085732689692162, -0.19971973896539877, -0.29538487952431997, -0.16782616148221235, -0.22318964705705444, -1.1872048056031284, 0.6447368621613021, 0.011365501551874865, 1.4270433489524255, 2.3503140280491395, 1.3962528943379109, 0.7244555209068144, -0.465532477546086, 1.28244991571956, 0.19457895804176906, 1.6799624327556104, 1.119688007459729, -1.6574546810221313, 0.19306786021194244, -0.3805407112775789, 0.8237696600063881, 1.6242052320141758, 0.40698880308051666, -0.6972818731596732, 1.711150635837316, -0.4245327195817335, -0.20296865094415448, 0.27848558727482353, -0.07798204924120888, -1.3626214176056117, 0.7426308471042079, 0.11623335626503752, -0.29613174978263107, -0.982863194027543, -0.796878071956125, -0.4549314438785417, -0.19493574595397817, -0.7581093396617404, -0.7753823819206512, -0.17383535358302876, -0.05555904455453927, 0.6506547474934091, -1.1733039608928564], \"yaxis\": \"y8\"}, {\"line\": {\"color\": \"rgba(128, 128, 128, 1.0)\", \"dash\": \"solid\", \"shape\": \"linear\", \"width\": 1.3}, \"marker\": {\"size\": 2, \"symbol\": \"circle\"}, \"mode\": \"markers\", \"name\": \"C\", \"text\": \"\", \"type\": \"scatter\", \"x\": [0.1206249701213706, 0.49852343433333973, -1.3695553399502158, -1.7170528179870115, 0.27324678432871136, -1.9470279113703413, -2.4483751648331227, 2.333309249201956, -0.5121449809204915, 0.12969221850822205, -0.6446330133850526, -0.7218087032598325, 0.2656459530596007, -0.6601432489749915, 1.095736886907146, -1.6081513991361676, -1.4711849425270092, -0.33015331325706504, 2.0632132636067553, -0.27152117257142605, 2.165183144756075, 0.39182424403697896, 0.19242497695043612, 1.8579756132373373, -0.704147910019082, 0.31985241358400507, 3.2019984010748974, 2.708493171628477, -0.8149582531644922, -0.6898431778469533, 0.651341556525695, -1.15691281185948, 0.5246347278944932, -0.013981722891419775, -0.45936999170141557, -0.9159335479923458, -0.41459056313818277, -1.152026965541066, 0.7840720688654675, 1.1711501936861313, 2.8521190888211465, -0.24597651131725998, -0.5829420533728855, 0.7560144769434166, 0.18968195609462685, 0.13975579709874156, -1.6288501016314474, -0.4207530522827984, 0.27123940444038525, -0.40464482028266757, 0.822839968676394, -0.5198717202635307, 0.3492249557431336, -0.17654616410502988, -1.6242058314635195, 0.5721763537313155, -0.782036216071513, 0.23630964755269812, -0.5523086810647195, 1.189118061813389, -0.769864654950212, 0.8102943569511241, 0.8277296824869714, 1.3016116314975992, -1.6604476247983335, 0.16636825426915391, -1.7601388874575197, 0.8429652247550539, 0.13641566927538096, 0.8268913034982536, -0.6806238318448029, -0.943008434928968, 0.5744194922192287, 1.049889178412392, -0.31619961369343846, -0.8045301447010839, 1.097732124163626, -1.4137201680366165, 1.3008194488492095, -0.3804980351537032, 1.234911257258786, 0.9526409782109593, -0.21399781745464025, -0.7150615051321568, 0.06518789533903417, -0.0014750191727604316, -0.7748752618691193, -1.0300167525228836, 1.5485009452858873, 0.8947138295198088, 0.7452701013110108, 0.5509705642248981, -0.12540225234218974, -1.5306440021233014, -1.9286582817432802, -0.6594991082590205, 0.6744555298437124, -0.3298273188790175, 0.681874032005342, -0.23528992937710205], \"xaxis\": \"x9\", \"y\": [-1.4353966420823925, -1.2535533336745956, -0.3312332066930816, 0.4666662821253617, 0.07834336053202509, 0.2893959383570913, 0.4536638718923692, 0.6815369239830283, 0.7141815293675279, 0.9590023199438273, 0.08592826600935377, 0.010530578401795835, 1.7184068370384047, 0.36491543037996194, 1.1074682868501626, 0.49738220000748157, -0.019904043288244657, 1.8950663879202003, -0.9364895280704577, 0.05361104383863928, 0.21960142400134855, 0.359703994362732, 1.7099525245013625, -1.9295035821080788, -0.3781937016594894, 0.10328586601590974, 0.5226896110063345, -0.7186577035475074, 0.2165461863489111, -0.07098728740866844, -2.6585128681731707, -0.8539770031825489, 0.05780169660411606, -0.004455692955851115, -0.3661520898509892, 1.4707843826300595, -0.3388796929399279, 0.4125926469181926, -0.18002240895551846, -1.765831613682973, 0.5173488316931735, 1.4956955615610374, -0.32182985016991467, -1.4867619913762722, 1.3259032420415517, -0.6140294150509013, 1.4636859603495558, -0.03424967231508822, 2.060643698863137, -1.0369997945860756, -0.6963609991014325, -1.9240304850018841, 0.49551315978036614, 0.9090058696007308, -0.8029822085787376, 0.27464465844729435, 0.035166650292638504, 0.7175482524755589, -1.0339118270050127, -0.2400525458809578, -1.0586818750760338, -0.3891080515774163, -1.9540214547671773, -0.5809349287448948, -1.4732731165875967, 0.12993430093232297, 0.7803626584648855, 2.119066141470023, 2.7937677930562237, -0.8717665012328791, -1.7716577077202336, -0.020169035913827058, -0.18100549019509146, -0.5721254704852813, 0.22479894787532842, 1.5062428819314406, -0.6898301270305548, 1.3855743133154805, -2.3357336771251562, -0.28005544380489905, -0.4807570778569516, 0.5945424139610986, 0.43038514666522054, -0.3413555511478162, -0.16995162040634973, -1.0538988418566408, 0.08042481979036202, -0.37549452630626995, 0.5940362133384189, -0.6468205980677861, 0.9540308957184628, 0.5175574675990638, -0.7785047623803996, 1.0490185685029791, 0.3967836266977258, 1.6895669396929442, 0.051317573915553805, 0.08427056446171943, 0.021557083999335175, 0.33705436556655755], \"yaxis\": \"y9\"}, {\"line\": {\"color\": \"rgba(128, 128, 128, 1.0)\", \"dash\": \"solid\", \"shape\": \"linear\", \"width\": 1.3}, \"marker\": {\"size\": 2, \"symbol\": \"circle\"}, \"mode\": \"markers\", \"name\": \"C\", \"text\": \"\", \"type\": \"scatter\", \"x\": [1.7644200206191962, -0.30576255159833926, 0.48591216870055987, 0.7985155071177396, -0.14876872605666622, -0.8622242683700565, 0.1363141020244147, -0.7260451911673562, 2.073816753478071, -0.43898713716167187, 0.33691258903617394, -0.05977193298366424, -0.8227901853712595, -0.8323746630428965, 0.11095605377397717, 0.6454186407784175, -0.5617872893626544, -0.4110696787509862, 0.412153074799562, 1.0155778406138107, 0.9303310600055554, 0.44839861289213107, 0.25060701266456337, -0.6200811509285393, -0.36400150881228605, -0.7812423279375649, 2.7449130955233194, 1.0482475424867093, 0.4080247242022707, 0.030117620479940908, 0.6109744191377052, 0.7051984383646073, 0.550232781652086, 0.22880534813358577, -1.1564235529442963, -0.8260709362775998, 1.285516241637799, -1.0204578541625269, 0.6873614732322731, 0.9291586945660607, -0.9964508041363669, -1.1456252019685773, 0.41945494135951766, 0.5018426975736096, 0.7857702165301329, -0.09848632547303204, -0.6588981067399119, 1.1853881697458184, 1.3013098324717234, -0.6901871629828826, 1.5706311752726443, 0.35375661865285923, -1.7730555476594445, 0.1404389261610056, 0.2800682200551832, 0.09641204971271065, 1.5947658424754458, -0.9085732689692162, -0.19971973896539877, -0.29538487952431997, -0.16782616148221235, -0.22318964705705444, -1.1872048056031284, 0.6447368621613021, 0.011365501551874865, 1.4270433489524255, 2.3503140280491395, 1.3962528943379109, 0.7244555209068144, -0.465532477546086, 1.28244991571956, 0.19457895804176906, 1.6799624327556104, 1.119688007459729, -1.6574546810221313, 0.19306786021194244, -0.3805407112775789, 0.8237696600063881, 1.6242052320141758, 0.40698880308051666, -0.6972818731596732, 1.711150635837316, -0.4245327195817335, -0.20296865094415448, 0.27848558727482353, -0.07798204924120888, -1.3626214176056117, 0.7426308471042079, 0.11623335626503752, -0.29613174978263107, -0.982863194027543, -0.796878071956125, -0.4549314438785417, -0.19493574595397817, -0.7581093396617404, -0.7753823819206512, -0.17383535358302876, -0.05555904455453927, 0.6506547474934091, -1.1733039608928564], \"xaxis\": \"x10\", \"y\": [-1.4353966420823925, -1.2535533336745956, -0.3312332066930816, 0.4666662821253617, 0.07834336053202509, 0.2893959383570913, 0.4536638718923692, 0.6815369239830283, 0.7141815293675279, 0.9590023199438273, 0.08592826600935377, 0.010530578401795835, 1.7184068370384047, 0.36491543037996194, 1.1074682868501626, 0.49738220000748157, -0.019904043288244657, 1.8950663879202003, -0.9364895280704577, 0.05361104383863928, 0.21960142400134855, 0.359703994362732, 1.7099525245013625, -1.9295035821080788, -0.3781937016594894, 0.10328586601590974, 0.5226896110063345, -0.7186577035475074, 0.2165461863489111, -0.07098728740866844, -2.6585128681731707, -0.8539770031825489, 0.05780169660411606, -0.004455692955851115, -0.3661520898509892, 1.4707843826300595, -0.3388796929399279, 0.4125926469181926, -0.18002240895551846, -1.765831613682973, 0.5173488316931735, 1.4956955615610374, -0.32182985016991467, -1.4867619913762722, 1.3259032420415517, -0.6140294150509013, 1.4636859603495558, -0.03424967231508822, 2.060643698863137, -1.0369997945860756, -0.6963609991014325, -1.9240304850018841, 0.49551315978036614, 0.9090058696007308, -0.8029822085787376, 0.27464465844729435, 0.035166650292638504, 0.7175482524755589, -1.0339118270050127, -0.2400525458809578, -1.0586818750760338, -0.3891080515774163, -1.9540214547671773, -0.5809349287448948, -1.4732731165875967, 0.12993430093232297, 0.7803626584648855, 2.119066141470023, 2.7937677930562237, -0.8717665012328791, -1.7716577077202336, -0.020169035913827058, -0.18100549019509146, -0.5721254704852813, 0.22479894787532842, 1.5062428819314406, -0.6898301270305548, 1.3855743133154805, -2.3357336771251562, -0.28005544380489905, -0.4807570778569516, 0.5945424139610986, 0.43038514666522054, -0.3413555511478162, -0.16995162040634973, -1.0538988418566408, 0.08042481979036202, -0.37549452630626995, 0.5940362133384189, -0.6468205980677861, 0.9540308957184628, 0.5175574675990638, -0.7785047623803996, 1.0490185685029791, 0.3967836266977258, 1.6895669396929442, 0.051317573915553805, 0.08427056446171943, 0.021557083999335175, 0.33705436556655755], \"yaxis\": \"y10\"}, {\"histfunc\": \"count\", \"histnorm\": \"\", \"marker\": {\"color\": \"rgba(50, 171, 96, 1.0)\", \"line\": {\"color\": \"#4D5663\", \"width\": 1.3}}, \"name\": \"C\", \"nbinsx\": 10, \"opacity\": 0.8, \"orientation\": \"v\", \"type\": \"histogram\", \"x\": [-1.4353966420823925, -1.2535533336745956, -0.3312332066930816, 0.4666662821253617, 0.07834336053202509, 0.2893959383570913, 0.4536638718923692, 0.6815369239830283, 0.7141815293675279, 0.9590023199438273, 0.08592826600935377, 0.010530578401795835, 1.7184068370384047, 0.36491543037996194, 1.1074682868501626, 0.49738220000748157, -0.019904043288244657, 1.8950663879202003, -0.9364895280704577, 0.05361104383863928, 0.21960142400134855, 0.359703994362732, 1.7099525245013625, -1.9295035821080788, -0.3781937016594894, 0.10328586601590974, 0.5226896110063345, -0.7186577035475074, 0.2165461863489111, -0.07098728740866844, -2.6585128681731707, -0.8539770031825489, 0.05780169660411606, -0.004455692955851115, -0.3661520898509892, 1.4707843826300595, -0.3388796929399279, 0.4125926469181926, -0.18002240895551846, -1.765831613682973, 0.5173488316931735, 1.4956955615610374, -0.32182985016991467, -1.4867619913762722, 1.3259032420415517, -0.6140294150509013, 1.4636859603495558, -0.03424967231508822, 2.060643698863137, -1.0369997945860756, -0.6963609991014325, -1.9240304850018841, 0.49551315978036614, 0.9090058696007308, -0.8029822085787376, 0.27464465844729435, 0.035166650292638504, 0.7175482524755589, -1.0339118270050127, -0.2400525458809578, -1.0586818750760338, -0.3891080515774163, -1.9540214547671773, -0.5809349287448948, -1.4732731165875967, 0.12993430093232297, 0.7803626584648855, 2.119066141470023, 2.7937677930562237, -0.8717665012328791, -1.7716577077202336, -0.020169035913827058, -0.18100549019509146, -0.5721254704852813, 0.22479894787532842, 1.5062428819314406, -0.6898301270305548, 1.3855743133154805, -2.3357336771251562, -0.28005544380489905, -0.4807570778569516, 0.5945424139610986, 0.43038514666522054, -0.3413555511478162, -0.16995162040634973, -1.0538988418566408, 0.08042481979036202, -0.37549452630626995, 0.5940362133384189, -0.6468205980677861, 0.9540308957184628, 0.5175574675990638, -0.7785047623803996, 1.0490185685029791, 0.3967836266977258, 1.6895669396929442, 0.051317573915553805, 0.08427056446171943, 0.021557083999335175, 0.33705436556655755], \"xaxis\": \"x11\", \"yaxis\": \"y11\"}, {\"line\": {\"color\": \"rgba(128, 128, 128, 1.0)\", \"dash\": \"solid\", \"shape\": \"linear\", \"width\": 1.3}, \"marker\": {\"size\": 2, \"symbol\": \"circle\"}, \"mode\": \"markers\", \"name\": \"C\", \"text\": \"\", \"type\": \"scatter\", \"x\": [0.4475437913509518, 0.9570926807223412, 0.07070139423127939, -0.5222075509032993, -1.5550204277123403, -1.6354877614659291, -1.3694106483332433, -1.4202820968799394, -0.04253818029830309, 2.4423542391038464, 1.9678087738305776, 0.3859444904584297, 0.35571827372776976, 0.10176787222024548, 0.34374648943988906, -1.0598915668974493, 1.062147280398189, -0.1920650344093556, 0.966264773886157, 0.5859812257299339, -0.4015626946527886, 0.32111648642671275, 1.8338315332976864, -0.5893122627024603, -0.6879599393328965, -0.560782495777356, -0.20621787323971097, -1.136581241660549, -0.7411146204324128, -0.2498849605291373, 0.6797097983431598, -0.15843454123051615, -0.8893692821150188, 0.871590017046108, -1.2444662784229075, -1.2368614065163206, -0.9884099833446874, -1.129387853119377, 1.2127499519008558, -2.522020585229388, -0.9564079334101551, 1.0000456942091123, 0.5000852607899331, -1.7162432921273487, -0.9742071910626999, 0.6939326414553603, 1.763672380188067, 0.10985639309637814, 0.41161930675804514, -0.6952008846090426, 0.5168631898089454, 0.18764615361386797, 0.41359573084936196, -1.2197391377039357, -0.8029887158440556, 1.2725541326680152, -0.10003203364732165, -0.4579275617026912, -1.1827360590697227, -0.000928602097623532, 0.3864411293729688, -0.08491110038323808, 1.0621823370708148, -0.7773670819443731, 0.8733248898140209, 0.3168779930099508, -0.7953368294878966, -1.5586227787773843, 0.3212115508392596, 0.46289794589459454, 0.938402719680537, 0.44941156173235974, 0.9591939407839223, 1.2226741306976623, -0.7325653933552027, 0.042179836200926316, -0.06098456104058909, -0.3140267595358866, 1.2780293199864832, 0.084884577171398, 0.7433188613735633, 1.6391180650635655, -0.10458486398949307, 0.462523334664757, -0.17701876028182614, 0.578477589308682, -1.2937262667819105, -0.4016686366439628, -0.6315012991011363, 1.629970100028498, -1.7245166053120138, 1.7596137353489198, -0.7759191460727132, -0.990621857272532, 0.573452231216451, -1.2203950678999884, 1.723062349628582, -0.9056008922164058, -0.29104103242382123, 0.826657016373895], \"xaxis\": \"x12\", \"y\": [-1.4353966420823925, -1.2535533336745956, -0.3312332066930816, 0.4666662821253617, 0.07834336053202509, 0.2893959383570913, 0.4536638718923692, 0.6815369239830283, 0.7141815293675279, 0.9590023199438273, 0.08592826600935377, 0.010530578401795835, 1.7184068370384047, 0.36491543037996194, 1.1074682868501626, 0.49738220000748157, -0.019904043288244657, 1.8950663879202003, -0.9364895280704577, 0.05361104383863928, 0.21960142400134855, 0.359703994362732, 1.7099525245013625, -1.9295035821080788, -0.3781937016594894, 0.10328586601590974, 0.5226896110063345, -0.7186577035475074, 0.2165461863489111, -0.07098728740866844, -2.6585128681731707, -0.8539770031825489, 0.05780169660411606, -0.004455692955851115, -0.3661520898509892, 1.4707843826300595, -0.3388796929399279, 0.4125926469181926, -0.18002240895551846, -1.765831613682973, 0.5173488316931735, 1.4956955615610374, -0.32182985016991467, -1.4867619913762722, 1.3259032420415517, -0.6140294150509013, 1.4636859603495558, -0.03424967231508822, 2.060643698863137, -1.0369997945860756, -0.6963609991014325, -1.9240304850018841, 0.49551315978036614, 0.9090058696007308, -0.8029822085787376, 0.27464465844729435, 0.035166650292638504, 0.7175482524755589, -1.0339118270050127, -0.2400525458809578, -1.0586818750760338, -0.3891080515774163, -1.9540214547671773, -0.5809349287448948, -1.4732731165875967, 0.12993430093232297, 0.7803626584648855, 2.119066141470023, 2.7937677930562237, -0.8717665012328791, -1.7716577077202336, -0.020169035913827058, -0.18100549019509146, -0.5721254704852813, 0.22479894787532842, 1.5062428819314406, -0.6898301270305548, 1.3855743133154805, -2.3357336771251562, -0.28005544380489905, -0.4807570778569516, 0.5945424139610986, 0.43038514666522054, -0.3413555511478162, -0.16995162040634973, -1.0538988418566408, 0.08042481979036202, -0.37549452630626995, 0.5940362133384189, -0.6468205980677861, 0.9540308957184628, 0.5175574675990638, -0.7785047623803996, 1.0490185685029791, 0.3967836266977258, 1.6895669396929442, 0.051317573915553805, 0.08427056446171943, 0.021557083999335175, 0.33705436556655755], \"yaxis\": \"y12\"}, {\"line\": {\"color\": \"rgba(128, 128, 128, 1.0)\", \"dash\": \"solid\", \"shape\": \"linear\", \"width\": 1.3}, \"marker\": {\"size\": 2, \"symbol\": \"circle\"}, \"mode\": \"markers\", \"name\": \"D\", \"text\": \"\", \"type\": \"scatter\", \"x\": [0.1206249701213706, 0.49852343433333973, -1.3695553399502158, -1.7170528179870115, 0.27324678432871136, -1.9470279113703413, -2.4483751648331227, 2.333309249201956, -0.5121449809204915, 0.12969221850822205, -0.6446330133850526, -0.7218087032598325, 0.2656459530596007, -0.6601432489749915, 1.095736886907146, -1.6081513991361676, -1.4711849425270092, -0.33015331325706504, 2.0632132636067553, -0.27152117257142605, 2.165183144756075, 0.39182424403697896, 0.19242497695043612, 1.8579756132373373, -0.704147910019082, 0.31985241358400507, 3.2019984010748974, 2.708493171628477, -0.8149582531644922, -0.6898431778469533, 0.651341556525695, -1.15691281185948, 0.5246347278944932, -0.013981722891419775, -0.45936999170141557, -0.9159335479923458, -0.41459056313818277, -1.152026965541066, 0.7840720688654675, 1.1711501936861313, 2.8521190888211465, -0.24597651131725998, -0.5829420533728855, 0.7560144769434166, 0.18968195609462685, 0.13975579709874156, -1.6288501016314474, -0.4207530522827984, 0.27123940444038525, -0.40464482028266757, 0.822839968676394, -0.5198717202635307, 0.3492249557431336, -0.17654616410502988, -1.6242058314635195, 0.5721763537313155, -0.782036216071513, 0.23630964755269812, -0.5523086810647195, 1.189118061813389, -0.769864654950212, 0.8102943569511241, 0.8277296824869714, 1.3016116314975992, -1.6604476247983335, 0.16636825426915391, -1.7601388874575197, 0.8429652247550539, 0.13641566927538096, 0.8268913034982536, -0.6806238318448029, -0.943008434928968, 0.5744194922192287, 1.049889178412392, -0.31619961369343846, -0.8045301447010839, 1.097732124163626, -1.4137201680366165, 1.3008194488492095, -0.3804980351537032, 1.234911257258786, 0.9526409782109593, -0.21399781745464025, -0.7150615051321568, 0.06518789533903417, -0.0014750191727604316, -0.7748752618691193, -1.0300167525228836, 1.5485009452858873, 0.8947138295198088, 0.7452701013110108, 0.5509705642248981, -0.12540225234218974, -1.5306440021233014, -1.9286582817432802, -0.6594991082590205, 0.6744555298437124, -0.3298273188790175, 0.681874032005342, -0.23528992937710205], \"xaxis\": \"x13\", \"y\": [0.4475437913509518, 0.9570926807223412, 0.07070139423127939, -0.5222075509032993, -1.5550204277123403, -1.6354877614659291, -1.3694106483332433, -1.4202820968799394, -0.04253818029830309, 2.4423542391038464, 1.9678087738305776, 0.3859444904584297, 0.35571827372776976, 0.10176787222024548, 0.34374648943988906, -1.0598915668974493, 1.062147280398189, -0.1920650344093556, 0.966264773886157, 0.5859812257299339, -0.4015626946527886, 0.32111648642671275, 1.8338315332976864, -0.5893122627024603, -0.6879599393328965, -0.560782495777356, -0.20621787323971097, -1.136581241660549, -0.7411146204324128, -0.2498849605291373, 0.6797097983431598, -0.15843454123051615, -0.8893692821150188, 0.871590017046108, -1.2444662784229075, -1.2368614065163206, -0.9884099833446874, -1.129387853119377, 1.2127499519008558, -2.522020585229388, -0.9564079334101551, 1.0000456942091123, 0.5000852607899331, -1.7162432921273487, -0.9742071910626999, 0.6939326414553603, 1.763672380188067, 0.10985639309637814, 0.41161930675804514, -0.6952008846090426, 0.5168631898089454, 0.18764615361386797, 0.41359573084936196, -1.2197391377039357, -0.8029887158440556, 1.2725541326680152, -0.10003203364732165, -0.4579275617026912, -1.1827360590697227, -0.000928602097623532, 0.3864411293729688, -0.08491110038323808, 1.0621823370708148, -0.7773670819443731, 0.8733248898140209, 0.3168779930099508, -0.7953368294878966, -1.5586227787773843, 0.3212115508392596, 0.46289794589459454, 0.938402719680537, 0.44941156173235974, 0.9591939407839223, 1.2226741306976623, -0.7325653933552027, 0.042179836200926316, -0.06098456104058909, -0.3140267595358866, 1.2780293199864832, 0.084884577171398, 0.7433188613735633, 1.6391180650635655, -0.10458486398949307, 0.462523334664757, -0.17701876028182614, 0.578477589308682, -1.2937262667819105, -0.4016686366439628, -0.6315012991011363, 1.629970100028498, -1.7245166053120138, 1.7596137353489198, -0.7759191460727132, -0.990621857272532, 0.573452231216451, -1.2203950678999884, 1.723062349628582, -0.9056008922164058, -0.29104103242382123, 0.826657016373895], \"yaxis\": \"y13\"}, {\"line\": {\"color\": \"rgba(128, 128, 128, 1.0)\", \"dash\": \"solid\", \"shape\": \"linear\", \"width\": 1.3}, \"marker\": {\"size\": 2, \"symbol\": \"circle\"}, \"mode\": \"markers\", \"name\": \"D\", \"text\": \"\", \"type\": \"scatter\", \"x\": [1.7644200206191962, -0.30576255159833926, 0.48591216870055987, 0.7985155071177396, -0.14876872605666622, -0.8622242683700565, 0.1363141020244147, -0.7260451911673562, 2.073816753478071, -0.43898713716167187, 0.33691258903617394, -0.05977193298366424, -0.8227901853712595, -0.8323746630428965, 0.11095605377397717, 0.6454186407784175, -0.5617872893626544, -0.4110696787509862, 0.412153074799562, 1.0155778406138107, 0.9303310600055554, 0.44839861289213107, 0.25060701266456337, -0.6200811509285393, -0.36400150881228605, -0.7812423279375649, 2.7449130955233194, 1.0482475424867093, 0.4080247242022707, 0.030117620479940908, 0.6109744191377052, 0.7051984383646073, 0.550232781652086, 0.22880534813358577, -1.1564235529442963, -0.8260709362775998, 1.285516241637799, -1.0204578541625269, 0.6873614732322731, 0.9291586945660607, -0.9964508041363669, -1.1456252019685773, 0.41945494135951766, 0.5018426975736096, 0.7857702165301329, -0.09848632547303204, -0.6588981067399119, 1.1853881697458184, 1.3013098324717234, -0.6901871629828826, 1.5706311752726443, 0.35375661865285923, -1.7730555476594445, 0.1404389261610056, 0.2800682200551832, 0.09641204971271065, 1.5947658424754458, -0.9085732689692162, -0.19971973896539877, -0.29538487952431997, -0.16782616148221235, -0.22318964705705444, -1.1872048056031284, 0.6447368621613021, 0.011365501551874865, 1.4270433489524255, 2.3503140280491395, 1.3962528943379109, 0.7244555209068144, -0.465532477546086, 1.28244991571956, 0.19457895804176906, 1.6799624327556104, 1.119688007459729, -1.6574546810221313, 0.19306786021194244, -0.3805407112775789, 0.8237696600063881, 1.6242052320141758, 0.40698880308051666, -0.6972818731596732, 1.711150635837316, -0.4245327195817335, -0.20296865094415448, 0.27848558727482353, -0.07798204924120888, -1.3626214176056117, 0.7426308471042079, 0.11623335626503752, -0.29613174978263107, -0.982863194027543, -0.796878071956125, -0.4549314438785417, -0.19493574595397817, -0.7581093396617404, -0.7753823819206512, -0.17383535358302876, -0.05555904455453927, 0.6506547474934091, -1.1733039608928564], \"xaxis\": \"x14\", \"y\": [0.4475437913509518, 0.9570926807223412, 0.07070139423127939, -0.5222075509032993, -1.5550204277123403, -1.6354877614659291, -1.3694106483332433, -1.4202820968799394, -0.04253818029830309, 2.4423542391038464, 1.9678087738305776, 0.3859444904584297, 0.35571827372776976, 0.10176787222024548, 0.34374648943988906, -1.0598915668974493, 1.062147280398189, -0.1920650344093556, 0.966264773886157, 0.5859812257299339, -0.4015626946527886, 0.32111648642671275, 1.8338315332976864, -0.5893122627024603, -0.6879599393328965, -0.560782495777356, -0.20621787323971097, -1.136581241660549, -0.7411146204324128, -0.2498849605291373, 0.6797097983431598, -0.15843454123051615, -0.8893692821150188, 0.871590017046108, -1.2444662784229075, -1.2368614065163206, -0.9884099833446874, -1.129387853119377, 1.2127499519008558, -2.522020585229388, -0.9564079334101551, 1.0000456942091123, 0.5000852607899331, -1.7162432921273487, -0.9742071910626999, 0.6939326414553603, 1.763672380188067, 0.10985639309637814, 0.41161930675804514, -0.6952008846090426, 0.5168631898089454, 0.18764615361386797, 0.41359573084936196, -1.2197391377039357, -0.8029887158440556, 1.2725541326680152, -0.10003203364732165, -0.4579275617026912, -1.1827360590697227, -0.000928602097623532, 0.3864411293729688, -0.08491110038323808, 1.0621823370708148, -0.7773670819443731, 0.8733248898140209, 0.3168779930099508, -0.7953368294878966, -1.5586227787773843, 0.3212115508392596, 0.46289794589459454, 0.938402719680537, 0.44941156173235974, 0.9591939407839223, 1.2226741306976623, -0.7325653933552027, 0.042179836200926316, -0.06098456104058909, -0.3140267595358866, 1.2780293199864832, 0.084884577171398, 0.7433188613735633, 1.6391180650635655, -0.10458486398949307, 0.462523334664757, -0.17701876028182614, 0.578477589308682, -1.2937262667819105, -0.4016686366439628, -0.6315012991011363, 1.629970100028498, -1.7245166053120138, 1.7596137353489198, -0.7759191460727132, -0.990621857272532, 0.573452231216451, -1.2203950678999884, 1.723062349628582, -0.9056008922164058, -0.29104103242382123, 0.826657016373895], \"yaxis\": \"y14\"}, {\"line\": {\"color\": \"rgba(128, 128, 128, 1.0)\", \"dash\": \"solid\", \"shape\": \"linear\", \"width\": 1.3}, \"marker\": {\"size\": 2, \"symbol\": \"circle\"}, \"mode\": \"markers\", \"name\": \"D\", \"text\": \"\", \"type\": \"scatter\", \"x\": [-1.4353966420823925, -1.2535533336745956, -0.3312332066930816, 0.4666662821253617, 0.07834336053202509, 0.2893959383570913, 0.4536638718923692, 0.6815369239830283, 0.7141815293675279, 0.9590023199438273, 0.08592826600935377, 0.010530578401795835, 1.7184068370384047, 0.36491543037996194, 1.1074682868501626, 0.49738220000748157, -0.019904043288244657, 1.8950663879202003, -0.9364895280704577, 0.05361104383863928, 0.21960142400134855, 0.359703994362732, 1.7099525245013625, -1.9295035821080788, -0.3781937016594894, 0.10328586601590974, 0.5226896110063345, -0.7186577035475074, 0.2165461863489111, -0.07098728740866844, -2.6585128681731707, -0.8539770031825489, 0.05780169660411606, -0.004455692955851115, -0.3661520898509892, 1.4707843826300595, -0.3388796929399279, 0.4125926469181926, -0.18002240895551846, -1.765831613682973, 0.5173488316931735, 1.4956955615610374, -0.32182985016991467, -1.4867619913762722, 1.3259032420415517, -0.6140294150509013, 1.4636859603495558, -0.03424967231508822, 2.060643698863137, -1.0369997945860756, -0.6963609991014325, -1.9240304850018841, 0.49551315978036614, 0.9090058696007308, -0.8029822085787376, 0.27464465844729435, 0.035166650292638504, 0.7175482524755589, -1.0339118270050127, -0.2400525458809578, -1.0586818750760338, -0.3891080515774163, -1.9540214547671773, -0.5809349287448948, -1.4732731165875967, 0.12993430093232297, 0.7803626584648855, 2.119066141470023, 2.7937677930562237, -0.8717665012328791, -1.7716577077202336, -0.020169035913827058, -0.18100549019509146, -0.5721254704852813, 0.22479894787532842, 1.5062428819314406, -0.6898301270305548, 1.3855743133154805, -2.3357336771251562, -0.28005544380489905, -0.4807570778569516, 0.5945424139610986, 0.43038514666522054, -0.3413555511478162, -0.16995162040634973, -1.0538988418566408, 0.08042481979036202, -0.37549452630626995, 0.5940362133384189, -0.6468205980677861, 0.9540308957184628, 0.5175574675990638, -0.7785047623803996, 1.0490185685029791, 0.3967836266977258, 1.6895669396929442, 0.051317573915553805, 0.08427056446171943, 0.021557083999335175, 0.33705436556655755], \"xaxis\": \"x15\", \"y\": [0.4475437913509518, 0.9570926807223412, 0.07070139423127939, -0.5222075509032993, -1.5550204277123403, -1.6354877614659291, -1.3694106483332433, -1.4202820968799394, -0.04253818029830309, 2.4423542391038464, 1.9678087738305776, 0.3859444904584297, 0.35571827372776976, 0.10176787222024548, 0.34374648943988906, -1.0598915668974493, 1.062147280398189, -0.1920650344093556, 0.966264773886157, 0.5859812257299339, -0.4015626946527886, 0.32111648642671275, 1.8338315332976864, -0.5893122627024603, -0.6879599393328965, -0.560782495777356, -0.20621787323971097, -1.136581241660549, -0.7411146204324128, -0.2498849605291373, 0.6797097983431598, -0.15843454123051615, -0.8893692821150188, 0.871590017046108, -1.2444662784229075, -1.2368614065163206, -0.9884099833446874, -1.129387853119377, 1.2127499519008558, -2.522020585229388, -0.9564079334101551, 1.0000456942091123, 0.5000852607899331, -1.7162432921273487, -0.9742071910626999, 0.6939326414553603, 1.763672380188067, 0.10985639309637814, 0.41161930675804514, -0.6952008846090426, 0.5168631898089454, 0.18764615361386797, 0.41359573084936196, -1.2197391377039357, -0.8029887158440556, 1.2725541326680152, -0.10003203364732165, -0.4579275617026912, -1.1827360590697227, -0.000928602097623532, 0.3864411293729688, -0.08491110038323808, 1.0621823370708148, -0.7773670819443731, 0.8733248898140209, 0.3168779930099508, -0.7953368294878966, -1.5586227787773843, 0.3212115508392596, 0.46289794589459454, 0.938402719680537, 0.44941156173235974, 0.9591939407839223, 1.2226741306976623, -0.7325653933552027, 0.042179836200926316, -0.06098456104058909, -0.3140267595358866, 1.2780293199864832, 0.084884577171398, 0.7433188613735633, 1.6391180650635655, -0.10458486398949307, 0.462523334664757, -0.17701876028182614, 0.578477589308682, -1.2937262667819105, -0.4016686366439628, -0.6315012991011363, 1.629970100028498, -1.7245166053120138, 1.7596137353489198, -0.7759191460727132, -0.990621857272532, 0.573452231216451, -1.2203950678999884, 1.723062349628582, -0.9056008922164058, -0.29104103242382123, 0.826657016373895], \"yaxis\": \"y15\"}, {\"histfunc\": \"count\", \"histnorm\": \"\", \"marker\": {\"color\": \"rgba(128, 0, 128, 1.0)\", \"line\": {\"color\": \"#4D5663\", \"width\": 1.3}}, \"name\": \"D\", \"nbinsx\": 10, \"opacity\": 0.8, \"orientation\": \"v\", \"type\": \"histogram\", \"x\": [0.4475437913509518, 0.9570926807223412, 0.07070139423127939, -0.5222075509032993, -1.5550204277123403, -1.6354877614659291, -1.3694106483332433, -1.4202820968799394, -0.04253818029830309, 2.4423542391038464, 1.9678087738305776, 0.3859444904584297, 0.35571827372776976, 0.10176787222024548, 0.34374648943988906, -1.0598915668974493, 1.062147280398189, -0.1920650344093556, 0.966264773886157, 0.5859812257299339, -0.4015626946527886, 0.32111648642671275, 1.8338315332976864, -0.5893122627024603, -0.6879599393328965, -0.560782495777356, -0.20621787323971097, -1.136581241660549, -0.7411146204324128, -0.2498849605291373, 0.6797097983431598, -0.15843454123051615, -0.8893692821150188, 0.871590017046108, -1.2444662784229075, -1.2368614065163206, -0.9884099833446874, -1.129387853119377, 1.2127499519008558, -2.522020585229388, -0.9564079334101551, 1.0000456942091123, 0.5000852607899331, -1.7162432921273487, -0.9742071910626999, 0.6939326414553603, 1.763672380188067, 0.10985639309637814, 0.41161930675804514, -0.6952008846090426, 0.5168631898089454, 0.18764615361386797, 0.41359573084936196, -1.2197391377039357, -0.8029887158440556, 1.2725541326680152, -0.10003203364732165, -0.4579275617026912, -1.1827360590697227, -0.000928602097623532, 0.3864411293729688, -0.08491110038323808, 1.0621823370708148, -0.7773670819443731, 0.8733248898140209, 0.3168779930099508, -0.7953368294878966, -1.5586227787773843, 0.3212115508392596, 0.46289794589459454, 0.938402719680537, 0.44941156173235974, 0.9591939407839223, 1.2226741306976623, -0.7325653933552027, 0.042179836200926316, -0.06098456104058909, -0.3140267595358866, 1.2780293199864832, 0.084884577171398, 0.7433188613735633, 1.6391180650635655, -0.10458486398949307, 0.462523334664757, -0.17701876028182614, 0.578477589308682, -1.2937262667819105, -0.4016686366439628, -0.6315012991011363, 1.629970100028498, -1.7245166053120138, 1.7596137353489198, -0.7759191460727132, -0.990621857272532, 0.573452231216451, -1.2203950678999884, 1.723062349628582, -0.9056008922164058, -0.29104103242382123, 0.826657016373895], \"xaxis\": \"x16\", \"yaxis\": \"y16\"}],\n",
       "                        {\"bargap\": 0.02, \"legend\": {\"bgcolor\": \"#F5F6F9\", \"font\": {\"color\": \"#4D5663\"}}, \"paper_bgcolor\": \"#F5F6F9\", \"plot_bgcolor\": \"#F5F6F9\", \"showlegend\": false, \"template\": {\"data\": {\"bar\": [{\"error_x\": {\"color\": \"#2a3f5f\"}, \"error_y\": {\"color\": \"#2a3f5f\"}, \"marker\": {\"line\": {\"color\": \"#E5ECF6\", \"width\": 0.5}}, \"type\": \"bar\"}], \"barpolar\": [{\"marker\": {\"line\": {\"color\": \"#E5ECF6\", \"width\": 0.5}}, \"type\": \"barpolar\"}], \"carpet\": [{\"aaxis\": {\"endlinecolor\": \"#2a3f5f\", \"gridcolor\": \"white\", \"linecolor\": \"white\", \"minorgridcolor\": \"white\", \"startlinecolor\": \"#2a3f5f\"}, \"baxis\": {\"endlinecolor\": \"#2a3f5f\", \"gridcolor\": \"white\", \"linecolor\": \"white\", \"minorgridcolor\": \"white\", \"startlinecolor\": \"#2a3f5f\"}, \"type\": \"carpet\"}], \"choropleth\": [{\"colorbar\": {\"outlinewidth\": 0, \"ticks\": \"\"}, \"type\": \"choropleth\"}], \"contour\": [{\"colorbar\": {\"outlinewidth\": 0, \"ticks\": \"\"}, \"colorscale\": [[0.0, \"#0d0887\"], [0.1111111111111111, \"#46039f\"], [0.2222222222222222, \"#7201a8\"], [0.3333333333333333, \"#9c179e\"], [0.4444444444444444, \"#bd3786\"], [0.5555555555555556, \"#d8576b\"], [0.6666666666666666, \"#ed7953\"], [0.7777777777777778, \"#fb9f3a\"], [0.8888888888888888, \"#fdca26\"], [1.0, \"#f0f921\"]], \"type\": \"contour\"}], \"contourcarpet\": [{\"colorbar\": {\"outlinewidth\": 0, \"ticks\": \"\"}, \"type\": \"contourcarpet\"}], \"heatmap\": [{\"colorbar\": {\"outlinewidth\": 0, \"ticks\": \"\"}, \"colorscale\": [[0.0, \"#0d0887\"], [0.1111111111111111, \"#46039f\"], [0.2222222222222222, \"#7201a8\"], [0.3333333333333333, \"#9c179e\"], [0.4444444444444444, \"#bd3786\"], [0.5555555555555556, \"#d8576b\"], [0.6666666666666666, \"#ed7953\"], [0.7777777777777778, \"#fb9f3a\"], [0.8888888888888888, \"#fdca26\"], [1.0, \"#f0f921\"]], \"type\": \"heatmap\"}], \"heatmapgl\": [{\"colorbar\": {\"outlinewidth\": 0, \"ticks\": \"\"}, \"colorscale\": [[0.0, \"#0d0887\"], [0.1111111111111111, \"#46039f\"], [0.2222222222222222, \"#7201a8\"], [0.3333333333333333, \"#9c179e\"], [0.4444444444444444, \"#bd3786\"], [0.5555555555555556, \"#d8576b\"], [0.6666666666666666, \"#ed7953\"], [0.7777777777777778, \"#fb9f3a\"], [0.8888888888888888, \"#fdca26\"], [1.0, \"#f0f921\"]], \"type\": \"heatmapgl\"}], \"histogram\": [{\"marker\": {\"colorbar\": {\"outlinewidth\": 0, \"ticks\": \"\"}}, \"type\": \"histogram\"}], \"histogram2d\": [{\"colorbar\": {\"outlinewidth\": 0, \"ticks\": \"\"}, \"colorscale\": [[0.0, \"#0d0887\"], [0.1111111111111111, \"#46039f\"], [0.2222222222222222, \"#7201a8\"], [0.3333333333333333, \"#9c179e\"], [0.4444444444444444, \"#bd3786\"], [0.5555555555555556, \"#d8576b\"], [0.6666666666666666, \"#ed7953\"], [0.7777777777777778, \"#fb9f3a\"], [0.8888888888888888, \"#fdca26\"], [1.0, \"#f0f921\"]], \"type\": \"histogram2d\"}], \"histogram2dcontour\": [{\"colorbar\": {\"outlinewidth\": 0, \"ticks\": \"\"}, \"colorscale\": [[0.0, \"#0d0887\"], [0.1111111111111111, \"#46039f\"], [0.2222222222222222, \"#7201a8\"], [0.3333333333333333, \"#9c179e\"], [0.4444444444444444, \"#bd3786\"], [0.5555555555555556, \"#d8576b\"], [0.6666666666666666, \"#ed7953\"], [0.7777777777777778, \"#fb9f3a\"], [0.8888888888888888, \"#fdca26\"], [1.0, \"#f0f921\"]], \"type\": \"histogram2dcontour\"}], \"mesh3d\": [{\"colorbar\": {\"outlinewidth\": 0, \"ticks\": \"\"}, \"type\": \"mesh3d\"}], \"parcoords\": [{\"line\": {\"colorbar\": {\"outlinewidth\": 0, \"ticks\": \"\"}}, \"type\": \"parcoords\"}], \"pie\": [{\"automargin\": true, \"type\": \"pie\"}], \"scatter\": [{\"marker\": {\"colorbar\": {\"outlinewidth\": 0, \"ticks\": \"\"}}, \"type\": \"scatter\"}], \"scatter3d\": [{\"line\": {\"colorbar\": {\"outlinewidth\": 0, \"ticks\": \"\"}}, \"marker\": {\"colorbar\": {\"outlinewidth\": 0, \"ticks\": \"\"}}, \"type\": \"scatter3d\"}], \"scattercarpet\": [{\"marker\": {\"colorbar\": {\"outlinewidth\": 0, \"ticks\": \"\"}}, \"type\": \"scattercarpet\"}], \"scattergeo\": [{\"marker\": {\"colorbar\": {\"outlinewidth\": 0, \"ticks\": \"\"}}, \"type\": \"scattergeo\"}], \"scattergl\": [{\"marker\": {\"colorbar\": {\"outlinewidth\": 0, \"ticks\": \"\"}}, \"type\": \"scattergl\"}], \"scattermapbox\": [{\"marker\": {\"colorbar\": {\"outlinewidth\": 0, \"ticks\": \"\"}}, \"type\": \"scattermapbox\"}], \"scatterpolar\": [{\"marker\": {\"colorbar\": {\"outlinewidth\": 0, \"ticks\": \"\"}}, \"type\": \"scatterpolar\"}], \"scatterpolargl\": [{\"marker\": {\"colorbar\": {\"outlinewidth\": 0, \"ticks\": \"\"}}, \"type\": \"scatterpolargl\"}], \"scatterternary\": [{\"marker\": {\"colorbar\": {\"outlinewidth\": 0, \"ticks\": \"\"}}, \"type\": \"scatterternary\"}], \"surface\": [{\"colorbar\": {\"outlinewidth\": 0, \"ticks\": \"\"}, \"colorscale\": [[0.0, \"#0d0887\"], [0.1111111111111111, \"#46039f\"], [0.2222222222222222, \"#7201a8\"], [0.3333333333333333, \"#9c179e\"], [0.4444444444444444, \"#bd3786\"], [0.5555555555555556, \"#d8576b\"], [0.6666666666666666, \"#ed7953\"], [0.7777777777777778, \"#fb9f3a\"], [0.8888888888888888, \"#fdca26\"], [1.0, \"#f0f921\"]], \"type\": \"surface\"}], \"table\": [{\"cells\": {\"fill\": {\"color\": \"#EBF0F8\"}, \"line\": {\"color\": \"white\"}}, \"header\": {\"fill\": {\"color\": \"#C8D4E3\"}, \"line\": {\"color\": \"white\"}}, \"type\": \"table\"}]}, \"layout\": {\"annotationdefaults\": {\"arrowcolor\": \"#2a3f5f\", \"arrowhead\": 0, \"arrowwidth\": 1}, \"coloraxis\": {\"colorbar\": {\"outlinewidth\": 0, \"ticks\": \"\"}}, \"colorscale\": {\"diverging\": [[0, \"#8e0152\"], [0.1, \"#c51b7d\"], [0.2, \"#de77ae\"], [0.3, \"#f1b6da\"], [0.4, \"#fde0ef\"], [0.5, \"#f7f7f7\"], [0.6, \"#e6f5d0\"], [0.7, \"#b8e186\"], [0.8, \"#7fbc41\"], [0.9, \"#4d9221\"], [1, \"#276419\"]], \"sequential\": [[0.0, \"#0d0887\"], [0.1111111111111111, \"#46039f\"], [0.2222222222222222, \"#7201a8\"], [0.3333333333333333, \"#9c179e\"], [0.4444444444444444, \"#bd3786\"], [0.5555555555555556, \"#d8576b\"], [0.6666666666666666, \"#ed7953\"], [0.7777777777777778, \"#fb9f3a\"], [0.8888888888888888, \"#fdca26\"], [1.0, \"#f0f921\"]], \"sequentialminus\": [[0.0, \"#0d0887\"], [0.1111111111111111, \"#46039f\"], [0.2222222222222222, \"#7201a8\"], [0.3333333333333333, \"#9c179e\"], [0.4444444444444444, \"#bd3786\"], [0.5555555555555556, \"#d8576b\"], [0.6666666666666666, \"#ed7953\"], [0.7777777777777778, \"#fb9f3a\"], [0.8888888888888888, \"#fdca26\"], [1.0, \"#f0f921\"]]}, \"colorway\": [\"#636efa\", \"#EF553B\", \"#00cc96\", \"#ab63fa\", \"#FFA15A\", \"#19d3f3\", \"#FF6692\", \"#B6E880\", \"#FF97FF\", \"#FECB52\"], \"font\": {\"color\": \"#2a3f5f\"}, \"geo\": {\"bgcolor\": \"white\", \"lakecolor\": \"white\", \"landcolor\": \"#E5ECF6\", \"showlakes\": true, \"showland\": true, \"subunitcolor\": \"white\"}, \"hoverlabel\": {\"align\": \"left\"}, \"hovermode\": \"closest\", \"mapbox\": {\"style\": \"light\"}, \"paper_bgcolor\": \"white\", \"plot_bgcolor\": \"#E5ECF6\", \"polar\": {\"angularaxis\": {\"gridcolor\": \"white\", \"linecolor\": \"white\", \"ticks\": \"\"}, \"bgcolor\": \"#E5ECF6\", \"radialaxis\": {\"gridcolor\": \"white\", \"linecolor\": \"white\", \"ticks\": \"\"}}, \"scene\": {\"xaxis\": {\"backgroundcolor\": \"#E5ECF6\", \"gridcolor\": \"white\", \"gridwidth\": 2, \"linecolor\": \"white\", \"showbackground\": true, \"ticks\": \"\", \"zerolinecolor\": \"white\"}, \"yaxis\": {\"backgroundcolor\": \"#E5ECF6\", \"gridcolor\": \"white\", \"gridwidth\": 2, \"linecolor\": \"white\", \"showbackground\": true, \"ticks\": \"\", \"zerolinecolor\": \"white\"}, \"zaxis\": {\"backgroundcolor\": \"#E5ECF6\", \"gridcolor\": \"white\", \"gridwidth\": 2, \"linecolor\": \"white\", \"showbackground\": true, \"ticks\": \"\", \"zerolinecolor\": \"white\"}}, \"shapedefaults\": {\"line\": {\"color\": \"#2a3f5f\"}}, \"ternary\": {\"aaxis\": {\"gridcolor\": \"white\", \"linecolor\": \"white\", \"ticks\": \"\"}, \"baxis\": {\"gridcolor\": \"white\", \"linecolor\": \"white\", \"ticks\": \"\"}, \"bgcolor\": \"#E5ECF6\", \"caxis\": {\"gridcolor\": \"white\", \"linecolor\": \"white\", \"ticks\": \"\"}}, \"title\": {\"x\": 0.05}, \"xaxis\": {\"automargin\": true, \"gridcolor\": \"white\", \"linecolor\": \"white\", \"ticks\": \"\", \"title\": {\"standoff\": 15}, \"zerolinecolor\": \"white\", \"zerolinewidth\": 2}, \"yaxis\": {\"automargin\": true, \"gridcolor\": \"white\", \"linecolor\": \"white\", \"ticks\": \"\", \"title\": {\"standoff\": 15}, \"zerolinecolor\": \"white\", \"zerolinewidth\": 2}}}, \"title\": {\"font\": {\"color\": \"#4D5663\"}}, \"xaxis\": {\"anchor\": \"y\", \"domain\": [0.0, 0.2125], \"gridcolor\": \"#E1E5ED\", \"showgrid\": false, \"tickfont\": {\"color\": \"#4D5663\"}, \"title\": {\"font\": {\"color\": \"#4D5663\"}, \"text\": \"\"}, \"zerolinecolor\": \"#E1E5ED\"}, \"xaxis10\": {\"anchor\": \"y10\", \"domain\": [0.2625, 0.475], \"gridcolor\": \"#E1E5ED\", \"showgrid\": false, \"tickfont\": {\"color\": \"#4D5663\"}, \"title\": {\"font\": {\"color\": \"#4D5663\"}, \"text\": \"\"}, \"zerolinecolor\": \"#E1E5ED\"}, \"xaxis11\": {\"anchor\": \"y11\", \"domain\": [0.525, 0.7375], \"gridcolor\": \"#E1E5ED\", \"showgrid\": false, \"tickfont\": {\"color\": \"#4D5663\"}, \"title\": {\"font\": {\"color\": \"#4D5663\"}, \"text\": \"\"}, \"zerolinecolor\": \"#E1E5ED\"}, \"xaxis12\": {\"anchor\": \"y12\", \"domain\": [0.7875, 1.0], \"gridcolor\": \"#E1E5ED\", \"showgrid\": false, \"tickfont\": {\"color\": \"#4D5663\"}, \"title\": {\"font\": {\"color\": \"#4D5663\"}, \"text\": \"\"}, \"zerolinecolor\": \"#E1E5ED\"}, \"xaxis13\": {\"anchor\": \"y13\", \"domain\": [0.0, 0.2125], \"gridcolor\": \"#E1E5ED\", \"showgrid\": false, \"tickfont\": {\"color\": \"#4D5663\"}, \"title\": {\"font\": {\"color\": \"#4D5663\"}, \"text\": \"\"}, \"zerolinecolor\": \"#E1E5ED\"}, \"xaxis14\": {\"anchor\": \"y14\", \"domain\": [0.2625, 0.475], \"gridcolor\": \"#E1E5ED\", \"showgrid\": false, \"tickfont\": {\"color\": \"#4D5663\"}, \"title\": {\"font\": {\"color\": \"#4D5663\"}, \"text\": \"\"}, \"zerolinecolor\": \"#E1E5ED\"}, \"xaxis15\": {\"anchor\": \"y15\", \"domain\": [0.525, 0.7375], \"gridcolor\": \"#E1E5ED\", \"showgrid\": false, \"tickfont\": {\"color\": \"#4D5663\"}, \"title\": {\"font\": {\"color\": \"#4D5663\"}, \"text\": \"\"}, \"zerolinecolor\": \"#E1E5ED\"}, \"xaxis16\": {\"anchor\": \"y16\", \"domain\": [0.7875, 1.0], \"gridcolor\": \"#E1E5ED\", \"showgrid\": false, \"tickfont\": {\"color\": \"#4D5663\"}, \"title\": {\"font\": {\"color\": \"#4D5663\"}, \"text\": \"\"}, \"zerolinecolor\": \"#E1E5ED\"}, \"xaxis2\": {\"anchor\": \"y2\", \"domain\": [0.2625, 0.475], \"gridcolor\": \"#E1E5ED\", \"showgrid\": false, \"tickfont\": {\"color\": \"#4D5663\"}, \"title\": {\"font\": {\"color\": \"#4D5663\"}, \"text\": \"\"}, \"zerolinecolor\": \"#E1E5ED\"}, \"xaxis3\": {\"anchor\": \"y3\", \"domain\": [0.525, 0.7375], \"gridcolor\": \"#E1E5ED\", \"showgrid\": false, \"tickfont\": {\"color\": \"#4D5663\"}, \"title\": {\"font\": {\"color\": \"#4D5663\"}, \"text\": \"\"}, \"zerolinecolor\": \"#E1E5ED\"}, \"xaxis4\": {\"anchor\": \"y4\", \"domain\": [0.7875, 1.0], \"gridcolor\": \"#E1E5ED\", \"showgrid\": false, \"tickfont\": {\"color\": \"#4D5663\"}, \"title\": {\"font\": {\"color\": \"#4D5663\"}, \"text\": \"\"}, \"zerolinecolor\": \"#E1E5ED\"}, \"xaxis5\": {\"anchor\": \"y5\", \"domain\": [0.0, 0.2125], \"gridcolor\": \"#E1E5ED\", \"showgrid\": false, \"tickfont\": {\"color\": \"#4D5663\"}, \"title\": {\"font\": {\"color\": \"#4D5663\"}, \"text\": \"\"}, \"zerolinecolor\": \"#E1E5ED\"}, \"xaxis6\": {\"anchor\": \"y6\", \"domain\": [0.2625, 0.475], \"gridcolor\": \"#E1E5ED\", \"showgrid\": false, \"tickfont\": {\"color\": \"#4D5663\"}, \"title\": {\"font\": {\"color\": \"#4D5663\"}, \"text\": \"\"}, \"zerolinecolor\": \"#E1E5ED\"}, \"xaxis7\": {\"anchor\": \"y7\", \"domain\": [0.525, 0.7375], \"gridcolor\": \"#E1E5ED\", \"showgrid\": false, \"tickfont\": {\"color\": \"#4D5663\"}, \"title\": {\"font\": {\"color\": \"#4D5663\"}, \"text\": \"\"}, \"zerolinecolor\": \"#E1E5ED\"}, \"xaxis8\": {\"anchor\": \"y8\", \"domain\": [0.7875, 1.0], \"gridcolor\": \"#E1E5ED\", \"showgrid\": false, \"tickfont\": {\"color\": \"#4D5663\"}, \"title\": {\"font\": {\"color\": \"#4D5663\"}, \"text\": \"\"}, \"zerolinecolor\": \"#E1E5ED\"}, \"xaxis9\": {\"anchor\": \"y9\", \"domain\": [0.0, 0.2125], \"gridcolor\": \"#E1E5ED\", \"showgrid\": false, \"tickfont\": {\"color\": \"#4D5663\"}, \"title\": {\"font\": {\"color\": \"#4D5663\"}, \"text\": \"\"}, \"zerolinecolor\": \"#E1E5ED\"}, \"yaxis\": {\"anchor\": \"x\", \"domain\": [0.8025, 1.0], \"gridcolor\": \"#E1E5ED\", \"showgrid\": false, \"tickfont\": {\"color\": \"#4D5663\"}, \"title\": {\"font\": {\"color\": \"#4D5663\"}, \"text\": \"\"}, \"zerolinecolor\": \"#E1E5ED\"}, \"yaxis10\": {\"anchor\": \"x10\", \"domain\": [0.2675, 0.465], \"gridcolor\": \"#E1E5ED\", \"showgrid\": false, \"tickfont\": {\"color\": \"#4D5663\"}, \"title\": {\"font\": {\"color\": \"#4D5663\"}, \"text\": \"\"}, \"zerolinecolor\": \"#E1E5ED\"}, \"yaxis11\": {\"anchor\": \"x11\", \"domain\": [0.2675, 0.465], \"gridcolor\": \"#E1E5ED\", \"showgrid\": false, \"tickfont\": {\"color\": \"#4D5663\"}, \"title\": {\"font\": {\"color\": \"#4D5663\"}, \"text\": \"\"}, \"zerolinecolor\": \"#E1E5ED\"}, \"yaxis12\": {\"anchor\": \"x12\", \"domain\": [0.2675, 0.465], \"gridcolor\": \"#E1E5ED\", \"showgrid\": false, \"tickfont\": {\"color\": \"#4D5663\"}, \"title\": {\"font\": {\"color\": \"#4D5663\"}, \"text\": \"\"}, \"zerolinecolor\": \"#E1E5ED\"}, \"yaxis13\": {\"anchor\": \"x13\", \"domain\": [0.0, 0.1975], \"gridcolor\": \"#E1E5ED\", \"showgrid\": false, \"tickfont\": {\"color\": \"#4D5663\"}, \"title\": {\"font\": {\"color\": \"#4D5663\"}, \"text\": \"\"}, \"zerolinecolor\": \"#E1E5ED\"}, \"yaxis14\": {\"anchor\": \"x14\", \"domain\": [0.0, 0.1975], \"gridcolor\": \"#E1E5ED\", \"showgrid\": false, \"tickfont\": {\"color\": \"#4D5663\"}, \"title\": {\"font\": {\"color\": \"#4D5663\"}, \"text\": \"\"}, \"zerolinecolor\": \"#E1E5ED\"}, \"yaxis15\": {\"anchor\": \"x15\", \"domain\": [0.0, 0.1975], \"gridcolor\": \"#E1E5ED\", \"showgrid\": false, \"tickfont\": {\"color\": \"#4D5663\"}, \"title\": {\"font\": {\"color\": \"#4D5663\"}, \"text\": \"\"}, \"zerolinecolor\": \"#E1E5ED\"}, \"yaxis16\": {\"anchor\": \"x16\", \"domain\": [0.0, 0.1975], \"gridcolor\": \"#E1E5ED\", \"showgrid\": false, \"tickfont\": {\"color\": \"#4D5663\"}, \"title\": {\"font\": {\"color\": \"#4D5663\"}, \"text\": \"\"}, \"zerolinecolor\": \"#E1E5ED\"}, \"yaxis2\": {\"anchor\": \"x2\", \"domain\": [0.8025, 1.0], \"gridcolor\": \"#E1E5ED\", \"showgrid\": false, \"tickfont\": {\"color\": \"#4D5663\"}, \"title\": {\"font\": {\"color\": \"#4D5663\"}, \"text\": \"\"}, \"zerolinecolor\": \"#E1E5ED\"}, \"yaxis3\": {\"anchor\": \"x3\", \"domain\": [0.8025, 1.0], \"gridcolor\": \"#E1E5ED\", \"showgrid\": false, \"tickfont\": {\"color\": \"#4D5663\"}, \"title\": {\"font\": {\"color\": \"#4D5663\"}, \"text\": \"\"}, \"zerolinecolor\": \"#E1E5ED\"}, \"yaxis4\": {\"anchor\": \"x4\", \"domain\": [0.8025, 1.0], \"gridcolor\": \"#E1E5ED\", \"showgrid\": false, \"tickfont\": {\"color\": \"#4D5663\"}, \"title\": {\"font\": {\"color\": \"#4D5663\"}, \"text\": \"\"}, \"zerolinecolor\": \"#E1E5ED\"}, \"yaxis5\": {\"anchor\": \"x5\", \"domain\": [0.535, 0.7325], \"gridcolor\": \"#E1E5ED\", \"showgrid\": false, \"tickfont\": {\"color\": \"#4D5663\"}, \"title\": {\"font\": {\"color\": \"#4D5663\"}, \"text\": \"\"}, \"zerolinecolor\": \"#E1E5ED\"}, \"yaxis6\": {\"anchor\": \"x6\", \"domain\": [0.535, 0.7325], \"gridcolor\": \"#E1E5ED\", \"showgrid\": false, \"tickfont\": {\"color\": \"#4D5663\"}, \"title\": {\"font\": {\"color\": \"#4D5663\"}, \"text\": \"\"}, \"zerolinecolor\": \"#E1E5ED\"}, \"yaxis7\": {\"anchor\": \"x7\", \"domain\": [0.535, 0.7325], \"gridcolor\": \"#E1E5ED\", \"showgrid\": false, \"tickfont\": {\"color\": \"#4D5663\"}, \"title\": {\"font\": {\"color\": \"#4D5663\"}, \"text\": \"\"}, \"zerolinecolor\": \"#E1E5ED\"}, \"yaxis8\": {\"anchor\": \"x8\", \"domain\": [0.535, 0.7325], \"gridcolor\": \"#E1E5ED\", \"showgrid\": false, \"tickfont\": {\"color\": \"#4D5663\"}, \"title\": {\"font\": {\"color\": \"#4D5663\"}, \"text\": \"\"}, \"zerolinecolor\": \"#E1E5ED\"}, \"yaxis9\": {\"anchor\": \"x9\", \"domain\": [0.2675, 0.465], \"gridcolor\": \"#E1E5ED\", \"showgrid\": false, \"tickfont\": {\"color\": \"#4D5663\"}, \"title\": {\"font\": {\"color\": \"#4D5663\"}, \"text\": \"\"}, \"zerolinecolor\": \"#E1E5ED\"}},\n",
       "                        {\"showLink\": true, \"linkText\": \"Export to plot.ly\", \"plotlyServerURL\": \"https://plot.ly\", \"responsive\": true}\n",
       "                    ).then(function(){\n",
       "                            \n",
       "var gd = document.getElementById('922680e7-4bcd-449f-9183-e67160d35996');\n",
       "var x = new MutationObserver(function (mutations, observer) {{\n",
       "        var display = window.getComputedStyle(gd).display;\n",
       "        if (!display || display === 'none') {{\n",
       "            console.log([gd, 'removed!']);\n",
       "            Plotly.purge(gd);\n",
       "            observer.disconnect();\n",
       "        }}\n",
       "}});\n",
       "\n",
       "// Listen for the removal of the full notebook cells\n",
       "var notebookContainer = gd.closest('#notebook-container');\n",
       "if (notebookContainer) {{\n",
       "    x.observe(notebookContainer, {childList: true});\n",
       "}}\n",
       "\n",
       "// Listen for the clearing of the current output cell\n",
       "var outputEl = gd.closest('.output');\n",
       "if (outputEl) {{\n",
       "    x.observe(outputEl, {childList: true});\n",
       "}}\n",
       "\n",
       "                        })\n",
       "                };\n",
       "                });\n",
       "            </script>\n",
       "        </div>"
      ]
     },
     "metadata": {},
     "output_type": "display_data"
    }
   ],
   "source": [
    "df.scatter_matrix()"
   ]
  },
  {
   "cell_type": "markdown",
   "metadata": {
    "collapsed": true
   },
   "source": [
    "# Great Job!"
   ]
  }
 ],
 "metadata": {
  "kernelspec": {
   "display_name": "Python 3",
   "language": "python",
   "name": "python3"
  },
  "language_info": {
   "codemirror_mode": {
    "name": "ipython",
    "version": 3
   },
   "file_extension": ".py",
   "mimetype": "text/x-python",
   "name": "python",
   "nbconvert_exporter": "python",
   "pygments_lexer": "ipython3",
   "version": "3.7.4"
  }
 },
 "nbformat": 4,
 "nbformat_minor": 1
}
